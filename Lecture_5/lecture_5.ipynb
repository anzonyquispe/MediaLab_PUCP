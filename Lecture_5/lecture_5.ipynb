{
 "cells": [
  {
   "cell_type": "code",
   "execution_count": 1,
   "metadata": {},
   "outputs": [
    {
     "data": {
      "text/html": [
       "\n",
       "<style>\n",
       "    div#notebook-container    { width: 95%; }\n",
       "    div#menubar-container     { width: 65%; }\n",
       "    div#maintoolbar-container { width: 99%; }a\n",
       "</style>\n"
      ],
      "text/plain": [
       "<IPython.core.display.HTML object>"
      ]
     },
     "metadata": {},
     "output_type": "display_data"
    }
   ],
   "source": [
    "from IPython.display import display, HTML\n",
    "\n",
    "display(HTML(data=\"\"\"\n",
    "<style>\n",
    "    div#notebook-container    { width: 95%; }\n",
    "    div#menubar-container     { width: 65%; }\n",
    "    div#maintoolbar-container { width: 99%; }a\n",
    "</style>\n",
    "\"\"\"))"
   ]
  },
  {
   "cell_type": "markdown",
   "metadata": {},
   "source": [
    "# 7. Web Scraping"
   ]
  },
  {
   "cell_type": "markdown",
   "metadata": {},
   "source": [
    "Web  scraping  is  the  practice  of  gathering  data  through  any  means  otherthan a program interacting with an API (or, obviously, through a human using a webbrowser).  This  is  most  commonly  accomplished  by  writing  an  automated  programthat queries a web server, requests data (usually in the form of the HTML and otherfiles  that  comprise  web  pages),  and  then  parses  that  data  to  extract  needed  information."
   ]
  },
  {
   "cell_type": "markdown",
   "metadata": {},
   "source": [
    "# 7.1 Selenium\n",
    "Selenium automates browsers. That's it! <br>\n",
    "Selenium is a Python library and tool used for automating web browsers to do a number of tasks. One of such is web-scraping to extract useful data and information that may be otherwise unavailable. <br>\n",
    "**For this course, we use Chrome.**"
   ]
  },
  {
   "cell_type": "markdown",
   "metadata": {},
   "source": [
    "## 7.1 Installing Libraries\n",
    "We need to install these two libraries"
   ]
  },
  {
   "cell_type": "code",
   "execution_count": 2,
   "metadata": {},
   "outputs": [],
   "source": [
    "# !pip install selenium\n",
    "# !pip install webdriver-manager"
   ]
  },
  {
   "cell_type": "markdown",
   "metadata": {},
   "source": [
    "## 7.2 Calling Libraries"
   ]
  },
  {
   "cell_type": "code",
   "execution_count": 3,
   "metadata": {},
   "outputs": [],
   "source": [
    "# this library is to manipulate browser\n",
    "from selenium import webdriver\n",
    "\n",
    "# it allows you to work with differen versions of drivers\n",
    "# We call ChromeDriver\n",
    "from webdriver_manager.chrome import ChromeDriverManager\n",
    "import re\n",
    "import time"
   ]
  },
  {
   "cell_type": "markdown",
   "metadata": {},
   "source": [
    "## 7.3 Launch/Set the Driver\n",
    "This code opens a Chrome Driver. We are going to use it to go navigate on the web."
   ]
  },
  {
   "cell_type": "code",
   "execution_count": 5,
   "metadata": {},
   "outputs": [
    {
     "data": {
      "text/plain": [
       "'C:\\\\Users\\\\Alexander\\\\Documents\\\\GitHub\\\\Diplomado_PUCP\\\\Lecture_7'"
      ]
     },
     "execution_count": 5,
     "metadata": {},
     "output_type": "execute_result"
    }
   ],
   "source": [
    "pwd"
   ]
  },
  {
   "cell_type": "code",
   "execution_count": 9,
   "metadata": {},
   "outputs": [
    {
     "name": "stderr",
     "output_type": "stream",
     "text": [
      "C:\\Users\\ALEXAN~1\\AppData\\Local\\Temp/ipykernel_38996/1187677997.py:6: DeprecationWarning: executable_path has been deprecated, please pass in a Service object\n",
      "  driver = webdriver.Chrome(executable_path=r'chromedriver-win64/chromedriver.exe')\n"
     ]
    }
   ],
   "source": [
    "from selenium import webdriver\n",
    "from webdriver_manager.chrome import ChromeDriverManager\n",
    "\n",
    "# Case 1 - Download the driver using ChromeDriverManager\n",
    "#driver = webdriver.Chrome(ChromeDriverManager().install())\n",
    "driver = webdriver.Chrome(executable_path=r'chromedriver-win64/chromedriver.exe')\n",
    "#driver.maximize_window()\n",
    "url = 'https://resultadoshistorico.onpe.gob.pe/EG2021/'\n",
    "driver.get(url)"
   ]
  },
  {
   "cell_type": "code",
   "execution_count": 3,
   "metadata": {},
   "outputs": [],
   "source": [
    "# # Case 1 - Download the driver\n",
    "# driver = webdriver.Chrome('chromedriver.exe')\n",
    "# driver.maximize_window()\n",
    "\n",
    "# url = 'https://resultadoshistorico.onpe.gob.pe/EG2021/'\n",
    "# driver.get( url )"
   ]
  },
  {
   "cell_type": "code",
   "execution_count": 4,
   "metadata": {},
   "outputs": [],
   "source": [
    "# # Case 2 - ChromeDriverManager\n",
    "# driver = webdriver.Chrome( ChromeDriverManager().install() )\n",
    "# driver.maximize_window()\n",
    "\n",
    "# url = 'https://resultadoshistorico.onpe.gob.pe/EG2021/'\n",
    "# driver.get( url )"
   ]
  },
  {
   "cell_type": "markdown",
   "metadata": {},
   "source": [
    "## Chrome is being controlled by automated test software"
   ]
  },
  {
   "cell_type": "markdown",
   "metadata": {},
   "source": [
    "![Chrome is controlled by automated software](Images/chrome_automated.png)"
   ]
  },
  {
   "cell_type": "code",
   "execution_count": 12,
   "metadata": {},
   "outputs": [
    {
     "name": "stdout",
     "output_type": "stream",
     "text": [
      "Title:  Presentación de Resultados Elecciones Generales y Parlamento Andino 2021\n"
     ]
    }
   ],
   "source": [
    "# Access to the title\n",
    "print('Title: ', driver.title)"
   ]
  },
  {
   "cell_type": "code",
   "execution_count": 13,
   "metadata": {},
   "outputs": [
    {
     "name": "stdout",
     "output_type": "stream",
     "text": [
      "Current Page URL:  https://resultadoshistorico.onpe.gob.pe/EG2021/\n"
     ]
    }
   ],
   "source": [
    "# Access to the curent url \n",
    "print('Current Page URL: ', driver.current_url)"
   ]
  },
  {
   "cell_type": "code",
   "execution_count": 15,
   "metadata": {},
   "outputs": [
    {
     "data": {
      "text/plain": [
       "True"
      ]
     },
     "execution_count": 15,
     "metadata": {},
     "output_type": "execute_result"
    }
   ],
   "source": [
    "# Make screenshot of the webpage\n",
    "driver.save_screenshot('Images/resultados_presidenciales.png')"
   ]
  },
  {
   "cell_type": "code",
   "execution_count": 11,
   "metadata": {},
   "outputs": [
    {
     "data": {
      "text/plain": [
       "'https://resultadoshistorico.onpe.gob.pe/EG2021/'"
      ]
     },
     "execution_count": 11,
     "metadata": {},
     "output_type": "execute_result"
    }
   ],
   "source": [
    "driver.current_url"
   ]
  },
  {
   "cell_type": "code",
   "execution_count": 16,
   "metadata": {},
   "outputs": [],
   "source": [
    "# if re.search(r'resultadoshistorico', driver.current_url):\n",
    "#     driver.save_screenshot('Images/resultados_presidenciales.png') #save screenshot with provided name\n",
    "#     print('Resultados Presidenciales saved!')\n",
    "\n",
    "# else:\n",
    "#     print(\"Page not found\")"
   ]
  },
  {
   "cell_type": "code",
   "execution_count": 18,
   "metadata": {},
   "outputs": [
    {
     "name": "stdout",
     "output_type": "stream",
     "text": [
      "Cookies obtained from resultados_presidenciales\n",
      "[{'domain': 'resultadoshistorico.onpe.gob.pe', 'httpOnly': True, 'name': 'web_server_iron', 'path': '/', 'sameSite': 'Lax', 'secure': True, 'value': '!sstDpj4ipxO3mqyu0EiGh5fRpo/FcnEmd/2BaVu4d2dbV9ei+2WAvZPOTJRjhd3BbfA9FP9GC9FV30o='}, {'domain': '.onpe.gob.pe', 'expiry': 1705260578, 'httpOnly': False, 'name': '_gid', 'path': '/', 'sameSite': 'Lax', 'secure': False, 'value': 'GA1.3.818469562.1705174178'}, {'domain': '.onpe.gob.pe', 'expiry': 1739734178, 'httpOnly': False, 'name': '_ga', 'path': '/', 'sameSite': 'Lax', 'secure': False, 'value': 'GA1.3.1799732475.1705174178'}, {'domain': '.onpe.gob.pe', 'expiry': 1739734177, 'httpOnly': False, 'name': '_ga_WW5NP75D4F', 'path': '/', 'sameSite': 'Lax', 'secure': False, 'value': 'GS1.1.1705174177.1.0.1705174177.60.0.0'}]\n"
     ]
    }
   ],
   "source": [
    "#get cookie information\n",
    "cookies = driver.get_cookies() \n",
    "print('Cookies obtained from resultados_presidenciales')\n",
    "print(cookies)"
   ]
  },
  {
   "cell_type": "code",
   "execution_count": 19,
   "metadata": {},
   "outputs": [
    {
     "data": {
      "text/plain": [
       "'<html lang=\"en\" class=\"hydrated\"><head><style>\\n    :root {\\n      /* Typography */\\n      --amplify-font-family: \\'Amazon Ember\\', \\'Helvetica Neue\\', \\'Helvetica\\', \\'Arial\\', sans-serif;\\n\\n      --amplify-text-xxs: 0.75rem;\\n      --amplify-text-xs: 0.81rem;\\n      --amplify-text-sm: 0.875rem;\\n      --amplify-text-md: 1rem;\\n      --amplify-text-md-sub: 1.15rem;\\n      --amplify-text-lg: 1.5rem;\\n      --amplify-text-xl: 2rem;\\n      --amplify-text-xxl: 2.5rem;\\n\\n      /* Colors */\\n      --amplify-primary-color: #ff9900;\\n      --amplify-primary-contrast: var(--amplify-white);\\n      --amplify-primary-tint: #ffac31;\\n      --amplify-primary-shade: #e88b01;\\n\\n      --amplify-secondary-color: #152939;\\n      --amplify-secondary-contrast: var(--amplify-white);\\n      --amplify-secondary-tint: #31465f;\\n      --amplify-secondary-shade: #1F2A37;\\n\\n      --amplify-tertiary-color: #5d8aff;\\n      --amplify-tertiary-contrast: var(--amplify-white);\\n      --amplify-tertiary-tint: #7da1ff;\\n      --amplify-tertiary-shade: #537BE5;\\n\\n      --amplify-background-color: var(--amplify-white);\\n\\n      /* Neutral */\\n      --amplify-grey: #828282;\\n      --amplify-light-grey: #c4c4c4;\\n      --amplify-white: #ffffff;\\n      --amplify-smoke-white: #f5f5f5;\\n      --amplify-red: #dd3f5b;\\n      --amplify-blue: #099ac8;\\n    }\\n  </style>\\n  <meta charset=\"utf-8\"><style data-styles=\"\">amplify-icon,amplify-authenticator,amplify-federated-sign-in,amplify-select-mfa-type,amplify-s3-image-picker,amplify-chatbot,amplify-greetings,amplify-s3-album,amplify-s3-text-picker,amplify-tooltip,amplify-icon-button,amplify-checkbox,amplify-container,amplify-link,amplify-photo-picker,amplify-s3-image,amplify-s3-text,amplify-loading-spinner,amplify-section,amplify-button,amplify-sign-out,amplify-nav,amplify-toast,amplify-picker,amplify-form-field,amplify-hint,amplify-input,amplify-label,amplify-totp-setup,amplify-radio-button,amplify-sign-in-button,amplify-amazon-button,amplify-auth0-button,amplify-facebook-button,amplify-google-button,amplify-oauth-button,amplify-strike,amplify-federated-buttons,amplify-auth-fields,amplify-phone-field,amplify-code-field,amplify-email-field,amplify-password-field,amplify-username-field,amplify-country-dial-code,amplify-select,amplify-form-section,amplify-sign-in,amplify-confirm-sign-in,amplify-confirm-sign-up,amplify-forgot-password,amplify-require-new-password,amplify-sign-up,amplify-verify-contact{visibility:hidden}.hydrated{visibility:inherit}</style>\\n  <meta name=\"google\" content=\"notranslate\">\\n  <title>Presentación de Resultados Elecciones Generales y Parlamento Andino 2021</title>\\n  <base href=\"/EG2021/\">\\n  <script type=\"text/javascript\" src=\"https://bam.nr-data.net/1/df67590f5e?a=507167406&amp;sa=1&amp;v=1158.afc605b&amp;t=Unnamed%20Transaction&amp;rst=1730&amp;ref=https://resultadoshistorico.onpe.gob.pe/EG2021/&amp;be=822&amp;fe=1700&amp;dc=996&amp;af=err,xhr,stn,ins,spa&amp;perf=%7B%22timing%22:%7B%22of%22:1705174176516,%22n%22:0,%22f%22:1,%22dn%22:3,%22dne%22:3,%22c%22:3,%22s%22:84,%22ce%22:172,%22rq%22:172,%22rp%22:372,%22rpe%22:373,%22dl%22:376,%22di%22:827,%22ds%22:997,%22de%22:997,%22dc%22:1700,%22l%22:1700,%22le%22:1701%7D,%22navigation%22:%7B%7D%7D&amp;fp=1235&amp;fcp=1235&amp;jsonp=NREUM.setToken\"></script><script src=\"https://js-agent.newrelic.com/nr-spa-1158.min.js\"></script><script type=\"text/javascript\" async=\"\" src=\"https://www.google-analytics.com/analytics.js\"></script><script type=\"text/javascript\" async=\"\" src=\"https://www.googletagmanager.com/gtag/js?id=G-WW5NP75D4F&amp;l=dataLayer&amp;cx=c\"></script><script src=\"./assets/lib/amcharts/amcharts.js\" type=\"text/javascript\"></script>\\n  <script src=\"./assets/lib/amcharts/serial.js\" type=\"text/javascript\"></script>\\n  <script src=\"./assets/lib/amcharts/pie.js\" type=\"text/javascript\"></script>\\n  <script src=\"./assets/lib/ammap/ammap.js\" type=\"text/javascript\"></script>\\n  <script src=\"./assets/js/scripts.js\" type=\"text/javascript\"></script>\\n  <!-- Global  -->\\n  <script async=\"\" src=\"https://www.googletagmanager.com/gtag/js?id=UA-184811717-4\"></script>\\n  <script>\\n    window.dataLayer = window.dataLayer || [];\\n    function gtag(){dataLayer.push(arguments);}\\n    gtag(\\'js\\', new Date());\\n    gtag(\\'config\\',\\'UA-184811717-4\\');\\n  </script>\\n\\n  <meta name=\"viewport\" content=\"width=device-width, initial-scale=1\">\\n  <meta name=\"google\" content=\"notranslate\">\\n  <link rel=\"icon\" type=\"image/x-icon\" href=\"favicon.ico\">  \\n  <style>\\n    @media (max-width: 1366px) {\\n      svg g g.amcharts-category-axis text.amcharts-axis-label tspan {\\n        font-weight: bold; \\n        font-size: 8px;   \\n      }\\n    }\\n    </style>\\n<link rel=\"stylesheet\" href=\"styles.bd7c35172284dda8da0f.css\"><script charset=\"utf-8\" src=\"common-es2015.f2fb729fa304a53b955b.js\"></script><script charset=\"utf-8\" src=\"6-es2015.f76683b054d851f58f21.js\"></script><style>@font-face{font-family:Glyphicons Halflings;src:url(glyphicons-halflings-regular.5be1347c682810f199c7.eot);src:url(glyphicons-halflings-regular.5be1347c682810f199c7.eot?#iefix) format(\"embedded-opentype\"),url(glyphicons-halflings-regular.be810be3a3e14c682a25.woff2) format(\"woff2\"),url(glyphicons-halflings-regular.82b1212e45a2bc35dd73.woff) format(\"truetype\"),url(glyphicons-halflings-regular.9a17786234899efcc963.svg#glyphicons_halflingsregular) format(\"svg\")}.amcharts-category-axis[_ngcontent-pbu-c64]   .amcharts-axis-label[_ngcontent-pbu-c64]:first-child   tspan[_ngcontent-pbu-c64]{font-weight:700;font-size:500px}.glyphicon[_ngcontent-pbu-c64]{position:relative;top:1px;display:inline-block;font-family:Glyphicons Halflings;font-style:normal;font-weight:400;line-height:1;-webkit-font-smoothing:antialiased;-moz-osx-font-smoothing:grayscale}.glyphicon-asterisk[_ngcontent-pbu-c64]:before{content:\"\\\\2a\"}.glyphicon-plus[_ngcontent-pbu-c64]:before{content:\"\\\\2b\"}.glyphicon-eur[_ngcontent-pbu-c64]:before, .glyphicon-euro[_ngcontent-pbu-c64]:before{content:\"\\\\20ac\"}.glyphicon-minus[_ngcontent-pbu-c64]:before{content:\"\\\\2212\"}.glyphicon-cloud[_ngcontent-pbu-c64]:before{content:\"\\\\2601\"}.glyphicon-envelope[_ngcontent-pbu-c64]:before{content:\"\\\\2709\"}.glyphicon-pencil[_ngcontent-pbu-c64]:before{content:\"\\\\270f\"}.glyphicon-glass[_ngcontent-pbu-c64]:before{content:\"\\\\e001\"}.glyphicon-music[_ngcontent-pbu-c64]:before{content:\"\\\\e002\"}.glyphicon-search[_ngcontent-pbu-c64]:before{content:\"\\\\e003\"}.glyphicon-heart[_ngcontent-pbu-c64]:before{content:\"\\\\e005\"}.glyphicon-star[_ngcontent-pbu-c64]:before{content:\"\\\\e006\"}.glyphicon-star-empty[_ngcontent-pbu-c64]:before{content:\"\\\\e007\"}.glyphicon-user[_ngcontent-pbu-c64]:before{content:\"\\\\e008\"}.glyphicon-film[_ngcontent-pbu-c64]:before{content:\"\\\\e009\"}.glyphicon-th-large[_ngcontent-pbu-c64]:before{content:\"\\\\e010\"}.glyphicon-th[_ngcontent-pbu-c64]:before{content:\"\\\\e011\"}.glyphicon-th-list[_ngcontent-pbu-c64]:before{content:\"\\\\e012\"}.glyphicon-ok[_ngcontent-pbu-c64]:before{content:\"\\\\e013\"}.glyphicon-remove[_ngcontent-pbu-c64]:before{content:\"\\\\e014\"}.glyphicon-zoom-in[_ngcontent-pbu-c64]:before{content:\"\\\\e015\"}.glyphicon-zoom-out[_ngcontent-pbu-c64]:before{content:\"\\\\e016\"}.glyphicon-off[_ngcontent-pbu-c64]:before{content:\"\\\\e017\"}.glyphicon-signal[_ngcontent-pbu-c64]:before{content:\"\\\\e018\"}.glyphicon-cog[_ngcontent-pbu-c64]:before{content:\"\\\\e019\"}.glyphicon-trash[_ngcontent-pbu-c64]:before{content:\"\\\\e020\"}.glyphicon-home[_ngcontent-pbu-c64]:before{content:\"\\\\e021\"}.glyphicon-file[_ngcontent-pbu-c64]:before{content:\"\\\\e022\"}.glyphicon-time[_ngcontent-pbu-c64]:before{content:\"\\\\e023\"}.glyphicon-road[_ngcontent-pbu-c64]:before{content:\"\\\\e024\"}.glyphicon-download-alt[_ngcontent-pbu-c64]:before{content:\"\\\\e025\"}.glyphicon-download[_ngcontent-pbu-c64]:before{content:\"\\\\e026\"}.glyphicon-upload[_ngcontent-pbu-c64]:before{content:\"\\\\e027\"}.glyphicon-inbox[_ngcontent-pbu-c64]:before{content:\"\\\\e028\"}.glyphicon-play-circle[_ngcontent-pbu-c64]:before{content:\"\\\\e029\"}.glyphicon-repeat[_ngcontent-pbu-c64]:before{content:\"\\\\e030\"}.glyphicon-refresh[_ngcontent-pbu-c64]:before{content:\"\\\\e031\"}.glyphicon-list-alt[_ngcontent-pbu-c64]:before{content:\"\\\\e032\"}.glyphicon-lock[_ngcontent-pbu-c64]:before{content:\"\\\\e033\"}.glyphicon-flag[_ngcontent-pbu-c64]:before{content:\"\\\\e034\"}.glyphicon-headphones[_ngcontent-pbu-c64]:before{content:\"\\\\e035\"}.glyphicon-volume-off[_ngcontent-pbu-c64]:before{content:\"\\\\e036\"}.glyphicon-volume-down[_ngcontent-pbu-c64]:before{content:\"\\\\e037\"}.glyphicon-volume-up[_ngcontent-pbu-c64]:before{content:\"\\\\e038\"}.glyphicon-qrcode[_ngcontent-pbu-c64]:before{content:\"\\\\e039\"}.glyphicon-barcode[_ngcontent-pbu-c64]:before{content:\"\\\\e040\"}.glyphicon-tag[_ngcontent-pbu-c64]:before{content:\"\\\\e041\"}.glyphicon-tags[_ngcontent-pbu-c64]:before{content:\"\\\\e042\"}.glyphicon-book[_ngcontent-pbu-c64]:before{content:\"\\\\e043\"}.glyphicon-bookmark[_ngcontent-pbu-c64]:before{content:\"\\\\e044\"}.glyphicon-print[_ngcontent-pbu-c64]:before{content:\"\\\\e045\"}.glyphicon-camera[_ngcontent-pbu-c64]:before{content:\"\\\\e046\"}.glyphicon-font[_ngcontent-pbu-c64]:before{content:\"\\\\e047\"}.glyphicon-bold[_ngcontent-pbu-c64]:before{content:\"\\\\e048\"}.glyphicon-italic[_ngcontent-pbu-c64]:before{content:\"\\\\e049\"}.glyphicon-text-height[_ngcontent-pbu-c64]:before{content:\"\\\\e050\"}.glyphicon-text-width[_ngcontent-pbu-c64]:before{content:\"\\\\e051\"}.glyphicon-align-left[_ngcontent-pbu-c64]:before{content:\"\\\\e052\"}.glyphicon-align-center[_ngcontent-pbu-c64]:before{content:\"\\\\e053\"}.glyphicon-align-right[_ngcontent-pbu-c64]:before{content:\"\\\\e054\"}.glyphicon-align-justify[_ngcontent-pbu-c64]:before{content:\"\\\\e055\"}.glyphicon-list[_ngcontent-pbu-c64]:before{content:\"\\\\e056\"}.glyphicon-indent-left[_ngcontent-pbu-c64]:before{content:\"\\\\e057\"}.glyphicon-indent-right[_ngcontent-pbu-c64]:before{content:\"\\\\e058\"}.glyphicon-facetime-video[_ngcontent-pbu-c64]:before{content:\"\\\\e059\"}.glyphicon-picture[_ngcontent-pbu-c64]:before{content:\"\\\\e060\"}.glyphicon-map-marker[_ngcontent-pbu-c64]:before{content:\"\\\\e062\"}.glyphicon-adjust[_ngcontent-pbu-c64]:before{content:\"\\\\e063\"}.glyphicon-tint[_ngcontent-pbu-c64]:before{content:\"\\\\e064\"}.glyphicon-edit[_ngcontent-pbu-c64]:before{content:\"\\\\e065\"}.glyphicon-share[_ngcontent-pbu-c64]:before{content:\"\\\\e066\"}.glyphicon-check[_ngcontent-pbu-c64]:before{content:\"\\\\e067\"}.glyphicon-move[_ngcontent-pbu-c64]:before{content:\"\\\\e068\"}.glyphicon-step-backward[_ngcontent-pbu-c64]:before{content:\"\\\\e069\"}.glyphicon-fast-backward[_ngcontent-pbu-c64]:before{content:\"\\\\e070\"}.glyphicon-backward[_ngcontent-pbu-c64]:before{content:\"\\\\e071\"}.glyphicon-play[_ngcontent-pbu-c64]:before{content:\"\\\\e072\"}.glyphicon-pause[_ngcontent-pbu-c64]:before{content:\"\\\\e073\"}.glyphicon-stop[_ngcontent-pbu-c64]:before{content:\"\\\\e074\"}.glyphicon-forward[_ngcontent-pbu-c64]:before{content:\"\\\\e075\"}.glyphicon-fast-forward[_ngcontent-pbu-c64]:before{content:\"\\\\e076\"}.glyphicon-step-forward[_ngcontent-pbu-c64]:before{content:\"\\\\e077\"}.glyphicon-eject[_ngcontent-pbu-c64]:before{content:\"\\\\e078\"}.glyphicon-chevron-left[_ngcontent-pbu-c64]:before{content:\"\\\\e079\"}.glyphicon-chevron-right[_ngcontent-pbu-c64]:before{content:\"\\\\e080\"}.glyphicon-plus-sign[_ngcontent-pbu-c64]:before{content:\"\\\\e081\"}.glyphicon-minus-sign[_ngcontent-pbu-c64]:before{content:\"\\\\e082\"}.glyphicon-remove-sign[_ngcontent-pbu-c64]:before{content:\"\\\\e083\"}.glyphicon-ok-sign[_ngcontent-pbu-c64]:before{content:\"\\\\e084\"}.glyphicon-question-sign[_ngcontent-pbu-c64]:before{content:\"\\\\e085\"}.glyphicon-info-sign[_ngcontent-pbu-c64]:before{content:\"\\\\e086\"}.glyphicon-screenshot[_ngcontent-pbu-c64]:before{content:\"\\\\e087\"}.glyphicon-remove-circle[_ngcontent-pbu-c64]:before{content:\"\\\\e088\"}.glyphicon-ok-circle[_ngcontent-pbu-c64]:before{content:\"\\\\e089\"}.glyphicon-ban-circle[_ngcontent-pbu-c64]:before{content:\"\\\\e090\"}.glyphicon-arrow-left[_ngcontent-pbu-c64]:before{content:\"\\\\e091\"}.glyphicon-arrow-right[_ngcontent-pbu-c64]:before{content:\"\\\\e092\"}.glyphicon-arrow-up[_ngcontent-pbu-c64]:before{content:\"\\\\e093\"}.glyphicon-arrow-down[_ngcontent-pbu-c64]:before{content:\"\\\\e094\"}.glyphicon-share-alt[_ngcontent-pbu-c64]:before{content:\"\\\\e095\"}.glyphicon-resize-full[_ngcontent-pbu-c64]:before{content:\"\\\\e096\"}.glyphicon-resize-small[_ngcontent-pbu-c64]:before{content:\"\\\\e097\"}.glyphicon-exclamation-sign[_ngcontent-pbu-c64]:before{content:\"\\\\e101\"}.glyphicon-gift[_ngcontent-pbu-c64]:before{content:\"\\\\e102\"}.glyphicon-leaf[_ngcontent-pbu-c64]:before{content:\"\\\\e103\"}.glyphicon-fire[_ngcontent-pbu-c64]:before{content:\"\\\\e104\"}.glyphicon-eye-open[_ngcontent-pbu-c64]:before{content:\"\\\\e105\"}.glyphicon-eye-close[_ngcontent-pbu-c64]:before{content:\"\\\\e106\"}.glyphicon-warning-sign[_ngcontent-pbu-c64]:before{content:\"\\\\e107\"}.glyphicon-plane[_ngcontent-pbu-c64]:before{content:\"\\\\e108\"}.glyphicon-calendar[_ngcontent-pbu-c64]:before{content:\"\\\\e109\"}.glyphicon-random[_ngcontent-pbu-c64]:before{content:\"\\\\e110\"}.glyphicon-comment[_ngcontent-pbu-c64]:before{content:\"\\\\e111\"}.glyphicon-magnet[_ngcontent-pbu-c64]:before{content:\"\\\\e112\"}.glyphicon-chevron-up[_ngcontent-pbu-c64]:before{content:\"\\\\e113\"}.glyphicon-chevron-down[_ngcontent-pbu-c64]:before{content:\"\\\\e114\"}.glyphicon-retweet[_ngcontent-pbu-c64]:before{content:\"\\\\e115\"}.glyphicon-shopping-cart[_ngcontent-pbu-c64]:before{content:\"\\\\e116\"}.glyphicon-folder-close[_ngcontent-pbu-c64]:before{content:\"\\\\e117\"}.glyphicon-folder-open[_ngcontent-pbu-c64]:before{content:\"\\\\e118\"}.glyphicon-resize-vertical[_ngcontent-pbu-c64]:before{content:\"\\\\e119\"}.glyphicon-resize-horizontal[_ngcontent-pbu-c64]:before{content:\"\\\\e120\"}.glyphicon-hdd[_ngcontent-pbu-c64]:before{content:\"\\\\e121\"}.glyphicon-bullhorn[_ngcontent-pbu-c64]:before{content:\"\\\\e122\"}.glyphicon-bell[_ngcontent-pbu-c64]:before{content:\"\\\\e123\"}.glyphicon-certificate[_ngcontent-pbu-c64]:before{content:\"\\\\e124\"}.glyphicon-thumbs-up[_ngcontent-pbu-c64]:before{content:\"\\\\e125\"}.glyphicon-thumbs-down[_ngcontent-pbu-c64]:before{content:\"\\\\e126\"}.glyphicon-hand-right[_ngcontent-pbu-c64]:before{content:\"\\\\e127\"}.glyphicon-hand-left[_ngcontent-pbu-c64]:before{content:\"\\\\e128\"}.glyphicon-hand-up[_ngcontent-pbu-c64]:before{content:\"\\\\e129\"}.glyphicon-hand-down[_ngcontent-pbu-c64]:before{content:\"\\\\e130\"}.glyphicon-circle-arrow-right[_ngcontent-pbu-c64]:before{content:\"\\\\e131\"}.glyphicon-circle-arrow-left[_ngcontent-pbu-c64]:before{content:\"\\\\e132\"}.glyphicon-circle-arrow-up[_ngcontent-pbu-c64]:before{content:\"\\\\e133\"}.glyphicon-circle-arrow-down[_ngcontent-pbu-c64]:before{content:\"\\\\e134\"}.glyphicon-globe[_ngcontent-pbu-c64]:before{content:\"\\\\e135\"}.glyphicon-wrench[_ngcontent-pbu-c64]:before{content:\"\\\\e136\"}.glyphicon-tasks[_ngcontent-pbu-c64]:before{content:\"\\\\e137\"}.glyphicon-filter[_ngcontent-pbu-c64]:before{content:\"\\\\e138\"}.glyphicon-briefcase[_ngcontent-pbu-c64]:before{content:\"\\\\e139\"}.glyphicon-fullscreen[_ngcontent-pbu-c64]:before{content:\"\\\\e140\"}.glyphicon-dashboard[_ngcontent-pbu-c64]:before{content:\"\\\\e141\"}.glyphicon-paperclip[_ngcontent-pbu-c64]:before{content:\"\\\\e142\"}.glyphicon-heart-empty[_ngcontent-pbu-c64]:before{content:\"\\\\e143\"}.glyphicon-link[_ngcontent-pbu-c64]:before{content:\"\\\\e144\"}.glyphicon-phone[_ngcontent-pbu-c64]:before{content:\"\\\\e145\"}.glyphicon-pushpin[_ngcontent-pbu-c64]:before{content:\"\\\\e146\"}.glyphicon-usd[_ngcontent-pbu-c64]:before{content:\"\\\\e148\"}.glyphicon-gbp[_ngcontent-pbu-c64]:before{content:\"\\\\e149\"}.glyphicon-sort[_ngcontent-pbu-c64]:before{content:\"\\\\e150\"}.glyphicon-sort-by-alphabet[_ngcontent-pbu-c64]:before{content:\"\\\\e151\"}.glyphicon-sort-by-alphabet-alt[_ngcontent-pbu-c64]:before{content:\"\\\\e152\"}.glyphicon-sort-by-order[_ngcontent-pbu-c64]:before{content:\"\\\\e153\"}.glyphicon-sort-by-order-alt[_ngcontent-pbu-c64]:before{content:\"\\\\e154\"}.glyphicon-sort-by-attributes[_ngcontent-pbu-c64]:before{content:\"\\\\e155\"}.glyphicon-sort-by-attributes-alt[_ngcontent-pbu-c64]:before{content:\"\\\\e156\"}.glyphicon-unchecked[_ngcontent-pbu-c64]:before{content:\"\\\\e157\"}.glyphicon-expand[_ngcontent-pbu-c64]:before{content:\"\\\\e158\"}.glyphicon-collapse-down[_ngcontent-pbu-c64]:before{content:\"\\\\e159\"}.glyphicon-collapse-up[_ngcontent-pbu-c64]:before{content:\"\\\\e160\"}.glyphicon-log-in[_ngcontent-pbu-c64]:before{content:\"\\\\e161\"}.glyphicon-flash[_ngcontent-pbu-c64]:before{content:\"\\\\e162\"}.glyphicon-log-out[_ngcontent-pbu-c64]:before{content:\"\\\\e163\"}.glyphicon-new-window[_ngcontent-pbu-c64]:before{content:\"\\\\e164\"}.glyphicon-record[_ngcontent-pbu-c64]:before{content:\"\\\\e165\"}.glyphicon-save[_ngcontent-pbu-c64]:before{content:\"\\\\e166\"}.glyphicon-open[_ngcontent-pbu-c64]:before{content:\"\\\\e167\"}.glyphicon-saved[_ngcontent-pbu-c64]:before{content:\"\\\\e168\"}.glyphicon-import[_ngcontent-pbu-c64]:before{content:\"\\\\e169\"}.glyphicon-export[_ngcontent-pbu-c64]:before{content:\"\\\\e170\"}.glyphicon-send[_ngcontent-pbu-c64]:before{content:\"\\\\e171\"}.glyphicon-floppy-disk[_ngcontent-pbu-c64]:before{content:\"\\\\e172\"}.glyphicon-floppy-saved[_ngcontent-pbu-c64]:before{content:\"\\\\e173\"}.glyphicon-floppy-remove[_ngcontent-pbu-c64]:before{content:\"\\\\e174\"}.glyphicon-floppy-save[_ngcontent-pbu-c64]:before{content:\"\\\\e175\"}.glyphicon-floppy-open[_ngcontent-pbu-c64]:before{content:\"\\\\e176\"}.glyphicon-credit-card[_ngcontent-pbu-c64]:before{content:\"\\\\e177\"}.glyphicon-transfer[_ngcontent-pbu-c64]:before{content:\"\\\\e178\"}.glyphicon-cutlery[_ngcontent-pbu-c64]:before{content:\"\\\\e179\"}.glyphicon-header[_ngcontent-pbu-c64]:before{content:\"\\\\e180\"}.glyphicon-compressed[_ngcontent-pbu-c64]:before{content:\"\\\\e181\"}.glyphicon-earphone[_ngcontent-pbu-c64]:before{content:\"\\\\e182\"}.glyphicon-phone-alt[_ngcontent-pbu-c64]:before{content:\"\\\\e183\"}.glyphicon-tower[_ngcontent-pbu-c64]:before{content:\"\\\\e184\"}.glyphicon-stats[_ngcontent-pbu-c64]:before{content:\"\\\\e185\"}.glyphicon-sd-video[_ngcontent-pbu-c64]:before{content:\"\\\\e186\"}.glyphicon-hd-video[_ngcontent-pbu-c64]:before{content:\"\\\\e187\"}.glyphicon-subtitles[_ngcontent-pbu-c64]:before{content:\"\\\\e188\"}.glyphicon-sound-stereo[_ngcontent-pbu-c64]:before{content:\"\\\\e189\"}.glyphicon-sound-dolby[_ngcontent-pbu-c64]:before{content:\"\\\\e190\"}.glyphicon-sound-5-1[_ngcontent-pbu-c64]:before{content:\"\\\\e191\"}.glyphicon-sound-6-1[_ngcontent-pbu-c64]:before{content:\"\\\\e192\"}.glyphicon-sound-7-1[_ngcontent-pbu-c64]:before{content:\"\\\\e193\"}.glyphicon-copyright-mark[_ngcontent-pbu-c64]:before{content:\"\\\\e194\"}.glyphicon-registration-mark[_ngcontent-pbu-c64]:before{content:\"\\\\e195\"}.glyphicon-cloud-download[_ngcontent-pbu-c64]:before{content:\"\\\\e197\"}.glyphicon-cloud-upload[_ngcontent-pbu-c64]:before{content:\"\\\\e198\"}.glyphicon-tree-conifer[_ngcontent-pbu-c64]:before{content:\"\\\\e199\"}.glyphicon-tree-deciduous[_ngcontent-pbu-c64]:before{content:\"\\\\e200\"}.glyphicon-cd[_ngcontent-pbu-c64]:before{content:\"\\\\e201\"}.glyphicon-save-file[_ngcontent-pbu-c64]:before{content:\"\\\\e202\"}.glyphicon-open-file[_ngcontent-pbu-c64]:before{content:\"\\\\e203\"}.glyphicon-level-up[_ngcontent-pbu-c64]:before{content:\"\\\\e204\"}.glyphicon-copy[_ngcontent-pbu-c64]:before{content:\"\\\\e205\"}.glyphicon-paste[_ngcontent-pbu-c64]:before{content:\"\\\\e206\"}.glyphicon-alert[_ngcontent-pbu-c64]:before{content:\"\\\\e209\"}.glyphicon-equalizer[_ngcontent-pbu-c64]:before{content:\"\\\\e210\"}.glyphicon-king[_ngcontent-pbu-c64]:before{content:\"\\\\e211\"}.glyphicon-queen[_ngcontent-pbu-c64]:before{content:\"\\\\e212\"}.glyphicon-pawn[_ngcontent-pbu-c64]:before{content:\"\\\\e213\"}.glyphicon-bishop[_ngcontent-pbu-c64]:before{content:\"\\\\e214\"}.glyphicon-knight[_ngcontent-pbu-c64]:before{content:\"\\\\e215\"}.glyphicon-baby-formula[_ngcontent-pbu-c64]:before{content:\"\\\\e216\"}.glyphicon-tent[_ngcontent-pbu-c64]:before{content:\"\\\\26fa\"}.glyphicon-blackboard[_ngcontent-pbu-c64]:before{content:\"\\\\e218\"}.glyphicon-bed[_ngcontent-pbu-c64]:before{content:\"\\\\e219\"}.glyphicon-apple[_ngcontent-pbu-c64]:before{content:\"\\\\f8ff\"}.glyphicon-erase[_ngcontent-pbu-c64]:before{content:\"\\\\e221\"}.glyphicon-hourglass[_ngcontent-pbu-c64]:before{content:\"\\\\231b\"}.glyphicon-lamp[_ngcontent-pbu-c64]:before{content:\"\\\\e223\"}.glyphicon-duplicate[_ngcontent-pbu-c64]:before{content:\"\\\\e224\"}.glyphicon-piggy-bank[_ngcontent-pbu-c64]:before{content:\"\\\\e225\"}.glyphicon-scissors[_ngcontent-pbu-c64]:before{content:\"\\\\e226\"}.glyphicon-bitcoin[_ngcontent-pbu-c64]:before, .glyphicon-btc[_ngcontent-pbu-c64]:before, .glyphicon-xbt[_ngcontent-pbu-c64]:before{content:\"\\\\e227\"}.glyphicon-jpy[_ngcontent-pbu-c64]:before, .glyphicon-yen[_ngcontent-pbu-c64]:before{content:\"\\\\00a5\"}.glyphicon-rub[_ngcontent-pbu-c64]:before, .glyphicon-ruble[_ngcontent-pbu-c64]:before{content:\"\\\\20bd\"}.glyphicon-scale[_ngcontent-pbu-c64]:before{content:\"\\\\e230\"}.glyphicon-ice-lolly[_ngcontent-pbu-c64]:before{content:\"\\\\e231\"}.glyphicon-ice-lolly-tasted[_ngcontent-pbu-c64]:before{content:\"\\\\e232\"}.glyphicon-education[_ngcontent-pbu-c64]:before{content:\"\\\\e233\"}.glyphicon-option-horizontal[_ngcontent-pbu-c64]:before{content:\"\\\\e234\"}.glyphicon-option-vertical[_ngcontent-pbu-c64]:before{content:\"\\\\e235\"}.glyphicon-menu-hamburger[_ngcontent-pbu-c64]:before{content:\"\\\\e236\"}.glyphicon-modal-window[_ngcontent-pbu-c64]:before{content:\"\\\\e237\"}.glyphicon-oil[_ngcontent-pbu-c64]:before{content:\"\\\\e238\"}.glyphicon-grain[_ngcontent-pbu-c64]:before{content:\"\\\\e239\"}.glyphicon-sunglasses[_ngcontent-pbu-c64]:before{content:\"\\\\e240\"}.glyphicon-text-size[_ngcontent-pbu-c64]:before{content:\"\\\\e241\"}.glyphicon-text-color[_ngcontent-pbu-c64]:before{content:\"\\\\e242\"}.glyphicon-text-background[_ngcontent-pbu-c64]:before{content:\"\\\\e243\"}.glyphicon-object-align-top[_ngcontent-pbu-c64]:before{content:\"\\\\e244\"}.glyphicon-object-align-bottom[_ngcontent-pbu-c64]:before{content:\"\\\\e245\"}.glyphicon-object-align-horizontal[_ngcontent-pbu-c64]:before{content:\"\\\\e246\"}.glyphicon-object-align-left[_ngcontent-pbu-c64]:before{content:\"\\\\e247\"}.glyphicon-object-align-vertical[_ngcontent-pbu-c64]:before{content:\"\\\\e248\"}.glyphicon-object-align-right[_ngcontent-pbu-c64]:before{content:\"\\\\e249\"}.glyphicon-triangle-right[_ngcontent-pbu-c64]:before{content:\"\\\\e250\"}.glyphicon-triangle-left[_ngcontent-pbu-c64]:before{content:\"\\\\e251\"}.glyphicon-triangle-bottom[_ngcontent-pbu-c64]:before{content:\"\\\\e252\"}.glyphicon-triangle-top[_ngcontent-pbu-c64]:before{content:\"\\\\e253\"}.glyphicon-console[_ngcontent-pbu-c64]:before{content:\"\\\\e254\"}.glyphicon-superscript[_ngcontent-pbu-c64]:before{content:\"\\\\e255\"}.glyphicon-subscript[_ngcontent-pbu-c64]:before{content:\"\\\\e256\"}.glyphicon-menu-left[_ngcontent-pbu-c64]:before{content:\"\\\\e257\"}.glyphicon-menu-right[_ngcontent-pbu-c64]:before{content:\"\\\\e258\"}.glyphicon-menu-down[_ngcontent-pbu-c64]:before{content:\"\\\\e259\"}.glyphicon-menu-up[_ngcontent-pbu-c64]:before{content:\"\\\\e260\"}</style><style>@font-face{font-family:onpe;src:url(onpe.cfae7b7aa6df056a16b4.eot?cjgfmj);src:url(onpe.cfae7b7aa6df056a16b4.eot?cjgfmj#iefix) format(\"embedded-opentype\"),url(onpe.dbdf35b27707f916328f.woff?cjgfmj) format(\"woff\"),url(onpe.98aa4bed3b925268dde6.svg?cjgfmj#onpe) format(\"svg\");font-weight:400;font-style:normal}@font-face{font-family:Michroma;src:url(Michroma.ace9ad8efc608262b70a.eot);src:url(Michroma.ace9ad8efc608262b70a.eot?#iefix) format(\"embedded-opentype\"),url(Michroma.712d9237b077a63586be.woff) format(\"woff\"),url(Michroma.30c88f7bd134d7118404.svg#Michroma) format(\"svg\");font-weight:400;font-style:normal}@font-face{font-family:Harabara;src:url(Harabara_3.ca41fa74d8a3e15854eb.eot);src:url(Harabara_3.ca41fa74d8a3e15854eb.eot?#iefix) format(\"embedded-opentype\"),url(Harabara_3.0d6c56aaeea115e76557.woff) format(\"woff\"),url(Harabara_3.422515099ebc1b30aac5.svg#Harabara_3) format(\"svg\");font-weight:400;font-style:normal}@font-face{font-family:GillSansMT;src:url(GillSansMT.b843c4e837c3cba8aa70.eot);src:url(GillSansMT.b843c4e837c3cba8aa70.eot?#iefix) format(\"embedded-opentype\"),url(GillSansMT.efa8f71cfc96580a44a3.woff) format(\"woff\"),url(GillSansMT.7b4c4c1d788468fdf68b.svg#GillSansMT) format(\"svg\");font-weight:400;font-style:normal}@font-face{font-family:GillSansMT;src:url(GillSansMT-Bold.0ee4780f0ba20d53521c.eot);src:url(GillSansMT-Bold.b57772d306ac9bb42ff6.woff) format(\"woff\"),url(GillSansMT-Bold.9dde853d1ef428e613ee.svg#GillSansMT-Bold) format(\"svg\");font-weight:700;font-style:normal}.tabla_resumen_pc[_ngcontent-pbu-c64]{display:block}.tabla_resumen_movil[_ngcontent-pbu-c64]{display:none}.bg_departamentos[_ngcontent-pbu-c64]{height:333px;width:100%;background-image:url(lima.a759ad236074c903551f.jpg);position:relative;margin-bottom:20px;background-size:cover}.bg_departamentos[_ngcontent-pbu-c64]   .tabla_distritoelecoral[_ngcontent-pbu-c64]{width:calc(100% - 20px);background-color:rgba(0,0,0,.6);color:#fff;position:absolute;bottom:10px;margin-bottom:0;margin-left:10px}.bg_departamentos[_ngcontent-pbu-c64]   .tabla_distritoelecoral[_ngcontent-pbu-c64]   td[_ngcontent-pbu-c64]{border-top:none}.bg_departamentos[_ngcontent-pbu-c64]   .tabla_distritoelecoral[_ngcontent-pbu-c64]   .borde_blanco[_ngcontent-pbu-c64]{border-left:1px solid #fff}.bg_sin_departamentos[_ngcontent-pbu-c64]   td[_ngcontent-pbu-c64]{border-right:1px solid #dee2e6;border-bottom:1px solid #dee2e6}[class*=\" icon-\"][_ngcontent-pbu-c64], [class^=icon-][_ngcontent-pbu-c64]{font-family:onpe!important;speak:none;font-style:normal;font-weight:400;font-variant:normal;text-transform:none;line-height:1;-webkit-font-smoothing:antialiased;-moz-osx-font-smoothing:grayscale}select[_ngcontent-pbu-c64]{border:1px solid #8ea3a6}.icon-resumengeneral[_ngcontent-pbu-c64]:before{content:\"\\\\e909\"}.icon-elec_regional[_ngcontent-pbu-c64]:before{content:\"\\\\e901\"}.icon-elec_municipal[_ngcontent-pbu-c64]:before{content:\"\\\\e902\"}.icon-actas[_ngcontent-pbu-c64]:before{content:\"\\\\e900\"}.icon-participacion[_ngcontent-pbu-c64]:before{content:\"\\\\e903\"}.icon-impresora[_ngcontent-pbu-c64]:before{content:\"\\\\e904\"}.icon-barras[_ngcontent-pbu-c64]:before{content:\"\\\\e905\"}.icon-info[_ngcontent-pbu-c64]:before{content:\"\\\\e906\"}.icon-regresar[_ngcontent-pbu-c64]:before{content:\"\\\\e907\"}.icon-buscar[_ngcontent-pbu-c64]:before{content:\"\\\\e908\"}.icon-excel[_ngcontent-pbu-c64]:before{content:\"\\\\e910\"}.icon-pdf[_ngcontent-pbu-c64]:before{content:\"\\\\e911\"}.icon-ico_face[_ngcontent-pbu-c64]:before{content:\"\\\\e912\"}.icon-ico_twitter[_ngcontent-pbu-c64]:before{content:\"\\\\e913\"}.icon-ico_youtube[_ngcontent-pbu-c64]:before{content:\"\\\\e914\"}.icon-ico_google[_ngcontent-pbu-c64]:before{content:\"\\\\e915\"}.icon-ico_flickr[_ngcontent-pbu-c64]:before{content:\"\\\\e916\"}.icon-ico_instagram[_ngcontent-pbu-c64]:before{content:\"\\\\e917\"}.icon-ico_presidencial[_ngcontent-pbu-c64]:before{content:\"\\\\e918\"}.icon-ico_d[_ngcontent-pbu-c64]:before{content:\"\\\\e919\"}.icon-ico_congresal[_ngcontent-pbu-c64]:before{content:\"\\\\e920\"}@font-face{font-family:Roboto;src:url(Roboto-Regular.18b9c674e55e6a14cfc3.eot);src:url(Roboto-Regular.18b9c674e55e6a14cfc3.eot?#iefix) format(\"embedded-opentype\"),url(Roboto-Regular.33a606d57e602ee71cbf.woff) format(\"woff\"),url(Roboto-Regular.3c73f832eb8eea27f132.svg#Roboto-Regular) format(\"svg\");font-weight:400;font-style:normal}@font-face{font-family:Roboto Condensed;src:url(RobotoCondensed-Regular_1.03817afbc5a5cb4cbb0f.eot);src:url(RobotoCondensed-Regular_1.03817afbc5a5cb4cbb0f.eot?#iefix) format(\"embedded-opentype\"),url(RobotoCondensed-Regular_1.98ef0e4f12856e641bf4.woff) format(\"woff\"),url(RobotoCondensed-Regular_1.86d0a588cf68a1147863.svg#RobotoCondensed-Regular_1) format(\"svg\");font-weight:400;font-style:normal}body[_ngcontent-pbu-c64]{font-family:Roboto,sans-serif!important;font-size:16px}a[_ngcontent-pbu-c64]:hover{cursor:pointer}.body_404[_ngcontent-pbu-c64]{padding-bottom:180px}.body_404[_ngcontent-pbu-c64], header[_ngcontent-pbu-c64]{position:relative}header[_ngcontent-pbu-c64]{text-align:center;background:#374e91;color:#fff;margin-bottom:20px}header[_ngcontent-pbu-c64]   h1[_ngcontent-pbu-c64]{width:100%;font-family:Roboto;font-size:1.5em;margin:0 0 .3em}header[_ngcontent-pbu-c64]   h2[_ngcontent-pbu-c64]{width:100%;margin:0;font-family:GillSansMT,sans-serif!important;line-height:1em;font-size:2.1em;font-weight:700}header[_ngcontent-pbu-c64]   .logo_eg2021[_ngcontent-pbu-c64]{width:auto;height:150px}.bg_home[_ngcontent-pbu-c64]{background:url(bg_home.f7464546728ba82408dc.jpg);margin-top:190px;z-index:-2}.col-60[_ngcontent-pbu-c64]{width:60%;float:left}.col-40[_ngcontent-pbu-c64]{width:40%;float:right;position:relative}.conte_botones[_ngcontent-pbu-c64]{width:100%;float:right;border-radius:15px;overflow:hidden;margin-bottom:20px}.conte_botones[_ngcontent-pbu-c64]   a[_ngcontent-pbu-c64]{color:#fff}.conte_botones[_ngcontent-pbu-c64]   a[_ngcontent-pbu-c64]   .glyphicon[_ngcontent-pbu-c64]{transition:all .3s}.conte_botones[_ngcontent-pbu-c64]   a[_ngcontent-pbu-c64]   .linea1[_ngcontent-pbu-c64]{margin-top:10px}.conte_botones[_ngcontent-pbu-c64]   a[_ngcontent-pbu-c64]   .bg_municipales[_ngcontent-pbu-c64]{width:100%;height:300px;background:url(municipales.767f5449163bfa91dcf1.jpg) no-repeat;background-size:100% auto;transition:all .7s}.conte_botones[_ngcontent-pbu-c64]   a[_ngcontent-pbu-c64]:hover{color:#fff;text-decoration:none}.conte_botones[_ngcontent-pbu-c64]   a[_ngcontent-pbu-c64]:hover   .glyphicon[_ngcontent-pbu-c64]{margin-left:5px}.conte_botones[_ngcontent-pbu-c64]   a[_ngcontent-pbu-c64]:hover   .bg_municipales[_ngcontent-pbu-c64]{width:100%;height:300px;background:url(municipales.767f5449163bfa91dcf1.jpg) no-repeat;background-size:130% auto}.home_botonera[_ngcontent-pbu-c64]{width:100%;padding:20px 10px 10px;overflow:hidden}.home_botonera[_ngcontent-pbu-c64]   .conte_botones[_ngcontent-pbu-c64]{width:50%;float:left;padding:0 10px;margin-bottom:20px}.home_botonera[_ngcontent-pbu-c64]   .conte_botones[_ngcontent-pbu-c64]   a[_ngcontent-pbu-c64]{color:#fff}.home_botonera[_ngcontent-pbu-c64]   .conte_botones[_ngcontent-pbu-c64]   a[_ngcontent-pbu-c64]   .glyphicon[_ngcontent-pbu-c64]{transition:all .3s}.home_botonera[_ngcontent-pbu-c64]   .conte_botones[_ngcontent-pbu-c64]   a[_ngcontent-pbu-c64]   .linea1[_ngcontent-pbu-c64]{margin-top:10px}.home_botonera[_ngcontent-pbu-c64]   .conte_botones[_ngcontent-pbu-c64]   a[_ngcontent-pbu-c64]   .bg_municipales[_ngcontent-pbu-c64]{width:100%;height:300px;background:url(municipales.767f5449163bfa91dcf1.jpg) no-repeat;background-size:100% auto;transition:all .7s}.home_botonera[_ngcontent-pbu-c64]   .conte_botones[_ngcontent-pbu-c64]   a[_ngcontent-pbu-c64]:hover{color:#fff;text-decoration:none}.home_botonera[_ngcontent-pbu-c64]   .conte_botones[_ngcontent-pbu-c64]   a[_ngcontent-pbu-c64]:hover   .glyphicon[_ngcontent-pbu-c64]{margin-top:5px}.home_botonera[_ngcontent-pbu-c64]   .conte_botones[_ngcontent-pbu-c64]   a[_ngcontent-pbu-c64]:hover   .bg_municipales[_ngcontent-pbu-c64]{width:100%;height:300px;background:url(municipales.767f5449163bfa91dcf1.jpg) no-repeat;background-size:130% auto}.banner_home[_ngcontent-pbu-c64]{background:url(banner.d2ba41d4355ce6692e52.jpg) #444c61 no-repeat;background-size:100% auto;min-height:267px;margin-bottom:20px;text-align:center;position:relative}.banner_home[_ngcontent-pbu-c64]   h3[_ngcontent-pbu-c64]{display:inline-block;font-size:2.5em;color:#fff;margin-top:-.1em;width:100%;left:0;text-align:center;text-shadow:0 0 8px #000;font-family:GillSansMT;font-weight:700}.banner_erm[_ngcontent-pbu-c64]{width:70%;float:left;background:url(bg_01.563097fd994657699033.jpg) #e2e2e2 no-repeat;background-size:100% auto;padding-bottom:4.5%;position:relative;margin-bottom:20px}.banner_erm[_ngcontent-pbu-c64]   .mapa_inicio[_ngcontent-pbu-c64]{width:40%;height:auto;margin-top:10%;margin-left:10%;padding-bottom:3%}.banner_homeeg2021[_ngcontent-pbu-c64]{margin-top:-170px;margin-bottom:20px;position:relative}.banner_homeeg2021[_ngcontent-pbu-c64]   .bg_bannereg2021[_ngcontent-pbu-c64]{width:100%;max-width:100%}.banner_homeeg2021[_ngcontent-pbu-c64]   .conte_btns_home_banner[_ngcontent-pbu-c64]{width:28%;position:absolute;left:36%;bottom:8%}.banner_homeeg2021[_ngcontent-pbu-c64]   .conte_btns_home_banner[_ngcontent-pbu-c64]   a[_ngcontent-pbu-c64]{width:100%;display:block;color:#fff;margin-bottom:10px}.banner_homeeg2021[_ngcontent-pbu-c64]   .conte_btns_home_banner[_ngcontent-pbu-c64]   a[_ngcontent-pbu-c64]   .btn_informativa[_ngcontent-pbu-c64]{padding-top:15px;padding-bottom:15px;padding-left:30px;text-align:center;position:relative}.banner_homeeg2021[_ngcontent-pbu-c64]   .conte_btns_home_banner[_ngcontent-pbu-c64]   a[_ngcontent-pbu-c64]   .glyphicon[_ngcontent-pbu-c64]{transition:all .3s}.banner_homeeg2021[_ngcontent-pbu-c64]   .conte_btns_home_banner[_ngcontent-pbu-c64]   a[_ngcontent-pbu-c64]:hover{color:#fff;text-decoration:none}.banner_homeeg2021[_ngcontent-pbu-c64]   .conte_btns_home_banner[_ngcontent-pbu-c64]   a[_ngcontent-pbu-c64]:hover   .glyphicon[_ngcontent-pbu-c64]{margin-left:5px}.banner_homeeg2021[_ngcontent-pbu-c64]   .conte_btns_home_banner[_ngcontent-pbu-c64]   .btn01[_ngcontent-pbu-c64]{background:#374e91}.banner_homeeg2021[_ngcontent-pbu-c64]   .conte_btns_home_banner[_ngcontent-pbu-c64]   .btn02[_ngcontent-pbu-c64]{background:#8d9dc3}.banner_emc[_ngcontent-pbu-c64]{width:100%;float:left;background:url(bg_01.563097fd994657699033.jpg) #e2e2e2 no-repeat;background-size:100% auto;padding-bottom:0;position:relative;margin-bottom:20px}.banner_emc[_ngcontent-pbu-c64]   .mapa_inicio[_ngcontent-pbu-c64]{width:39.4%;height:auto;margin-top:.1%;margin-left:0;padding-bottom:0}.banner_emc[_ngcontent-pbu-c64]   .transparente[_ngcontent-pbu-c64]{width:.87%;height:auto;margin-left:0;padding-bottom:0}.banner_emc[_ngcontent-pbu-c64]   .btn_informativa[_ngcontent-pbu-c64]{width:30%;position:absolute;right:3%;bottom:5%}.banner_emc[_ngcontent-pbu-c64]   .btn_informativa[_ngcontent-pbu-c64]   a[_ngcontent-pbu-c64]{color:#fff;margin-bottom:.5em}.banner_emc[_ngcontent-pbu-c64]   .btn_informativa[_ngcontent-pbu-c64]   a[_ngcontent-pbu-c64]   .btn01[_ngcontent-pbu-c64]{margin-top:1em}.banner_emc[_ngcontent-pbu-c64]   .btn_informativa[_ngcontent-pbu-c64]   a[_ngcontent-pbu-c64]   .glyphicon[_ngcontent-pbu-c64]{transition:all .3s}.banner_emc[_ngcontent-pbu-c64]   .btn_informativa[_ngcontent-pbu-c64]   a[_ngcontent-pbu-c64]:hover{color:#fff;text-decoration:none}.banner_emc[_ngcontent-pbu-c64]   .btn_informativa[_ngcontent-pbu-c64]   a[_ngcontent-pbu-c64]:hover   .glyphicon[_ngcontent-pbu-c64]{margin-top:5px}.btn_home[_ngcontent-pbu-c64]{display:block;clear:both;min-height:50px;text-align:center;padding:15px 10px 15px 20px;color:#fff;position:relative}.btn01[_ngcontent-pbu-c64]{background-color:#374e91}.btn02[_ngcontent-pbu-c64]{background-color:maroon}.btn03[_ngcontent-pbu-c64]{background-color:#8d9dc3}.btn04[_ngcontent-pbu-c64]{background-color:grey}.btn05[_ngcontent-pbu-c64]{background-color:#b38320}.btn06[_ngcontent-pbu-c64]{background-color:#832c31}.flechita_botones[_ngcontent-pbu-c64]{position:absolute;left:10px;top:20px}.pic[_ngcontent-pbu-c64]{width:100%;padding-top:52%;position:relative;overflow:hidden;float:left}.pic[_ngcontent-pbu-c64]   img[_ngcontent-pbu-c64]{width:100%;height:auto;position:absolute;top:0;left:0;bottom:0;right:0;transition:all .7s ease}.pic[_ngcontent-pbu-c64]:hover{cursor:pointer}.pic[_ngcontent-pbu-c64]:hover   img[_ngcontent-pbu-c64]{width:110%;height:auto}.logo_home[_ngcontent-pbu-c64]{width:50%;height:auto;margin-left:auto;margin-right:auto}.bottom20[_ngcontent-pbu-c64]{margin-bottom:20px}.negrita[_ngcontent-pbu-c64]{font-weight:700}.logo_onpe[_ngcontent-pbu-c64]{float:right}.logo_onpe[_ngcontent-pbu-c64]   img[_ngcontent-pbu-c64]{width:125px;height:auto}.logo_eleccion[_ngcontent-pbu-c64]{float:left;margin-left:-15px}.menuprincipal[_ngcontent-pbu-c64]{text-align:center}.menuprincipal[_ngcontent-pbu-c64]   .navbar[_ngcontent-pbu-c64]{float:right}.menuprincipal[_ngcontent-pbu-c64]   .icono_togglemenu[_ngcontent-pbu-c64]{display:none}.menuprincipal[_ngcontent-pbu-c64]   a[_ngcontent-pbu-c64]{display:block;width:100%;background:#fff;color:#374e91;min-height:69px;line-height:66px;margin-bottom:20px;font-size:1em;border-bottom:6px solid #be372e}.menuprincipal[_ngcontent-pbu-c64]   a[_ngcontent-pbu-c64]   .ico_menu[_ngcontent-pbu-c64]{font-size:2.2em;margin-right:10px}.menuprincipal[_ngcontent-pbu-c64]   a[_ngcontent-pbu-c64]   .texto_menu[_ngcontent-pbu-c64]{display:inline-block;line-height:1em;max-width:calc(100% - 63px)}.menuprincipal[_ngcontent-pbu-c64]   .btn_azul[_ngcontent-pbu-c64]{border-left:10px solid #374e91;transition:all .3s}.menuprincipal[_ngcontent-pbu-c64]   .azul_activo[_ngcontent-pbu-c64], .menuprincipal[_ngcontent-pbu-c64]   .btn_azul[_ngcontent-pbu-c64]:active, .menuprincipal[_ngcontent-pbu-c64]   .btn_azul[_ngcontent-pbu-c64]:hover{background:#374e91;color:#fff;text-decoration:none}.menuprincipal[_ngcontent-pbu-c64]   .azul_activo[_ngcontent-pbu-c64]   .ico_menu[_ngcontent-pbu-c64], .menuprincipal[_ngcontent-pbu-c64]   .btn_azul[_ngcontent-pbu-c64]:active   .ico_menu[_ngcontent-pbu-c64], .menuprincipal[_ngcontent-pbu-c64]   .btn_azul[_ngcontent-pbu-c64]:hover   .ico_menu[_ngcontent-pbu-c64]{fill:#fff}.menuprincipal[_ngcontent-pbu-c64]   .btn_acero[_ngcontent-pbu-c64]{border-left:10px solid #5f7a98;transition:all .3s}.menuprincipal[_ngcontent-pbu-c64]   .acero_activo[_ngcontent-pbu-c64], .menuprincipal[_ngcontent-pbu-c64]   .btn_acero[_ngcontent-pbu-c64]:active, .menuprincipal[_ngcontent-pbu-c64]   .btn_acero[_ngcontent-pbu-c64]:hover{background:#5f7a98;color:#fff;text-decoration:none}.menuprincipal[_ngcontent-pbu-c64]   .acero_activo[_ngcontent-pbu-c64]   .ico_menu[_ngcontent-pbu-c64], .menuprincipal[_ngcontent-pbu-c64]   .btn_acero[_ngcontent-pbu-c64]:active   .ico_menu[_ngcontent-pbu-c64], .menuprincipal[_ngcontent-pbu-c64]   .btn_acero[_ngcontent-pbu-c64]:hover   .ico_menu[_ngcontent-pbu-c64]{fill:#fff}.menuprincipal[_ngcontent-pbu-c64]   .btn_dorado[_ngcontent-pbu-c64]{border-left:10px solid #b38320;transition:all .3s}.menuprincipal[_ngcontent-pbu-c64]   .btn_dorado[_ngcontent-pbu-c64]:active, .menuprincipal[_ngcontent-pbu-c64]   .btn_dorado[_ngcontent-pbu-c64]:hover, .menuprincipal[_ngcontent-pbu-c64]   .dorado_activo[_ngcontent-pbu-c64]{background:#b38320;color:#fff;text-decoration:none}.menuprincipal[_ngcontent-pbu-c64]   .btn_dorado[_ngcontent-pbu-c64]:active   .ico_menu[_ngcontent-pbu-c64], .menuprincipal[_ngcontent-pbu-c64]   .btn_dorado[_ngcontent-pbu-c64]:hover   .ico_menu[_ngcontent-pbu-c64], .menuprincipal[_ngcontent-pbu-c64]   .dorado_activo[_ngcontent-pbu-c64]   .ico_menu[_ngcontent-pbu-c64]{fill:#fff}.menuprincipal[_ngcontent-pbu-c64]   .btn_celeste[_ngcontent-pbu-c64]{border-left:10px solid #3471a6;transition:all .3s}.menuprincipal[_ngcontent-pbu-c64]   .btn_celeste[_ngcontent-pbu-c64]:active, .menuprincipal[_ngcontent-pbu-c64]   .btn_celeste[_ngcontent-pbu-c64]:hover, .menuprincipal[_ngcontent-pbu-c64]   .celeste_activo[_ngcontent-pbu-c64]{background:#3471a6;color:#fff;text-decoration:none}.menuprincipal[_ngcontent-pbu-c64]   .btn_celeste[_ngcontent-pbu-c64]:active   .ico_menu[_ngcontent-pbu-c64], .menuprincipal[_ngcontent-pbu-c64]   .btn_celeste[_ngcontent-pbu-c64]:hover   .ico_menu[_ngcontent-pbu-c64], .menuprincipal[_ngcontent-pbu-c64]   .celeste_activo[_ngcontent-pbu-c64]   .ico_menu[_ngcontent-pbu-c64]{fill:#fff}.menuprincipal[_ngcontent-pbu-c64]   .btn_rojo[_ngcontent-pbu-c64]{transition:all .3s}.menuprincipal[_ngcontent-pbu-c64]   .btn_rojo[_ngcontent-pbu-c64]:active, .menuprincipal[_ngcontent-pbu-c64]   .btn_rojo[_ngcontent-pbu-c64]:hover, .menuprincipal[_ngcontent-pbu-c64]   .rojo_activo[_ngcontent-pbu-c64]{background:#be372e;color:#fff;text-decoration:none}.menuprincipal[_ngcontent-pbu-c64]   .btn_rojo[_ngcontent-pbu-c64]:active   .ico_menu[_ngcontent-pbu-c64], .menuprincipal[_ngcontent-pbu-c64]   .btn_rojo[_ngcontent-pbu-c64]:hover   .ico_menu[_ngcontent-pbu-c64], .menuprincipal[_ngcontent-pbu-c64]   .rojo_activo[_ngcontent-pbu-c64]   .ico_menu[_ngcontent-pbu-c64]{fill:#fff}.tabs_submenu[_ngcontent-pbu-c64]{border-bottom:6px solid #8d9dc3}.nav-item[_ngcontent-pbu-c64], .nav-itemactas[_ngcontent-pbu-c64]{margin-right:3px;margin-bottom:0!important}.nav-tabs[_ngcontent-pbu-c64]   .nav-link[_ngcontent-pbu-c64]{background:#e2e2e2;color:#0f2241}.nav-tabs[_ngcontent-pbu-c64]   .active[_ngcontent-pbu-c64], .nav-tabs[_ngcontent-pbu-c64]   .nav-link[_ngcontent-pbu-c64]:hover{background:#8d9dc3!important;border:1px solid #8d9dc3!important;color:#fff!important}.subtitulo[_ngcontent-pbu-c64]{display:flex;align-items:center;background:#3e679b;color:#fff;min-height:47px;margin-bottom:20px;border-left:14px solid #8aa3c2;padding-left:30px;position:relative}.subtitulo[_ngcontent-pbu-c64]   h2[_ngcontent-pbu-c64]{margin:0;padding:0;font-size:2.125em;font-family:Roboto Condensed,sans-serif}.subtitulo[_ngcontent-pbu-c64]   span[_ngcontent-pbu-c64]{display:block}.subtitulo[_ngcontent-pbu-c64]   .botonera_print[_ngcontent-pbu-c64]{position:absolute;bottom:10px;right:10px}.subtitulo[_ngcontent-pbu-c64]   .btn_print[_ngcontent-pbu-c64]{border:1px solid #fff;color:#fff;margin-left:7px;padding:2px 10px 0}.subtitulo[_ngcontent-pbu-c64]   .btn_print[_ngcontent-pbu-c64]   .icon-excel[_ngcontent-pbu-c64], .subtitulo[_ngcontent-pbu-c64]   .btn_print[_ngcontent-pbu-c64]   .icon-impresora[_ngcontent-pbu-c64], .subtitulo[_ngcontent-pbu-c64]   .btn_print[_ngcontent-pbu-c64]   .icon-pdf[_ngcontent-pbu-c64]{display:inline-block;margin-right:5px}.subtitulo[_ngcontent-pbu-c64]   .btn_print[_ngcontent-pbu-c64]:hover{background:#fff!important;color:#3e679b!important;text-decoration:none}.subtitulo_azul[_ngcontent-pbu-c64]{display:flex;align-items:center;background:#3e679b;color:#fff;margin-bottom:20px;border-left:14px solid #8aa3c2;padding-left:30px;padding-top:10px;padding-bottom:10px;position:relative}.subtitulo_azul[_ngcontent-pbu-c64]   h2[_ngcontent-pbu-c64]{margin:0;padding:0;font-size:2.125em;font-family:Roboto Condensed,sans-serif}.subtitulo_detalle_candidato[_ngcontent-pbu-c64]{display:block;align-items:center;background:#3e679b;color:#fff;margin-bottom:20px;border-left:14px solid #8aa3c2;padding-left:30px;padding-top:10px;padding-bottom:10px;position:relative}.subtitulo_detalle_candidato[_ngcontent-pbu-c64]   h3[_ngcontent-pbu-c64]{margin:0;padding:0;font-size:1.4em;text-align:center;font-family:Roboto Condensed,sans-serif}.centrar_vertical[_ngcontent-pbu-c64]{vertical-align:middle}.lista_resoluciones[_ngcontent-pbu-c64]{color:#0f2241}.lista_resoluciones[_ngcontent-pbu-c64]   ul[_ngcontent-pbu-c64]{list-style:none}.lista_resoluciones[_ngcontent-pbu-c64]   .glyphicon[_ngcontent-pbu-c64]{color:#3e679b;font-size:1.5em;padding-right:.3em}.borde_gris[_ngcontent-pbu-c64]{padding:10px;margin-bottom:20px;border:1px solid #8ea3a6}.input_mesas[_ngcontent-pbu-c64]{width:calc(100% - 130px);border-radius:4px;border:1px solid #cacaca;text-align:center;display:inline-block;height:auto;padding:0 5px}.btn_buscar[_ngcontent-pbu-c64]{background:#03618a;color:#fff!important;display:inline-block;padding:4px 20px;border:none;float:right;margin-top:-2px}.btn_buscar[_ngcontent-pbu-c64]   .icon-buscar[_ngcontent-pbu-c64]{display:inline-block;margin-right:10px}.btn_buscar[_ngcontent-pbu-c64]:hover{background:#0083c3;color:#fff}.btn_detalle[_ngcontent-pbu-c64]{background:#03618a;color:#fff!important;padding:6px 8px 3px;text-align:center}.btn_detalle[_ngcontent-pbu-c64], .btn_detalle[_ngcontent-pbu-c64]   .icon-buscar[_ngcontent-pbu-c64]{display:inline-block}.btn_detalle[_ngcontent-pbu-c64]:hover{background:#0083c3;color:#fff}.btn_regresar[_ngcontent-pbu-c64]{background:#03618a;color:#fff!important;display:inline-block;padding:4px 20px;float:right;margin-bottom:20px}.btn_regresar[_ngcontent-pbu-c64]   .icon-regresar[_ngcontent-pbu-c64]{display:inline-block;margin-right:10px}.btn_regresar[_ngcontent-pbu-c64]:hover{background:#0083c3;color:#fff}.conte_mesas[_ngcontent-pbu-c64]{width:calc(100% + 2px);display:flex;flex-wrap:wrap;margin:-1px -1px 20px;justify-content:flex-start}.conte_mesas[_ngcontent-pbu-c64]   .mesas[_ngcontent-pbu-c64]{width:calc(20% - 2px);border:none;margin:1px;text-align:center;padding-top:8px;padding-bottom:6px}.procesada_con[_ngcontent-pbu-c64]{background:#b6cdf6}.procesada_con[_ngcontent-pbu-c64]   a[_ngcontent-pbu-c64]{color:#104d82}.procesada_sin[_ngcontent-pbu-c64]{background:#c1c1c1}.procesada_sin[_ngcontent-pbu-c64]   a[_ngcontent-pbu-c64]{color:#252525}.sin_procesar[_ngcontent-pbu-c64]{background:#efd2a8}.sin_procesar[_ngcontent-pbu-c64]   a[_ngcontent-pbu-c64]{color:#8a6d3b}.procesada_con[_ngcontent-pbu-c64]:hover, .procesada_sinn[_ngcontent-pbu-c64]:hover, .sin_procesar[_ngcontent-pbu-c64]:hover{text-decoration:underline}.leyenda_mesas[_ngcontent-pbu-c64]{padding:10px;margin-bottom:20px;border:1px solid #8ea3a6}.leyenda_mesas[_ngcontent-pbu-c64]   .icoleyend[_ngcontent-pbu-c64]{width:20px;height:20px;display:inline-block;margin-top:4px}.leyenda_mesas[_ngcontent-pbu-c64]   span[_ngcontent-pbu-c64]{display:inline-block}.centrar[_ngcontent-pbu-c64]{width:100%;height:100%;text-align:center;display:table-cell}.foto_agrupacion[_ngcontent-pbu-c64]{width:50px;height:50px}.foto_agrupacion_titulo[_ngcontent-pbu-c64]{width:100px;height:100px}.conte_paginador[_ngcontent-pbu-c64]{display:inline-block;margin-top:5px;margin-bottom:25px}.pagination[_ngcontent-pbu-c64]{display:inline-block;padding-left:0;margin:-14px 0;border-radius:4px}.pagination[_ngcontent-pbu-c64] > li[_ngcontent-pbu-c64]{display:inline}.pagination[_ngcontent-pbu-c64] > li[_ngcontent-pbu-c64] > a[_ngcontent-pbu-c64], .pagination[_ngcontent-pbu-c64] > li[_ngcontent-pbu-c64] > span[_ngcontent-pbu-c64]{position:relative;float:left;padding:6px 12px;margin-left:-1px;line-height:1.42857143;color:#337ab7;text-decoration:none;background-color:#fff;border:1px solid #ddd}.pagination[_ngcontent-pbu-c64] > li[_ngcontent-pbu-c64]:first-child > a[_ngcontent-pbu-c64], .pagination[_ngcontent-pbu-c64] > li[_ngcontent-pbu-c64]:first-child > span[_ngcontent-pbu-c64]{margin-left:0;border-top-left-radius:4px;border-bottom-left-radius:4px}.pagination[_ngcontent-pbu-c64] > li[_ngcontent-pbu-c64]:last-child > a[_ngcontent-pbu-c64], .pagination[_ngcontent-pbu-c64] > li[_ngcontent-pbu-c64]:last-child > span[_ngcontent-pbu-c64]{border-top-right-radius:4px;border-bottom-right-radius:4px}.pagination[_ngcontent-pbu-c64] > .active[_ngcontent-pbu-c64] > a[_ngcontent-pbu-c64], .pagination[_ngcontent-pbu-c64] > .active[_ngcontent-pbu-c64] > a[_ngcontent-pbu-c64]:focus, .pagination[_ngcontent-pbu-c64] > .active[_ngcontent-pbu-c64] > a[_ngcontent-pbu-c64]:hover, .pagination[_ngcontent-pbu-c64] > .active[_ngcontent-pbu-c64] > span[_ngcontent-pbu-c64], .pagination[_ngcontent-pbu-c64] > .active[_ngcontent-pbu-c64] > span[_ngcontent-pbu-c64]:focus, .pagination[_ngcontent-pbu-c64] > .active[_ngcontent-pbu-c64] > span[_ngcontent-pbu-c64]:hover{z-index:3;color:#fff;cursor:default;background-color:#337ab7;border-color:#337ab7}.mapa[_ngcontent-pbu-c64]{width:100%;background-color:#eee;border:1px solid #8ea3a6;height:450px}.texto_centrado[_ngcontent-pbu-c64]{text-align:center}.tabla_datos[_ngcontent-pbu-c64]{font-family:Roboto Condensed,sans-serif}.tabla_datos[_ngcontent-pbu-c64]   td[_ngcontent-pbu-c64]{vertical-align:middle}.tabla_datos[_ngcontent-pbu-c64]   td[_ngcontent-pbu-c64]   h1[_ngcontent-pbu-c64]{font-size:2.125em}.tabla_datos[_ngcontent-pbu-c64]   td[_ngcontent-pbu-c64]   h1[_ngcontent-pbu-c64], .tabla_datos[_ngcontent-pbu-c64]   td[_ngcontent-pbu-c64]   h2[_ngcontent-pbu-c64]{padding:0;margin:0;line-height:1em}.tabla_datos[_ngcontent-pbu-c64]   td[_ngcontent-pbu-c64]   h3[_ngcontent-pbu-c64]{padding:0;margin:0;font-size:1.125em}.tabla_datos[_ngcontent-pbu-c64]   span[_ngcontent-pbu-c64]{font-size:.875em;display:inline-block;line-height:1em}.tabla_datos[_ngcontent-pbu-c64]   .col_azul[_ngcontent-pbu-c64]{background-color:#366288;color:#fff}.tabla_datos[_ngcontent-pbu-c64]   .glyphicon[_ngcontent-pbu-c64]{color:#afbccb}.tabla_pc[_ngcontent-pbu-c64]{display:block}.tabla_movil[_ngcontent-pbu-c64]{display:none}.borde_acero[_ngcontent-pbu-c64]{border-left:14px solid #afbccb}.cont_selects_ubigeo[_ngcontent-pbu-c64]{background:#e2e2e2;margin-bottom:20px;padding:15px 25px}.cont_selects_ubigeo[_ngcontent-pbu-c64]   .linea_der[_ngcontent-pbu-c64]{border-right:1px solid #959595}.cont_selects_ubigeo[_ngcontent-pbu-c64]   label[_ngcontent-pbu-c64]{margin:0}.cont_selects_ubigeo[_ngcontent-pbu-c64]   .select_ubigeo[_ngcontent-pbu-c64]{width:100%;box-sizing:border-box;border-radius:4px;padding:2px}.conte_bordeazul[_ngcontent-pbu-c64]{border:1px solid #dee2e6;border-left:14px solid #afbccb;margin-bottom:15px}.conte_bordeazul[_ngcontent-pbu-c64]   .conte_selects[_ngcontent-pbu-c64]{padding:15px 30px}.conte_bordeazul[_ngcontent-pbu-c64]   .conte_cabecera[_ngcontent-pbu-c64]{padding:12px 15px;font-family:Roboto Condensed,sans-serif}.conte_bordeazul[_ngcontent-pbu-c64]   .conte_cabecera[_ngcontent-pbu-c64]   h1[_ngcontent-pbu-c64]{padding:0;margin:0;font-size:2.125em;line-height:1em}.conte_bordeazul[_ngcontent-pbu-c64]   .conte_cabecera[_ngcontent-pbu-c64]   h3[_ngcontent-pbu-c64]{padding:0;margin:0;font-size:1.125em}.conte_bordeazul[_ngcontent-pbu-c64]   .glyphicon[_ngcontent-pbu-c64]{color:#afbccb}.conte_bordeazul[_ngcontent-pbu-c64]   label[_ngcontent-pbu-c64]{width:100%;margin:0}.conte_bordeazul[_ngcontent-pbu-c64]   select[_ngcontent-pbu-c64]{width:100%;box-sizing:border-box;border-radius:4px;padding:2px}.conte_bordeazul[_ngcontent-pbu-c64]   span[_ngcontent-pbu-c64]{font-size:.875em}.conte_select_region[_ngcontent-pbu-c64]{width:100%;box-sizing:border-box;border-radius:4px;padding:2px}.graficos_resultados[_ngcontent-pbu-c64]{width:100%;height:310px;border:1px solid #8ea3a6}.graficos_resultados_totales[_ngcontent-pbu-c64]{width:100%;height:358px;border:1px solid #8ea3a6}.graficos_barras_resultados[_ngcontent-pbu-c64]{width:100%;height:335px;border:1px solid #8ea3a6}.graficos_dist_electoral[_ngcontent-pbu-c64]{width:100%;height:900px;border:1px solid #8ea3a6}.graficos_resumen[_ngcontent-pbu-c64]{width:100%;height:648px;border:1px solid #8ea3a6}.graficos_candidatos[_ngcontent-pbu-c64]{width:100%;background:url(bg_candidatos.340f1821c488e4ebf7c9.jpg) no-repeat;background-size:cover;border:1px solid #8ea3a6}.graficos_candidatos[_ngcontent-pbu-c64]   ul[_ngcontent-pbu-c64]{width:100%;height:100%;display:flex;justify-content:center;align-items:center;margin-bottom:10px;margin-top:10px;padding:0 0 0 15px}.graficos_candidatos[_ngcontent-pbu-c64]   ul[_ngcontent-pbu-c64]   li[_ngcontent-pbu-c64]{display:inline-flex;position:relative;max-width:16.66%}.graficos_candidatos[_ngcontent-pbu-c64]   .bg_foto_candidato[_ngcontent-pbu-c64]{width:100%;height:auto;max-width:100%;margin-left:-10px;margin-right:-10px}.graficos_candidatos[_ngcontent-pbu-c64]   .bg_foto_candidato[_ngcontent-pbu-c64]   img[_ngcontent-pbu-c64]{max-width:100%}.graficos_candidatos[_ngcontent-pbu-c64]   .porcetaje_votos[_ngcontent-pbu-c64]{font-family:Roboto,sans-serif;width:100%;padding-right:15%;position:absolute;bottom:-5px;text-align:center;font-size:1.4vw;color:#fff;font-style:italic}.gutters-20[_ngcontent-pbu-c64]{margin-right:-10px;margin-left:-10px}.gutters-20[_ngcontent-pbu-c64] > .col[_ngcontent-pbu-c64], .gutters-20[_ngcontent-pbu-c64] > [class*=col-][_ngcontent-pbu-c64]{padding-right:10px;padding-left:10px}.leyend_crema[_ngcontent-pbu-c64]{display:block;background:#8d9dc3;color:#fff;text-align:center;padding:10px;margin-bottom:20px}.leyend_crema[_ngcontent-pbu-c64]   .formula[_ngcontent-pbu-c64]{display:inline-block;margin-left:10px}.leyend_crema[_ngcontent-pbu-c64]   .formula[_ngcontent-pbu-c64]   hr[_ngcontent-pbu-c64]{border:1px solid #fff;margin:0}.subtitulo_dorado[_ngcontent-pbu-c64]{background:#b38320;color:#fff;margin-top:10px;font-size:1.125em;padding:10px}.centrar_conteleyend[_ngcontent-pbu-c64]{display:inline-block}.centrar_conteleyend[_ngcontent-pbu-c64]   .datos_leyend[_ngcontent-pbu-c64]{display:inline-block;list-style:none;margin:0 0 0 20px;padding:0;color:#fff;font-size:1em;text-align:left}.centrar_conteleyend[_ngcontent-pbu-c64]   .simbolo_leyend[_ngcontent-pbu-c64]{display:inline-block}.leyenda[_ngcontent-pbu-c64]{padding:0;margin:0 0 20px;list-style:none;font-size:1em}.tablas[_ngcontent-pbu-c64], .tablas[_ngcontent-pbu-c64]   th[_ngcontent-pbu-c64]{border:1px solid #cacaca}.tablas[_ngcontent-pbu-c64]   th[_ngcontent-pbu-c64]{background:#374e91;color:#fff;text-align:center;font-weight:400}.tablas[_ngcontent-pbu-c64]   td[_ngcontent-pbu-c64]{border:1px solid #cacaca;padding-top:.5em;padding-bottom:.5em}.tablas[_ngcontent-pbu-c64]   .pad_lef40[_ngcontent-pbu-c64]{padding-left:40px}.tablas[_ngcontent-pbu-c64]   .td_totales[_ngcontent-pbu-c64]   td[_ngcontent-pbu-c64]{background:#fff6c4;color:#5c3500;font-weight:700}.tabla_resultado[_ngcontent-pbu-c64]   th[_ngcontent-pbu-c64]{text-align:center;border:1px solid #cacaca}.tabla_resultado[_ngcontent-pbu-c64]   td[_ngcontent-pbu-c64]{padding-top:.2em;padding-bottom:.2em;border:1px solid #cacaca;vertical-align:middle}.tabla_resultado[_ngcontent-pbu-c64]   .datos_voto[_ngcontent-pbu-c64]   td[_ngcontent-pbu-c64]{padding:.5em}.tabla_resultado[_ngcontent-pbu-c64]   .tabla_fijo[_ngcontent-pbu-c64]{table-layout:fixed}.table-scroll1[_ngcontent-pbu-c64], .table-wrap[_ngcontent-pbu-c64]{width:100%;overflow-x:scroll;overflow-y:hidden}.table-scroll1[_ngcontent-pbu-c64]{height:20px;margin-bottom:10px}.table-scroll[_ngcontent-pbu-c64]{position:relative;max-width:100%;margin:auto;overflow:hidden}.table-wrap[_ngcontent-pbu-c64]{width:100%;overflow:auto;padding-bottom:20px}.table-scroll[_ngcontent-pbu-c64]   table[_ngcontent-pbu-c64]{width:100%;margin:auto;border-spacing:0}.table-scroll[_ngcontent-pbu-c64]   tfoot[_ngcontent-pbu-c64], .table-scroll[_ngcontent-pbu-c64]   thead[_ngcontent-pbu-c64]{background:#f9f9f9}.clone[_ngcontent-pbu-c64]{position:absolute;top:0;left:0;pointer-events:none}.clone[_ngcontent-pbu-c64]   td[_ngcontent-pbu-c64], .clone[_ngcontent-pbu-c64]   th[_ngcontent-pbu-c64]{visibility:hidden;border-color:transparent}.clone[_ngcontent-pbu-c64]   tbody[_ngcontent-pbu-c64]   th[_ngcontent-pbu-c64]{visibility:visible}.clone[_ngcontent-pbu-c64]   .fixed-side[_ngcontent-pbu-c64]{border:1px solid #cacaca;background:#fff;visibility:visible}.clone[_ngcontent-pbu-c64]   tfoot[_ngcontent-pbu-c64], .clone[_ngcontent-pbu-c64]   thead[_ngcontent-pbu-c64]{background:transparent}.clone[_ngcontent-pbu-c64]   tr[_ngcontent-pbu-c64]:nth-of-type(odd)   td[_ngcontent-pbu-c64], .clone[_ngcontent-pbu-c64]   tr[_ngcontent-pbu-c64]:nth-of-type(odd)   th[_ngcontent-pbu-c64]{background-color:#f2f2f2}.titulo_td[_ngcontent-pbu-c64]{padding:.75rem!important}.tabla_participacion[_ngcontent-pbu-c64]   th[_ngcontent-pbu-c64]{text-align:center;border:1px solid #969696;padding-top:1.1em;padding-bottom:1.1em;background:#d1d1d1}.tabla_participacion[_ngcontent-pbu-c64]   .cabeceradorada[_ngcontent-pbu-c64]   th[_ngcontent-pbu-c64]{background:#374e91;border-left:1px solid #fff;border-right:1px solid #fff;color:#fff}.tabla_participacion[_ngcontent-pbu-c64]   td[_ngcontent-pbu-c64]{padding-top:.7em;padding-bottom:.7em;border:1px solid #cacaca;vertical-align:middle}.tabla_participacion[_ngcontent-pbu-c64]   .datos_voto[_ngcontent-pbu-c64]   td[_ngcontent-pbu-c64]{padding:.5em}.datos_participacion[_ngcontent-pbu-c64]   .leyend_crema[_ngcontent-pbu-c64]{padding:17px 10px}.cabecera_dorada[_ngcontent-pbu-c64]{background:#374e91;color:#fff;padding:.75rem;border-left:14px solid #8d9dc3}.img_acta[_ngcontent-pbu-c64]{max-width:100%;height:auto}.top20[_ngcontent-pbu-c64]{margin-top:20px}footer[_ngcontent-pbu-c64]{clear:both;background:#374e91;color:#fff;text-align:center;padding:1.2em 0;font-size:.8em;overflow:hidden;font-family:GillSansMT}footer[_ngcontent-pbu-c64]   .centrar_footer[_ngcontent-pbu-c64]{width:100%;margin:0 auto;display:flex;align-content:center;justify-content:center;align-items:center}footer[_ngcontent-pbu-c64]   .titulo_footer[_ngcontent-pbu-c64]{color:#fff;font-size:1.5em;margin:.2em 0;float:left;padding-right:1em;text-align:right;font-weight:700}footer[_ngcontent-pbu-c64]   .datos_footer[_ngcontent-pbu-c64]{float:right;padding-left:3em;text-align:center}footer[_ngcontent-pbu-c64]   .separador_footer[_ngcontent-pbu-c64]{margin-left:1em;margin-right:1em}footer[_ngcontent-pbu-c64]   .correo[_ngcontent-pbu-c64]{color:#fff}footer[_ngcontent-pbu-c64]   .correo[_ngcontent-pbu-c64]:hover{text-decoration:underline;color:#fff}footer[_ngcontent-pbu-c64]   a[_ngcontent-pbu-c64]{color:#fff;margin-right:.2em}footer[_ngcontent-pbu-c64]   a[_ngcontent-pbu-c64]:hover{color:#677796;text-decoration:none}footer[_ngcontent-pbu-c64]   p[_ngcontent-pbu-c64]{margin:0;padding:0;font-weight:400;font-size:1.2em;text-align:center}footer[_ngcontent-pbu-c64]   .social_medias[_ngcontent-pbu-c64]{color:#fff;font-size:2.5em}.footer_404[_ngcontent-pbu-c64]{width:100%;position:fixed;bottom:0}.p404[_ngcontent-pbu-c64]{margin-top:100px;margin-bottom:200px}.barra_noencontrada1[_ngcontent-pbu-c64]{background:#3471a3;font-size:26px}.barra_noencontrada1[_ngcontent-pbu-c64], .barra_noencontrada2[_ngcontent-pbu-c64]{color:#fff;text-align:center;height:60px;line-height:60px}.barra_noencontrada2[_ngcontent-pbu-c64]{background:#8aa3c2;font-size:50px;font-weight:lighter}.conte_btn_irinicio[_ngcontent-pbu-c64]{text-align:center;border-left:5px solid #3471a3}.btn_irinicio[_ngcontent-pbu-c64]{font-family:Roboto,sans-serif;font-weight:700;background:url(btn_irinicio.5762a127ebd33031b0e2.png) no-repeat;width:296px;height:78px;border:none;color:#fff;box-sizing:border-box;padding-left:80px;font-size:25px;line-height:25px;margin-top:40px}.img_404[_ngcontent-pbu-c64]{width:164px;height:160px}.cont_img_404[_ngcontent-pbu-c64]{width:35%;float:left;text-align:right}.txt_pag404[_ngcontent-pbu-c64]{font-family:Roboto,sans-serif;width:65%;color:#3471a3;font-size:50px;line-height:50px;font-weight:700;float:left;padding-top:60px}.bottom_404[_ngcontent-pbu-c64]{margin-top:20px}.laptop_mantenimiento[_ngcontent-pbu-c64]{width:307px;height:240px}.barra_mantenimiento[_ngcontent-pbu-c64]{width:306px;height:43px;margin-top:4px}.txt_mantenimiento[_ngcontent-pbu-c64]{font-family:Roboto,sans-serif;color:#3471a3;font-size:38px;line-height:38px;text-align:left;font-weight:700;float:left;padding-top:60px}.conte_mantenimiento[_ngcontent-pbu-c64]{text-align:left;border-left:5px solid #3471a3;padding-left:80px;box-sizing:border-box}.centrar_laptop[_ngcontent-pbu-c64]{text-align:center}@media (max-width:1730px){.txt_pag404[_ngcontent-pbu-c64]{font-size:40px;line-height:40px}.img_404[_ngcontent-pbu-c64]{width:140px;height:137px}}@media (max-width:1600px){.btn_irinicio[_ngcontent-pbu-c64]{width:250px;height:66px;background-size:contain;padding-left:60px;font-size:16px;line-height:16px}.txt_pag404[_ngcontent-pbu-c64]{font-size:36px;line-height:36px}.barra_noencontrada1[_ngcontent-pbu-c64]{font-size:22px}}@media (max-width:1200px){.banner_home[_ngcontent-pbu-c64]   h3[_ngcontent-pbu-c64]{font-size:1.6em}.item_menu[_ngcontent-pbu-c64]{flex:0 0 33.333333%;max-width:33.333333%}}@media (max-width:1450px){.menuprincipal[_ngcontent-pbu-c64]   a[_ngcontent-pbu-c64]{font-size:.9em}.menuprincipal[_ngcontent-pbu-c64]   a[_ngcontent-pbu-c64]   .ico_menu[_ngcontent-pbu-c64]{font-size:2.1em}.conte_mantenimiento[_ngcontent-pbu-c64]{border-left:5px solid #3471a3;padding-left:50px}.laptop_mantenimiento[_ngcontent-pbu-c64]{width:231px;height:181px}.barra_mantenimiento[_ngcontent-pbu-c64]{width:231px;height:32px;margin-top:4px}.txt_mantenimiento[_ngcontent-pbu-c64]{font-size:26px;line-height:26px;padding-top:40px}}@media (max-width:1366px){.menuprincipal[_ngcontent-pbu-c64]   a[_ngcontent-pbu-c64]{font-size:.95em}.menuprincipal[_ngcontent-pbu-c64]   a[_ngcontent-pbu-c64]   .ico_menu[_ngcontent-pbu-c64]{font-size:2.2em}.banner_home[_ngcontent-pbu-c64]   h3[_ngcontent-pbu-c64]{font-size:2.1em}.home_iz[_ngcontent-pbu-c64]   .conte_botones[_ngcontent-pbu-c64]   a[_ngcontent-pbu-c64]   .pic[_ngcontent-pbu-c64]{padding-top:127.6%}.banner_erm[_ngcontent-pbu-c64]   .logo_erm2018[_ngcontent-pbu-c64]{margin-top:52.4%}.tabla_datos[_ngcontent-pbu-c64]   td[_ngcontent-pbu-c64]{padding:.4em}.tabla_datos[_ngcontent-pbu-c64]   td[_ngcontent-pbu-c64]   h2[_ngcontent-pbu-c64]{font-size:1.9em}.txt_pag404[_ngcontent-pbu-c64]{font-size:35px;line-height:35px;padding-top:48px}.img_404[_ngcontent-pbu-c64]{width:117px;height:114px}.btn_irinicio[_ngcontent-pbu-c64]{width:210px;height:55px;background-size:contain;padding-left:55px;font-size:16px;line-height:16px}.barra_noencontrada1[_ngcontent-pbu-c64]{font-size:18px}.conte_mantenimiento[_ngcontent-pbu-c64]{border-left:5px solid #3471a3;padding-left:40px}.laptop_mantenimiento[_ngcontent-pbu-c64]{width:219px;height:171px}.barra_mantenimiento[_ngcontent-pbu-c64]{width:218px;height:30px;margin-top:4px}.txt_mantenimiento[_ngcontent-pbu-c64]{font-size:27px;line-height:27px;padding-top:40px}}@media (max-width:1130px){body[_ngcontent-pbu-c64]{font-size:14px}header[_ngcontent-pbu-c64]   h1[_ngcontent-pbu-c64]{font-size:1.2em}header[_ngcontent-pbu-c64]   h2[_ngcontent-pbu-c64]{font-size:1.6em}.menuprincipal[_ngcontent-pbu-c64]   a[_ngcontent-pbu-c64]{padding-left:10px;padding-right:10px;font-size:1em;min-height:70px;line-height:68px}.menuprincipal[_ngcontent-pbu-c64]   a[_ngcontent-pbu-c64]   .ico_menu[_ngcontent-pbu-c64]{font-size:2em}.logo_onpe[_ngcontent-pbu-c64]   img[_ngcontent-pbu-c64]{width:120px;height:auto}.logo_eleccion[_ngcontent-pbu-c64]   img[_ngcontent-pbu-c64]{width:207px;height:auto}.subtitulo[_ngcontent-pbu-c64]{min-height:110px;font-size:.84em}.tabla_pc[_ngcontent-pbu-c64]{display:none}.tabla_movil[_ngcontent-pbu-c64]{display:block}}@media screen and (min-width:993px) and (max-width:1050px){.tablas[_ngcontent-pbu-c64]   th[_ngcontent-pbu-c64]{line-height:1em;padding-left:.5em;padding-right:.5em}.tablas[_ngcontent-pbu-c64]   td[_ngcontent-pbu-c64], .tablas[_ngcontent-pbu-c64]   th[_ngcontent-pbu-c64]{font-size:1em}.tabla_datos[_ngcontent-pbu-c64]   td[_ngcontent-pbu-c64]{padding:.4em}.tabla_datos[_ngcontent-pbu-c64]   td[_ngcontent-pbu-c64]   h2[_ngcontent-pbu-c64]{font-size:1.6em}.home_iz[_ngcontent-pbu-c64]   .conte_botones[_ngcontent-pbu-c64]   a[_ngcontent-pbu-c64]   .pic[_ngcontent-pbu-c64]{padding-top:115.4%}}@media (max-width:992px){header[_ngcontent-pbu-c64]   h1[_ngcontent-pbu-c64]{font-size:.96em}header[_ngcontent-pbu-c64]   h2[_ngcontent-pbu-c64]{font-size:1.28em}.banner_home[_ngcontent-pbu-c64]   h3[_ngcontent-pbu-c64]{font-size:1.6em}.graficos_candidatos[_ngcontent-pbu-c64]{margin-bottom:20px}.graficos_candidatos[_ngcontent-pbu-c64]   .porcetaje_votos[_ngcontent-pbu-c64]{font-size:2.2vw}.item_menu[_ngcontent-pbu-c64]{flex:0 0 50%;max-width:50%}.pie_municipales[_ngcontent-pbu-c64], .pie_regionales[_ngcontent-pbu-c64]{order:1;margin-bottom:20px}.barras_municipales[_ngcontent-pbu-c64], .barras_regionales[_ngcontent-pbu-c64]{order:2}.graficos_barras_resultados[_ngcontent-pbu-c64], .graficos_resultados[_ngcontent-pbu-c64], .graficos_resultados_totales[_ngcontent-pbu-c64]{margin-bottom:20px}.menuprincipal[_ngcontent-pbu-c64]   a[_ngcontent-pbu-c64]{margin-bottom:10px}.btn_buscar[_ngcontent-pbu-c64]{margin-bottom:20px}.tabs_submenu[_ngcontent-pbu-c64]{display:flex}.tabs_submenu[_ngcontent-pbu-c64]   li[_ngcontent-pbu-c64]{width:50%;margin-right:0}.nav-tabs[_ngcontent-pbu-c64]   .nav-item[_ngcontent-pbu-c64]{padding-left:5px;padding-right:5px}.nav-tabs[_ngcontent-pbu-c64]   .nav-item[_ngcontent-pbu-c64]   .nav-link[_ngcontent-pbu-c64]{width:100%;border-radius:5px;background:none;border:1px solid #b38320;margin-bottom:10px}.footer_404[_ngcontent-pbu-c64]   p[_ngcontent-pbu-c64]{padding:0;margin:0;display:inline-block}.footer_404[_ngcontent-pbu-c64]   span[_ngcontent-pbu-c64]{margin:4px 0;width:100%}}@media (max-width:768px){.col-40[_ngcontent-pbu-c64], .col-60[_ngcontent-pbu-c64]{width:100%}.tabla_resumen_pc[_ngcontent-pbu-c64]{display:none}.tabla_resumen_movil[_ngcontent-pbu-c64]{display:block}.menuprincipal[_ngcontent-pbu-c64]   .icono_togglemenu[_ngcontent-pbu-c64]{display:block;width:100%}.logo_onpe[_ngcontent-pbu-c64]   img[_ngcontent-pbu-c64]{width:90px;height:auto}.logo_eleccion[_ngcontent-pbu-c64]   img[_ngcontent-pbu-c64]{width:156px;height:auto}header[_ngcontent-pbu-c64]   h1[_ngcontent-pbu-c64]{font-size:.75em}header[_ngcontent-pbu-c64]   h2[_ngcontent-pbu-c64]{font-size:1em}.subtitulo[_ngcontent-pbu-c64]{padding-bottom:60px}.subtitulo[_ngcontent-pbu-c64]   h2[_ngcontent-pbu-c64]{margin-bottom:10px}.subtitulo[_ngcontent-pbu-c64]   .botonera_print[_ngcontent-pbu-c64]{margin-top:10px}.subtitulo[_ngcontent-pbu-c64]   .btn_print[_ngcontent-pbu-c64]{display:inline-block;margin-top:5px}.tabs_submenu[_ngcontent-pbu-c64]   li[_ngcontent-pbu-c64]{width:100%}.conte_btn_irinicio[_ngcontent-pbu-c64], .conte_mantenimiento[_ngcontent-pbu-c64]{border-left:none}.barra_mantenimiento[_ngcontent-pbu-c64]{width:60%;height:auto;margin-left:20%;margin-top:4px}.txt_mantenimiento[_ngcontent-pbu-c64]{font-size:27px;line-height:27px;padding-left:20%;padding-top:40px}footer[_ngcontent-pbu-c64]   .centrar_footer[_ngcontent-pbu-c64]{width:90%;display:block}footer[_ngcontent-pbu-c64]   .titulo_footer[_ngcontent-pbu-c64]{width:100%;text-align:center}footer[_ngcontent-pbu-c64]   .datos_footer[_ngcontent-pbu-c64]{width:100%}}@media (min-width:769px){.menuprincipal[_ngcontent-pbu-c64]   #navbarToggleExternalContent[_ngcontent-pbu-c64]{display:block}}@media (max-width:576px){header[_ngcontent-pbu-c64]   h1[_ngcontent-pbu-c64]{font-size:1.5em}footer[_ngcontent-pbu-c64]   .titulo_footer[_ngcontent-pbu-c64]{font-size:1em}.subtitulo[_ngcontent-pbu-c64]{padding-top:20px;padding-left:20px;padding-bottom:60px}.banner_home[_ngcontent-pbu-c64]{text-align:center}.banner_home[_ngcontent-pbu-c64]   .logo_home[_ngcontent-pbu-c64]{width:100%;margin-left:0}.banner_home[_ngcontent-pbu-c64]   h3[_ngcontent-pbu-c64]{width:100%;position:relative;margin-top:20px}.banner_erm[_ngcontent-pbu-c64]   .logo_erm2018[_ngcontent-pbu-c64]{width:70%;margin-top:25%}.logo_onpe[_ngcontent-pbu-c64]{float:none;margin:0 auto;padding-bottom:20px}.logo_onpe[_ngcontent-pbu-c64]   img[_ngcontent-pbu-c64]{width:45%;margin-top:.5em}.banner_homeeg2021[_ngcontent-pbu-c64]   .conte_btns_home_banner[_ngcontent-pbu-c64]{width:50%;position:absolute;left:30%;bottom:8%;font-size:.8em}.banner_homeeg2021[_ngcontent-pbu-c64]   .conte_btns_home_banner[_ngcontent-pbu-c64]   a[_ngcontent-pbu-c64]   .btn_informativa[_ngcontent-pbu-c64]{padding-left:15px}.logo_eleccion[_ngcontent-pbu-c64]{float:none;margin:20px auto 10px}.logo_eleccion[_ngcontent-pbu-c64]   img[_ngcontent-pbu-c64]{width:100%}.barra_noencontrada1[_ngcontent-pbu-c64]{height:auto;line-height:1em;padding-top:10px;padding-bottom:10px}.item_menu[_ngcontent-pbu-c64]{flex:0 0 100%;max-width:100%}}@media (max-width:380px){header[_ngcontent-pbu-c64]   div[_ngcontent-pbu-c64]{margin:0;padding:0}header[_ngcontent-pbu-c64]   .logo_eleccion[_ngcontent-pbu-c64]{width:100%;margin-bottom:20px}header[_ngcontent-pbu-c64]   .logo_onpe[_ngcontent-pbu-c64]{margin-bottom:20px}.banner_erm[_ngcontent-pbu-c64]{width:100%}.home_iz[_ngcontent-pbu-c64]   .conte_botones[_ngcontent-pbu-c64]{width:calc(100% - 40px);margin-right:20px}}</style><meta http-equiv=\"origin-trial\" content=\"AymqwRC7u88Y4JPvfIF2F37QKylC04248hLCdJAsh8xgOfe/dVJPV3XS3wLFca1ZMVOtnBfVjaCMTVudWM//5g4AAAB7eyJvcmlnaW4iOiJodHRwczovL3d3dy5nb29nbGV0YWdtYW5hZ2VyLmNvbTo0NDMiLCJmZWF0dXJlIjoiUHJpdmFjeVNhbmRib3hBZHNBUElzIiwiZXhwaXJ5IjoxNjk1MTY3OTk5LCJpc1RoaXJkUGFydHkiOnRydWV9\"></head>\\n<body> \\n  <onpe-root ng-version=\"11.0.9\"><router-outlet></router-outlet><onpe-home-onpe _nghost-pbu-c64=\"\"><header _ngcontent-pbu-c64=\"\"><div _ngcontent-pbu-c64=\"\" class=\"container-fluid\"><div _ngcontent-pbu-c64=\"\" class=\"row no-gutters\"><div _ngcontent-pbu-c64=\"\" class=\"col-sm-3 d-flex\"><div _ngcontent-pbu-c64=\"\" class=\"logo_eleccion\"><a _ngcontent-pbu-c64=\"\" routerlink=\"/Home\" href=\"/EG2021/Home\"><img _ngcontent-pbu-c64=\"\" src=\"./assets/imagenes/logo_eg2021.svg\" alt=\"\" class=\"logo_eg2021\"></a></div></div><div _ngcontent-pbu-c64=\"\" class=\"col-sm-6 align-self-center\"><h2 _ngcontent-pbu-c64=\"\">PRESENTACIÓN DE RESULTADOS</h2><h1 _ngcontent-pbu-c64=\"\">ELECCIONES GENERALES Y PARLAMENTO ANDINO 2021</h1></div><div _ngcontent-pbu-c64=\"\" class=\"col-sm-3 align-self-center\"><div _ngcontent-pbu-c64=\"\" class=\"logo_onpe\"><a _ngcontent-pbu-c64=\"\" href=\"https://www.onpe.gob.pe/\"><img _ngcontent-pbu-c64=\"\" src=\"./assets/imagenes/logo_onpe_blanco.svg\" alt=\"ONPE\" class=\"d-print-none\"><img _ngcontent-pbu-c64=\"\" src=\"./assets/imagenes/logo_onpe_imprimir.svg\" alt=\"ONPE\" class=\"d-none d-print-block\"></a></div></div></div></div></header><div _ngcontent-pbu-c64=\"\" class=\"bg_home\"><div _ngcontent-pbu-c64=\"\" class=\"container-fluid\"><div _ngcontent-pbu-c64=\"\" class=\"row justify-content-md-center\"><div _ngcontent-pbu-c64=\"\" class=\"col col-lg-8\"><div _ngcontent-pbu-c64=\"\" class=\"banner_homeeg2021\"><img _ngcontent-pbu-c64=\"\" src=\"./assets/imagenes/banner_eg2021.jpg\" alt=\"\" class=\"bg_bannereg2021\"><div _ngcontent-pbu-c64=\"\" class=\"conte_btns_home_banner\"><a _ngcontent-pbu-c64=\"\" href=\"https://www.onpe.gob.pe/modElecciones/elecciones/2021/EEGG/\" target=\"_blank\"><div _ngcontent-pbu-c64=\"\" class=\"btn_informativa btn01\"><span _ngcontent-pbu-c64=\"\" aria-hidden=\"true\" class=\"glyphicon glyphicon-chevron-right flechita_botones\"></span> Web Informativa EG2021</div></a></div></div><div _ngcontent-pbu-c64=\"\" class=\"row\"><div _ngcontent-pbu-c64=\"\" class=\"col-lg-4\"><div _ngcontent-pbu-c64=\"\" class=\"conte_botones\"><div _ngcontent-pbu-c64=\"\" class=\"pull-left pd02 ancho-ie\"><a _ngcontent-pbu-c64=\"\"><div _ngcontent-pbu-c64=\"\" class=\"pic\"><img _ngcontent-pbu-c64=\"\" src=\"./assets/imagenes/resumen_general.jpg\"></div><div _ngcontent-pbu-c64=\"\" class=\"btn_home btn01\"><div _ngcontent-pbu-c64=\"\"><span _ngcontent-pbu-c64=\"\" aria-hidden=\"true\" class=\"glyphicon glyphicon-chevron-right flechita_botones\"></span> Resumen General</div></div></a></div></div></div><div _ngcontent-pbu-c64=\"\" class=\"col-lg-4\"><div _ngcontent-pbu-c64=\"\" class=\"conte_botones\"><div _ngcontent-pbu-c64=\"\" class=\"pull-left pd02 ancho-ie\"><a _ngcontent-pbu-c64=\"\"><div _ngcontent-pbu-c64=\"\" class=\"pic\"><img _ngcontent-pbu-c64=\"\" src=\"./assets/imagenes/presidencial.jpg\"></div><div _ngcontent-pbu-c64=\"\" class=\"btn_home btn02\"><span _ngcontent-pbu-c64=\"\" aria-hidden=\"true\" class=\"glyphicon glyphicon-chevron-right flechita_botones\"></span> Elecciones Presidenciales </div></a></div></div></div><div _ngcontent-pbu-c64=\"\" class=\"col-lg-4\"><div _ngcontent-pbu-c64=\"\" class=\"conte_botones\"><div _ngcontent-pbu-c64=\"\" class=\"pull-left pd02 ancho-ie\"><a _ngcontent-pbu-c64=\"\"><div _ngcontent-pbu-c64=\"\" class=\"pic\"><img _ngcontent-pbu-c64=\"\" src=\"./assets/imagenes/congresales.jpg\"></div><div _ngcontent-pbu-c64=\"\" class=\"btn_home btn03\"><span _ngcontent-pbu-c64=\"\" aria-hidden=\"true\" class=\"glyphicon glyphicon-chevron-right flechita_botones\"></span> Elecciones Congresales </div></a></div></div></div><div _ngcontent-pbu-c64=\"\" class=\"col-lg-4\"><div _ngcontent-pbu-c64=\"\" class=\"conte_botones\"><div _ngcontent-pbu-c64=\"\" class=\"pull-left pd02 ancho-ie\"><a _ngcontent-pbu-c64=\"\"><div _ngcontent-pbu-c64=\"\" class=\"pic\"><img _ngcontent-pbu-c64=\"\" src=\"./assets/imagenes/parlamento_andino.jpg\"></div><div _ngcontent-pbu-c64=\"\" class=\"btn_home btn04\"><span _ngcontent-pbu-c64=\"\" aria-hidden=\"true\" class=\"glyphicon glyphicon-chevron-right flechita_botones\"></span> Elecciones Parlamento Andino </div></a></div></div></div><div _ngcontent-pbu-c64=\"\" class=\"col-lg-4\"><div _ngcontent-pbu-c64=\"\" class=\"conte_botones\"><div _ngcontent-pbu-c64=\"\" class=\"pull-left pd02 ancho-ie\"><a _ngcontent-pbu-c64=\"\"><div _ngcontent-pbu-c64=\"\" class=\"pic\"><img _ngcontent-pbu-c64=\"\" src=\"./assets/imagenes/actas.jpg\"></div><div _ngcontent-pbu-c64=\"\" class=\"btn_home btn05\"><span _ngcontent-pbu-c64=\"\" aria-hidden=\"true\" class=\"glyphicon glyphicon-chevron-right flechita_botones\"></span> Actas </div></a></div></div></div><div _ngcontent-pbu-c64=\"\" class=\"col-lg-4\"><div _ngcontent-pbu-c64=\"\" class=\"conte_botones\"><div _ngcontent-pbu-c64=\"\" class=\"pull-left pd02 ancho-ie\"><a _ngcontent-pbu-c64=\"\"><div _ngcontent-pbu-c64=\"\" class=\"pic\"><img _ngcontent-pbu-c64=\"\" src=\"./assets/imagenes/participacion.jpg\"></div><div _ngcontent-pbu-c64=\"\" class=\"btn_home btn06\"><span _ngcontent-pbu-c64=\"\" aria-hidden=\"true\" class=\"glyphicon glyphicon-chevron-right flechita_botones\"></span> Participación Ciudadana </div></a></div></div></div></div></div></div></div></div><div _ngcontent-pbu-c64=\"\" id=\"candidatoModalLong\" tabindex=\"-1\" role=\"dialog\" aria-labelledby=\"exampleModalLongTitle\" aria-hidden=\"true\" class=\"modal fade\"><div _ngcontent-pbu-c64=\"\" role=\"document\" class=\"modal-dialog modal-lg\"><div _ngcontent-pbu-c64=\"\" class=\"modal-content\"></div></div></div><footer _ngcontent-pbu-c64=\"\"><div _ngcontent-pbu-c64=\"\" class=\"centrar_footer\"><div _ngcontent-pbu-c64=\"\" class=\"titulo_footer\"><p _ngcontent-pbu-c64=\"\">Fono ONPE (01) 417-0630 <span _ngcontent-pbu-c64=\"\" class=\"separador_footer\">|</span><a _ngcontent-pbu-c64=\"\" href=\"mailto:informes@onpe.gob.pe\">informes@onpe.gob.pe</a><span _ngcontent-pbu-c64=\"\" class=\"separador_footer\">|</span> Jr. Washington 1894, Cercado de Lima </p></div><div _ngcontent-pbu-c64=\"\" class=\"datos_footer\"><a _ngcontent-pbu-c64=\"\" href=\"https://www.facebook.com/ONPEoficial?fref=ts\" target=\"_blank\"><img _ngcontent-pbu-c64=\"\" src=\"./assets/imagenes/logo_facebook.png\" alt=\"facebook\" class=\"ico_footer\"></a><a _ngcontent-pbu-c64=\"\" href=\"https://twitter.com/ONPE_oficial\" target=\"_blank\"><img _ngcontent-pbu-c64=\"\" src=\"./assets/imagenes/logo_twitter.png\" alt=\"twitter\" class=\"ico_footer\"></a><a _ngcontent-pbu-c64=\"\" href=\"https://www.youtube.com/user/onpeprensa/featured\" target=\"_blank\"><img _ngcontent-pbu-c64=\"\" src=\"./assets/imagenes/logo_youtube.png\" alt=\"youtube\" class=\"ico_footer\"></a><a _ngcontent-pbu-c64=\"\" href=\"https://www.instagram.com/onpe_oficial/?hl=es-la\" target=\"_blank\"><img _ngcontent-pbu-c64=\"\" src=\"./assets/imagenes/logo_instagram.png\" alt=\"instagram\" class=\"ico_footer\"></a><a _ngcontent-pbu-c64=\"\" href=\"https://www.flickr.com/photos/onpeprensa/\" target=\"_blank\"><img _ngcontent-pbu-c64=\"\" src=\"./assets/imagenes/logo_flickr.png\" alt=\"flickr\" class=\"ico_footer\"></a></div></div></footer></onpe-home-onpe><!----></onpe-root>\\n<script src=\"runtime-es2015.ab9953ec2e465abae7bb.js\" type=\"module\"></script><script src=\"runtime-es5.ab9953ec2e465abae7bb.js\" nomodule=\"\" defer=\"\"></script><script src=\"polyfills-es5.57927b3b209714c5472b.js\" nomodule=\"\" defer=\"\"></script><script src=\"polyfills-es2015.52509035a41bfa93766e.js\" type=\"module\"></script><script src=\"scripts.70faf5a86a90ac363714.js\" defer=\"\"></script><script src=\"main-es2015.a63fb5fd5e0b78be7c8f.js\" type=\"module\"></script><script src=\"main-es5.a63fb5fd5e0b78be7c8f.js\" nomodule=\"\" defer=\"\"></script>\\n<script>\\n    window.NREUM||(NREUM={}),__nr_require=function(t,e,n){function r(n){if(!e[n]){var o=e[n]={exports:{}};t[n][0].call(o.exports,function(e){var o=t[n][1][e];return r(o||e)},o,o.exports)}return e[n].exports}if(\"function\"==typeof __nr_require)return __nr_require;for(var o=0;o<n.length;o++)r(n[o]);return r}({1:[function(t,e,n){function r(t){try{s.console&&console.log(t)}catch(e){}}var o,i=t(\"ee\"),a=t(24),s={};try{o=localStorage.getItem(\"__nr_flags\").split(\",\"),console&&\"function\"==typeof console.log&&(s.console=!0,o.indexOf(\"dev\")!==-1&&(s.dev=!0),o.indexOf(\"nr_dev\")!==-1&&(s.nrDev=!0))}catch(c){}s.nrDev&&i.on(\"internal-error\",function(t){r(t.stack)}),s.dev&&i.on(\"fn-err\",function(t,e,n){r(n.stack)}),s.dev&&(r(\"NR AGENT IN DEVELOPMENT MODE\"),r(\"flags: \"+a(s,function(t,e){return t}).join(\", \")))},{}],2:[function(t,e,n){function r(t,e,n,r,s){try{l?l-=1:o(s||new UncaughtException(t,e,n),!0)}catch(f){try{i(\"ierr\",[f,c.now(),!0])}catch(d){}}return\"function\"==typeof u&&u.apply(this,a(arguments))}function UncaughtException(t,e,n){this.message=t||\"Uncaught error with no additional information\",this.sourceURL=e,this.line=n}function o(t,e){var n=e?null:c.now();i(\"err\",[t,n])}var i=t(\"handle\"),a=t(25),s=t(\"ee\"),c=t(\"loader\"),f=t(\"gos\"),u=window.onerror,d=!1,p=\"nr@seenError\",l=0;c.features.err=!0,t(1),window.onerror=r;try{throw new Error}catch(h){\"stack\"in h&&(t(13),t(12),\"addEventListener\"in window&&t(6),c.xhrWrappable&&t(14),d=!0)}s.on(\"fn-start\",function(t,e,n){d&&(l+=1)}),s.on(\"fn-err\",function(t,e,n){d&&!n[p]&&(f(n,p,function(){return!0}),this.thrown=!0,o(n))}),s.on(\"fn-end\",function(){d&&!this.thrown&&l>0&&(l-=1)}),s.on(\"internal-error\",function(t){i(\"ierr\",[t,c.now(),!0])})},{}],3:[function(t,e,n){t(\"loader\").features.ins=!0},{}],4:[function(t,e,n){function r(){L++,C=g.hash,this[u]=y.now()}function o(){L--,g.hash!==C&&i(0,!0);var t=y.now();this[h]=~~this[h]+t-this[u],this[d]=t}function i(t,e){E.emit(\"newURL\",[\"\"+g,e])}function a(t,e){t.on(e,function(){this[e]=y.now()})}var s=\"-start\",c=\"-end\",f=\"-body\",u=\"fn\"+s,d=\"fn\"+c,p=\"cb\"+s,l=\"cb\"+c,h=\"jsTime\",m=\"fetch\",v=\"addEventListener\",w=window,g=w.location,y=t(\"loader\");if(w[v]&&y.xhrWrappable){var x=t(10),b=t(11),E=t(8),O=t(6),R=t(13),P=t(7),N=t(14),T=t(9),M=t(\"ee\"),S=M.get(\"tracer\");t(16),y.features.spa=!0;var C,L=0;M.on(u,r),M.on(p,r),M.on(d,o),M.on(l,o),M.buffer([u,d,\"xhr-done\",\"xhr-resolved\"]),O.buffer([u]),R.buffer([\"setTimeout\"+c,\"clearTimeout\"+s,u]),N.buffer([u,\"new-xhr\",\"send-xhr\"+s]),P.buffer([m+s,m+\"-done\",m+f+s,m+f+c]),E.buffer([\"newURL\"]),x.buffer([u]),b.buffer([\"propagate\",p,l,\"executor-err\",\"resolve\"+s]),S.buffer([u,\"no-\"+u]),T.buffer([\"new-jsonp\",\"cb-start\",\"jsonp-error\",\"jsonp-end\"]),a(N,\"send-xhr\"+s),a(M,\"xhr-resolved\"),a(M,\"xhr-done\"),a(P,m+s),a(P,m+\"-done\"),a(T,\"new-jsonp\"),a(T,\"jsonp-end\"),a(T,\"cb-start\"),E.on(\"pushState-end\",i),E.on(\"replaceState-end\",i),w[v](\"hashchange\",i,!0),w[v](\"load\",i,!0),w[v](\"popstate\",function(){i(0,L>1)},!0)}},{}],5:[function(t,e,n){function r(t){}if(window.performance&&window.performance.timing&&window.performance.getEntriesByType){var o=t(\"ee\"),i=t(\"handle\"),a=t(13),s=t(12),c=\"learResourceTimings\",f=\"addEventListener\",u=\"resourcetimingbufferfull\",d=\"bstResource\",p=\"resource\",l=\"-start\",h=\"-end\",m=\"fn\"+l,v=\"fn\"+h,w=\"bstTimer\",g=\"pushState\",y=t(\"loader\");y.features.stn=!0,t(8),\"addEventListener\"in window&&t(6);var x=NREUM.o.EV;o.on(m,function(t,e){var n=t[0];n instanceof x&&(this.bstStart=y.now())}),o.on(v,function(t,e){var n=t[0];n instanceof x&&i(\"bst\",[n,e,this.bstStart,y.now()])}),a.on(m,function(t,e,n){this.bstStart=y.now(),this.bstType=n}),a.on(v,function(t,e){i(w,[e,this.bstStart,y.now(),this.bstType])}),s.on(m,function(){this.bstStart=y.now()}),s.on(v,function(t,e){i(w,[e,this.bstStart,y.now(),\"requestAnimationFrame\"])}),o.on(g+l,function(t){this.time=y.now(),this.startPath=location.pathname+location.hash}),o.on(g+h,function(t){i(\"bstHist\",[location.pathname+location.hash,this.startPath,this.time])}),f in window.performance&&(window.performance[\"c\"+c]?window.performance[f](u,function(t){i(d,[window.performance.getEntriesByType(p)]),window.performance[\"c\"+c]()},!1):window.performance[f](\"webkit\"+u,function(t){i(d,[window.performance.getEntriesByType(p)]),window.performance[\"webkitC\"+c]()},!1)),document[f](\"scroll\",r,{passive:!0}),document[f](\"keypress\",r,!1),document[f](\"click\",r,!1)}},{}],6:[function(t,e,n){function r(t){for(var e=t;e&&!e.hasOwnProperty(u);)e=Object.getPrototypeOf(e);e&&o(e)}function o(t){s.inPlace(t,[u,d],\"-\",i)}function i(t,e){return t[1]}var a=t(\"ee\").get(\"events\"),s=t(\"wrap-function\")(a,!0),c=t(\"gos\"),f=XMLHttpRequest,u=\"addEventListener\",d=\"removeEventListener\";e.exports=a,\"getPrototypeOf\"in Object?(r(document),r(window),r(f.prototype)):f.prototype.hasOwnProperty(u)&&(o(window),o(f.prototype)),a.on(u+\"-start\",function(t,e){var n=t[1],r=c(n,\"nr@wrapped\",function(){function t(){if(\"function\"==typeof n.handleEvent)return n.handleEvent.apply(n,arguments)}var e={object:t,\"function\":n}[typeof n];return e?s(e,\"fn-\",null,e.name||\"anonymous\"):n});this.wrapped=t[1]=r}),a.on(d+\"-start\",function(t){t[1]=this.wrapped||t[1]})},{}],7:[function(t,e,n){function r(t,e,n){var r=t[e];\"function\"==typeof r&&(t[e]=function(){var t=i(arguments),e={};o.emit(n+\"before-start\",[t],e);var a;e[m]&&e[m].dt&&(a=e[m].dt);var s=r.apply(this,t);return o.emit(n+\"start\",[t,a],s),s.then(function(t){return o.emit(n+\"end\",[null,t],s),t},function(t){throw o.emit(n+\"end\",[t],s),t})})}var o=t(\"ee\").get(\"fetch\"),i=t(25),a=t(24);e.exports=o;var s=window,c=\"fetch-\",f=c+\"body-\",u=[\"arrayBuffer\",\"blob\",\"json\",\"text\",\"formData\"],d=s.Request,p=s.Response,l=s.fetch,h=\"prototype\",m=\"nr@context\";d&&p&&l&&(a(u,function(t,e){r(d[h],e,f),r(p[h],e,f)}),r(s,\"fetch\",c),o.on(c+\"end\",function(t,e){var n=this;if(e){var r=e.headers.get(\"content-length\");null!==r&&(n.rxSize=r),o.emit(c+\"done\",[null,e],n)}else o.emit(c+\"done\",[t],n)}))},{}],8:[function(t,e,n){var r=t(\"ee\").get(\"history\"),o=t(\"wrap-function\")(r);e.exports=r;var i=window.history&&window.history.constructor&&window.history.constructor.prototype,a=window.history;i&&i.pushState&&i.replaceState&&(a=i),o.inPlace(a,[\"pushState\",\"replaceState\"],\"-\")},{}],9:[function(t,e,n){function r(t){function e(){c.emit(\"jsonp-end\",[],p),t.removeEventListener(\"load\",e,!1),t.removeEventListener(\"error\",n,!1)}function n(){c.emit(\"jsonp-error\",[],p),c.emit(\"jsonp-end\",[],p),t.removeEventListener(\"load\",e,!1),t.removeEventListener(\"error\",n,!1)}var r=t&&\"string\"==typeof t.nodeName&&\"script\"===t.nodeName.toLowerCase();if(r){var o=\"function\"==typeof t.addEventListener;if(o){var a=i(t.src);if(a){var u=s(a),d=\"function\"==typeof u.parent[u.key];if(d){var p={};f.inPlace(u.parent,[u.key],\"cb-\",p),t.addEventListener(\"load\",e,!1),t.addEventListener(\"error\",n,!1),c.emit(\"new-jsonp\",[t.src],p)}}}}}function o(){return\"addEventListener\"in window}function i(t){var e=t.match(u);return e?e[1]:null}function a(t,e){var n=t.match(p),r=n[1],o=n[3];return o?a(o,e[r]):e[r]}function s(t){var e=t.match(d);return e&&e.length>=3?{key:e[2],parent:a(e[1],window)}:{key:t,parent:window}}var c=t(\"ee\").get(\"jsonp\"),f=t(\"wrap-function\")(c);if(e.exports=c,o()){var u=/[?&](?:callback|cb)=([^&#]+)/,d=/(.*)\\\\.([^.]+)/,p=/^(\\\\w+)(\\\\.|$)(.*)$/,l=[\"appendChild\",\"insertBefore\",\"replaceChild\"];Node&&Node.prototype&&Node.prototype.appendChild?f.inPlace(Node.prototype,l,\"dom-\"):(f.inPlace(HTMLElement.prototype,l,\"dom-\"),f.inPlace(HTMLHeadElement.prototype,l,\"dom-\"),f.inPlace(HTMLBodyElement.prototype,l,\"dom-\")),c.on(\"dom-start\",function(t){r(t[0])})}},{}],10:[function(t,e,n){var r=t(\"ee\").get(\"mutation\"),o=t(\"wrap-function\")(r),i=NREUM.o.MO;e.exports=r,i&&(window.MutationObserver=function(t){return this instanceof i?new i(o(t,\"fn-\")):i.apply(this,arguments)},MutationObserver.prototype=i.prototype)},{}],11:[function(t,e,n){function r(t){var e=a.context(),n=s(t,\"executor-\",e),r=new f(n);return a.context(r).getCtx=function(){return e},a.emit(\"new-promise\",[r,e],e),r}function o(t,e){return e}var i=t(\"wrap-function\"),a=t(\"ee\").get(\"promise\"),s=i(a),c=t(24),f=NREUM.o.PR;e.exports=a,f&&(window.Promise=r,[\"all\",\"race\"].forEach(function(t){var e=f[t];f[t]=function(n){function r(t){return function(){a.emit(\"propagate\",[null,!o],i),o=o||!t}}var o=!1;c(n,function(e,n){Promise.resolve(n).then(r(\"all\"===t),r(!1))});var i=e.apply(f,arguments),s=f.resolve(i);return s}}),[\"resolve\",\"reject\"].forEach(function(t){var e=f[t];f[t]=function(t){var n=e.apply(f,arguments);return t!==n&&a.emit(\"propagate\",[t,!0],n),n}}),f.prototype[\"catch\"]=function(t){return this.then(null,t)},f.prototype=Object.create(f.prototype,{constructor:{value:r}}),c(Object.getOwnPropertyNames(f),function(t,e){try{r[e]=f[e]}catch(n){}}),a.on(\"executor-start\",function(t){t[0]=s(t[0],\"resolve-\",this),t[1]=s(t[1],\"resolve-\",this)}),a.on(\"executor-err\",function(t,e,n){t[1](n)}),s.inPlace(f.prototype,[\"then\"],\"then-\",o),a.on(\"then-start\",function(t,e){this.promise=e,t[0]=s(t[0],\"cb-\",this),t[1]=s(t[1],\"cb-\",this)}),a.on(\"then-end\",function(t,e,n){this.nextPromise=n;var r=this.promise;a.emit(\"propagate\",[r,!0],n)}),a.on(\"cb-end\",function(t,e,n){a.emit(\"propagate\",[n,!0],this.nextPromise)}),a.on(\"propagate\",function(t,e,n){this.getCtx&&!e||(this.getCtx=function(){if(t instanceof Promise)var e=a.context(t);return e&&e.getCtx?e.getCtx():this})}),r.toString=function(){return\"\"+f})},{}],12:[function(t,e,n){var r=t(\"ee\").get(\"raf\"),o=t(\"wrap-function\")(r),i=\"equestAnimationFrame\";e.exports=r,o.inPlace(window,[\"r\"+i,\"mozR\"+i,\"webkitR\"+i,\"msR\"+i],\"raf-\"),r.on(\"raf-start\",function(t){t[0]=o(t[0],\"fn-\")})},{}],13:[function(t,e,n){function r(t,e,n){t[0]=a(t[0],\"fn-\",null,n)}function o(t,e,n){this.method=n,this.timerDuration=isNaN(t[1])?0:+t[1],t[0]=a(t[0],\"fn-\",this,n)}var i=t(\"ee\").get(\"timer\"),a=t(\"wrap-function\")(i),s=\"setTimeout\",c=\"setInterval\",f=\"clearTimeout\",u=\"-start\",d=\"-\";e.exports=i,a.inPlace(window,[s,\"setImmediate\"],s+d),a.inPlace(window,[c],c+d),a.inPlace(window,[f,\"clearImmediate\"],f+d),i.on(c+u,r),i.on(s+u,o)},{}],14:[function(t,e,n){function r(t,e){d.inPlace(e,[\"onreadystatechange\"],\"fn-\",s)}function o(){var t=this,e=u.context(t);t.readyState>3&&!e.resolved&&(e.resolved=!0,u.emit(\"xhr-resolved\",[],t)),d.inPlace(t,g,\"fn-\",s)}function i(t){y.push(t),h&&(b?b.then(a):v?v(a):(E=-E,O.data=E))}function a(){for(var t=0;t<y.length;t++)r([],y[t]);y.length&&(y=[])}function s(t,e){return e}function c(t,e){for(var n in t)e[n]=t[n];return e}t(6);var f=t(\"ee\"),u=f.get(\"xhr\"),d=t(\"wrap-function\")(u),p=NREUM.o,l=p.XHR,h=p.MO,m=p.PR,v=p.SI,w=\"readystatechange\",g=[\"onload\",\"onerror\",\"onabort\",\"onloadstart\",\"onloadend\",\"onprogress\",\"ontimeout\"],y=[];e.exports=u;var x=window.XMLHttpRequest=function(t){var e=new l(t);try{u.emit(\"new-xhr\",[e],e),e.addEventListener(w,o,!1)}catch(n){try{u.emit(\"internal-error\",[n])}catch(r){}}return e};if(c(l,x),x.prototype=l.prototype,d.inPlace(x.prototype,[\"open\",\"send\"],\"-xhr-\",s),u.on(\"send-xhr-start\",function(t,e){r(t,e),i(e)}),u.on(\"open-xhr-start\",r),h){var b=m&&m.resolve();if(!v&&!m){var E=1,O=document.createTextNode(E);new h(a).observe(O,{characterData:!0})}}else f.on(\"fn-end\",function(t){t[0]&&t[0].type===w||a()})},{}],15:[function(t,e,n){function r(t){if(!i(t))return null;var e=window.NREUM;if(!e.loader_config)return null;var n=(e.loader_config.accountID||\"\").toString()||null,r=(e.loader_config.agentID||\"\").toString()||null,s=(e.loader_config.trustKey||\"\").toString()||null;if(!n||!r)return null;var c=a.generateCatId(),f=a.generateCatId(),u=Date.now(),d=o(c,f,u,n,r,s);return{header:d,guid:c,traceId:f,timestamp:u}}function o(t,e,n,r,o,i){var a=\"btoa\"in window&&\"function\"==typeof window.btoa;if(!a)return null;var s={v:[0,1],d:{ty:\"Browser\",ac:r,ap:o,id:t,tr:e,ti:n}};return i&&r!==i&&(s.d.tk=i),btoa(JSON.stringify(s))}function i(t){var e=!1,n=!1,r={};if(\"init\"in NREUM&&\"distributed_tracing\"in NREUM.init&&(r=NREUM.init.distributed_tracing,n=!!r.enabled),n)if(t.sameOrigin)e=!0;else if(r.allowed_origins instanceof Array)for(var o=0;o<r.allowed_origins.length;o++){var i=s(r.allowed_origins[o]);if(t.hostname===i.hostname&&t.protocol===i.protocol&&t.port===i.port){e=!0;break}}return n&&e}var a=t(22),s=t(17);e.exports={generateTracePayload:r,shouldGenerateTrace:i}},{}],16:[function(t,e,n){function r(t){var e=this.params,n=this.metrics;if(!this.ended){this.ended=!0;for(var r=0;r<l;r++)t.removeEventListener(p[r],this.listener,!1);e.aborted||(n.duration=s.now()-this.startTime,this.loadCaptureCalled||4!==t.readyState?null==e.status&&(e.status=0):a(this,t),n.cbTime=this.cbTime,d.emit(\"xhr-done\",[t],t),c(\"xhr\",[e,n,this.startTime]))}}function o(t,e){var n=t.responseType;if(\"json\"===n&&null!==e)return e;var r=\"arraybuffer\"===n||\"blob\"===n||\"json\"===n?t.response:t.responseText;return v(r)}function i(t,e){var n=f(e),r=t.params;r.host=n.hostname+\":\"+n.port,r.pathname=n.pathname,t.parsedOrigin=f(e),t.sameOrigin=t.parsedOrigin.sameOrigin}function a(t,e){t.params.status=e.status;var n=o(e,t.lastSize);if(n&&(t.metrics.rxSize=n),t.sameOrigin){var r=e.getResponseHeader(\"X-NewRelic-App-Data\");r&&(t.params.cat=r.split(\", \").pop())}t.loadCaptureCalled=!0}var s=t(\"loader\");if(s.xhrWrappable){var c=t(\"handle\"),f=t(17),u=t(15).generateTracePayload,d=t(\"ee\"),p=[\"load\",\"error\",\"abort\",\"timeout\"],l=p.length,h=t(\"id\"),m=t(20),v=t(19),w=window.XMLHttpRequest;s.features.xhr=!0,t(14),t(7),d.on(\"new-xhr\",function(t){var e=this;e.totalCbs=0,e.called=0,e.cbTime=0,e.end=r,e.ended=!1,e.xhrGuids={},e.lastSize=null,e.loadCaptureCalled=!1,t.addEventListener(\"load\",function(n){a(e,t)},!1),m&&(m>34||m<10)||window.opera||t.addEventListener(\"progress\",function(t){e.lastSize=t.loaded},!1)}),d.on(\"open-xhr-start\",function(t){this.params={method:t[0]},i(this,t[1]),this.metrics={}}),d.on(\"open-xhr-end\",function(t,e){\"loader_config\"in NREUM&&\"xpid\"in NREUM.loader_config&&this.sameOrigin&&e.setRequestHeader(\"X-NewRelic-ID\",NREUM.loader_config.xpid);var n=u(this.parsedOrigin);n&&n.header&&(e.setRequestHeader(\"newrelic\",n.header),this.dt=n)}),d.on(\"send-xhr-start\",function(t,e){var n=this.metrics,r=t[0],o=this;if(n&&r){var i=v(r);i&&(n.txSize=i)}this.startTime=s.now(),this.listener=function(t){try{\"abort\"!==t.type||o.loadCaptureCalled||(o.params.aborted=!0),(\"load\"!==t.type||o.called===o.totalCbs&&(o.onloadCalled||\"function\"!=typeof e.onload))&&o.end(e)}catch(n){try{d.emit(\"internal-error\",[n])}catch(r){}}};for(var a=0;a<l;a++)e.addEventListener(p[a],this.listener,!1)}),d.on(\"xhr-cb-time\",function(t,e,n){this.cbTime+=t,e?this.onloadCalled=!0:this.called+=1,this.called!==this.totalCbs||!this.onloadCalled&&\"function\"==typeof n.onload||this.end(n)}),d.on(\"xhr-load-added\",function(t,e){var n=\"\"+h(t)+!!e;this.xhrGuids&&!this.xhrGuids[n]&&(this.xhrGuids[n]=!0,this.totalCbs+=1)}),d.on(\"xhr-load-removed\",function(t,e){var n=\"\"+h(t)+!!e;this.xhrGuids&&this.xhrGuids[n]&&(delete this.xhrGuids[n],this.totalCbs-=1)}),d.on(\"addEventListener-end\",function(t,e){e instanceof w&&\"load\"===t[0]&&d.emit(\"xhr-load-added\",[t[1],t[2]],e)}),d.on(\"removeEventListener-end\",function(t,e){e instanceof w&&\"load\"===t[0]&&d.emit(\"xhr-load-removed\",[t[1],t[2]],e)}),d.on(\"fn-start\",function(t,e,n){e instanceof w&&(\"onload\"===n&&(this.onload=!0),(\"load\"===(t[0]&&t[0].type)||this.onload)&&(this.xhrCbStart=s.now()))}),d.on(\"fn-end\",function(t,e){this.xhrCbStart&&d.emit(\"xhr-cb-time\",[s.now()-this.xhrCbStart,this.onload,e],e)}),d.on(\"fetch-before-start\",function(t){var e,n=t[1]||{};\"string\"==typeof t[0]?e=t[0]:t[0]&&t[0].url&&(e=t[0].url),e&&(this.parsedOrigin=f(e),this.sameOrigin=this.parsedOrigin.sameOrigin);var r=u(this.parsedOrigin);if(r&&r.header){var o=r.header;if(\"string\"==typeof t[0]){var i={};for(var a in n)i[a]=n[a];i.headers=new Headers(n.headers||{}),i.headers.set(\"newrelic\",o),this.dt=r,t.length>1?t[1]=i:t.push(i)}else t[0]&&t[0].headers&&(t[0].headers.append(\"newrelic\",o),this.dt=r)}})}},{}],17:[function(t,e,n){var r={};e.exports=function(t){if(t in r)return r[t];var e=document.createElement(\"a\"),n=window.location,o={};e.href=t,o.port=e.port;var i=e.href.split(\"://\");!o.port&&i[1]&&(o.port=i[1].split(\"/\")[0].split(\"@\").pop().split(\":\")[1]),o.port&&\"0\"!==o.port||(o.port=\"https\"===i[0]?\"443\":\"80\"),o.hostname=e.hostname||n.hostname,o.pathname=e.pathname,o.protocol=i[0],\"/\"!==o.pathname.charAt(0)&&(o.pathname=\"/\"+o.pathname);var a=!e.protocol||\":\"===e.protocol||e.protocol===n.protocol,s=e.hostname===document.domain&&e.port===n.port;return o.sameOrigin=a&&(!e.hostname||s),\"/\"===o.pathname&&(r[t]=o),o}},{}],18:[function(t,e,n){function r(){}function o(t,e,n){return function(){return i(t,[f.now()].concat(s(arguments)),e?null:this,n),e?void 0:this}}var i=t(\"handle\"),a=t(24),s=t(25),c=t(\"ee\").get(\"tracer\"),f=t(\"loader\"),u=NREUM;\"undefined\"==typeof window.newrelic&&(newrelic=u);var d=[\"setPageViewName\",\"setCustomAttribute\",\"setErrorHandler\",\"finished\",\"addToTrace\",\"inlineHit\",\"addRelease\"],p=\"api-\",l=p+\"ixn-\";a(d,function(t,e){u[e]=o(p+e,!0,\"api\")}),u.addPageAction=o(p+\"addPageAction\",!0),u.setCurrentRouteName=o(p+\"routeName\",!0),e.exports=newrelic,u.interaction=function(){return(new r).get()};var h=r.prototype={createTracer:function(t,e){var n={},r=this,o=\"function\"==typeof e;return i(l+\"tracer\",[f.now(),t,n],r),function(){if(c.emit((o?\"\":\"no-\")+\"fn-start\",[f.now(),r,o],n),o)try{return e.apply(this,arguments)}catch(t){throw c.emit(\"fn-err\",[arguments,this,t],n),t}finally{c.emit(\"fn-end\",[f.now()],n)}}}};a(\"actionText,setName,setAttribute,save,ignore,onEnd,getContext,end,get\".split(\",\"),function(t,e){h[e]=o(l+e)}),newrelic.noticeError=function(t,e){\"string\"==typeof t&&(t=new Error(t)),i(\"err\",[t,f.now(),!1,e])}},{}],19:[function(t,e,n){e.exports=function(t){if(\"string\"==typeof t&&t.length)return t.length;if(\"object\"==typeof t){if(\"undefined\"!=typeof ArrayBuffer&&t instanceof ArrayBuffer&&t.byteLength)return t.byteLength;if(\"undefined\"!=typeof Blob&&t instanceof Blob&&t.size)return t.size;if(!(\"undefined\"!=typeof FormData&&t instanceof FormData))try{return JSON.stringify(t).length}catch(e){return}}}},{}],20:[function(t,e,n){var r=0,o=navigator.userAgent.match(/Firefox[\\\\/\\\\s](\\\\d+\\\\.\\\\d+)/);o&&(r=+o[1]),e.exports=r},{}],21:[function(t,e,n){function r(t,e){var n=t.getEntries();n.forEach(function(t){\"first-paint\"===t.name?a(\"timing\",[\"fp\",Math.floor(t.startTime)]):\"first-contentful-paint\"===t.name&&a(\"timing\",[\"fcp\",Math.floor(t.startTime)])})}function o(t){if(t instanceof c&&!u){var e,n=Math.round(t.timeStamp);e=n>1e12?Date.now()-n:s.now()-n,u=!0,a(\"timing\",[\"fi\",n,{type:t.type,fid:e}])}}if(!(\"init\"in NREUM&&\"page_view_timing\"in NREUM.init&&\"enabled\"in NREUM.init.page_view_timing&&NREUM.init.page_view_timing.enabled===!1)){var i,a=t(\"handle\"),s=t(\"loader\"),c=NREUM.o.EV;if(\"PerformanceObserver\"in window&&\"function\"==typeof window.PerformanceObserver){i=new PerformanceObserver(r);try{i.observe({entryTypes:[\"paint\"]})}catch(f){}}if(\"addEventListener\"in document){var u=!1,d=[\"click\",\"keydown\",\"mousedown\",\"pointerdown\",\"touchstart\"];d.forEach(function(t){document.addEventListener(t,o,!1)})}}},{}],22:[function(t,e,n){function r(){function t(){return e?15&e[n++]:16*Math.random()|0}var e=null,n=0,r=window.crypto||window.msCrypto;r&&r.getRandomValues&&(e=r.getRandomValues(new Uint8Array(31)));for(var o,i=\"xxxxxxxx-xxxx-4xxx-yxxx-xxxxxxxxxxxx\",a=\"\",s=0;s<i.length;s++)o=i[s],\"x\"===o?a+=t().toString(16):\"y\"===o?(o=3&t()|8,a+=o.toString(16)):a+=o;return a}function o(){function t(){return e?15&e[n++]:16*Math.random()|0}var e=null,n=0,r=window.crypto||window.msCrypto;r&&r.getRandomValues&&Uint8Array&&(e=r.getRandomValues(new Uint8Array(31)));for(var o=[],i=0;i<16;i++)o.push(t().toString(16));return o.join(\"\")}e.exports={generateUuid:r,generateCatId:o}},{}],23:[function(t,e,n){function r(t,e){if(!o)return!1;if(t!==o)return!1;if(!e)return!0;if(!i)return!1;for(var n=i.split(\".\"),r=e.split(\".\"),a=0;a<r.length;a++)if(r[a]!==n[a])return!1;return!0}var o=null,i=null,a=/Version\\\\/(\\\\S+)\\\\s+Safari/;if(navigator.userAgent){var s=navigator.userAgent,c=s.match(a);c&&s.indexOf(\"Chrome\")===-1&&s.indexOf(\"Chromium\")===-1&&(o=\"Safari\",i=c[1])}e.exports={agent:o,version:i,match:r}},{}],24:[function(t,e,n){function r(t,e){var n=[],r=\"\",i=0;for(r in t)o.call(t,r)&&(n[i]=e(r,t[r]),i+=1);return n}var o=Object.prototype.hasOwnProperty;e.exports=r},{}],25:[function(t,e,n){function r(t,e,n){e||(e=0),\"undefined\"==typeof n&&(n=t?t.length:0);for(var r=-1,o=n-e||0,i=Array(o<0?0:o);++r<o;)i[r]=t[e+r];return i}e.exports=r},{}],26:[function(t,e,n){e.exports={exists:\"undefined\"!=typeof window.performance&&window.performance.timing&&\"undefined\"!=typeof window.performance.timing.navigationStart}},{}],ee:[function(t,e,n){function r(){}function o(t){function e(t){return t&&t instanceof r?t:t?c(t,s,i):i()}function n(n,r,o,i){if(!p.aborted||i){t&&t(n,r,o);for(var a=e(o),s=m(n),c=s.length,f=0;f<c;f++)s[f].apply(a,r);var d=u[y[n]];return d&&d.push([x,n,r,a]),a}}function l(t,e){g[t]=m(t).concat(e)}function h(t,e){var n=g[t];if(n)for(var r=0;r<n.length;r++)n[r]===e&&n.splice(r,1)}function m(t){return g[t]||[]}function v(t){return d[t]=d[t]||o(n)}function w(t,e){f(t,function(t,n){e=e||\"feature\",y[n]=e,e in u||(u[e]=[])})}var g={},y={},x={on:l,addEventListener:l,removeEventListener:h,emit:n,get:v,listeners:m,context:e,buffer:w,abort:a,aborted:!1};return x}function i(){return new r}function a(){(u.api||u.feature)&&(p.aborted=!0,u=p.backlog={})}var s=\"nr@context\",c=t(\"gos\"),f=t(24),u={},d={},p=e.exports=o();p.backlog=u},{}],gos:[function(t,e,n){function r(t,e,n){if(o.call(t,e))return t[e];var r=n();if(Object.defineProperty&&Object.keys)try{return Object.defineProperty(t,e,{value:r,writable:!0,enumerable:!1}),r}catch(i){}return t[e]=r,r}var o=Object.prototype.hasOwnProperty;e.exports=r},{}],handle:[function(t,e,n){function r(t,e,n,r){o.buffer([t],r),o.emit(t,e,n)}var o=t(\"ee\").get(\"handle\");e.exports=r,r.ee=o},{}],id:[function(t,e,n){function r(t){var e=typeof t;return!t||\"object\"!==e&&\"function\"!==e?-1:t===window?0:a(t,i,function(){return o++})}var o=1,i=\"nr@id\",a=t(\"gos\");e.exports=r},{}],loader:[function(t,e,n){function r(){if(!E++){var t=b.info=NREUM.info,e=l.getElementsByTagName(\"script\")[0];if(setTimeout(u.abort,3e4),!(t&&t.licenseKey&&t.applicationID&&e))return u.abort();f(y,function(e,n){t[e]||(t[e]=n)}),c(\"mark\",[\"onload\",a()+b.offset],null,\"api\");var n=l.createElement(\"script\");n.src=\"https://\"+t.agent,e.parentNode.insertBefore(n,e)}}function o(){\"complete\"===l.readyState&&i()}function i(){c(\"mark\",[\"domContent\",a()+b.offset],null,\"api\")}function a(){return O.exists&&performance.now?Math.round(performance.now()):(s=Math.max((new Date).getTime(),s))-b.offset}var s=(new Date).getTime(),c=t(\"handle\"),f=t(24),u=t(\"ee\"),d=t(23),p=window,l=p.document,h=\"addEventListener\",m=\"attachEvent\",v=p.XMLHttpRequest,w=v&&v.prototype;NREUM.o={ST:setTimeout,SI:p.setImmediate,CT:clearTimeout,XHR:v,REQ:p.Request,EV:p.Event,PR:p.Promise,MO:p.MutationObserver};var g=\"\"+location,y={beacon:\"bam.nr-data.net\",errorBeacon:\"bam.nr-data.net\",agent:\"js-agent.newrelic.com/nr-spa-1158.min.js\"},x=v&&w&&w[h]&&!/CriOS/.test(navigator.userAgent),b=e.exports={offset:s,now:a,origin:g,features:{},xhrWrappable:x,userAgent:d};t(18),t(21),l[h]?(l[h](\"DOMContentLoaded\",i,!1),p[h](\"load\",r,!1)):(l[m](\"onreadystatechange\",o),p[m](\"onload\",r)),c(\"mark\",[\"firstbyte\",s],null,\"api\");var E=0,O=t(26)},{}],\"wrap-function\":[function(t,e,n){function r(t){return!(t&&t instanceof Function&&t.apply&&!t[a])}var o=t(\"ee\"),i=t(25),a=\"nr@original\",s=Object.prototype.hasOwnProperty,c=!1;e.exports=function(t,e){function n(t,e,n,o){function nrWrapper(){var r,a,s,c;try{a=this,r=i(arguments),s=\"function\"==typeof n?n(r,a):n||{}}catch(f){p([f,\"\",[r,a,o],s])}u(e+\"start\",[r,a,o],s);try{return c=t.apply(a,r)}catch(d){throw u(e+\"err\",[r,a,d],s),d}finally{u(e+\"end\",[r,a,c],s)}}return r(t)?t:(e||(e=\"\"),nrWrapper[a]=t,d(t,nrWrapper),nrWrapper)}function f(t,e,o,i){o||(o=\"\");var a,s,c,f=\"-\"===o.charAt(0);for(c=0;c<e.length;c++)s=e[c],a=t[s],r(a)||(t[s]=n(a,f?s+o:o,i,s))}function u(n,r,o){if(!c||e){var i=c;c=!0;try{t.emit(n,r,o,e)}catch(a){p([a,n,r,o])}c=i}}function d(t,e){if(Object.defineProperty&&Object.keys)try{var n=Object.keys(t);return n.forEach(function(n){Object.defineProperty(e,n,{get:function(){return t[n]},set:function(e){return t[n]=e,e}})}),e}catch(r){p([r])}for(var o in t)s.call(t,o)&&(e[o]=t[o]);return e}function p(e){try{t.emit(\"internal-error\",e)}catch(n){}}return t||(t=o),n.inPlace=f,n.flag=a,n}},{}]},{},[\"loader\",2,16,5,3,4]);\\n;NREUM.loader_config={accountID:\"1997682\",trustKey:\"1997682\",agentID:\"507167406\",licenseKey:\"df67590f5e\",applicationID:\"507167406\"}\\n;NREUM.info={beacon:\"bam.nr-data.net\",errorBeacon:\"bam.nr-data.net\",licenseKey:\"df67590f5e\",applicationID:\"507167406\",sa:1}\\n    </script>\\n\\n</body></html>'"
      ]
     },
     "execution_count": 19,
     "metadata": {},
     "output_type": "execute_result"
    }
   ],
   "source": [
    "# Get page source\n",
    "type(driver.page_source)\n",
    "driver.page_source"
   ]
  },
  {
   "cell_type": "code",
   "execution_count": 25,
   "metadata": {},
   "outputs": [
    {
     "name": "stderr",
     "output_type": "stream",
     "text": [
      "C:\\Users\\ALEXAN~1\\AppData\\Local\\Temp/ipykernel_38996/442858013.py:6: DeprecationWarning: executable_path has been deprecated, please pass in a Service object\n",
      "  driver = webdriver.Chrome(executable_path=r'chromedriver-win64/chromedriver.exe')\n"
     ]
    }
   ],
   "source": [
    "from selenium import webdriver\n",
    "from webdriver_manager.chrome import ChromeDriverManager\n",
    "\n",
    "# Case 1 - Download the driver using ChromeDriverManager\n",
    "#driver = webdriver.Chrome(ChromeDriverManager().install())\n",
    "driver = webdriver.Chrome(executable_path=r'chromedriver-win64/chromedriver.exe')\n",
    "#driver.maximize_window()\n",
    "url = 'https://peru21.pe/lima/peru21-epaper-una-experiencia-sin-limites-noticia/'\n",
    "driver.get(url)"
   ]
  },
  {
   "cell_type": "code",
   "execution_count": 26,
   "metadata": {},
   "outputs": [
    {
     "data": {
      "text/plain": [
       "'<html itemscope=\"\" itemtype=\"http://schema.org/WebPage\" lang=\"es\"><head><meta charset=\"utf-8\"><meta http-equiv=\"X-UA-Compatible\" content=\"IE=edge\"><meta name=\"viewport\" content=\"width=device-width, initial-scale=1\"><meta name=\"lang\" content=\"es\"><meta name=\"deployment\" content=\"3063\"><meta name=\"resource-type\" content=\"document\"><meta content=\"global\" name=\"distribution\"><meta name=\"robots\" content=\"index, follow\"><meta name=\"robots\" content=\"max-image-preview:large\"><meta name=\"googlebot\" content=\"index, follow\"><meta name=\"author\" content=\"Peru21\"><meta name=\"DC.title\" lang=\"es\" content=\"Perú21 ePaper: una experiencia sin límites | LIMA | PERU21\"><meta name=\"DC.description\" lang=\"es\" content=\"Conoce la historia y los beneficios de un periódico digital que es diariamentente enriquecido por periodistas con material multimedia y documentación exclusiva.\"><meta name=\"DC.subject\" lang=\"es\" content=\"Noticias, Peru21, Peru, Mundo, Deportes, Internacional, Tecnologia, Diario, Cultura, Ciencias, Economía, Opinión\"><meta name=\"DC.creator\" content=\"NOTICIAS PERU21\"><meta name=\"DC.publisher\" content=\"NOTICIAS PERU21\"><meta name=\"DC.language\" scheme=\"RFC1766\" content=\"es\"><link rel=\"amphtml\" href=\"https://peru21.pe/lima/peru21-epaper-una-experiencia-sin-limites-noticia/?outputType=amp\"><title>Perú21 ePaper: una experiencia sin límites | LIMA | PERU21</title><link rel=\"preconnect\" href=\"//cdnc.peru21.pe\"><link rel=\"dns-prefetch\" href=\"//cdnc.peru21.pe\"><link rel=\"preconnect\" href=\"//cdna.peru21.pe\"><link rel=\"dns-prefetch\" href=\"//cdna.peru21.pe\"><link rel=\"preload\" href=\"https://cdna.peru21.pe/resources/dist/peru21/fonts/Roboto-Bold.woff2\" as=\"font\" type=\"font/woff2\"><link rel=\"preload\" href=\"https://cdna.peru21.pe/resources/dist/peru21/fonts/Exo.woff2\" as=\"font\" type=\"font/woff2\"><link rel=\"preload\" href=\"https://cdna.peru21.pe/resources/dist/peru21/fonts/Roboto-Regular.woff2\" as=\"font\" type=\"font/woff2\"><link rel=\"preconnect\" href=\"//d2dvq461rdwooi.cloudfront.net\"><link rel=\"dns-prefetch\" href=\"//d2dvq461rdwooi.cloudfront.net\"><link rel=\"preconnect\" href=\"//www.googletagmanager.com/\"><link rel=\"dns-prefetch\" href=\"//www.googletagmanager.com/\"><link rel=\"preconnect\" href=\"//www.google-analytics.com\"><link rel=\"dns-prefetch\" href=\"//www.google-analytics.com\"><link rel=\"preconnect\" href=\"//static.chartbeat.com/\"><link rel=\"dns-prefetch\" href=\"//static.chartbeat.com/\"><link rel=\"preconnect\" href=\"//mab.chartbeat.com/\"><link rel=\"dns-prefetch\" href=\"//mab.chartbeat.com/\"><link rel=\"dns-prefetch\" href=\"//tags.bkrtx.com/\"><link rel=\"preconnect\" href=\"//sb.scorecardresearch.com/\"><link rel=\"dns-prefetch\" href=\"//sb.scorecardresearch.com/\"><link rel=\"dns-prefetch\" href=\"//fonts.gstatic.com\"><link rel=\"dns-prefetch\" href=\"//fonts.googleapis.com\"><link rel=\"dns-prefetch\" href=\"//www.facebook.com/\"><link rel=\"dns-prefetch\" href=\"//connect.facebook.net/\"><link rel=\"preconnect\" href=\"//cds.taboola.com/\"><link rel=\"dns-prefetch\" href=\"//cds.taboola.com/\"><link rel=\"dns-prefetch\" href=\"//acdn.adnxs.com/\"><script id=\"dogtrack-pixel\" async=\"\" src=\"//zeco.spxl.socy.es/pixel/js/ZECO_453_877_194/\" data-h=\"zeco.spxl.socy.es\" data-t=\"ZECO_453_877_194\"></script><script async=\"\" src=\"https://sb.scorecardresearch.com/cs/8429002/beacon.js\"></script><script src=\"https://connect.facebook.net/signals/config/390633922150860?v=2.9.140&amp;r=stable&amp;domain=peru21.pe\" async=\"\"></script><script src=\"https://connect.facebook.net/signals/config/855832587902487?v=2.9.140&amp;r=stable&amp;domain=peru21.pe\" async=\"\"></script><script async=\"\" src=\"https://connect.facebook.net/en_US/fbevents.js\"></script><script type=\"text/javascript\" async=\"\" src=\"https://www.google-analytics.com/analytics.js\"></script><script type=\"text/javascript\" async=\"\" src=\"https://www.googletagmanager.com/gtag/js?id=G-ZT4QBRNW4F&amp;l=dataLayer&amp;cx=c\"></script><script type=\"text/javascript\" async=\"\" src=\"https://www.googletagmanager.com/gtag/js?id=G-6R559W9QNJ&amp;l=dataLayer&amp;cx=c\"></script><script async=\"\" src=\"https://www.googletagmanager.com/gtm.js?id=GTM-KKQFJ3Z\"></script><script type=\"text/javascript\" async=\"\" src=\"//static.chartbeat.com/js/chartbeat.js\"></script><script>\"undefined\"!=typeof window&&(window.requestIdle=window.requestIdleCallback||function(e){var n=Date.now();return setTimeout(function(){e({didTimeout:!1,timeRemaining:function(){return Math.max(0,50-(Date.now()-n))}})},1)},window.addPrefetch=function(e,n,t){var i=document.createElement(\"link\");i.rel=e,i.href=n,t&&(i.as=t),i.crossOrigin=\"true\",document.head.append(i)});</script><script async=\"\" src=\"https://d2dvq461rdwooi.cloudfront.net/output/assets/js/prebid.js?v12024-01-13\"></script><script defer=\"\" src=\"https://d2dvq461rdwooi.cloudfront.net/peru21/post/lima/spaces.js?2024-01-13\"></script><script defer=\"\" src=\"https://d1r08wok4169a5.cloudfront.net/ads/peru21/arcads.js?2024-01-13\"></script><script type=\"text/javascript\">\"use strict\";window.lazier=function(e,t){var o,n=arguments.length<=2||void 0===arguments[2]?\"0px 0px 200px 0px\":arguments[2],a=function(e,o){e.forEach(function(e){var n=e.isIntersecting,a=e.target;n&&(t(a),o.unobserve(a))})};\"IntersectionObserver\"in window&&(o={rootMargin:n},e.forEach(function(e){new IntersectionObserver(a,o).observe(e)}))},window.isMobiles=/iPad|iPhone|iPod|android|webOS|Windows Phone/i.test(navigator.userAgent),window.mobile=window.isMobiles?\"mobile\":\"desktop\";var userPaywall=function(){var e=\"no\";if(window.localStorage&&window.localStorage.hasOwnProperty(\"ArcId.USER_INFO\")&&\"{}\"!==window.localStorage.getItem(\"ArcId.USER_INFO\")){var t=JSON.parse(window.localStorage.getItem(\"ArcId.USER_INFO\")).uuid,o=JSON.parse(window.localStorage.getItem(\"ArcP\")||\"{}\")[t];o&&o.sub.p.length&&(e=\"si\")}else e=\"no\";return e},userPaywallStat=userPaywall(),getTmpAd=function(){return(window.location.search.match(/tmp_ad=([^&]*)/)||[])[1]||\"\"},getTarget=function(){return{contenido:\"metered\",publisher:\"peru21\",seccion:section,categoria:subsection,fuente:\"WEB\",tipoplantilla:\"post\",phatname:\"https://peru21.pe/lima/peru21-epaper-una-experiencia-sin-limites-noticia/?outputType=lite\",tags:\"peru21epaper,periodicodigital\",ab_test:\"\",paywall:userPaywallStat,tmp_ad:getTmpAd()}};window.googletag=window.googletag||{cmd:[]};window.adsCollection=window.adsCollection||[];</script><link rel=\"shortcut icon\" type=\"image/png\" href=\"https://cdna.peru21.pe/resources/dist/peru21/images/favicon.png?d=1\"><link rel=\"apple-touch-icon\" href=\"https://cdna.peru21.pe/resources/dist/peru21/images/apple-touch-icon.png?d=1\"><link rel=\"apple-touch-icon\" sizes=\"76x76\" href=\"https://cdna.peru21.pe/resources/dist/peru21/images/apple-touch-icon-76x76.png?d=1\"><link rel=\"apple-touch-icon\" sizes=\"120x120\" href=\"https://cdna.peru21.pe/resources/dist/peru21/images/apple-touch-icon-120x120.png?d=1\"><link rel=\"apple-touch-icon\" sizes=\"144x144\" href=\"https://cdna.peru21.pe/resources/dist/peru21/images/apple-touch-icon-144x144.png?d=1\"><link rel=\"apple-touch-icon\" sizes=\"152x152\" href=\"https://cdna.peru21.pe/resources/dist/peru21/images/apple-touch-icon-152x152.png?d=1\"><link rel=\"apple-touch-icon\" sizes=\"180x180\" href=\"https://cdna.peru21.pe/resources/dist/peru21/images/apple-touch-icon-180x180.png?d=1\"><link rel=\"canonical\" href=\"https://peru21.pe/lima/peru21-epaper-una-experiencia-sin-limites-noticia/\"><meta name=\"theme-color\" content=\"#005fa5\"><meta name=\"msapplication-TileColor\" content=\"#005fa5\"><meta name=\"apple-mobile-web-app-title\" content=\"Peru21\"><meta name=\"application-name\" content=\"Peru21\"><script type=\"application/ld+json\">{\"@context\" : \"http://schema.org\", \"@type\" : \"Organization\", \"name\" : \"Peru21\", \"url\" : \"https://peru21.pe/\", \"logo\": \"https://cdna.peru21.pe/resources/dist/peru21/images/logo-peru21.jpg?d=1\",  \"sameAs\" : [ \"https://www.facebook.com/peru21\",\"https://twitter.com/peru21noticias\" ] }</script><meta name=\"description\" lang=\"es\" content=\"Conoce la historia y los beneficios de un periódico digital que es diariamentente enriquecido por periodistas con material multimedia y documentación exclusiva.\"><meta property=\"og:site_name\" content=\"Peru21\"><meta property=\"og:locale\" content=\"es_PE\"><meta property=\"fb:app_id\" content=\"1667917060088448\"><meta property=\"og:title\" content=\"Recibe las noticias diariamente a las 00:30 am. Perú21 ePaper \"><meta property=\"og:description\" content=\"Conoce la historia y los beneficios de un periódico digital que es diariamentente enriquecido por periodistas con material multimedia y documentación exclusiva.\"><meta property=\"og:image\" content=\"https://peru21.pe/resizer/KBXoslpUXGwIOd3iuId3fDK9SCE=/980x528/smart/filters:format(jpeg):quality(75)/cloudfront-us-east-1.images.arcpublishing.com/elcomercio/QYIXMEM42NAKLNITMFXTKNJMGM.png\"><link rel=\"preload\" as=\"image\" href=\"https://peru21.pe/resizer/6NzkoJ-a9d5cXyRlAVKEBTneHGo=/280x159/smart/filters:format(jpeg):quality(75)/cloudfront-us-east-1.images.arcpublishing.com/elcomercio/QYIXMEM42NAKLNITMFXTKNJMGM.png\"><meta property=\"og:image:secure_url\" content=\"https://peru21.pe/resizer/KBXoslpUXGwIOd3iuId3fDK9SCE=/980x528/smart/filters:format(jpeg):quality(75)/cloudfront-us-east-1.images.arcpublishing.com/elcomercio/QYIXMEM42NAKLNITMFXTKNJMGM.png\"><meta property=\"og:image:width\" content=\"980\"><meta property=\"og:image:height\" content=\"528\"><meta property=\"og:image:type\" content=\"image/jpeg\"><meta property=\"og:video\" content=\"https://content.jwplatform.com/videos/74Rpte80-py314VKX.mp4\"><meta property=\"og:video:secure_url\" content=\"https://content.jwplatform.com/videos/74Rpte80-py314VKX.mp4\"><meta property=\"og:video:width\" content=\"980\"><meta property=\"og:video:height\" content=\"528\"><meta property=\"og:video:stream:content_type\" content=\"video/mp4\"><meta property=\"og:video:type\" content=\"video/mp4\"><meta property=\"og:url\" content=\"https://peru21.pe/lima/peru21-epaper-una-experiencia-sin-limites-noticia/\"><meta property=\"og:type\" content=\"article\"><meta name=\"twitter:card\" content=\"summary_large_image\"><meta name=\"twitter:site\" content=\"peru21noticias\"><meta name=\"twitter:title\" content=\"Recibe las noticias diariamente a las 00:30 am. Perú21 ePaper \"><meta name=\"twitter:title\" content=\"Recibe las noticias diariamente a las 00:30 am. Perú21 ePaper \"><meta name=\"twitter:image\" content=\"https://peru21.pe/resizer/KBXoslpUXGwIOd3iuId3fDK9SCE=/980x528/smart/filters:format(jpeg):quality(75)/cloudfront-us-east-1.images.arcpublishing.com/elcomercio/QYIXMEM42NAKLNITMFXTKNJMGM.png\"><meta name=\"twitter:description\" content=\"Conoce la historia y los beneficios de un periódico digital que es diariamentente enriquecido por periodistas con material multimedia y documentación exclusiva.\"><meta name=\"twitter:creator\" content=\"peru21noticias\"><meta name=\"data-article-id\" content=\"CF345SPHW5EBTC5L5J5K4T3WZI\"><meta property=\"article:publisher\" content=\"https://www.facebook.com/peru21\"><meta name=\"author\" content=\"Redacción Peru21\"><meta name=\"bi3dPubDate\" content=\"2024-01-09T16:01:52.724Z\"><meta name=\"bi3dArtId\" content=\"639992\"><meta name=\"bi3dSection\" content=\"Lima\"><meta name=\"bi3dArtTitle\" content=\"Recibe las noticias diariamente a las 00:30 am. Perú21 ePaper \"><meta name=\"cXenseParse:per-categories\" content=\"Lima\"><meta name=\"cXenseParse:wgu-categories\" content=\"Lima\"><meta name=\"etiquetas\" content=\"Perú21 ePaper,Periódico digital\"><meta name=\"content-type\" content=\"story\"><meta name=\"section-id\" content=\"/lima\"><meta name=\"keywords\" content=\"Peru21 ePaper,Periódico digital\"><meta property=\"article:published_time\" content=\"2024-01-09T16:01:52.724Z\"><meta property=\"article:modified_time\" content=\"2024-01-09T16:01:56.582Z\"><meta property=\"article:author\" content=\"Redacción Peru21\"><meta property=\"article:section\" content=\"Lima\"><meta property=\"article:content_tier\" content=\"metered\"><meta property=\"article:tag\" content=\"Perú21 ePaper\"><meta property=\"article:tag\" content=\"Periódico digital\"><script type=\"application/ld+json\">{\"@context\":\"http://schema.org\",\"@type\":\"NewsArticle\",\"datePublished\":\"2024-01-09T16:01:52.724Z\", \"dateModified\":\"2024-01-09T16:01:56.582Z\",  \"backstory\":\"\",   \"dateline\": \"2024-01-09T11:01:52-05:00 \", \"headline\":\"Recibe las noticias diariamente a las 00:30 am. Perú21 ePaper \",\"alternativeHeadline\":\"Perú21 ePaper: una experiencia sin límites\",\"description\":\"Conoce la historia y los beneficios de un periódico digital que es diariamentente enriquecido por periodistas con material multimedia y documentación exclusiva.\", \"articleBody\":\"Aquí puedes inscribirte y probar 30 días gratis la versión digital de nuestro Perú21. Solo debes ingresar tu nombre y correo electrónico (no es necesario incluir tu tarjeta). ¿Qué busca el lector de hoy al abrir un periódico? Básicamente, informarse de la forma tradicional. Sin embargo, el mundo digital ha avanzado tanto que permite a los diarios reinventarse e ir más allá. Hace más de diez años, países como España y Canadá ya conocían los primeros planos de lo que se podría llamar la primera versión del ePaper, que era el periódico tal cual lo venden en los quioscos pero en un formato pdf. Actualmente, pese a que muchos diarios importantes como El País persisten en venderles a sus suscriptores este modelo, se sabe que la tecnología permite dar un paso (o varios) más para que los lectores tengan una mejor experiencia.    Perú21 comenzó a trabajar su formato ePaper desde abril con la ayuda del Grupo Dana, una empresa española que tiene más de 30 años en el mercado de diarios digitales a nivel mundial y es pionera en el mundo de softwares editoriales que trabajan de acuerdo con los retos de la industria nacional. El producto es único y ofrece diversos beneficios para que no solo se esté al día con información veraz, sino también con herramientas multimedia que complementan la lectura.     Hoy este diario apuesta por un formato que puede ser leído en celulares, tabletas y computadoras con solo conectarse a Internet. Está enriquecido con material audiovisual, documentos y otros recursos multimedia. El ePaper posibilita consumir las noticias como nunca antes, pues los lectores no solo se quedan en el titular y el cuerpo del texto, sino que pueden apreciar también galerías de imágenes, audios y videos que un periódico convencional no puede almacenar. Este material es recolectado o incluso producido de manera exclusiva por el propio equipo de periodistas de Perú21 desde dentro y fuera de la sala de redacción, agregando valor al visor digital del periódico. Otro beneficio, esta vez para los anunciantes, es que sus avisos pueden alojar un ícono que redirige a contenido multimedia.    Hubo un tiempo en el que solo se podía leer un diario si se compraba en un quiosco. Pero esa costumbre se acabó. Uno de los beneficios de volverse suscriptor de Perú21 ePaper es acceder al formato digital de la versión impresa siete horas antes de su venta regular. De esta manera, la inmediatez de la noticia se vuelve aliada de quienes desean estar actualizados con información de calidad desde la medianoche. Otra de las características que resalta Jesús Álvarez, presidente del Grupo Dana, es que incluso al tener más contenido y recibir mucho antes que otros la información, el formato ePaper es más económico y ecoamigable con el planeta. Es decir: lees y tienes más por menos. ¿Qué más se puede hacer con un periódico digital? Las oportunidades de difundir mejor la información son infinitas. El equipo de Perú21 está comprometido en seguir nutriendo su ePaper e innovando en su servicio para que esté alineado con las exigencias y demandas del lector de hoy.   \",  \"mainEntityOfPage\":{   \"@type\":\"WebPage\",  \"@id\":\"https://peru21.pe/lima/peru21-epaper-una-experiencia-sin-limites-noticia/\"     },     \"image\": {\"@type\":\"ImageObject\",\"url\":\"https://peru21.pe/resizer/y-EIBtZtzhk4f-PGVU53rf13Xvo=/1200x800/smart/filters:format(jpeg):quality(75)/cloudfront-us-east-1.images.arcpublishing.com/elcomercio/QYIXMEM42NAKLNITMFXTKNJMGM.png\",\"height\":800,\"width\":1200 },      \"video\":[ { \"@type\":\"VideoObject\",\"name\":\"Fernando Silva sobre audiencia contra Sada Goray y Mauricio Fernandini\", \"thumbnailUrl\":[\"https://peru21.pe/resizer/nVMx9aN6TC65cOI0bFg8UUQ_NTY=/1200x1200/smart/filters:format(jpeg):quality(75)/cdn.jwplayer.com/v2/media/74Rpte80/poster.jpg\", \"https://peru21.pe/resizer/CR3EZhkitKyUB6Bz-OL2eZ42NQA=/1200x900/smart/filters:format(jpeg):quality(75)/cdn.jwplayer.com/v2/media/74Rpte80/poster.jpg\", \"https://peru21.pe/resizer/H2NhNMYQhROij92yDWI0MFEqzT8=/1200x675/smart/filters:format(jpeg):quality(75)/cdn.jwplayer.com/v2/media/74Rpte80/poster.jpg\"],\"description\":\"Fernando Silva sobre audiencia contra Sada Goray y Mauricio Fernandini\",\"contentUrl\":\"https://content.jwplatform.com/videos/74Rpte80-py314VKX.mp4\",\"uploadDate\":\"2024-01-09T11:01:56-05:00\",\"duration\":\"PT00H14M09S\"} ], \"author\": {\"@context\": \"http://schema.org/\",\"@type\":\"Person\",\"name\":\"Redacción PERÚ21\",\"url\": \"https://peru21.pe/autor/redaccion-peru21/\",\"image\":\"https://cdna.peru21.pe/resources/dist/peru21/images/author.png?d=1\",\"contactPoint\":{\"@type\":\"ContactPoint\",\"contactType\":\"Journalist\",\"email\":\"redaccionp21@peru21.pe\"},\"email\":\"redaccionp21@peru21.pe\",\"jobTitle\":\"author\"},\"publisher\":{\"@type\":\"Organization\",\"name\":\"Peru21\",\"logo\":{\"@type\":\"ImageObject\",\"url\":\"https://cdna.peru21.pe/resources/dist/peru21/images/logo-peru21-214x60.png?d=1\",\"height\":60, \"width\":219 } },  \"keywords\":[\"Peru21 ePaper\",\"Periódico digital\"] }</script><script type=\"application/ld+json\">{\"@context\":\"https://schema.org\",\"@type\":\"ItemList\",\"itemListElement\":[{\"@type\":\"ListItem\",\"position\":1,\"url\":\"https://peru21.pe/lima/policiales/atrapan-a-red-de-extorsionadores-que-operaban-a-traves-de-falsos-call-center-extorsion-gota-a-gota-prestamo-operativo-policia-nacional-noticia/\" },{\"@type\":\"ListItem\",\"position\":2,\"url\":\"https://peru21.pe/lima/surquillo-explosion-de-celular-deja-a-joven-con-graves-quemaduras-en-su-cuerpo-surquillo-celular-explota-xiaomi-redmi-11-melvin-martini-noticia/\" },{\"@type\":\"ListItem\",\"position\":3,\"url\":\"https://peru21.pe/lima/tren-de-aragua-sicarios-smp-policia-detiene-a-miembros-de-la-banda-criminal-los-hijos-de-dios-noticia/\" },{\"@type\":\"ListItem\",\"position\":4,\"url\":\"https://peru21.pe/lima/policiales/sicario-asesina-a-una-empresaria-en-pueblo-libre-y-deja-herido-a-su-esposo-inseguridad-ciudadana-sicario-empresaria-pueblo-libre-policia-nacional-crimen-organizado-noticia/\" }]}</script><script type=\"application/ld+json\">{\"@context\":\"https://schema.org\",\"@type\":\"BreadcrumbList\",\"itemListElement\":[{\"@type\":\"ListItem\",\"position\":1,\"name\":\"Lima\",\"item\":\"https://peru21.pe/lima/\" }] }</script><script>\"use strict\";window._taboola=window._taboola||[],_taboola.push({article:\"auto\"}),function(){if(\"undefined\"!=typeof window){if(window.location.search.includes(\"widgettaboola=none\"))return;document.addEventListener(\"DOMContentLoaded\",function(){function e(){var e=\"tb_loader_script\";if(!document.getElementById(e)){var o=document.createElement(\"script\"),n=document.getElementsByTagName(\"script\")[0];o.defer=1,o.src=\"//cdn.taboola.com/libtrc/grupoelcomercio-peru21/loader.js\",o.id=e,n.parentNode.insertBefore(o,n)}}if(\"IntersectionObserver\"in window){var o=1200;/iPad|iPhone|iPod|android|webOS|Windows Phone/i.test(navigator.userAgent)&&(o=300);var n=new IntersectionObserver(function(o,t){o.forEach(function(o){o.isIntersecting&&(e(),n.unobserve(o.target))})},{rootMargin:\"0px 0px \"+o+\"px 0px\"}),t=document.getElementById(\"taboola-below-content-thumbnails\");t&&n.observe(t)}else e()}),window.performance&&\"function\"==typeof window.performance.mark&&window.performance.mark(\"tbl_ic\")}}();</script><script type=\"text/javascript\">var type_space = \\'nota1\\'; var site = \\'p21\\'; var type_template = \\'nota\\'; var section = \\'lima\\'; var subsection = \\'peru21epaper-una-experiencia-sin-limites-noticia\\'; var path_name = \\'/lima/peru21-epaper-una-experiencia-sin-limites-noticia/\\';  var tipo_nota = \\'imagen\\';   var id_nota = \\'CF345SPHW5EBTC5L5J5K4T3WZI\\';  var content_paywall = \\'false\\';  var nucleo_origen = \\'redaccion\\'; var format_origen = \\'tfg\\';var content_origen = \\'tcs\\'; var gender_origen = \\'info\\';var audiencia_nicho = \\'\\'; window.dataLayer = window.dataLayer || [];window.dataLayer.push({ \\'seccion\\': \\'lima\\',\\'subseccion\\': \\'sin-definir\\',\\'tipo_nota\\' : \\'imagen\\', \\'id_nota\\' : \\'CF345SPHW5EBTC5L5J5K4T3WZI\\',\\'tag1\\': \\'peru21-epaper\\',\\'tag2\\': \\'periodico-digital\\',\\'premium\\' : \\'false\\',\\'autor\\' : \\'redaccion-peru21\\',\\'nucleo_ID\\' : \\'redaccion\\',    \\'tipo_formato\\' : \\'tfg\\',\\'tipo_contenido\\' : \\'tcs\\',\\'genero\\' : \\'info\\',\\'nota_publicacion\\':\\'2023-08-06T07:00:04\\'}); \\n    </script><style>@font-face {font-family: fallback-local; src: local(Arial); ascent-override: 125%; descent-override: 25%; line-gap-override: 0%;}</style><style>*{box-sizing:border-box;outline-color:#0c70bf}html{color:#333;font-family:Lato;font-size:13px;scroll-behavior:smooth}a,abbr,acronym,address,applet,article,aside,audio,b,big,blockquote,body,canvas,center,cite,code,dd,del,details,dfn,div,dl,dt,em,embed,fieldset,figcaption,figure,footer,form,h1,h2,h3,h4,h5,h6,header,hgroup,html,i,iframe,img,ins,kbd,label,legend,li,mark,menu,nav,object,ol,output,p,pre,q,ruby,s,samp,section,small,span,strike,strong,sub,summary,sup,table,tbody,td,tfoot,th,thead,time,tr,tt,u,ul,var,video{border:0;margin:0;padding:0;vertical-align:baseline}article,aside,details,figcaption,figure,footer,header,hgroup,menu,nav,section{display:block}body{line-height:1}ol,ul{list-style:none}blockquote,q{quotes:none}[role=button],[type=button],[type=checkbox],[type=radio],[type=submit],a,button,select{cursor:pointer}a{color:#333;text-decoration:none}a:hover{text-decoration:underline}blockquote:after,blockquote:before,q:after,q:before{content:\"\";content:none}table{border-collapse:collapse;border-spacing:0}[type=search]{padding:0}input[type=search],input[type=search]::-webkit-search-cancel-button,input[type=search]::-webkit-search-decoration,input[type=search]::-webkit-search-results-button,input[type=search]::-webkit-search-results-decoration{-webkit-appearance:none;border:none}button{background-color:transparent;border-style:none;color:#333;font-family:inherit}address{font-style:normal}select{-moz-appearance:none;-webkit-appearance:none;appearance:none;border:0}h1,h2,h3,h4,h5,h6{font-weight:400}footer{content-visibility:auto;contain-intrinsic-size:400px}.jwplayer-lazy{align-items:center;background-color:#000;display:flex;height:347px;justify-content:center}.jwplayer-lazy .lazy{height:100%}.jwplayer-lazy-icon-play{-webkit-animation-name:c;-webkit-animation-duration:2s;-webkit-animation-iteration-count:infinite;animation-duration:2s;animation-iteration-count:infinite;animation-name:c;border:10px solid #eee;border-radius:50%;border-top-color:#666;height:70px;position:absolute;width:70px}@-webkit-keyframes a{0%{transform:rotate(2)}to{transform:rotate(2deg)}}@keyframes a{0%{transform:rotate(2)}to{transform:rotate(2deg)}}@-webkit-keyframes b{0%{transform:rotate(3deg)}to{transform:rotate(3deg)}}@keyframes b{0%{transform:rotate(3deg)}to{transform:rotate(3deg)}}@-webkit-keyframes c{0%{transform:rotate(0deg)}to{transform:rotate(1turn)}}@keyframes c{0%{transform:rotate(0deg)}to{transform:rotate(1turn)}}.f{display:flex}.f-center{justify-content:center}.alg-center,.f-center{align-items:center}.just-center{justify-content:center}.just-between{justify-content:space-between}.f-col{flex-direction:column}.w-full{width:100%}.h-full{height:100%}.pos-rel{position:relative}.pos-abs{position:absolute}.oflow-h{overflow:hidden}.premium__wrapper.flex.hidden{display:none}.st-sidebar__content{background:#fff}.st-iframe{content-visibility:auto;contain-intrinsic-size:5000px}.story-gallery-slider{background-color:#262627;max-width:100vw;padding:20px}.story-gallery-slider__content{transition:transform .4s ease}.story-gallery-slider__item{-webkit-user-select:none;-moz-user-select:none;-ms-user-select:none;pointer-events:none;user-select:none;width:280px}.story-gallery-slider__img{-o-object-fit:cover;height:240px;object-fit:cover}.story-gallery-slider__body{overflow:hidden;position:relative}.story-gallery-slider__quantity{align-items:center;background-color:#ebc12f;font-size:1.3rem;font-weight:700;height:30px;justify-content:center;letter-spacing:3px;margin-right:10px;width:102px}.story-gallery-slider__arrows{align-items:center;height:200px;justify-content:center;outline:0;padding-left:20px;position:absolute;top:0;width:auto}.story-gallery-slider__arrows--left svg,.story-gallery-slider__arrows--right svg{fill:#fff}.story-gallery-slider__caption{padding:20px 20px 20px 0}.story-gallery-slider__figure{position:relative}.story-gallery-slider__right{padding-right:20px;right:0}.most-read__item{border-bottom:1px solid #ddd;padding-bottom:20px;padding-top:20px}.uppercase{text-transform:uppercase}.hidden-label{font-size:0;height:0;overflow:hidden;width:0}[id^=gpt_]{align-items:center;display:flex;height:auto;justify-content:center}.menu{transform:translateX(-100vw);width:0}#gpt_top{height:auto;min-height:50px}.content_gpt_top_ads{background-color:#f7f8f9;height:80px;margin:auto;width:340px}.content_gpt_top_ads:before{content:\"PUBLICIDAD\";display:flex;font-size:10px;justify-content:center;margin:auto;padding-bottom:4px;padding-top:6px}.content_gpt #gpt_zocalo{height:50px;width:320px}.minuto_minuto .content_gpt_caja3,.minuto_minuto .content_gpt_caja4,.minuto_minuto .content_gpt_caja5{align-items:center;background-color:#f7f8f9;display:flex;height:290px;justify-content:center;margin:auto;padding-top:15px;position:relative;width:320px}.minuto_minuto .content_gpt_caja3:before,.minuto_minuto .content_gpt_caja4:before,.minuto_minuto .content_gpt_caja5:before{content:\"PUBLICIDAD\";font-size:10px;position:absolute;top:10px}.st-social{grid-gap:18px;align-items:flex-start;border-bottom:1px solid #c5e2f7;flex-direction:column;gap:18px;justify-content:center;margin:0 0 20px;padding:20px}.st-social__txt{align-items:center;color:#333;display:flex;flex-wrap:wrap;font:700 1.1rem/1 Lato;text-transform:capitalize}.st-social__link{margin-right:20px;text-overflow:ellipsis;white-space:nowrap}.st-social__tooltdiv{display:flex}.st-social__share{display:flex;justify-content:flex-end}.st-social__tag{height:28.85px;width:100px}.share-btn{border:1px solid #8a8a8a;border-radius:50%;height:29px;line-height:0;margin-right:10px;padding:0;width:29px}.share-btn svg{fill:#8a8a8a;height:15px}.share-btn--stroke{fill:transparent}.share-btn--ws svg{height:35px}.share-btn--copy{fill:#8a8a8a;color:#8a8a8a;font-family:Lato;font-weight:700;height:30px;line-height:0;padding:0 5px 0 0;text-transform:uppercase}.share-btn--copy svg{margin-right:5px}.share-btn.s-lk svg{height:18px}.sht__title{font:900 24px/1.166 Lato;font-family:Exo,sans-serif}.sht__summary,.sht__title{color:#000;padding:0 20px 20px}.sht__summary{font:300 22px/1.33 Lato;font-family:Exo,sans-serif}.sht__list{list-style-type:disc;padding:0 40px 30px 20px}.sht__list li{color:#000;font-size:19px;line-height:26px;margin-bottom:10px}.sht__list li a{font-weight:700;text-decoration:underline}.sht__link:hover{text-decoration:none}.nav{background-color:#0c70bf;height:46px;max-width:980px;padding:0 15px;z-index:5}.nav__p-logo{display:block;left:50%;top:0;transform:translateX(-50%)}.nav__s-logo{display:none}.nav__story-title{-webkit-box-orient:vertical;-webkit-line-clamp:1;color:#444;display:none;font-family:Exo,sans-serif;font-size:14px;font-weight:700;line-height:1.4;margin:auto;padding:0 15px;width:300px}.nav__story-social-network{display:none;padding-right:30px}.nav__search-box{border-right:1px solid #0c70bf;display:none;height:20px}.nav__sl{height:0;width:0}.nav__i-search{border-radius:4px;height:30px;outline:none;padding:5px 40px 5px 5px;text-indent:0;transition:width .25s cubic-bezier(.49,.37,.445,.715);width:0;will-change:width}.nav__i-search.active{border:1px solid #0c70bf;padding-left:8px;width:200px}.nav__btn--search{outline:0;padding:6px 10px;position:absolute;right:0;top:0}.nav__btn--search svg{fill:#0c70bf}.nav__list{padding-left:15px;width:1000px}.nav__list-container{display:none;height:46px;max-width:560px;overflow:hidden}.nav__list-item{padding-right:15px}.nav__list-link{color:#0c70bf;font-size:.8rem;text-transform:uppercase}.nav__logo{height:46px;padding:10px 0}.nav__btn--section{border-right:1px solid #fff;padding-right:10px;position:relative}.nav__btn--section:after{background-color:#0c70bf;content:\"\";height:20px;position:absolute;right:0;width:1px}.nav__btn--section svg{fill:#fff}.nav__btn--section span{color:#fff;display:none}.nav__container-right{right:15px;top:5px}.nav__btn-sign{background-color:#fff;border-radius:50%;color:#0c70bf;display:flex;font:700 14px/16px Lato;height:34px;justify-content:center;margin:0 4px;width:34px}.nav__btn-sign i{font-style:normal}.nav__btn-sign svg{fill:#0c70bf;height:18px}.nav__btn-sign span{display:none}.nav.active{background-color:#fff;height:46px;max-width:980px;position:fixed;position:sticky;top:0;width:100%}.nav.active .nav__list-container,.nav.active .nav__search-box{display:none}.nav.active .nav__story-title{display:-webkit-box}.nav.active .nav__story-social-network{display:block}.nav.active .nav__p-logo{display:none}.nav.active .nav__btn--section svg{fill:#0c70bf}.nav.active .nav__btn--section span{color:#0c70bf}.nav.active .nav__wrapper{justify-content:space-between}.story-header__link{fill:#8a8a8a;border:1px solid #8a8a8a;border-radius:50%;height:23px;line-height:0;margin-right:15px;padding:0;width:23px}.header,.nav-sidebar,.story-content__more-link{display:none}.header{background-color:#0c70bf;height:58px}.header__logo{height:34px;width:auto}.header__nav{display:none;padding:0 15px}.header__tags{-ms-grid-row-align:center;align-self:center;color:#555;font-size:9px;font-weight:700;margin-right:20px;white-space:nowrap}.header__featured{padding-right:20px}.header__item{white-space:nowrap}.header__item:after{background-color:#ebebeb;content:\"\";display:block;height:80%;margin:0 20px;width:1px}.header__link{color:#555;font-size:14px;font-weight:700;letter-spacing:.02rem;padding:10px;text-transform:capitalize}.most-read{content-visibility:auto;contain-intrinsic-size:320px}.most-read__title{align-items:center;background-color:#c5e2f7;font:700 15px/26px Lato;height:35px;padding:0 20px;text-transform:capitalize}.most-read__link{color:#0c70bf}.most-read__logo{padding-right:10px}.most-read__item{border-bottom:1px solid #c5e2f7;margin:0 20px;padding:15px 0}.most-read__item:last-child{border-width:0}.most-read__multimedia{height:72px;margin-right:9px}.most-read__img{-o-object-fit:cover;object-fit:cover;width:110px}.most-read__txt{-webkit-box-orient:vertical;-webkit-line-clamp:4;color:#333;display:-webkit-box;font:400 13px/1.3333 Exo,sans-serif;letter-spacing:0;max-height:69px;opacity:1;overflow:hidden}.b-news{justify-content:space-between;margin-top:10px;padding:0 20px}.b-news__close{padding:0 0 0 15px;text-align:right;width:60px}.b-news__close button:focus{outline:0}.b-news__link{color:#fff;display:inline-block;font-size:1.3rem;line-height:1.3;padding:15px 0}.b-news__tag{padding-right:8px;text-transform:uppercase}.b-news__tag,.b-news__title{font-weight:700}.b-news__envivo-border{height:20px;margin-top:2px;opacity:.16;width:20px}.b-news__envivo,.b-news__envivo-border{background-color:#dd0009;border-radius:50%;float:left}.b-news__envivo{height:8px;margin-left:-14px;margin-right:15px;margin-top:8px;width:8px}.b-news--bgcolor-1,.b-news--color-1,.breaking-news--bgcolor-1,.breaking-news--color-1{background-color:#ed1c24}.b-news--bgcolor-2,.b-news--color-2,.breaking-news--bgcolor-2,.breaking-news--color-2{background-color:#000}.b-news--bgcolor-3,.b-news--color-3,.breaking-news--bgcolor-3,.breaking-news--color-3{background:#ededed 0 0 no-repeat padding-box;border-bottom:1px solid #ddd;border-left:3px solid #000}.breaking-news{color:#fff;display:flex;justify-content:space-between;margin-top:10px;padding:15px 20px}.breaking-news__tag{font-size:1.3rem;padding-right:8px}.breaking-news__link{color:#fff;display:inline;font-size:1.3rem;font-weight:700;line-height:1.3}.breaking-news__btn-close{padding:0 0 0 15px}.b-news__icon,.breaking-news__btn-close>svg{fill:#fff;height:24px;width:24px}.stick{bottom:55px;padding:0 20px;position:fixed;z-index:3}.stick.hidden{display:none}.stick__content{background-color:#fff;border-radius:5px;box-shadow:0 0 24px 0 #969696;padding:10px}.stick__close-app{background:#434343;border-radius:50%;font-size:8px;height:16px;left:-5px;top:-5px;width:16px}.stick__description{color:#b3b3b3;font-family:Lato;font-size:14px;padding:0 10px;text-align:center}.stick__button{background:#00b562;color:#fff;cursor:pointer;font-family:Lato;font-size:13px;padding:10px;text-align:center;width:124px}.st-sidebar__container{background:#fff;margin:0 auto}.st-sidebar__content{flex-direction:column;margin:20px 0;width:100%}.st-sidebar__main{margin-bottom:20px;width:100%}.sh,.st-sidebar__side{width:100%}.sh{align-items:center;background-color:#f4f4f4;display:flex;font-size:12px;justify-content:space-between;margin:0 auto;max-width:980px;padding:0 15px;z-index:2}.sh .share-btn{border:none;margin:9px 10px 6px 0}.sh__logo{display:none}.sh__wrap-share{display:flex}.sh__next-story-button{align-items:center;background-color:#fff828;border:1px solid #ddd;border-radius:4px;display:flex;font-weight:700;margin:9px 10px 6px 0;padding:6px 14px}.sh__next-story-button__arrow{font-size:1.1rem;margin-left:5px}.wrap-sh{left:0;position:fixed;top:0;width:100%;z-index:4}.h-continuous{background-color:#0c70bf;height:48px}.h-continuous__img{height:34px}.h-continuous__anchor{background-color:transparent;height:50px;padding-bottom:20px;right:0;transform:rotate(-90deg);width:50px}.h-continuous__svg{fill:#fff}.s-multimedia{padding:0 20px}.s-multimedia,.s-multimedia__caption{font-family:Lato;font-size:13px;letter-spacing:0}.s-multimedia__caption{color:#333;font-weight:400;line-height:1.3;padding-bottom:10px;padding-top:10px}.s-multimedia__caption a{color:#306d95}.s-multimedia__audio{padding-top:10px}.s-multimedia__image{-o-object-fit:cover;height:auto;object-fit:cover}.s-multimedia__lL-video,.s-multimedia__p-default{background-color:#000;height:157px}.s-multimedia .paper-nav img{height:auto}.ad-lateral{display:none;overflow:hidden;width:0}div#ads_d_vslider{bottom:0;position:fixed;right:0}.container-publicidad{margin:0!important}.st-special-t{padding:20px 20px 0;text-align:center}.st-special-t__note{font-family:Lato;padding:20px 0}.links-band{border-bottom:1px solid #e1e1e1;border-top:1px solid #e1e1e1;font-family:Lato;font-size:12px;justify-content:start;padding:0 10px}.links-band__txt{font-weight:700}.links-band__link,.links-band__txt{padding:10px 7px;white-space:nowrap}.links-band__link{color:#333}.story-content__gallery-img{-o-object-fit:cover;height:200px;object-fit:cover}.lay-foot{contain-intrinsic-size:400px;content-visibility:auto;background-color:#333;color:#fff;flex-direction:column;font:400 11px/1.5 Lato;padding:20px}.lay-foot__logo{margin-bottom:20px}.lay-foot__img{display:block;height:33px;margin:0 auto}.lay-foot__item{margin-bottom:10px;padding:0 20px;text-align:center}.lay-foot__legal{align-items:center;flex-direction:column;max-width:700px}.story-contents{margin-bottom:25px;padding:25px 20px 20px}.story-contents__blockquote{font:400 18px/1.33 Roboto,sans-serif;margin:40px 0 40px 15px;padding:20px 20px 20px 36px}.story-contents__author{font-size:16px;padding-bottom:10px}.story-contents__font-paragraph{font-size:16px;line-height:1.5;padding:10px 0}.story-contents li{font-family:Exo,sans-serif;font-size:16.9px;line-height:1.5;margin-bottom:20px}.story-contents__caption{font-size:13px;line-height:1.3;margin-bottom:10px;padding:10px 0}.story-contents__image{-o-object-fit:contain;aspect-ratio:var(--aspect-ratio);height:auto;object-fit:contain}.story-content__link-list-figure img{height:64px;width:96px}.st-tags{margin:25px 0;padding:0 20px}.st-tags__title{font:700 11px/18px Lato;padding-bottom:10px}.st-tags__tag,.st-tags__title{display:inline-block}.st-tags__box{flex:1 1}.st-tags__link{display:block;font-size:.9rem;letter-spacing:.28px;margin:0 10px 10px 0;padding:5px 10px}.st-tags__link span{display:none}.story-google-news__container{border:1px solid #ddd;height:90px;margin:20px}.story-google-news__link{align-items:center;display:flex;font-family:Exo,sans-serif;font-size:16px;height:100%;justify-content:center;letter-spacing:0;line-height:18px;width:100%}.story-google-news__letter-container{margin-left:5px;margin-right:5px}.link-site{margin:20px;padding-top:20px}.link-site__image{height:100px;width:130px}.link-site__pic{display:block;margin-right:10px}.link-site__header{margin-bottom:15px;padding-bottom:10px}.link-site__h-text{font-size:1.3rem}.link-site__subtitle{font-size:.9rem;line-height:18px}.link-site__title-link{display:block;font-size:16px;font-weight:700;letter-spacing:.08px;line-height:1.3333;max-height:80px}.link-site__item{margin-bottom:15px;padding-bottom:15px;padding-top:15px}.story-contents__about-author-image{height:64px;width:64px}.error{background-color:#eae9e5;padding:40px 40px 20px;position:relative;text-align:center;width:100%}.error__icon{margin-top:103px}.error__title{color:#3c3c3c;font-family:Lato;font-size:1.1rem;font-weight:700;line-height:1.5;margin-bottom:10px;margin-top:6px}.error__content{color:#3c3c3c;display:inline-block;font-family:Exo,sans-serif;font-size:.8rem;line-height:1.5;margin:auto;max-width:400px;padding-bottom:15px;padding-top:15px}.error__title-search{color:#3c3c3c;font-family:Lato;font-size:.8rem;font-weight:400;line-height:47px;margin-top:25px}.error__search-box{margin:20px auto;max-width:524px;padding:0 15px;position:relative}.error__link{display:inline-block;font-size:.8rem;font-weight:700;line-height:1.5;padding-bottom:15px;padding-top:15px}.error .search-main-form{position:relative}.error .search-input{background:#fff 0 0 no-repeat padding-box;border:1px solid gray;border-radius:12px;box-shadow:0 8px 16px rgba(0,0,0,.16078);color:#6f6f6f;font-family:Exo,sans-serif;font-size:.8rem;height:48px;line-height:24px;padding-left:20px;width:100%}.error .search-input.focus-visible{outline:none}.error .search-input:focus-visible{outline:none}.error .search-input__btn{border:2px solid #2b2e34;border-radius:50%;height:15px;position:absolute;right:40px;top:14px;width:15px}.error .search-input__btn:before{display:none}.error .search-input__btn:after{background-color:#2b2e34;border-radius:10px;content:\"\";display:block;height:4px;left:8px;position:absolute;top:6px;transform:rotate(40deg);transform-origin:-1px 5px;width:12px}@media screen and (min-width:640px){html{font-size:14px}.story-gallery-slider__arrows{height:360px}.st-social{grid-gap:unset;align-items:center;flex-direction:row;gap:unset;justify-content:space-between}.share-btn{margin-right:15px}.share-btn--ws{display:none}.sht__title{font-size:44px}.nav__btn--section span{display:block;font-size:.8rem;font-weight:700;margin-left:8px}#icon-whatsapp{display:none}.header__nav{display:flex;max-width:980px}.stick{display:none}.st-sidebar__container{width:620px}.sh__logo{display:block}.story-content__gallery-img{height:360px}.link-site__image{height:135px;width:100%}.link-site__list{flex-direction:row;flex-wrap:wrap;justify-content:space-between}.link-site__title-link{font-size:1rem;max-height:60px}.link-site__item{flex-direction:column;max-width:calc(33.33333% - 10px);padding-bottom:0;padding-top:0}}@media screen and (min-width:1024px){html{font-size:16px}.story-gallery-slider__arrows{height:528px}#gpt_caja1{height:auto;margin-bottom:20px;min-height:250px}#gpt_caja2{top:0}.content_gpt_top_ads{height:120px;overflow:hidden;top:6px;width:970px}.content_gpt_caja1_ads,.content_gpt_caja2_ads,.content_gpt_top_ads{align-items:center;background-color:#f7f8f9;justify-content:center;margin:auto}.content_gpt_caja1_ads,.content_gpt_caja2_ads{display:flex;height:640px;padding-top:25px;position:relative;width:300px}.content_gpt_caja1_ads:before,.content_gpt_caja2_ads:before{content:\"PUBLICIDAD\";font-size:10px;position:absolute;top:10px}.content_gpt_caja2_ads{position:sticky!important;top:0}.content_gpt #gpt_zocalo{height:90px;width:728px}.share-btn{height:35px;width:35px}.share-btn svg{height:17px}.share-btn.s-lk svg{height:22px}.sht__title{font-size:47px}.sht__list li{font-size:20px;line-height:1.5}.nav{background-color:#fff}.nav__p-logo{display:none}.nav__story-title{left:30%;margin:0;position:absolute;width:460px}.nav__story-social-network{padding-right:0}.nav__search-box{display:flex}.nav__list-container{display:block}.nav__btn--section svg{fill:#0c70bf}.nav__btn--section span{color:#0c70bf}.nav__btn-sign{border:1px solid #0c70bf;border-radius:4px;height:auto;min-width:80px;padding:8px 12px;width:auto}.nav__btn-sign i{display:none}.nav__btn-sign span{display:block}.nav.active .nav__s-logo{display:block;left:20%;top:0;transform:translateX(-50%)}.nav.active .nav__btn-sign{display:none}.header{display:flex;max-width:980px}.most-read{margin:0}.st-sidebar__container{min-width:980px}.st-sidebar__content{flex-direction:row;flex-wrap:wrap}.st-sidebar__main{margin-bottom:0;padding-right:10px;width:calc(100% - 313px)}.st-sidebar__side{padding-left:10px;width:313px}.st-sidebar__side>[class]{margin-bottom:20px}.h-continuous{height:60px}.h-continuous__img{height:40px}.s-multimedia__caption{font-size:16px}.s-multimedia__embed{padding:0 20px}.s-multimedia__image--big{height:528px}.s-multimedia__lL-video,.s-multimedia__p-default{height:345px}.ad-lateral{display:flex;flex-grow:0;flex-shrink:0;height:-webkit-fit-content;height:-moz-fit-content;height:fit-content;overflow:visible;overflow:initial;position:fixed;top:0;width:160px}.ad-lateral--r{transform:translateX(570px)}.ad-lateral--l{transform:translateX(-570px)}.story-content__gallery-img{height:528px}.lay-foot{flex-direction:row}.lay-foot__logo{margin-bottom:0}.lay-foot__img{height:43px}.lay-foot__item{border-right:1px solid #fff;margin-bottom:0;text-align:left;width:33.33333%}.lay-foot__item:last-child{border:none}.lay-foot__legal{align-items:stretch;flex-direction:row}}@media screen and (max-width:1024px){div[role=main]{pointer-events:auto}}@media screen and (max-width:639px){.jwplayer-lazy{height:180px}.jwplayer-lazy a{-webkit-animation-name:a;-webkit-animation-timing-function:b;animation-name:a;animation-timing-function:b}.content_gpt_caja3,.content_gpt_caja4,.content_gpt_caja5{align-items:center;background-color:#f7f8f9;display:flex;height:290px;justify-content:center;margin:auto;max-width:320px;padding-top:15px;position:relative;width:auto}.content_gpt_caja3:before,.content_gpt_caja4:before,.content_gpt_caja5:before{content:\"PUBLICIDAD\";font-size:10px;position:absolute;top:10px}.st-social__tooltdiv{display:block}.story-header__link{margin:0}.story-header__item{margin-bottom:10px}.story-header__item:last-child{margin-bottom:0}.story-header__list{background-color:#fff;box-shadow:-1px 7px 11px rgba(0,0,0,.3);display:none;flex-direction:column;padding:10px;position:absolute;right:-10px;top:30px;width:auto;z-index:1}.story-header__list.active{display:flex}.b-news__envivo,.b-news__envivo-border{display:none}.st-special-t__note{font-size:18px}.error__icon{height:79px;width:79px}.error__title{margin-top:14px}.error__content{margin-top:4px;max-width:296px}.error__title-search{font-size:.6rem;line-height:28px;margin:34px auto auto;max-width:294px}}@media print{[id^=gpt_]{display:none}.stick__content{display:none!important}.story-content__gallery-img{width:815px}}\\n</style><script async=\"\" type=\"text/javascript\"> var _sf_startpt = new Date().getTime(); var _sf_async_config = _sf_async_config || {};_sf_async_config.uid = 57773;_sf_async_config.domain = \"peru21.pe\";_sf_async_config.flickerControl = false;_sf_async_config.useCanonical = true;_sf_async_config.sections = \"lima,peru21-epaper,periodico-digital\"; _sf_async_config.authors = \\'Redacción PERÚ21\\'; _sf_async_config.type = \\'imagen\\'; _sf_async_config.contentType = \"Articulo Nota Simple\"; !function(){!function(){window._sf_endpt=(new Date).getTime();var t=document.createElement(\"script\"),e=document.getElementsByTagName(\"script\")[0];t.type=\"text/javascript\",t.async=!0,t.src=\"//static.chartbeat.com/js/chartbeat.js\",e.parentNode.insertBefore(t,e)}()}();</script><script async=\"\" src=\"//static.chartbeat.com/js/chartbeat_mab.js\"></script><script>(function(w,d,s,l,i){w[l]=w[l]||[]\\n    w[l].push({\\'gtm.start\\':new Date().getTime(),event:\\'gtm.js\\',}); var f=d.getElementsByTagName(s)[0],j=d.createElement(s),dl=l!=\\'dataLayer\\'?\\'&l=\\'+l:\\'\\'; j.async=!0;    j.src=\\'https://www.googletagmanager.com/gtm.js?id=\\'+i+dl; f.parentNode.insertBefore(j,f)})(window,document,\\'script\\',\\'dataLayer\\',\\'GTM-KKQFJ3Z\\')</script><script type=\"text/javascript\" src=\"https://btloader.com/tag?o=5634903914840064&amp;upapi=true\" async=\"\"></script><script type=\"text/javascript\"><script type=\"text/javascript\"> var _rl_cn = _rl_cn || 0,_rl_ptc = (\"https:\" == window.location.protocol ? \"https\" : \"http\"); window._rl_ids = window._rl_ids || []; window._rely = window._rely || []; _rl_ids.push({pid:1433,src:0}); _rely.send = _rely.send?_rely.send:function() {}; (function() { var rl = document.createElement(\"script\"); rl.type = \"text/javascript\"; rl.async = true; rl.src = _rl_ptc + \"://api.retargetly.com/loader?id=\" + _rl_ids[_rl_ids.length-1].pid; rl.id = \"rely-api-\"+(_rl_cn++); var s = document.getElementsByTagName(\"script\")[0]; s.parentNode.insertBefore(rl, s); })(); </script>\\n<script>(window.BOOMR_mq=window.BOOMR_mq||[]).push([\"addVar\",{\"rua.upush\":\"false\",\"rua.cpush\":\"true\",\"rua.upre\":\"false\",\"rua.cpre\":\"true\",\"rua.uprl\":\"false\",\"rua.cprl\":\"false\",\"rua.cprf\":\"false\",\"rua.trans\":\"SJ-8ae5224b-430f-42de-87c3-46332c3b7e85\",\"rua.cook\":\"false\",\"rua.ims\":\"false\",\"rua.ufprl\":\"false\",\"rua.cfprl\":\"true\",\"rua.isuxp\":\"false\",\"rua.texp\":\"norulematch\"}]);</script>\\n                              <script>!function(e){var n=\"https://s.go-mpulse.net/boomerang/\";if(\"False\"==\"True\")e.BOOMR_config=e.BOOMR_config||{},e.BOOMR_config.PageParams=e.BOOMR_config.PageParams||{},e.BOOMR_config.PageParams.pci=!0,n=\"https://s2.go-mpulse.net/boomerang/\";if(window.BOOMR_API_key=\"PXXBQ-AUAJ8-CE4UL-QQXPK-9F9DK\",function(){function e(){if(!o){var e=document.createElement(\"script\");e.id=\"boomr-scr-as\",e.src=window.BOOMR.url,e.async=!0,i.parentNode.appendChild(e),o=!0}}function t(e){o=!0;var n,t,a,r,d=document,O=window;if(window.BOOMR.snippetMethod=e?\"if\":\"i\",t=function(e,n){var t=d.createElement(\"script\");t.id=n||\"boomr-if-as\",t.src=window.BOOMR.url,BOOMR_lstart=(new Date).getTime(),e=e||d.body,e.appendChild(t)},!window.addEventListener&&window.attachEvent&&navigator.userAgent.match(/MSIE [67]\\\\./))return window.BOOMR.snippetMethod=\"s\",void t(i.parentNode,\"boomr-async\");a=document.createElement(\"IFRAME\"),a.src=\"about:blank\",a.title=\"\",a.role=\"presentation\",a.loading=\"eager\",r=(a.frameElement||a).style,r.width=0,r.height=0,r.border=0,r.display=\"none\",i.parentNode.appendChild(a);try{O=a.contentWindow,d=O.document.open()}catch(_){n=document.domain,a.src=\"javascript:var d=document.open();d.domain=\\'\"+n+\"\\';void(0);\",O=a.contentWindow,d=O.document.open()}if(n)d._boomrl=function(){this.domain=n,t()},d.write(\"<bo\"+\"dy onload=\\'document._boomrl();\\'>\");else if(O._boomrl=function(){t()},O.addEventListener)O.addEventListener(\"load\",O._boomrl,!1);else if(O.attachEvent)O.attachEvent(\"onload\",O._boomrl);d.close()}function a(e){window.BOOMR_onload=e&&e.timeStamp||(new Date).getTime()}if(!window.BOOMR||!window.BOOMR.version&&!window.BOOMR.snippetExecuted){window.BOOMR=window.BOOMR||{},window.BOOMR.snippetStart=(new Date).getTime(),window.BOOMR.snippetExecuted=!0,window.BOOMR.snippetVersion=12,window.BOOMR.url=n+\"PXXBQ-AUAJ8-CE4UL-QQXPK-9F9DK\";var i=document.currentScript||document.getElementsByTagName(\"script\")[0],o=!1,r=document.createElement(\"link\");if(r.relList&&\"function\"==typeof r.relList.supports&&r.relList.supports(\"preload\")&&\"as\"in r)window.BOOMR.snippetMethod=\"p\",r.href=window.BOOMR.url,r.rel=\"preload\",r.as=\"script\",r.addEventListener(\"load\",e),r.addEventListener(\"error\",function(){t(!0)}),setTimeout(function(){if(!o)t(!0)},3e3),BOOMR_lstart=(new Date).getTime(),i.parentNode.appendChild(r);else t(!1);if(window.addEventListener)window.addEventListener(\"load\",a,!1);else if(window.attachEvent)window.attachEvent(\"onload\",a)}}(),\"\".length>0)if(e&&\"performance\"in e&&e.performance&&\"function\"==typeof e.performance.setResourceTimingBufferSize)e.performance.setResourceTimingBufferSize();!function(){if(BOOMR=e.BOOMR||{},BOOMR.plugins=BOOMR.plugins||{},!BOOMR.plugins.AK){var n=\"true\"==\"true\"?1:0,t=\"\",a=\"ugcownfn335eaznc427q-f-cbb774005-clientnsv4-s.akamaihd.net\",i=\"false\"==\"true\"?2:1,o={\"ak.v\":\"36\",\"ak.cp\":\"850260\",\"ak.ai\":parseInt(\"543265\",10),\"ak.ol\":\"0\",\"ak.cr\":33,\"ak.ipv\":4,\"ak.proto\":\"h2\",\"ak.rid\":\"72658a88\",\"ak.r\":40139,\"ak.a2\":n,\"ak.m\":\"\",\"ak.n\":\"ff\",\"ak.bpcip\":\"161.132.235.0\",\"ak.cport\":23161,\"ak.gh\":\"173.222.250.60\",\"ak.quicv\":\"\",\"ak.tlsv\":\"tls1.3\",\"ak.0rtt\":\"\",\"ak.csrc\":\"-\",\"ak.acc\":\"\",\"ak.t\":\"1705174719\",\"ak.ak\":\"hOBiQwZUYzCg5VSAfCLimQ==nAAclJVbegK9oTzo62rcvHtPwO0SypHDyGsiwLIv3FSZlhaYOqBPbJxfCjsZsq8ZvruQOdd4Pn23oHNexUqSa28XR1GgtHX2apnYCw5BVvGEtcT1Eusr6TnZpg3H7cN66z5BjyjyOrqmv6nP+/HttAf/S7tpxosYg76VxLJi5AQCXlJBGweaLStXmSFBYAk21kTv1M/RMGUXC7lv44s5CBIbW2BZ/B9pt+wwJxxoEfMJLYeo6hCsKytEboHtpBsNyX7QFIJToi4hnT+8KS+0D/yuFWBFnu6twSMbczL5+egzmXGaAtp0CHMHHE0KkvOK2o+fraMj9oP6k8DD46RbxkBj5wBtff38l77TauOqBDxv69jkj8cj9R3NKiSSwi0ijFRkXy3tV9uKaTyIONYmbIagwOz8eCYZwLOqaV1HSB8=\",\"ak.pv\":\"55\",\"ak.dpoabenc\":\"\",\"ak.tf\":i};if(\"\"!==t)o[\"ak.ruds\"]=t;var r={i:!1,av:function(n){var t=\"http.initiator\";if(n&&(!n[t]||\"spa_hard\"===n[t]))o[\"ak.feo\"]=void 0!==e.aFeoApplied?1:0,BOOMR.addVar(o)},rv:function(){var e=[\"ak.bpcip\",\"ak.cport\",\"ak.cr\",\"ak.csrc\",\"ak.gh\",\"ak.ipv\",\"ak.m\",\"ak.n\",\"ak.ol\",\"ak.proto\",\"ak.quicv\",\"ak.tlsv\",\"ak.0rtt\",\"ak.r\",\"ak.acc\",\"ak.t\",\"ak.tf\"];BOOMR.removeVar(e)}};BOOMR.plugins.AK={akVars:o,akDNSPreFetchDomain:a,init:function(){if(!r.i){var e=BOOMR.subscribe;e(\"before_beacon\",r.av,null,null),e(\"onbeacon\",r.rv,null,null),r.i=!0}return this},is_complete:function(){return!0}}}}()}(window);</script><link href=\"https://s.go-mpulse.net/boomerang/PXXBQ-AUAJ8-CE4UL-QQXPK-9F9DK\" rel=\"preload\" as=\"script\"><script id=\"boomr-scr-as\" src=\"https://s.go-mpulse.net/boomerang/PXXBQ-AUAJ8-CE4UL-QQXPK-9F9DK\" async=\"\"></script><script>\\n    window.teads_analytics = window.teads_analytics || {};\\n    window.teads_analytics.analytics_tag_id = \"PUB_25775\";\\n    window.teads_analytics.share = window.teads_analytics.share || function() {\\n    ;(window.teads_analytics.shared_data = window.teads_analytics.shared_data || []).push(arguments)\\n    };\\n  </script><script src=\"https://a.teads.tv/analytics/tag.js\"></script><link rel=\"stylesheet\" type=\"text/css\" href=\"https://d1r08wok4169a5.cloudfront.net/gpt-adtmp/ads-formats-v2/public/css/ads-styles-desktop.css\"><meta http-equiv=\"origin-trial\" content=\"AymqwRC7u88Y4JPvfIF2F37QKylC04248hLCdJAsh8xgOfe/dVJPV3XS3wLFca1ZMVOtnBfVjaCMTVudWM//5g4AAAB7eyJvcmlnaW4iOiJodHRwczovL3d3dy5nb29nbGV0YWdtYW5hZ2VyLmNvbTo0NDMiLCJmZWF0dXJlIjoiUHJpdmFjeVNhbmRib3hBZHNBUElzIiwiZXhwaXJ5IjoxNjk1MTY3OTk5LCJpc1RoaXJkUGFydHkiOnRydWV9\"><script type=\"text/javascript\" async=\"\" src=\"https://googleads.g.doubleclick.net/pagead/viewthroughconversion/927566352/?random=1705174720363&amp;cv=11&amp;fst=1705174720363&amp;bg=ffffff&amp;guid=ON&amp;async=1&amp;gtm=45He41a0v812735002&amp;gcd=11l1l1l1l1&amp;dma=0&amp;u_w=1920&amp;u_h=1080&amp;url=https%3A%2F%2Fperu21.pe%2Flima%2Fperu21-epaper-una-experiencia-sin-limites-noticia%2F&amp;hn=www.googleadservices.com&amp;frm=0&amp;tiba=Per%C3%BA21%20ePaper%3A%20una%20experiencia%20sin%20l%C3%ADmites%20%7C%20LIMA%20%7C%20PERU21&amp;uaa=x86&amp;uab=64&amp;uafvl=Not_A%2520Brand%3B8.0.0.0%7CChromium%3B120.0.6099.217%7CGoogle%2520Chrome%3B120.0.6099.217&amp;uamb=0&amp;uap=Windows&amp;uapv=10.0.0&amp;uaw=0&amp;rfmt=3&amp;fmt=4\"></script><meta http-equiv=\"origin-trial\" content=\"AymqwRC7u88Y4JPvfIF2F37QKylC04248hLCdJAsh8xgOfe/dVJPV3XS3wLFca1ZMVOtnBfVjaCMTVudWM//5g4AAAB7eyJvcmlnaW4iOiJodHRwczovL3d3dy5nb29nbGV0YWdtYW5hZ2VyLmNvbTo0NDMiLCJmZWF0dXJlIjoiUHJpdmFjeVNhbmRib3hBZHNBUElzIiwiZXhwaXJ5IjoxNjk1MTY3OTk5LCJpc1RoaXJkUGFydHkiOnRydWV9\"><meta http-equiv=\"origin-trial\" content=\"AymqwRC7u88Y4JPvfIF2F37QKylC04248hLCdJAsh8xgOfe/dVJPV3XS3wLFca1ZMVOtnBfVjaCMTVudWM//5g4AAAB7eyJvcmlnaW4iOiJodHRwczovL3d3dy5nb29nbGV0YWdtYW5hZ2VyLmNvbTo0NDMiLCJmZWF0dXJlIjoiUHJpdmFjeVNhbmRib3hBZHNBUElzIiwiZXhwaXJ5IjoxNjk1MTY3OTk5LCJpc1RoaXJkUGFydHkiOnRydWV9\"></head><body class=\"story undefined peru21 lima gallery_slider \" itemscope=\"\" itemtype=\"http://schema.org/WebPage\"><noscript><iframe title=\"Google Tag Manager - No Script\" src=\"https://www.googletagmanager.com/ns.html?id=GTM-KKQFJ3Z\" height=\"0\" width=\"0\" style=\"display:none;visibility:hidden\"></iframe></noscript><div id=\"fusion-app\" role=\"application\"><div class=\"f f-col w-full\"><div id=\"fusion-static-enter:f0fbHRAeli3p4ne\" style=\"display:none\" data-fusion-component=\"f0fbHRAeli3p4ne\"></div><div id=\"gpt_skin\" data-ads-name=\"/28253241/peru21/web/post/snota/skin\" data-ads-dimensions=\"[[1,1]]\" data-ads-load-first=\"true\" data-bloque=\"1\"></div><div id=\"fusion-static-exit:f0fbHRAeli3p4ne\" style=\"display:none\" data-fusion-component=\"f0fbHRAeli3p4ne\"></div><section class=\"st-sidebar__container f f-col w-full pos-rel\"><div id=\"fusion-static-enter:f0f5iScoli3p4mM\" style=\"display:none\" data-fusion-component=\"f0f5iScoli3p4mM\"></div><nav class=\"nav w-full f alg-center\"><div class=\"nav__wrapper f alg-center w-full\"><div class=\"nav__search-box alg-center\"><form class=\"f pos-rel alg-center\" id=\"header-search-form\"><input id=\"header-search-input\" type=\"search\" placeholder=\"¿Qué Buscas?\" class=\"nav__i-search\" value=\"\"><label for=\"header-search-input\" class=\"nav__sl oflow-h\">Cuadro de búsqueda</label><button class=\"nav__btn--search nav__btn f alg-center\" type=\"submit\" title=\"abrir cuadro de búsqueda\" alt=\"abrir cuadro de búsqueda\"><svg xmlns=\"http://www.w3.org/2000/svg\" class=\"h-basic__search\" width=\"19\" height=\"19\" viewBox=\"0 0 14 14\"><path d=\"M13.2 12.4L9.2 8.3C9.8 7.5 10.1 6.5 10.1 5.4 10.1 4.2 9.6 3 8.8 2.1 7.9 1.2 6.7 0.8 5.4 0.8 4.2 0.8 3 1.2 2.1 2.1 1.2 3 0.8 4.2 0.8 5.4 0.8 6.7 1.2 7.9 2.1 8.8 3 9.6 4.2 10.1 5.4 10.1 6.5 10.1 7.5 9.8 8.3 9.2L12.4 13.2C12.4 13.2 12.4 13.2 12.4 13.2 12.4 13.2 12.4 13.3 12.4 13.3 12.5 13.3 12.5 13.2 12.5 13.2 12.5 13.2 12.5 13.2 12.5 13.2L13.2 12.5C13.2 12.5 13.2 12.5 13.2 12.5 13.2 12.5 13.3 12.5 13.3 12.4 13.3 12.4 13.2 12.4 13.2 12.4 13.2 12.4 13.2 12.4 13.2 12.4V12.4ZM7.9 7.9C7.3 8.6 6.4 8.9 5.4 8.9 4.5 8.9 3.6 8.6 3 7.9 2.3 7.3 1.9 6.4 1.9 5.4 1.9 4.5 2.3 3.6 3 3 3.6 2.3 4.5 1.9 5.4 1.9 6.4 1.9 7.3 2.3 7.9 3 8.6 3.6 8.9 4.5 8.9 5.4 8.9 6.4 8.6 7.3 7.9 7.9Z\"></path></svg></button></form></div><div class=\"nav__list-container\"><ul class=\"nav__list h-full f\"><li class=\"nav__list-item h-full\"><a itemprop=\"url\" href=\"/ultimas-noticias/\" class=\"nav__list-link f alg-center h-full\">Últimas Noticias</a></li><li class=\"nav__list-item h-full\"><a itemprop=\"url\" href=\"/politica/\" class=\"nav__list-link f alg-center h-full\">Política</a></li><li class=\"nav__list-item h-full\"><a itemprop=\"url\" href=\"/videos\" class=\"nav__list-link f alg-center h-full\">Videos</a></li><li class=\"nav__list-item h-full\"><a itemprop=\"url\" href=\"/peru/\" class=\"nav__list-link f alg-center h-full\">Perú</a></li><li class=\"nav__list-item h-full\"><a itemprop=\"url\" href=\"/lima/\" class=\"nav__list-link f alg-center h-full\">Lima</a></li><li class=\"nav__list-item h-full\"><a itemprop=\"url\" href=\"/economia/\" class=\"nav__list-link f alg-center h-full\">Economía</a></li><li class=\"nav__list-item h-full\"><a itemprop=\"url\" href=\"/investigacion/\" class=\"nav__list-link f alg-center h-full\">Investigación</a></li></ul></div><a itemprop=\"url\" href=\"/\" class=\"nav__p-logo pos-abs\" title=\"Logo de peru21\"><img src=\"https://cdna.peru21.pe/resources/dist/peru21/images/white-logo.png?d=3063\" alt=\"Logo de peru21\" class=\"nav__logo\" pinger-seen=\"true\"></a><a itemprop=\"url\" href=\"/\" class=\"nav__s-logo pos-abs\" title=\"Logo de peru21\"><img src=\"https://cdna.peru21.pe/resources/dist/peru21/images/logo.png?d=3063\" alt=\"Logo de peru21\" class=\"nav__logo\" pinger-seen=\"true\"></a><div class=\"nav__story-title pos-rel oflow-h\">Recibe las noticias diariamente a las 00:30 am. Perú21 ePaper </div><div class=\"nav__story-social-network pos-rel\"><script type=\"text/javascript\">\"use strict\";window.navbarMoreList=function(){var o=document.querySelector(\".story-header__list\");o.classList.contains(\"active\")?o.classList.remove(\"active\"):o.classList.add(\"active\")},window.navbarPopUpWindow=function(o,n,t,e){var i=window.screen.width/2-t/2,c=window.screen.height/2-e/2;return window.open(o,n,\"toolbar=no, location=no, directories=no, status=no, menubar=no, scrollbars=no, resizable=no, copyhistory=no, width=\".concat(t,\", height=\").concat(e,\", top=\").concat(c,\", left=\").concat(i))};</script><div><a itemprop=\"url\" title=\"Mostrar enlaces para compartir\" class=\"story-content__more-link f alg-center just-center\" href=\"/\" id=\"icon-showMoreNavbar\"><svg xmlns=\"http://www.w3.org/2000/svg\" width=\"11\" height=\"11\" viewBox=\"0 0 23 23\"><path d=\"M13.493,2.737,2.67,8.15,2.026,6.862,12.849,1.452Zm-.644,13.376L2.026,10.7l.646-1.287,10.823,5.412-.644,1.286Z\" transform=\"translate(3.801 2.724)\" fill-rule=\"evenodd\"></path><path d=\"M19.417,7.191a3.6,3.6,0,1,0-2.543-1.053A3.6,3.6,0,0,0,19.417,7.191Zm0,15.821a3.6,3.6,0,1,0-2.543-1.053A3.6,3.6,0,0,0,19.417,23.013ZM3.6,15.1a3.6,3.6,0,1,0-2.543-1.053A3.6,3.6,0,0,0,3.6,15.1Z\" transform=\"translate(0)\" fill-rule=\"evenodd\"></path></svg></a><script type=\"text/javascript\">\"use strict\";document.getElementById(\"icon-showMoreNavbar\").addEventListener(\"click\",function(e){e.preventDefault(),3===3?navbarMoreList():navbarPopUpWindow(document.getElementById(\"icon-showMoreNavbar\").href,\"\",600,400)});</script></div><ul class=\"story-header__list f just-between \"><li class=\"story-header__item\"><a itemprop=\"url\" title=\"Compartir en facebook\" alt=\"Compartir en facebook\" class=\"story-header__link f alg-center just-center\" href=\"http://www.facebook.com/sharer.php?u=https://peru21.pe/lima/peru21-epaper-una-experiencia-sin-limites-noticia/\" id=\"icon-facebook\"><script type=\"text/javascript\">\"use strict\";document.getElementById(\"icon-facebook\").addEventListener(\"click\",function(e){e.preventDefault(),3===0?navbarMoreList():navbarPopUpWindow(document.getElementById(\"icon-facebook\").href,\"\",600,400)});</script><svg xmlns=\"http://www.w3.org/2000/svg\" height=\"11\" viewBox=\"0 0 10 21\"><path d=\"M2.6 21V11.1H0V7.6H2.6V4.6C2.6 2.2 4.1 0 7.5 0 8.9 0 10 0.1 10 0.1L9.9 3.5C9.9 3.5 8.8 3.4 7.7 3.4 6.4 3.4 6.2 4 6.2 5V7.6H10L9.8 11.1H6.2V21H2.6Z\"></path></svg></a></li><li class=\"story-header__item\"><a itemprop=\"url\" title=\"Compartir en twitter\" alt=\"Compartir en twitter\" class=\"story-header__link f alg-center just-center\" href=\"https://twitter.com/intent/tweet?text=Recibe%20las%20noticias%20diariamente%20a%20las%2000%3A30%20am.%20Per%C3%BA21%20ePaper%20&amp;url=https://peru21.pe/lima/peru21-epaper-una-experiencia-sin-limites-noticia/&amp;via=peru21noticias\" id=\"icon-twitter\"><script type=\"text/javascript\">\"use strict\";document.getElementById(\"icon-twitter\").addEventListener(\"click\",function(e){e.preventDefault(),3===0?navbarMoreList():navbarPopUpWindow(document.getElementById(\"icon-twitter\").href,\"\",600,400)});</script><svg xmlns=\"http://www.w3.org/2000/svg\" height=\"11\" viewBox=\"0 0 14 12\"><path d=\"M13.5 2C13 2.2 12.5 2.3 12 2.4 12.5 2.1 12.9 1.5 13.1 0.9 12.6 1.2 12 1.4 11.4 1.6 11.2 1.3 10.9 1.1 10.6 0.9 10.2 0.8 9.9 0.7 9.5 0.7 8 0.7 6.8 1.9 6.8 3.4 6.8 3.6 6.9 3.8 6.9 4 4.7 3.9 2.7 2.8 1.4 1.2 1.2 1.6 1 2.1 1 2.6 1 3.5 1.5 4.3 2.2 4.8 1.8 4.8 1.4 4.6 1 4.4V4.5C1 5.8 1.9 6.8 3.2 7.1 2.9 7.1 2.7 7.2 2.5 7.2 2.3 7.2 2.1 7.2 2 7.1 2.3 8.2 3.3 9 4.5 9 3.5 9.7 2.4 10.1 1.1 10.1 0.9 10.1 0.7 10.1 0.5 10.1 1.7 10.8 3.1 11.3 4.6 11.3 9.5 11.3 12.2 7.2 12.2 3.7 12.2 3.6 12.2 3.5 12.2 3.4 12.7 3 13.1 2.5 13.5 2Z\"></path></svg></a></li><li class=\"story-header__item\"><a itemprop=\"url\" title=\"Compartir en linkedin\" alt=\"Compartir en linkedin\" class=\"story-header__link f alg-center just-center\" href=\"http://www.linkedin.com/shareArticle?url=https://peru21.pe/lima/peru21-epaper-una-experiencia-sin-limites-noticia/\" id=\"icon-linkedin\"><script type=\"text/javascript\">\"use strict\";document.getElementById(\"icon-linkedin\").addEventListener(\"click\",function(e){e.preventDefault(),3===0?navbarMoreList():navbarPopUpWindow(document.getElementById(\"icon-linkedin\").href,\"\",600,400)});</script><svg xmlns=\"http://www.w3.org/2000/svg\" height=\"15\" viewBox=\"0 0 24 24\"><path d=\"M5 7.2C6.2 7.2 7.2 6.2 7.2 5 7.2 3.8 6.2 2.8 5 2.8 3.8 2.8 2.8 3.8 2.8 5 2.8 6.2 3.8 7.2 5 7.2Z\"></path><path d=\"M9.2 8.9V21H13V15C13 13.4 13.3 11.9 15.3 11.9 17.2 11.9 17.2 13.7 17.2 15.1V21H21V14.3C21 11.1 20.3 8.6 16.5 8.6 14.6 8.6 13.4 9.6 12.9 10.5H12.9V8.9H9.2V8.9ZM3.1 8.9H6.9V21H3.1V8.9Z\"></path></svg></a></li><li class=\"story-header__item\"><a itemprop=\"url\" title=\"Compartir en whatsapp\" alt=\"Compartir en whatsapp\" class=\"story-header__link f alg-center just-center\" href=\"https://api.whatsapp.com/send?text=https://peru21.pe/lima/peru21-epaper-una-experiencia-sin-limites-noticia/\" id=\"icon-whatsapp\"><script type=\"text/javascript\">\"use strict\";document.getElementById(\"icon-whatsapp\").addEventListener(\"click\",function(e){e.preventDefault(),3===0?navbarMoreList():navbarPopUpWindow(document.getElementById(\"icon-whatsapp\").href,\"\",600,400)});</script><svg xmlns=\"http://www.w3.org/2000/svg\" height=\"30\" viewBox=\"0 0 31 32\"><path fill=\"transparent\" d=\"M8 28.4L3.3 30.5 4.5 25.4C2.3 22.9 1 19.6 1 16 1 8 7.5 1.5 15.5 1.5 23.5 1.5 30 8 30 16 30 24 23.5 30.5 15.5 30.5 12.8 30.5 10.2 29.7 8 28.4Z\"></path><path d=\"M8.5 10.7C8.5 10.7 9.3 9.1 10.1 9.1 10.8 9 11.7 9 12 9.4 12.2 9.9 13.3 12.7 13.3 12.7 13.3 12.7 13.5 13.2 13.2 13.6 12.9 14.1 12.3 14.8 12.3 14.8 12.3 14.8 11.9 15.3 12.3 15.8 12.6 16.3 13.2 17.2 14.4 18.4 15.5 19.6 17.8 20.5 17.8 20.5 17.8 20.5 18.1 20.5 18.3 20.3 18.5 20.1 19.7 18.7 19.7 18.7 19.7 18.7 20 18.2 20.6 18.5 21.2 18.7 23.8 20.1 23.8 20.1 23.8 20.1 24.1 20.2 24.1 20.6 24.1 21.1 23.9 22.2 23.5 22.6 23.1 23 22 24.2 20.4 24.2 18.7 24.2 14.8 22.8 12.7 20.7 10.6 18.5 8.7 16.4 8.3 14.4 7.9 12.4 7.9 11.5 8.5 10.7Z\"></path></svg></a></li></ul></div><div class=\"nav__container-right pos-abs \"><div class=\"header__btn-container f alg-center justify-end\"></div></div></div></nav><div id=\"nav-pointer\"></div><script type=\"text/javascript\">\\n          \"use strict\";document.addEventListener(\"DOMContentLoaded\",function(){if(\"IntersectionObserver\"in window){var e=document.getElementById(\"nav-pointer\"),t=document.querySelector(\"nav\");new IntersectionObserver(function(s){s.forEach(function(s){s.isIntersecting?(t.classList.remove(\"active\"),e.classList.remove(\"scrolled\")):(t.classList.add(\"active\"),e.classList.add(\"scrolled\"))})}).observe(e)}else{var s=document.querySelector(\"nav\");window.addEventListener(\"scroll\",function(){var e=document,t=e.body,n=void 0===t?{}:t,c=e.documentElement,o=void 0===c?{}:c,i=n.scrollTop,a=void 0===i?0:i,d=o.scrollTop,r=a||(void 0===d?0:d);r>10&&!s.classList.contains(\"active\")?s.classList.add(\"active\"):r<=10&&s.classList.contains(\"active\")&&s.classList.remove(\"active\")})}});\"use strict\";document.addEventListener(\"DOMContentLoaded\",function(){requestIdle(function(){var e=document.getElementById(\"header-search-form\"),t=document.body.querySelector(\".nav-sidebar__box-search\"),a=function(e){e.preventDefault();var t=e.target.getElementsByTagName(\"input\");t=t?t[0]:null;var a=e.target.getElementsByTagName(\"button\");if(a=a?a[0]:null,t)if(t.value){var n=encodeURIComponent(t.value).replace(/%20/g,\"+\");window.location.href=\"/buscar/\"+n+\"/todas/descendiente/?query=\"+n}else a&&(t.classList.contains(\"active\")?(t.classList.remove(\"active\"),a.classList.remove(\"active\")):(t.classList.add(\"active\"),a.classList.add(\"active\")))},n=function(e){e&&(e.addEventListener?e.addEventListener(\"submit\",a,!1):e.attachEvent&&e.attachEvent(\"onsubmit\",a))};e&&n(e),t&&n(t)})});\\n          </script><div id=\"fusion-static-exit:f0f5iScoli3p4mM\" style=\"display:none\" data-fusion-component=\"f0f5iScoli3p4mM\"></div><div id=\"fusion-static-enter:f0fkwOKtli3p4B9\" style=\"display:none\" data-fusion-component=\"f0fkwOKtli3p4B9\"></div><header class=\"header bg-primary w-full f f-center pos-rel\"><a itemprop=\"url\" href=\"/\" title=\": Perú21 ePaper: una experiencia sin límites | PERU21\"><img src=\"https://cdna.peru21.pe/resources/dist/peru21/images/white-logo.png?d=1\" alt=\": Perú21 ePaper: una experiencia sin límites | PERU21\" title=\": Perú21 ePaper: una experiencia sin límites | PERU21\" class=\"header__logo\" width=\"195\" height=\"50\" pinger-seen=\"true\"></a></header><nav class=\"header__nav f just-between header__nav--hidden-sections \"><ul class=\"header__featured f w-full oflow-h \"><li class=\"header__item f f-center \"><a itemprop=\"url\" class=\"header__link\" href=\"https://peru21.pe/archivo/\">Lo último</a></li><li class=\"header__item f f-center \"><a itemprop=\"url\" class=\"header__link\" href=\"https://peru21.pe/noticias/ecuador/\">Ecuador</a></li><li class=\"header__item f f-center \"><a itemprop=\"url\" class=\"header__link\" href=\"https://peru21.pe/noticias/kenji-fujimori/\">Kenji Fujimori</a></li><li class=\"header__item f f-center \"><a itemprop=\"url\" class=\"header__link\" href=\"https://peru21.pe/noticias/prevenidosanteelniño/\">#PrevenidosAnteElNiño</a></li><li class=\"header__item f f-center \"><a itemprop=\"url\" class=\"header__link\" href=\"https://peru21.pe/noticias/jorge-fossati/\">Jorge Fossati</a></li><li class=\"header__item f f-center \"><a itemprop=\"url\" class=\"header__link\" href=\"https://peru21.pe/noticias/dina-boluarte/\">Dina Boluarte</a></li><li class=\"header__item f f-center \"><a itemprop=\"url\" class=\"header__link\" href=\"https://peru21.pe/noticias/pedro-suarez-vertiz/\">Pedro Suarez Vertiz</a></li></ul></nav><div id=\"fusion-static-exit:f0fkwOKtli3p4B9\" style=\"display:none\" data-fusion-component=\"f0fkwOKtli3p4B9\"></div></section><div class=\"f just-center z-container\"><div class=\"ad-lateral ad-lateral--wide ad-lateral--l\"><div id=\"fusion-static-enter:f0fJ6jg2li3p4wH\" style=\"display:none\" data-fusion-component=\"f0fJ6jg2li3p4wH\"></div><div id=\"gpt_laterall\" data-ads-name=\"/28253241/peru21/web/post/snota/laterall\" data-ads-dimensions=\"[[120,600],[160,600]]\" data-ads-load-first=\"true\" data-bloque=\"1\" data-prebid-enabled=\"true\"></div><div id=\"fusion-static-exit:f0fJ6jg2li3p4wH\" style=\"display:none\" data-fusion-component=\"f0fJ6jg2li3p4wH\"></div></div><div class=\"st-sidebar__container f f-col w-full pos-rel\"><div id=\"fusion-static-enter:f0fCeHnami3p4vS\" style=\"display:none\" data-fusion-component=\"f0fCeHnami3p4vS\"></div><div class=\"content_gpt_top_ads\"><div id=\"gpt_top\" data-ads-name=\"/28253241/peru21/web/post/snota/top\" data-ads-dimensions=\"[[1,1],[970,250],[970,90],[728,9]]\" data-ads-dimensions-m=\"[[320, 100],  [320, 50],  [300, 100],  [300, 50],  [1, 1]]\" data-ads-load-first=\"true\" data-bloque=\"1\" data-prebid-enabled=\"true\" style=\"max-height:100px;overflow:hidden\"></div></div><div id=\"fusion-static-exit:f0fCeHnami3p4vS\" style=\"display:none\" data-fusion-component=\"f0fCeHnami3p4vS\"></div><div id=\"fusion-static-enter:f0fOEEy4HtBl582\" style=\"display:none\" data-fusion-component=\"f0fOEEy4HtBl582\"></div><div class=\" htmlContainer overflow-x-auto overflow-y-hidden \"><div><div id=\"spc_post_stories\"></div><style>@media screen and (max-width: 639px){#spc_post_stories{height:110px;overflow:hidden}iframe#mat-spc-anchor-3{margin-top: 0 !important;}}</style></div></div><div id=\"fusion-static-exit:f0fOEEy4HtBl582\" style=\"display:none\" data-fusion-component=\"f0fOEEy4HtBl582\"></div><div id=\"fusion-static-enter:f0fMwjisNwdm4B5\" style=\"display:none\" data-fusion-component=\"f0fMwjisNwdm4B5\"></div><div class=\" htmlContainer overflow-x-auto overflow-y-hidden \"><div><style> #gpt_top{height:50px!important;} @media screen and (min-width:639px) {#gpt_top{height:90px!important;} }\\nbutton.st-continue__anchor{opacity: 0;}\\nbutton.st-continue__anchor.active{opacity: 1;}\\n</style></div></div><div id=\"fusion-static-exit:f0fMwjisNwdm4B5\" style=\"display:none\" data-fusion-component=\"f0fMwjisNwdm4B5\"></div><div id=\"fusion-static-enter:f0fHTf6Wli3p4Ew\" style=\"display:none\" data-fusion-component=\"f0fHTf6Wli3p4Ew\"></div><div id=\"fusion-static-exit:f0fHTf6Wli3p4Ew\" style=\"display:none\" data-fusion-component=\"f0fHTf6Wli3p4Ew\"></div><div id=\"fusion-static-enter:f0fv1YS0mi3p4qH\" style=\"display:none\" data-fusion-component=\"f0fv1YS0mi3p4qH\"></div><div class=\"st-social f just-between  \"><div class=\"st-social__tooltdiv f alg-center uppercase\"><h2 itemprop=\"name\" class=\"st-social__txt oflow-h uppercase\"><a itemprop=\"url\" class=\"st-social__link oflow-h\" href=\"/lima/\">Lima</a></h2></div><div class=\"st-social__share  \"><a itemprop=\"url\" href=\"http://www.facebook.com/sharer.php?u=https://peru21.pe/lima/peru21-epaper-una-experiencia-sin-limites-noticia/\" class=\"share-btn f f-center s-fb\" title=\"Compartir en facebook\" data-share=\"facebook\"><svg xmlns=\"http://www.w3.org/2000/svg\" height=\"14\" viewBox=\"0 0 10 21\"><path d=\"M2.6 21V11.1H0V7.6H2.6V4.6C2.6 2.2 4.1 0 7.5 0 8.9 0 10 0.1 10 0.1L9.9 3.5C9.9 3.5 8.8 3.4 7.7 3.4 6.4 3.4 6.2 4 6.2 5V7.6H10L9.8 11.1H6.2V21H2.6Z\"></path></svg></a><a itemprop=\"url\" href=\"https://twitter.com/intent/tweet?text=Recibe%20las%20noticias%20diariamente%20a%20las%2000%3A30%20am.%20Per%C3%BA21%20ePaper%20&amp;url=https://peru21.pe/lima/peru21-epaper-una-experiencia-sin-limites-noticia/&amp;via=peru21noticias\" class=\"share-btn f f-center s-tw\" title=\"Compartir en twitter\" data-share=\"twitter\"><svg height=\"14\" viewBox=\"0 0 1200 1227\" xmlns=\"http://www.w3.org/2000/svg\"><path d=\"M714.163 519.284L1160.89 0H1055.03L667.137 450.887L357.328 0H0L468.492 681.821L0 1226.37H105.866L515.491 750.218L842.672 1226.37H1200L714.137 519.284H714.163ZM569.165 687.828L521.697 619.934L144.011 79.6944H306.615L611.412 515.685L658.88 583.579L1055.08 1150.3H892.476L569.165 687.854V687.828Z\" fill=\"\"></path></svg></a><a itemprop=\"url\" href=\"http://www.linkedin.com/shareArticle?url=https://peru21.pe/lima/peru21-epaper-una-experiencia-sin-limites-noticia/\" class=\"share-btn f f-center s-lk\" title=\"Compartir en LinkedIn\" data-share=\"linkedin\"><svg xmlns=\"http://www.w3.org/2000/svg\" height=\"18\" viewBox=\"0 0 24 24\"><path d=\"M5 7.2C6.2 7.2 7.2 6.2 7.2 5 7.2 3.8 6.2 2.8 5 2.8 3.8 2.8 2.8 3.8 2.8 5 2.8 6.2 3.8 7.2 5 7.2Z\"></path><path d=\"M9.2 8.9V21H13V15C13 13.4 13.3 11.9 15.3 11.9 17.2 11.9 17.2 13.7 17.2 15.1V21H21V14.3C21 11.1 20.3 8.6 16.5 8.6 14.6 8.6 13.4 9.6 12.9 10.5H12.9V8.9H9.2V8.9ZM3.1 8.9H6.9V21H3.1V8.9Z\"></path></svg></a><a itemprop=\"url\" href=\"https://api.whatsapp.com/send?text=Recibe%20las%20noticias%20diariamente%20a%20las%2000%3A30%20am.%20Per%C3%BA21%20ePaper%20%20https%3A%2F%2Fperu21.pe%2Flima%2Fperu21-epaper-una-experiencia-sin-limites-noticia%2F\" title=\"Compartir en WhatsApp\" class=\"share-btn f f-center share-btn--ws\" data-share=\"whatsapp\"><svg xmlns=\"http://www.w3.org/2000/svg\" height=\"30\" viewBox=\"0 0 31 32\"><path d=\"M8 28.4L3.3 30.5 4.5 25.4C2.3 22.9 1 19.6 1 16 1 8 7.5 1.5 15.5 1.5 23.5 1.5 30 8 30 16 30 24 23.5 30.5 15.5 30.5 12.8 30.5 10.2 29.7 8 28.4Z\" class=\"share-btn--stroke\"></path><path d=\"M8.5 10.7C8.5 10.7 9.3 9.1 10.1 9.1 10.8 9 11.7 9 12 9.4 12.2 9.9 13.3 12.7 13.3 12.7 13.3 12.7 13.5 13.2 13.2 13.6 12.9 14.1 12.3 14.8 12.3 14.8 12.3 14.8 11.9 15.3 12.3 15.8 12.6 16.3 13.2 17.2 14.4 18.4 15.5 19.6 17.8 20.5 17.8 20.5 17.8 20.5 18.1 20.5 18.3 20.3 18.5 20.1 19.7 18.7 19.7 18.7 19.7 18.7 20 18.2 20.6 18.5 21.2 18.7 23.8 20.1 23.8 20.1 23.8 20.1 24.1 20.2 24.1 20.6 24.1 21.1 23.9 22.2 23.5 22.6 23.1 23 22 24.2 20.4 24.2 18.7 24.2 14.8 22.8 12.7 20.7 10.6 18.5 8.7 16.4 8.3 14.4 7.9 12.4 7.9 11.5 8.5 10.7Z\"></path></svg></a><script>\"use strict\";window.addEventListener(\"load\",function(){requestIdle(function(){var t=document.body.querySelectorAll(\"a[data-share]\");if(t&&t.length>0){var n=window.screen.width/2-300,o=window.screen.height/2-200;t.forEach(function(t){t.addEventListener(\"click\",function(e){e.preventDefault(),window.open(t.getAttribute(\"href\"),\"\",\"toolbar=no, location=no, directories=no, status=no, menubar=no, scrollbars=no, resizable=no, copyhistory=no, width=\".concat(600,\", height=\").concat(400,\", top=\").concat(o,\", left=\").concat(n))})})}})});</script></div></div><div id=\"fusion-static-exit:f0fv1YS0mi3p4qH\" style=\"display:none\" data-fusion-component=\"f0fv1YS0mi3p4qH\"></div><div id=\"fusion-static-enter:f0fDGdM5mi3p42K\" style=\"display:none\" data-fusion-component=\"f0fDGdM5mi3p42K\"></div><h1 itemprop=\"name\" class=\"sht__title\">Recibe las noticias diariamente a las 00:30 am. Perú21 ePaper </h1><h2 itemprop=\"name\" class=\"sht__summary \">Conoce la historia y los beneficios de un periódico digital que es diariamentente enriquecido por periodistas con material multimedia y documentación exclusiva.</h2><div id=\"fusion-static-exit:f0fDGdM5mi3p42K\" style=\"display:none\" data-fusion-component=\"f0fDGdM5mi3p42K\"></div><div id=\"fusion-static-enter:f0faXEEhmi3p4XE\" style=\"display:none\" data-fusion-component=\"f0faXEEhmi3p4XE\"></div><div id=\"fusion-static-exit:f0faXEEhmi3p4XE\" style=\"display:none\" data-fusion-component=\"f0faXEEhmi3p4XE\"></div><div class=\"st-sidebar__content f mt-20 mb-20\"><div role=\"main\" class=\"st-sidebar__main\"><div id=\"fusion-static-enter:f0fH1ZDrmi3p4TP\" style=\"display:none\" data-fusion-component=\"f0fH1ZDrmi3p4TP\"></div><div class=\"s-multimedia\"><figure><div id=\"fusion-static-enter:image:580x330::QYIXMEM42NAKLNITMFXTKNJMGM.png\" style=\"display:none\" data-fusion-component=\"image:580x330::QYIXMEM42NAKLNITMFXTKNJMGM.png\"></div><picture><source srcset=\"https://peru21.pe/resizer/6NzkoJ-a9d5cXyRlAVKEBTneHGo=/280x159/smart/filters:format(jpeg):quality(75)/cloudfront-us-east-1.images.arcpublishing.com/elcomercio/QYIXMEM42NAKLNITMFXTKNJMGM.png\" media=\"(max-width: 360px)\"><source srcset=\"https://peru21.pe/resizer/f1l9iWdN8LHA9zz4F5TYFqn1n4o=/482x274/smart/filters:format(jpeg):quality(75)/cloudfront-us-east-1.images.arcpublishing.com/elcomercio/QYIXMEM42NAKLNITMFXTKNJMGM.png\" media=\"(max-width: 639px)\"><img src=\"https://peru21.pe/resizer/3iD76dexrkx4YKGm6Ai-kdB-JrU=/580x330/smart/filters:format(jpeg):quality(75)/cloudfront-us-east-1.images.arcpublishing.com/elcomercio/QYIXMEM42NAKLNITMFXTKNJMGM.png\" alt=\"\" decoding=\"auto\" class=\" s-multimedia__image w-full o-cover\" style=\"--aspect-ratio:580/330\" width=\"580\" height=\"330\"></picture><div id=\"fusion-static-exit:image:580x330::QYIXMEM42NAKLNITMFXTKNJMGM.png\" style=\"display:none\" data-fusion-component=\"image:580x330::QYIXMEM42NAKLNITMFXTKNJMGM.png\"></div><figcaption class=\"s-multimedia__caption\"><div></div> </figcaption></figure></div><div id=\"fusion-static-exit:f0fH1ZDrmi3p4TP\" style=\"display:none\" data-fusion-component=\"f0fH1ZDrmi3p4TP\"></div><div id=\"fusion-static-enter:f0fQQ0rwmi3p4fz\" style=\"display:none\" data-fusion-component=\"f0fQQ0rwmi3p4fz\"></div><div class=\"story-contents w-full \"><div class=\"story-contents__author  \"><div><a itemprop=\"url\" href=\"/autor/redaccion-peru21/\" class=\"story-contents__author-link \">Redacción PERÚ21</a><p itemprop=\"description\" class=\"story-contents__author-email  \"><a href=\"mailto:redaccionp21@peru21.pe\">redaccionp21@peru21.pe</a></p></div><div class=\"story-contents__author-date f \"><time datetime=\"2024-01-09T11:01:52-05:00\">Actualizado el 09/01/2024, 11:01 a.&nbsp;m.</time></div></div><div class=\"story-contents__content  \" id=\"contenedor\" data-index=\"0\"><div style=\"min-height:172px\"><section><p itemprop=\"description\" class=\"story-contents__font-paragraph \"><a itemprop=\"url\" href=\"https://epaper.peru21.pe/\"><b>Aquí</b></a> puedes inscribirte y probar 30 días gratis la versión digital de nuestro Perú21.</p><div class=\"content_gpt_caja3\"><div id=\"gpt_caja3\" data-ads-name=\"/28253241/peru21/web/post/lima/caja3\" data-ads-dimensions-m=\"[[300, 100], [320, 50], [300, 50], [320, 100], [300, 250]]\" data-bloque=\"3\" data-prebid-enabled=\"true\"></div></div><p itemprop=\"description\" class=\"story-contents__font-paragraph \">Solo debes ingresar tu nombre y correo electrónico <mark class=\"hl_yellow\">(no es necesario incluir tu tarjeta).</mark></p><p itemprop=\"description\" class=\"story-contents__font-paragraph \"><b>¿Qué busca el lector de hoy al abrir un periódico? Básicamente, informarse de la forma tradicional. Sin embargo, el mundo digital ha avanzado tanto que permite a los diarios reinventarse e ir más allá.</b></p><div class=\"content_gpt_inline\"><div id=\"gpt_inline\" data-ads-name=\"/28253241/peru21/web/post/lima/inline\" data-ads-dimensions=\"[[1,1]]\" data-bloque=\"3\" data-ads-dimensions-m=\"[[1,1]]\"></div></div><p itemprop=\"description\" class=\"story-contents__font-paragraph \">Hace más de diez años, países como España y Canadá ya conocían los primeros planos de lo que se podría llamar la primera versión del ePaper, que era el periódico tal cual lo venden en los quioscos pero en un formato pdf.</p><p itemprop=\"description\" class=\"story-contents__font-paragraph \">Actualmente, pese a que muchos diarios importantes como El País persisten en venderles a sus suscriptores este modelo, se sabe que la tecnología permite dar un paso (o varios) más para que los lectores tengan una mejor experiencia.</p><div class=\"content_gpt_caja4\"><div id=\"gpt_caja4\" data-ads-name=\"/28253241/peru21/web/post/lima/caja4\" data-ads-dimensions-m=\"[[300, 100], [320, 50], [300, 50], [320, 100], [300, 250]]\" data-bloque=\"3\" data-prebid-enabled=\"true\"></div></div><p itemprop=\"description\" class=\"story-contents__font-paragraph \"><br></p><h2 class=\"story-contents__header\"><mark class=\"hl_yellow\"><b>AQUÍ PUEDES LEER Y SUSCRIBIRTE AL NUEVO PERU21 ePAPER: </b></mark><a href=\"https://t.co/QuT98myuAW\"><mark class=\"hl_yellow\"><b>http://epaper.peru21.pe</b></mark></a></h2><p itemprop=\"description\" class=\"story-contents__font-paragraph \"><br></p><p itemprop=\"description\" class=\"story-contents__font-paragraph \"><b>Perú21</b> comenzó a trabajar su formato ePaper desde abril con la ayuda del Grupo Dana, una empresa española que tiene más de 30 años en el mercado de diarios digitales a nivel mundial y es pionera en el mundo de softwares editoriales que trabajan de acuerdo con los retos de la industria nacional.</p><p itemprop=\"description\" class=\"story-contents__font-paragraph \">El producto es único y ofrece diversos beneficios para que no solo se esté al día con información veraz, sino también con herramientas multimedia que complementan la lectura.</p><div class=\"content_gpt_caja5\"><div id=\"gpt_caja5\" data-ads-name=\"/28253241/peru21/web/post/lima/caja5\" data-ads-dimensions-m=\"[[300, 100], [320, 50], [300, 50], [320, 100], [300, 250]]\" data-bloque=\"4\" data-prebid-enabled=\"true\"></div></div><figure><div id=\"fusion-static-enter:image:620x0::AHHLYLAPNBH5OPDBPXGG7XCJE.jpeg\" style=\"display:none\" data-fusion-component=\"image:620x0::AHHLYLAPNBH5OPDBPXGG7XCJE.jpeg\"></div><picture><source data-srcset=\"https://peru21.pe/resizer/HNfThsDf5Bpn3FT8zbzB_ma60_s=/280x0/smart/filters:format(jpeg):quality(75)/cloudfront-us-east-1.images.arcpublishing.com/elcomercio/PAHHLYLAPNBH5OPDBPXGG7XCJE.jpeg\" media=\"(max-width: 360px)\" class=\"lazy\"><source data-srcset=\"https://peru21.pe/resizer/U7nSKchzb5aaRS2W7HTqbxyxaE4=/482x0/smart/filters:format(jpeg):quality(75)/cloudfront-us-east-1.images.arcpublishing.com/elcomercio/PAHHLYLAPNBH5OPDBPXGG7XCJE.jpeg\" media=\"(max-width: 639px)\" class=\"lazy\"><img src=\"https://cdna.peru21.pe/resources/dist/peru21/images/default-md.png?d=2\" data-src=\"https://peru21.pe/resizer/pl16_xHJkDwb3T6sK1LvND9sQXU=/620x0/smart/filters:format(jpeg):quality(75)/cloudfront-us-east-1.images.arcpublishing.com/elcomercio/PAHHLYLAPNBH5OPDBPXGG7XCJE.jpeg\" decoding=\"async\" class=\"lazy story-contents__image w-full o-cover\" style=\"--aspect-ratio:4912/7360\" width=\"4912\" height=\"7360\" pinger-seen=\"true\"></picture><div id=\"fusion-static-exit:image:620x0::AHHLYLAPNBH5OPDBPXGG7XCJE.jpeg\" style=\"display:none\" data-fusion-component=\"image:620x0::AHHLYLAPNBH5OPDBPXGG7XCJE.jpeg\"></div><figcaption class=\"story-contents__caption\"><div></div> </figcaption></figure><p itemprop=\"description\" class=\"story-contents__font-paragraph \"><br></p><h2 class=\"story-contents__header\"><mark class=\"hl_yellow\"><u><b>MÁS POSIBILIDADES POR MENOS</b></u></mark></h2><h2 class=\"story-contents__header\"><br></h2><p itemprop=\"description\" class=\"story-contents__font-paragraph \">Hoy este diario apuesta por un formato que puede ser leído en celulares, tabletas y computadoras con solo conectarse a Internet. Está enriquecido con material audiovisual, documentos y otros recursos multimedia.</p><p itemprop=\"description\" class=\"story-contents__font-paragraph \">El ePaper posibilita consumir las noticias como nunca antes, pues los lectores no solo se quedan en el titular y el cuerpo del texto, sino que pueden apreciar también galerías de imágenes, audios y videos que un periódico convencional no puede almacenar.</p><p itemprop=\"description\" class=\"story-contents__font-paragraph \">Este material es recolectado o incluso producido de manera exclusiva por el propio equipo de periodistas de Perú21 desde dentro y fuera de la sala de redacción, agregando valor al visor digital del periódico.</p><p itemprop=\"description\" class=\"story-contents__font-paragraph \">Otro beneficio, esta vez para los anunciantes, es que sus avisos pueden alojar un ícono que redirige a contenido multimedia.</p><p itemprop=\"description\" class=\"story-contents__font-paragraph \"><br></p><h2 class=\"story-contents__header\"><mark class=\"hl_yellow\"><u><b>CAMBIOS EN EL MUNDO</b></u></mark></h2><h2 class=\"story-contents__header\"><br></h2><p itemprop=\"description\" class=\"story-contents__font-paragraph \">Hubo un tiempo en el que solo se podía leer un diario si se compraba en un quiosco. Pero esa costumbre se acabó.</p><p itemprop=\"description\" class=\"story-contents__font-paragraph \">Uno de los beneficios de volverse suscriptor de Perú21 ePaper es acceder al formato digital de la versión impresa siete horas antes de su venta regular.</p><p itemprop=\"description\" class=\"story-contents__font-paragraph \">De esta manera, la inmediatez de la noticia se vuelve aliada de quienes desean estar actualizados con información de calidad desde la medianoche.</p><p itemprop=\"description\" class=\"story-contents__font-paragraph \">Otra de las características que resalta Jesús Álvarez, presidente del Grupo Dana, es que incluso al tener más contenido y recibir mucho antes que otros la información, el formato ePaper es más económico y ecoamigable con el planeta. Es decir: lees y tienes más por menos.</p><p itemprop=\"description\" class=\"story-contents__font-paragraph \">¿Qué más se puede hacer con un periódico digital? Las oportunidades de difundir mejor la información son infinitas.</p><p itemprop=\"description\" class=\"story-contents__font-paragraph \">El equipo de <b>Perú21</b> está comprometido en seguir nutriendo su ePaper e innovando en su servicio para que esté alineado con las exigencias y demandas del lector de hoy.</p><p itemprop=\"description\" class=\"story-contents__font-paragraph \"><br></p><h2 class=\"story-contents__header\"><mark class=\"hl_yellow\"><u><b>VIDEO RECOMENDADO</b></u></mark></h2><div class=\"jwplayer-lazy\" id=\"74Rpte80\" data-hasads=\"1\" data-playerid=\"uTZV4zGu\"><div class=\"jwplayer-lazy-icon-play\"></div><div id=\"fusion-static-enter:image:580x326::m/v2/media/74Rpte80/poster.jpg\" style=\"display:none\" data-fusion-component=\"image:580x326::m/v2/media/74Rpte80/poster.jpg\"></div><img src=\"https://cdna.peru21.pe/resources/dist/peru21/images/default-md.png?d=2\" data-src=\"https://peru21.pe/resizer/wQpMkPNmdr3702H5urCDRBlOLmk=/580x326/smart/filters:format(jpeg):quality(75)/cdn.jwplayer.com/v2/media/74Rpte80/poster.jpg\" alt=\"Fernando Silva sobre audiencia contra Sada Goray y Mauricio Fernandini\" decoding=\"async\" id=\"image_74Rpte80\" class=\"lazy\" style=\"width:100%\" width=\"580\" height=\"326\" pinger-seen=\"true\"><div id=\"fusion-static-exit:image:580x326::m/v2/media/74Rpte80/poster.jpg\" style=\"display:none\" data-fusion-component=\"image:580x326::m/v2/media/74Rpte80/poster.jpg\"></div></div><figcaption class=\"s-multimedia__caption\"> <a href=\"\"></a></figcaption></section></div></div><div class=\"story-contents__social f\"><div class=\"st-social__share\"><a itemprop=\"url\" href=\"http://www.facebook.com/sharer.php?u=https://peru21.pe/lima/peru21-epaper-una-experiencia-sin-limites-noticia/\" class=\"share-btn f f-center s-fb\" title=\"Compartir en facebook\" data-share=\"facebook\"><svg xmlns=\"http://www.w3.org/2000/svg\" height=\"14\" viewBox=\"0 0 10 21\"><path d=\"M2.6 21V11.1H0V7.6H2.6V4.6C2.6 2.2 4.1 0 7.5 0 8.9 0 10 0.1 10 0.1L9.9 3.5C9.9 3.5 8.8 3.4 7.7 3.4 6.4 3.4 6.2 4 6.2 5V7.6H10L9.8 11.1H6.2V21H2.6Z\"></path></svg></a><a itemprop=\"url\" href=\"https://twitter.com/intent/tweet?text=Recibe%20las%20noticias%20diariamente%20a%20las%2000%3A30%20am.%20Per%C3%BA21%20ePaper%20&amp;url=https://peru21.pe/lima/peru21-epaper-una-experiencia-sin-limites-noticia/&amp;via=peru21noticias\" class=\"share-btn f f-center s-tw\" title=\"Compartir en twitter\" data-share=\"twitter\"><svg height=\"14\" viewBox=\"0 0 1200 1227\" xmlns=\"http://www.w3.org/2000/svg\"><path d=\"M714.163 519.284L1160.89 0H1055.03L667.137 450.887L357.328 0H0L468.492 681.821L0 1226.37H105.866L515.491 750.218L842.672 1226.37H1200L714.137 519.284H714.163ZM569.165 687.828L521.697 619.934L144.011 79.6944H306.615L611.412 515.685L658.88 583.579L1055.08 1150.3H892.476L569.165 687.854V687.828Z\" fill=\"\"></path></svg></a><a itemprop=\"url\" href=\"https://api.whatsapp.com/send?text=Recibe%20las%20noticias%20diariamente%20a%20las%2000%3A30%20am.%20Per%C3%BA21%20ePaper%20%20https%3A%2F%2Fperu21.pe%2Flima%2Fperu21-epaper-una-experiencia-sin-limites-noticia%2F\" title=\"Compartir en WhatsApp\" class=\"share-btn f f-center share-btn--ws\" data-share=\"whatsapp\"><svg xmlns=\"http://www.w3.org/2000/svg\" height=\"30\" viewBox=\"0 0 31 32\"><path d=\"M8 28.4L3.3 30.5 4.5 25.4C2.3 22.9 1 19.6 1 16 1 8 7.5 1.5 15.5 1.5 23.5 1.5 30 8 30 16 30 24 23.5 30.5 15.5 30.5 12.8 30.5 10.2 29.7 8 28.4Z\" class=\"share-btn--stroke\"></path><path d=\"M8.5 10.7C8.5 10.7 9.3 9.1 10.1 9.1 10.8 9 11.7 9 12 9.4 12.2 9.9 13.3 12.7 13.3 12.7 13.3 12.7 13.5 13.2 13.2 13.6 12.9 14.1 12.3 14.8 12.3 14.8 12.3 14.8 11.9 15.3 12.3 15.8 12.6 16.3 13.2 17.2 14.4 18.4 15.5 19.6 17.8 20.5 17.8 20.5 17.8 20.5 18.1 20.5 18.3 20.3 18.5 20.1 19.7 18.7 19.7 18.7 19.7 18.7 20 18.2 20.6 18.5 21.2 18.7 23.8 20.1 23.8 20.1 23.8 20.1 24.1 20.2 24.1 20.6 24.1 21.1 23.9 22.2 23.5 22.6 23.1 23 22 24.2 20.4 24.2 18.7 24.2 14.8 22.8 12.7 20.7 10.6 18.5 8.7 16.4 8.3 14.4 7.9 12.4 7.9 11.5 8.5 10.7Z\"></path></svg></a><button type=\"button\" class=\"share-btn--copy f f-center\" id=\"copy-link\"><svg xmlns=\"http://www.w3.org/2000/svg\" width=\"24\" height=\"24\" viewBox=\"0 0 24 24\"><path d=\"M4.2 19.8C4.7 20.2 5.2 20.6 5.8 20.9 6.5 21.1 7.1 21.2 7.8 21.2 8.4 21.2 9.1 21.1 9.7 20.9 10.3 20.6 10.8 20.2 11.3 19.8L14.1 16.9 12.7 15.5 9.9 18.4C9.3 18.9 8.6 19.2 7.8 19.2 7 19.2 6.2 18.9 5.6 18.4 5.1 17.8 4.8 17 4.8 16.2 4.8 15.4 5.1 14.7 5.6 14.1L8.5 11.3 7.1 9.9 4.2 12.7C3.3 13.6 2.8 14.9 2.8 16.2 2.8 17.6 3.3 18.8 4.2 19.8V19.8ZM19.8 11.3C20.7 10.4 21.2 9.1 21.2 7.8 21.2 6.4 20.7 5.2 19.8 4.2 18.8 3.3 17.6 2.8 16.2 2.8 14.9 2.8 13.6 3.3 12.7 4.2L9.9 7.1 11.3 8.5 14.1 5.6C14.7 5.1 15.4 4.8 16.2 4.8 17 4.8 17.8 5.1 18.4 5.6 18.9 6.2 19.2 7 19.2 7.8 19.2 8.6 18.9 9.3 18.4 9.9L15.5 12.7 16.9 14.1 19.8 11.3Z\"></path><path d=\"M8.5 17L7 15.5 15.5 7.1 17 8.5 8.5 17Z\"></path></svg>Copiar enlace</button><script>\"use strict\";window.addEventListener(\"load\",function(){requestIdle(function(){var t=document.body.querySelectorAll(\"a[data-share]\");if(t&&t.length>0){var n=window.screen.width/2-300,o=window.screen.height/2-200;t.forEach(function(t){t.addEventListener(\"click\",function(e){e.preventDefault(),window.open(t.getAttribute(\"href\"),\"\",\"toolbar=no, location=no, directories=no, status=no, menubar=no, scrollbars=no, resizable=no, copyhistory=no, width=\".concat(600,\", height=\").concat(400,\", top=\").concat(o,\", left=\").concat(n))})})}})});\"use strict\";window.addEventListener(\"load\",function(){requestIdle(function(){function o(o){navigator.clipboard.writeText(o).then(function(){console.info(\"Async: Copying to clipboard was successful!\"),n.textContent=\"✓ Enlace copiado\"},function(o){console.error(\"Async: Could not copy text: \",o)})}var n=document.getElementById(\"copy-link\");if(n){if(!(\"clipboard\"in navigator))return n.style.opacity=\"0.2\",n.style.cursor=\"initial\",void n.setAttribute(\"disabled\",!0);n.addEventListener(\"click\",function(){window.location!==window.parent.location?(window.top.postMessage({id:\"copy-link\"},window.location.origin),n.textContent=\"✓ Enlace copiado\"):o(window.location.href)}),window.location===window.parent.location&&window.addEventListener(\"message\",function(n){var i=n.origin,t=n.data,e=void 0===t?{}:t;i===window.location.origin&&\"copy-link\"===e.id&&o(window.location.href)},!1)}})});</script></div></div></div><div id=\"bottom-content-observed\"></div><div id=\"fusion-static-exit:f0fQQ0rwmi3p4fz\" style=\"display:none\" data-fusion-component=\"f0fQQ0rwmi3p4fz\"></div><div id=\"fusion-static-enter:f0fNagx7aJcN9m2\" style=\"display:none\" data-fusion-component=\"f0fNagx7aJcN9m2\"></div><div id=\"fusion-static-exit:f0fNagx7aJcN9m2\" style=\"display:none\" data-fusion-component=\"f0fNagx7aJcN9m2\"></div><div id=\"fusion-static-enter:f0fm5IPAmi3p4Lp\" style=\"display:none\" data-fusion-component=\"f0fm5IPAmi3p4Lp\"></div><div class=\"st-tags \"><h4 itemprop=\"name\" class=\"st-tags__title\">TAGS RELACIONADOS</h4><div class=\"st-tags__line\"></div><div class=\"st-tags__box\"><h4 itemprop=\"name\" class=\"st-tags__tag \"><a itemprop=\"url\" class=\"st-tags__link\" href=\"/noticias/peru21-epaper/\">Perú21 ePaper</a></h4><h4 itemprop=\"name\" class=\"st-tags__tag \"><a itemprop=\"url\" class=\"st-tags__link\" href=\"/noticias/periodico-digital/\">Periódico digital</a></h4></div></div><div id=\"fusion-static-exit:f0fm5IPAmi3p4Lp\" style=\"display:none\" data-fusion-component=\"f0fm5IPAmi3p4Lp\"></div><div id=\"fusion-static-enter:f0fSmwRN9Jsp44m\" style=\"display:none\" data-fusion-component=\"f0fSmwRN9Jsp44m\"></div><div id=\"gpt_content\" data-ads-name=\"/28253241/peru21/web/post/snota/content\" data-ads-dimensions=\"[[657, 283] , [1, 1] , [300, 250] , [600, 300] , [300, 360]]\" data-ads-dimensions-m=\"[[1, 1] , [300, 250] , [300, 360]]\" data-bloque=\"4\"></div><div id=\"fusion-static-exit:f0fSmwRN9Jsp44m\" style=\"display:none\" data-fusion-component=\"f0fSmwRN9Jsp44m\"></div></div><aside class=\"st-sidebar__side\"><div id=\"fusion-static-enter:f0f8pxANmi3p4q0\" style=\"display:none\" data-fusion-component=\"f0f8pxANmi3p4q0\"></div><div id=\"gpt_caja1\" data-ads-name=\"/28253241/peru21/web/post/snota/caja1\" data-ads-dimensions=\"[[300, 250], [300, 600]]\" data-ads-load-first=\"true\" data-bloque=\"1\" data-prebid-enabled=\"true\"></div><div id=\"fusion-static-exit:f0f8pxANmi3p4q0\" style=\"display:none\" data-fusion-component=\"f0f8pxANmi3p4q0\"></div><div id=\"fusion-static-enter:f0f2xdWmZHC2cYK\" style=\"display:none\" data-fusion-component=\"f0f2xdWmZHC2cYK\"></div><div id=\"fusion-static-enter:CardMostReadLite\" style=\"display:none\" data-fusion-component=\"CardMostReadLite\"></div><div role=\"list\" class=\"most-read f f-col  \"><h4 itemprop=\"name\" class=\"most-read__title f\"><span><a itemprop=\"url\" class=\"most-read__link \" href=\"/archivo/\">ÚLTIMAS NOTICIAS</a></span><i class=\"most-read__icon \"></i></h4><article role=\"listitem\" class=\"most-read__item  \"><a itemprop=\"url\" href=\"/lima/policiales/atrapan-a-red-de-extorsionadores-que-operaban-a-traves-de-falsos-call-center-extorsion-gota-a-gota-prestamo-operativo-policia-nacional-noticia/\" class=\"most-read__link f \"><figure class=\"most-read__multimedia f pos-rel\"><div id=\"fusion-static-enter:image:118x72::MIH4UHSXN5EYBBPLRRYHS4CJ74.jpg\" style=\"display:none\" data-fusion-component=\"image:118x72::MIH4UHSXN5EYBBPLRRYHS4CJ74.jpg\"></div><img src=\"https://cdna.peru21.pe/resources/dist/peru21/images/default-md.png?d=2\" data-src=\"https://peru21.pe/resizer/nEp04Lc4FzXJFQtO_9E9kwWPwtw=/118x72/smart/filters:format(jpeg):quality(75)/cloudfront-us-east-1.images.arcpublishing.com/elcomercio/MIH4UHSXN5EYBBPLRRYHS4CJ74.jpg\" alt=\"Atrapan a red de extorsionadores que operaban a través de falsos Call Center\" decoding=\"async\" class=\"lazy most-read__img\" width=\"118\" height=\"72\" pinger-seen=\"true\"><div id=\"fusion-static-exit:image:118x72::MIH4UHSXN5EYBBPLRRYHS4CJ74.jpg\" style=\"display:none\" data-fusion-component=\"image:118x72::MIH4UHSXN5EYBBPLRRYHS4CJ74.jpg\"></div> </figure><h4 itemprop=\"name\" class=\"most-read__txt w-full  four-lines \">Atrapan a red de extorsionadores que operaban a través de falsos Call Center</h4></a></article><article role=\"listitem\" class=\"most-read__item  \"><a itemprop=\"url\" href=\"/lima/surquillo-explosion-de-celular-deja-a-joven-con-graves-quemaduras-en-su-cuerpo-surquillo-celular-explota-xiaomi-redmi-11-melvin-martini-noticia/\" class=\"most-read__link f \"><figure class=\"most-read__multimedia f pos-rel\"><div id=\"fusion-static-enter:image:118x72::ADUBQJVKPRF7TF5X5JMI7BS6GY.png\" style=\"display:none\" data-fusion-component=\"image:118x72::ADUBQJVKPRF7TF5X5JMI7BS6GY.png\"></div><img src=\"https://cdna.peru21.pe/resources/dist/peru21/images/default-md.png?d=2\" data-src=\"https://peru21.pe/resizer/soHDPtEM92EEsqDOOL9h-irKr_Y=/118x72/smart/filters:format(jpeg):quality(75)/cloudfront-us-east-1.images.arcpublishing.com/elcomercio/ADUBQJVKPRF7TF5X5JMI7BS6GY.png\" alt=\"Surquillo: Explosión de celular deja a joven con graves quemaduras en su cuerpo\" decoding=\"async\" class=\"lazy most-read__img\" width=\"118\" height=\"72\" pinger-seen=\"true\"><div id=\"fusion-static-exit:image:118x72::ADUBQJVKPRF7TF5X5JMI7BS6GY.png\" style=\"display:none\" data-fusion-component=\"image:118x72::ADUBQJVKPRF7TF5X5JMI7BS6GY.png\"></div> </figure><h4 itemprop=\"name\" class=\"most-read__txt w-full  four-lines \">Surquillo: Explosión de celular deja a joven con graves quemaduras en su cuerpo</h4></a></article><article role=\"listitem\" class=\"most-read__item  \"><a itemprop=\"url\" href=\"/lima/tren-de-aragua-sicarios-smp-policia-detiene-a-miembros-de-la-banda-criminal-los-hijos-de-dios-noticia/\" class=\"most-read__link f \"><figure class=\"most-read__multimedia f pos-rel\"><div id=\"fusion-static-enter:image:118x72::N57FPKK57BDUDBPFQMIGRJN4UA.jpg\" style=\"display:none\" data-fusion-component=\"image:118x72::N57FPKK57BDUDBPFQMIGRJN4UA.jpg\"></div><img src=\"https://cdna.peru21.pe/resources/dist/peru21/images/default-md.png?d=2\" data-src=\"https://peru21.pe/resizer/-xqWYeO6dfxo6y09JnsWfY4xR6s=/118x72/smart/filters:format(jpeg):quality(75)/cloudfront-us-east-1.images.arcpublishing.com/elcomercio/N57FPKK57BDUDBPFQMIGRJN4UA.jpg\" alt=\"SMP: Policía detiene  a ocho miembros de la banda criminal ‘Los hijos de Dios’\" decoding=\"async\" class=\"lazy most-read__img\" width=\"118\" height=\"72\" pinger-seen=\"true\"><div id=\"fusion-static-exit:image:118x72::N57FPKK57BDUDBPFQMIGRJN4UA.jpg\" style=\"display:none\" data-fusion-component=\"image:118x72::N57FPKK57BDUDBPFQMIGRJN4UA.jpg\"></div> </figure><h4 itemprop=\"name\" class=\"most-read__txt w-full  four-lines \">SMP: Policía detiene  a ocho miembros de la banda criminal ‘Los hijos de Dios’</h4></a></article></div><div id=\"fusion-static-exit:CardMostReadLite\" style=\"display:none\" data-fusion-component=\"CardMostReadLite\"></div><div id=\"fusion-static-exit:f0f2xdWmZHC2cYK\" style=\"display:none\" data-fusion-component=\"f0f2xdWmZHC2cYK\"></div><div id=\"fusion-static-enter:f0fCHZHSmi3p4z4\" style=\"display:none\" data-fusion-component=\"f0fCHZHSmi3p4z4\"></div><div id=\"gpt_caja2\" data-ads-name=\"/28253241/peru21/web/post/snota/caja2\" data-ads-dimensions=\"[[300, 250], [300, 600]]\" data-bloque=\"4\" data-prebid-enabled=\"true\"></div><div id=\"fusion-static-exit:f0fCHZHSmi3p4z4\" style=\"display:none\" data-fusion-component=\"f0fCHZHSmi3p4z4\"></div><div id=\"fusion-static-enter:f0fphjdl59Lb8d2\" style=\"display:none\" data-fusion-component=\"f0fphjdl59Lb8d2\"></div><div id=\"gpt_vslider\" data-ads-name=\"/28253241/peru21/web/post/snota/vslider\" data-ads-dimensions=\"[[1,1]]\" data-ads-dimensions-m=\"[[1,1]]\" data-ads-load-first=\"true\" data-bloque=\"2\"></div><div id=\"fusion-static-exit:f0fphjdl59Lb8d2\" style=\"display:none\" data-fusion-component=\"f0fphjdl59Lb8d2\"></div></aside></div><section class=\"mb-20\"></section></div><div class=\"ad-lateral ad-lateral--wide ad-lateral--r\"><div id=\"fusion-static-enter:f0fUfQcHni3p4a0\" style=\"display:none\" data-fusion-component=\"f0fUfQcHni3p4a0\"></div><div id=\"gpt_lateralr\" data-ads-name=\"/28253241/peru21/web/post/snota/lateralr\" data-ads-dimensions=\"[[120,600],[160,600]]\" data-ads-load-first=\"true\" data-bloque=\"1\" data-prebid-enabled=\"true\"></div><div id=\"fusion-static-exit:f0fUfQcHni3p4a0\" style=\"display:none\" data-fusion-component=\"f0fUfQcHni3p4a0\"></div></div></div><div id=\"st-continue-0\"></div><script type=\"text/javascript\">\\n    window.addEventListener(\"load\",()=>{requestIdle(()=>{let e=\"_recent_articles_\",t=\"peru21\",n={\"path\":\"/lima\",\"section\":\"/lima\",\"data\":{\"storiesByTag\":[],\"storiesBySection\":[{\"link\":\"/lima/policiales/atrapan-a-red-de-extorsionadores-que-operaban-a-traves-de-falsos-call-center-extorsion-gota-a-gota-prestamo-operativo-policia-nacional-noticia/\",\"title\":\"Atrapan a red de extorsionadores que operaban a través de falsos Call Center\",\"publishDate\":\"2024-01-13T12:06:00Z\",\"author\":\"Redacción PERÚ21\",\"tier\":\"metered\",\"id\":\"HSDXI4Y57NHIFASLXRZOR43AKU\",\"subtype\":\"gallery_slider\",\"tags\":[\"extorsion\",\"gota-a-gota\",\"delincuencia\",\"call-center\",\"policia-nacional\",\"lince\",\"cercado-de-lima\"]},{\"link\":\"/lima/surquillo-explosion-de-celular-deja-a-joven-con-graves-quemaduras-en-su-cuerpo-surquillo-celular-explota-xiaomi-redmi-11-melvin-martini-noticia/\",\"title\":\"Surquillo: Explosión de celular deja a joven con graves quemaduras en su cuerpo\",\"publishDate\":\"2024-01-12T22:55:36.789Z\",\"author\":\"Redacción PERÚ21\",\"tier\":\"metered\",\"id\":\"FDHZVXGX2FDBBHQEDHRQGPACYM\",\"subtype\":\"gallery_slider\",\"tags\":[\"surquillo\"]},{\"link\":\"/lima/tren-de-aragua-sicarios-smp-policia-detiene-a-miembros-de-la-banda-criminal-los-hijos-de-dios-noticia/\",\"title\":\"SMP: Policía detiene  a ocho miembros de la banda criminal ‘Los hijos de Dios’\",\"publishDate\":\"2024-01-12T13:28:40.358Z\",\"author\":\"Redacción PERÚ21\",\"tier\":\"metered\",\"id\":\"FYADZ6OI25CYHLNTIMNVFXGNZQ\",\"subtype\":\"gallery_slider\",\"tags\":[\"smp\",\"pnp\",\"tren-de-aragua\"]},{\"link\":\"/lima/policiales/sicario-asesina-a-una-empresaria-en-pueblo-libre-y-deja-herido-a-su-esposo-inseguridad-ciudadana-sicario-empresaria-pueblo-libre-policia-nacional-crimen-organizado-noticia/\",\"title\":\"Sicario asesina a una empresaria en Pueblo Libre y deja herido a su esposo\",\"publishDate\":\"2024-01-12T12:06:00Z\",\"author\":\"Redacción PERÚ21\",\"tier\":\"metered\",\"id\":\"3JRV34CFNBD2NG67GRMWO4VWYM\",\"subtype\":\"gallery_slider\",\"tags\":[\"inseguridad-ciudadana\",\"sicarios\",\"extorsion\",\"pueblo-libre\",\"empresaria\",\"policia-nacional\"]},{\"link\":\"/lima/barranco-encuentran-el-cadaver-de-un-hombre-en-la-playa-los-yuyos-barranco-playa-los-yuyos-diego-palomino-soto-noticia/\",\"title\":\"Barranco: Encuentran el cadáver de un hombre en la playa Los Yuyos\",\"publishDate\":\"2024-01-11T21:38:23.679Z\",\"author\":\"Redacción PERÚ21\",\"tier\":\"metered\",\"id\":\"GH5CLXBO7FHSHN3RK67O6ZWKU4\",\"subtype\":\"gallery_slider\",\"tags\":[\"barranco\",\"los-yuyos\"]}],\"storiesBySectionPremium\":[],\"storiesByContentSource\":[]}},i=JSON.parse(window.sessionStorage.getItem(e))||{},o=document.getElementById(\"st-continue-0\"),a=document.location.search.includes(\"widgettaboola=none\");window.dataLayer=window.dataLayer||[],window.ga=window.ga||function(){(ga.q=ga.q||[]).push(arguments)},ga(\"create\",\"UA-3055636-4\",\"auto\");let r=(t={})=>{let{section:i,data:o=[]}=t;window.sessionStorage.setItem(e,JSON.stringify({section:i,data:n.data}))},s=e=>{if(\"undefined\"!=typeof window){window.dataLayer=window.dataLayer||[];let t={event:\"tag_signwall\",eventCategory:\"Web_Paywall_Hard\",eventAction:e};window.dataLayer.push(t),\"sandbox\"===arcEnv&&window.console.log(t)}},l=()=>{let e=document.getElementById(\"btn-close-paywall\"),n=document.getElementById(\"btn-ver-planes\");e&&(e.onclick=()=>{s(\"web_paywall_cerrar\"),window.location.href=\"/?signwallPaywall=1&ref=\"+window.location.pathname}),n&&(n.onclick=()=>{s(\"web_paywall_boton_ver_planes\"),window.sessionStorage.setItem(\"paywall_type_modal\",\"paywall\"),window.sessionStorage.setItem(\"paywall_last_url\",window.location.pathname),window.location.href=\"prod\"===arcEnv?\"/suscripcionesdigitales/\":\"/pf/suscripcionesdigitales/?_website=\"+t+\"&outputType=subscriptions\"})};window.addEventListener(\"message\",function(e){let{origin:t,source:n,data:i={}}=e;if(t===window.location.origin){if(\"story_iframe\"===i.id)requestIdle(()=>{let e=n.location.search.match(/story=([0-9]{1,2})/)||{},t=e&&e[1];if(t){let o=document.getElementById(\"st-iframe-\"+t)||{};o.height!==i.storyHeight&&(o.height=i.storyHeight||o.height)}});else if(\"iframe_signwall\"===i.id||\"iframe_relogin\"===i.id)window.location.href=i.redirectUrl;else if(\"iframe_paywall\"===i.id){let o=document.getElementById(\"st-continue-\"+g);o&&o.remove();let a=document.getElementById(\"signwall-app\");a.className=\"signwall-modal open\";let r=document.getElementsByTagName(\"body\");r[0].style.overflow=\"hidden\",l()}else\"anchor-top\"===i.id&&window.scrollTo(0,0)}},!1),i.section&&window.sessionStorage.removeItem(e),r(n);let c=0,d=1,g=0,p=()=>!1,u=(JSON.parse(window.sessionStorage.getItem(e))||{}).data||{storiesByTag:[],storiesBySection:[],storiesBySectionPremium:[],storiesByContentSource:[]},f=[];(f=u.storiesByContentSource.length?[...u.storiesByContentSource]:[...u.storiesByTag,...u.storiesBySection,]).unshift({title:document.title,link:location.pathname});let m=()=>location.href.includes(\"/pf\"),h=(e,t)=>{if(document.title=e.title,history.pushState({story:t},e.title,m()?\"/pf\"+e.link:e.link),window.tp&&window.tp.experience){let n=[...e.tags,e.tier,e.subtype,].filter(Boolean);if(i.section){let o=i.section.replace(\"/\",\"\");n.push(o),n.filter(Boolean),tp.push([\"setContentSection\",o])}tp.push([\"setTags\",[n.map(e=>e?e?.toLowerCase():\"\").join(\",\")],]),tp.push([\"setPageURL\",location.origin+e.link]),tp.push([\"setContentAuthor\",e.author]),tp.push([\"setContentCreated\",e.publishDate]),window.tp.experience.execute()}},y=(e=0)=>{requestIdle(()=>{if(\"IntersectionObserver\"in window){let t=null;function n(){let e=[];for(let t=1;t<=50;t++){let n=t/50;e.push(n)}return e.push(0),e}e<=0?(t=document.getElementById(\"contenedor\")).setAttribute(\"data-index\",0):e>0&&(t=document.getElementById(\"st-iframe-\"+e));let i=new IntersectionObserver(function(e){e.forEach(e=>{e.isIntersecting&&setTimeout(()=>{let t=parseInt(e.target.dataset.index);if(c===t){if(d=e.intersectionRatio,e.target.contentWindow){let n=e.target.contentWindow.document.documentElement.offsetHeight+\"px\";e.target.height!==n&&(e.target.height=n)}}else e.intersectionRatio>d&&(c=t,d=e.intersectionRatio,h(f[c],c))},1)})},{rootMargin:\"0px\",threshold:n()});t&&i.observe(t)}})};/iPad|iPhone|iPod|android|webOS|Windows Phone/i.test(\"undefined\"!=typeof window?window.navigator.userAgent:\"\");let $=()=>{let e=window.location.search.match(/tmp_ad=([^&]*)/)||[];return e[1]?\"&tmp_ad=\"+e[1]:\"\"};$();let w=e=>{try{g+=1;let n=f[g]||{};n.link&&(requestIdle(()=>{window.marfeel.cmd.push([\"compass\",function(e){e.trackNewPage()}]);let i=a?\"&widgettaboola=none\":\"\",o=location.origin+\"/carga-continua\"+n.link+\"?ref=nota&ft=cargacontinua\"+i+\"&outputType=lite&nota=&_website=\"+t;o=m()?o+\"&_website=\"+t:o;let r=document.createElement(\"iframe\");r.src=o,r.width=\"100%\",r.height=\"6000\",r.id=\"st-iframe-\"+g,r.className=\"st-iframe\",r.frameborder=\"0\",r.scrolling=\"no\",r.setAttribute(\"data-index\",g),r.addEventListener(\"load\",function(){let e=r.contentWindow.document.querySelector(\"#bottom-content-observed\");if(\"IntersectionObserver\"in window&&e){let{IntersectionObserver:t}=window,n=(e,t)=>{e.forEach(e=>{e.isIntersecting&&(r.height=r.contentDocument.documentElement.offsetHeight+\"px\",t.unobserve(e.target))})},i=new t(n,{rootMargin:\"0px 0px 500px 0px\"});i.observe(e)}}),e.insertAdjacentElement(\"afterEnd\",r),ga.l=+new Date,ga(\"set\",\"page\",n.link+\"?ref=nota&ft=cargacontinua&nota=\"+g),ga(\"send\",\"pageview\"),y(g)}),requestIdle(()=>{let e=document.createElement(\"div\");e.id=\"st-continue-\"+g;let t=document.getElementById(\"st-iframe-\"+g);t.insertAdjacentElement(\"afterEnd\",e),b(e)}))}catch(i){console.error(\"An error occurred while loading the next story:\",error)}},b=e=>{let t=e=>{window.innerHeight+document.documentElement.scrollTop>=e.offsetTop-1e3&&window.removeEventListener(\"scroll\",function n(){t(e)}),w(e)};if(\"IntersectionObserver\"in window){let n=new IntersectionObserver(function(e){e.forEach(e=>{e.isIntersecting&&(w(e.target),n.unobserve(e.target))})},{rootMargin:\"0px 0px 1000px 0px\"});n.observe(e)}else window.addEventListener(\"scroll\",function n(){t(e)})};setTimeout(()=>{let e=document.head.querySelector(\\'meta[property=\"article:content_tier\"]\\');(!window.showArcP||!e||\"locked\"!==e.getAttribute(\"content\"))&&(b(o),y(0))},1)})});\\n</script><button type=\"button\" aria-label=\"Ir al inicio de la página\" id=\"anchor\" class=\"st-continue__anchor\"><svg aria-disabled=\"true\" xmlns=\"http://www.w3.org/2000/svg\" width=\"25\" viewBox=\"0 0 451.8 451.8\"><path d=\"M345.4 248.3L151.2 442.6c-12.4 12.4-32.4 12.4-44.7 0 -12.4-12.4-12.4-32.4 0-44.7L278.3 225.9 106.4 54c-12.4-12.4-12.4-32.4 0-44.7 12.4-12.4 32.4-12.4 44.8 0l194.3 194.3c6.2 6.2 9.3 14.3 9.3 22.4C354.7 234 351.6 242.1 345.4 248.3z\"></path></svg></button><script type=\"text/javascript\">\"use strict\";window.addEventListener(\"load\",function(){requestIdle(function(){var e=document.getElementById(\"anchor\"),c=document.getElementById(\"st-continue-0\").offsetTop,n=(document.documentElement.scrollHeight,window.innerHeight);window.addEventListener(\"scroll\",function(){n+window.scrollY>=c?e.className.includes(\"active\")||(e.className=e.className.concat(\" active\")):e.className.includes(\"active\")&&n+window.scrollY<c&&(e.className=e.className.replace(\" active\",\"\"))}),e.addEventListener(\"click\",function(){e.className=e.className.replace(\" active\",\"\"),window.scrollTo(0,0)})})});</script><section class=\"st-sidebar__container f f-col w-full pos-rel\"><div id=\"fusion-static-enter:f0fdsfHFmi3p4nV\" style=\"display:none\" data-fusion-component=\"f0fdsfHFmi3p4nV\"></div><section class=\"link-site f f-col\"><div class=\"link-site__header f alg-center just-between\"><p itemprop=\"description\" class=\"link-site__h-text uppercase\">NO TE PIERDAS</p><div><h3 itemprop=\"name\" class=\"link-site__subtitle\">Contenido de<!-- --> <span class=\"link-site__site\">Peru21</span></h3></div></div><div role=\"navigation\" class=\"link-site__list f f-col\"><a itemprop=\"url\" class=\"link-site__item f mb-15\" href=\"https://peru21.pe/espectaculos/tv/el-gran-chef-famosos-presenta-una-nueva-edicion-la-gran-pollada-bailable-reality-culinario-latina-cocina-reality-nelly-rossinelli-giacomo-bocchio-noticia/\"><div class=\"link-site__image-container position-relative\"><div id=\"fusion-static-enter:image:234x161::27GX2XYCL5E3PM44O6322QJK3I.jpg\" style=\"display:none\" data-fusion-component=\"image:234x161::27GX2XYCL5E3PM44O6322QJK3I.jpg\"></div><img src=\"https://cdna.peru21.pe/resources/dist/peru21/images/default-md.png?d=2\" data-src=\"https://peru21.pe/resizer/RmHWwOc7E3ngFCLT4d9YHvDw79Q=/234x161/smart/filters:format(jpeg):quality(75)/cloudfront-us-east-1.images.arcpublishing.com/elcomercio/27GX2XYCL5E3PM44O6322QJK3I.jpg\" alt=\"El Gran Chef Famosos presenta una nueva edición: ‘La Gran Pollada Bailable’ \" decoding=\"async\" class=\"lazy link-site__image\" pinger-seen=\"true\"><div id=\"fusion-static-exit:image:234x161::27GX2XYCL5E3PM44O6322QJK3I.jpg\" style=\"display:none\" data-fusion-component=\"image:234x161::27GX2XYCL5E3PM44O6322QJK3I.jpg\"></div></div><h2 itemprop=\"name\" class=\"link-site__title-link oflow-h \">El Gran Chef Famosos presenta una nueva edición: ‘La Gran Pollada Bailable’ </h2></a><a itemprop=\"url\" class=\"link-site__item f mb-15\" href=\"https://peru21.pe/peru/loreto-lancha-con-varios-pasajeros-y-mas-de-20-toneladas-de-carga-se-hunde-en-rio-amazonas-video-maynas-perdida-economica-materiales-de-construccion-noticia/\"><div class=\"link-site__image-container position-relative\"><div id=\"fusion-static-enter:image:234x161::3T64IM43SNF73A7NTRFF2BQCOQ.jpg\" style=\"display:none\" data-fusion-component=\"image:234x161::3T64IM43SNF73A7NTRFF2BQCOQ.jpg\"></div><img src=\"https://cdna.peru21.pe/resources/dist/peru21/images/default-md.png?d=2\" data-src=\"https://peru21.pe/resizer/SgU4a3nrmTRSid41QsruBDtQXYQ=/234x161/smart/filters:format(jpeg):quality(75)/cloudfront-us-east-1.images.arcpublishing.com/elcomercio/3T64IM43SNF73A7NTRFF2BQCOQ.jpg\" alt=\"Loreto: Lancha con varios pasajeros y más de 20 toneladas de carga se hunde en río Amazonas | VIDEO\" decoding=\"async\" class=\"lazy link-site__image\" pinger-seen=\"true\"><div id=\"fusion-static-exit:image:234x161::3T64IM43SNF73A7NTRFF2BQCOQ.jpg\" style=\"display:none\" data-fusion-component=\"image:234x161::3T64IM43SNF73A7NTRFF2BQCOQ.jpg\"></div></div><h2 itemprop=\"name\" class=\"link-site__title-link oflow-h \">Loreto: Lancha con varios pasajeros y más de 20 toneladas de carga se hunde en río Amazonas | VIDEO</h2></a><a itemprop=\"url\" class=\"link-site__item f mb-15\" href=\"https://peru21.pe/cheka/ahorro-de-energia-como-optimizar-el-consumo-de-electricidad-durante-el-verano-electricidad-enel-energia-productos-electricos-noticia/\"><div class=\"link-site__image-container position-relative\"><div id=\"fusion-static-enter:image:234x161::FHHN55DYBAZFAPTNR7NJSYWPI.jpeg\" style=\"display:none\" data-fusion-component=\"image:234x161::FHHN55DYBAZFAPTNR7NJSYWPI.jpeg\"></div><img src=\"https://cdna.peru21.pe/resources/dist/peru21/images/default-md.png?d=2\" data-src=\"https://peru21.pe/resizer/SADuqU1WITebVxaNLNX2qGjE1U4=/234x161/smart/filters:format(jpeg):quality(75)/cloudfront-us-east-1.images.arcpublishing.com/elcomercio/MFHHN55DYBAZFAPTNR7NJSYWPI.jpeg\" alt=\"Ahorro de energía: ¿Cómo optimizar el consumo de electricidad durante el verano?\" decoding=\"async\" class=\"lazy link-site__image\" pinger-seen=\"true\"><div id=\"fusion-static-exit:image:234x161::FHHN55DYBAZFAPTNR7NJSYWPI.jpeg\" style=\"display:none\" data-fusion-component=\"image:234x161::FHHN55DYBAZFAPTNR7NJSYWPI.jpeg\"></div></div><h2 itemprop=\"name\" class=\"link-site__title-link oflow-h \">Ahorro de energía: ¿Cómo optimizar el consumo de electricidad durante el verano?</h2></a></div></section><div id=\"fusion-static-exit:f0fdsfHFmi3p4nV\" style=\"display:none\" data-fusion-component=\"f0fdsfHFmi3p4nV\"></div><div class=\"w-full nsb\"><a href=\"/espectaculos/tv/el-gran-chef-famosos-presenta-una-nueva-edicion-la-gran-pollada-bailable-reality-culinario-latina-cocina-reality-nelly-rossinelli-giacomo-bocchio-noticia/\" class=\"nsb__link\">Siguiente artículo<!-- --> <svg version=\"1.1\" xmlns=\"http://www.w3.org/2000/svg\" width=\"20\" height=\"20\" viewBox=\"0 0 640 640\" class=\"nsb__arrow\"><path fill=\"#000\" d=\"M517.504 288l-194.272-194.272 45.248-45.248 271.52 271.52-271.52 271.52-45.248-45.248 194.272-194.272h-517.504v-64z\"></path></svg></a></div><footer class=\"lay-foot f just-between\"><a itemprop=\"url\" href=\"/\" class=\"lay-foot__logo\"><img class=\"lay-foot__img\" src=\"https://cdna.peru21.pe/resources/dist/peru21/images/white-logo.png?d=1\" alt=\"Logo de peru21\" pinger-seen=\"true\"></a><div class=\"lay-foot__legal f\"><div class=\"lay-foot__item f f-col just-center \"><div>Directora Periodística:</div><div>Cecilia Valenzuela</div></div><div class=\"lay-foot__item f f-col just-center \"><div>Diario Perú21: </div><div>Av. Reducto 1363, piso 5, Miraflores - Lima</div></div><div class=\"lay-foot__item f f-col just-center \"><div>Copyright © Peru21.pe</div><div>Todos los derechos reservados</div></div></div></footer></section><div id=\"fusion-static-enter:f0feN5Soni3p4Xl\" style=\"display:none\" data-fusion-component=\"f0feN5Soni3p4Xl\"></div><div id=\"gpt_zocalo\" data-ads-name=\"/28253241/peru21/web/post/snota/zocalo\" data-ads-dimensions=\"[[728, 90]]\" data-ads-dimensions-m=\"[[320, 50]]\" data-ads-load-first=\"true\" data-bloque=\"1\" data-prebid-enabled=\"true\" style=\"position:fixed;bottom:0;z-index:9;left:50%;top:auto;transform:translateX(-50%)\"></div><div id=\"fusion-static-exit:f0feN5Soni3p4Xl\" style=\"display:none\" data-fusion-component=\"f0feN5Soni3p4Xl\"></div><div id=\"fusion-static-enter:f0f1ojmtni3p4WN\" style=\"display:none\" data-fusion-component=\"f0f1ojmtni3p4WN\"></div><div class=\" htmlContainer overflow-x-auto overflow-y-hidden \"><div><style>\\n@media screen and (min-width: 1024px) {\\n.st-interest__item {\\npadding-left: 10px;\\n}\\n}\\n</style>\\n</div></div><div id=\"fusion-static-exit:f0f1ojmtni3p4WN\" style=\"display:none\" data-fusion-component=\"f0f1ojmtni3p4WN\"></div><div id=\"fusion-static-enter:f0fM1w1yni3p4t5\" style=\"display:none\" data-fusion-component=\"f0fM1w1yni3p4t5\"></div><div class=\" htmlContainer overflow-x-auto overflow-y-hidden \"><div><style>.story-contents__social .st-social__share .share-btn {display: flex;}</style></div></div><div id=\"fusion-static-exit:f0fM1w1yni3p4t5\" style=\"display:none\" data-fusion-component=\"f0fM1w1yni3p4t5\"></div></div></div><script type=\"text/javascript\" defer=\"\">window._taboola = window._taboola || []; _taboola.push({flush: true});</script><script>const jwplayerObserver=(e,t)=>{e.forEach(e=>{let{isIntersecting:i,target:r}=e;if(i){let n=r.getAttribute(\"id\"),a=r.getAttribute(\"data-playerId\"),l=document.getElementById(\"jwplayerIdScript\");if(l&&l.parentNode.removeChild(l),a){let s=\"https://cdn.jwplayer.com/libraries/\"+a+\".js\",o=document.createElement(\"script\");o.type=\"text/javascript\",o.id=\"jwplayerIdScript\",o.src=s,document.head.append(o)}let c=document.getElementById(\"image_\"+n),d={},p=[{file:\"https://cdn.jwplayer.com/manifests/\"+n+\".m3u8\",title:c.getAttribute(\"alt\"),recommendations:\"https://cdn.jwplayer.com/v2/media/\"+n,image:c.getAttribute(\"src\")}],u=()=>{fetch(\"https://cdn.jwplayer.com/v2/media/\"+n).then(function(e){return e.json()}).then(function(e={}){let t=e,i=[{src:c.getAttribute(\"src\"),width:480,type:\"image/jpeg\"}],r=t.playlist;r[0].image=c.getAttribute(\"src\"),r[0].images=i,t.playlist=r,d=t}).catch(function(e){console.error(e)})};u(),setTimeout(function(){var e;jwplayer(n).setup({playlist:d||p}),null!==(e=jwDefaults)&&void 0!==e&&e.advertising&&setTimeout(function(){var e=window.location.href;let t=0;e.includes(\"/videos/\")&&(t=100),jwplayer(n).setConfig({autostart:!0,volume:t}),new IntersectionObserver((e,t)=>{e.forEach(e=>{e.isIntersecting?jwplayer(n).play():jwplayer(n).pause()})},{rootMargin:\"0px\",threshold:1}).observe(document.getElementById(n)),document.addEventListener(\"visibilitychange\",function e(){\"hidden\"===document.visibilityState?jwplayer(n).pause():\"visible\"===document.visibilityState&&jwplayer(n).play()},!1)},1e3)},2000),t.unobserve(r)}})};window.addEventListener(\"load\",function(){requestIdle(function(){if(\"IntersectionObserver\"in window){var e=Array.from(document.body.querySelectorAll(\".jwplayer-lazy\")),t=new IntersectionObserver(jwplayerObserver,{rootMargin:\"0px\"});e.forEach(function(e){t.observe(e)})}})});\\n</script><script>\"use strict\";var iframeObserver=function(e,r){e.forEach(function(e){var t=e.isIntersecting,n=e.target;t&&(n.innerHTML=n.getAttribute(\"data-iframe\"),setTimeout(function(){n.classList.remove(\"story-contents__p-default\"),n.classList.remove(\"s-multimedia__p-default\")},1e3),r.unobserve(n))})};requestIdle(function(){if(\"IntersectionObserver\"in window){var e=Array.from(document.body.querySelectorAll(\".s-multimedia__lL-iframe\")),r=Array.from(document.body.querySelectorAll(\".story-contents__lL-iframe\")).concat(e),t=new IntersectionObserver(iframeObserver,{rootMargin:\"0px\"});r.forEach(function(e){t.observe(e)})}});</script><script src=\"https://cdna.peru21.pe/resources/assets/js/lazyload.js?d=1\"></script><script defer=\"\" src=\"https://d1r08wok4169a5.cloudfront.net/gpt-adtmp/ads-formats-v2/public/js/main.min.js?v=2024-01-13\"></script><script>\"use strict\";var loadDeferredStyles=function loadDeferredStyles(){var addStylesNode=document.getElementById(\"deferred-styles\");var replacement=document.createElement(\"div\");replacement.innerHTML=addStylesNode.textContent;document.body.appendChild(replacement);addStylesNode.parentElement.removeChild(addStylesNode)};var raf=window.requestAnimationFrame||window.mozRequestAnimationFrame||window.webkitRequestAnimationFrame||window.msRequestAnimationFrame;if(raf)raf(function(){window.requestIdle(loadDeferredStyles)});else window.addEventListener(\"load\",loadDeferredStyles)</script><script>\\n  !(function (w, d) {\\n    let isClientSide = typeof window !== \\'undefined\\'\\n  \\n    function getCookie(name = \\'\\') {\\n      const cookieValue =\\n        isClientSide && document.cookie.match(\\'(^|;) ?\\' + name + \\'=([^;]*)(;|$)\\')\\n      return cookieValue ? cookieValue[2] : null\\n    }\\n  \\n    function setCookie(\\n      name = \\'\\',\\n      value = \\'\\',\\n      days = 1,\\n      domain = \\'\\',\\n      sameSite = \\'lax\\'\\n    ) {\\n      if (isClientSide) {\\n        let expires = \\'\\'\\n        if (days) {\\n          const expireDate = new Date()\\n          expireDate.setTime(expireDate.getTime() + days * 24 * 60 * 60 * 1000)\\n          expires = \\';expires=\\' + expireDate.toUTCString()\\n        }\\n  \\n        const domainValue = domain ? \\';domain=\\' + domain : \\'\\'\\n  \\n        document.cookie =\\n          \\'\\' +\\n          name +\\n          \\'=\\' +\\n          (typeof value === \\'string\\' ? value : JSON.stringify(value)) +\\n          \\';path=/;secure;sameSite=\\' +\\n          sameSite +\\n          domainValue +\\n          expires;\\n      }\\n    }\\n  \\n    function deleteCookie(name = \\'\\', domain = \\'\\') {\\n      setCookie(name, \\'\\', -1, domain);\\n    }\\n  \\n    function getCookies() {\\n      let cookies = d.cookie.split(\\';\\');\\n      const cookiesArray = [];\\n      for (var i = 1; i <= cookies.length; i++) {\\n        const index = cookies[i - 1].indexOf(\\'=\\')\\n        if (index !== -1) {\\n          const cookie = cookies[i - 1].substring(0, index).trim();\\n          cookiesArray.push(cookie);\\n        }\\n      }\\n      return cookiesArray\\n    }\\n    if (true) {\\n      w.tp = w.tp || [];\\n      w.tp?.push([\"init\", () => {\\n        if(w.tp?.pianoId?.isUserValid()){\\n          w.tp?.pianoId?.logout();\\n        }\\n      }]);\\n      w.localStorage.removeItem(\\'ArcId.USER_INFO\\');\\n      w.localStorage.removeItem(\\'ArcId.USER_PROFILE\\');\\n      Object.keys(w.localStorage || {})?.forEach((key) => {\\n        if (\\n          key.startsWith(\\'_ps_\\') ||\\n          key.startsWith(\\'_pc_\\') ||\\n          key.startsWith(\\'piano-id-initial-gm-sso-shown\\')\\n        ) {\\n          delete w.localStorage[key]\\n        }\\n      })\\n      getCookies().forEach((key) => {\\n        if (\\n          key.startsWith(\\'_pc\\') ||\\n          key.startsWith(\\'__ut\\') ||\\n          key.startsWith(\\'__p\\') ||\\n          key.startsWith(\\'piano-id-initial-gm-sso-shown\\') ||\\n          key.endsWith(\\'__ut\\')\\n        ) {\\n          deleteCookie(key);\\n          deleteCookie(key, \".\"+w.location.host);\\n        }\\n      })\\n      const cookiesPiano = [\\n        \\'_pc_carritoAbandonado\\',\\n        \\'_pc_carritoAbandonado_five_days\\',\\n        \\'_pc_user_status\\',\\n        \\'_pc_single-offer\\',\\n        \\'_pc_dual-offer\\',\\n        \\'_pc_arc-pass\\',\\n        \\'_pc_basic-profile\\',\\n        \\'_pcid\\',\\n        \\'_pctx\\',\\n        \\'__utp\\',\\n        \\'__ut\\',\\n        \\'_pc_uuid\\',\\n      ]\\n      cookiesPiano.forEach((key) => {\\n        if (getCookie(key)) {\\n          deleteCookie(key);\\n          deleteCookie(key, \".\"+w.location.host);\\n        }\\n      })\\n    }\\n  })(window, document)</script><div><link rel=\"stylesheet\" type=\"text/css\" href=\"https://cdnc.peru21.pe/dist/peru21/css/lite-story.css?d=3063\"></div><img src=\"https://ad-delivery.net/px.gif?ch=2\" style=\"display: none !important; width: 1px !important; height: 1px !important;\"><img src=\"https://ad.doubleclick.net/favicon.ico?ad=300x250&amp;ad_box_=1&amp;adnet=1&amp;showad=1&amp;size=250x250\" style=\"display: none !important; width: 1px !important; height: 1px !important;\"><img src=\"https://ad-delivery.net/px.gif?ch=1&amp;e=0.8609557546761246\" style=\"display: none !important; width: 1px !important; height: 1px !important;\">\\n<script type=\"text/javascript\" id=\"\">!function(b,e,f,g,a,c,d){b.fbq||(a=b.fbq=function(){a.callMethod?a.callMethod.apply(a,arguments):a.queue.push(arguments)},b._fbq||(b._fbq=a),a.push=a,a.loaded=!0,a.version=\"2.0\",a.queue=[],c=e.createElement(f),c.async=!0,c.src=g,d=e.getElementsByTagName(f)[0],d.parentNode.insertBefore(c,d))}(window,document,\"script\",\"https://connect.facebook.net/en_US/fbevents.js\");fbq(\"init\",\"855832587902487\");fbq(\"track\",\"PageView\");</script>\\n<noscript><img height=\"1\" width=\"1\" style=\"display:none\" src=\"https://www.facebook.com/tr?id=855832587902487&amp;ev=PageView&amp;noscript=1\"></noscript>\\n\\n\\n<script type=\"text/javascript\" id=\"\">var _comscore=_comscore||[];_comscore.push({c1:\"2\",c2:\"8429002\",cs_ucfr:\"1\",options:{enableFirstPartyCookie:!0}});(function(){var a=document.createElement(\"script\"),b=document.getElementsByTagName(\"script\")[0];a.async=!0;a.src=\"https://sb.scorecardresearch.com/cs/8429002/beacon.js\";b.parentNode.insertBefore(a,b)})();</script>\\n<noscript>\\n  <img src=\"https://sb.scorecardresearch.com/p?c1=2&amp;c2=8429002&amp;cs_ucfr=1&amp;cv=3.9.1&amp;cj=1\">\\n</noscript>\\n<script type=\"text/javascript\" id=\"\">setTimeout(function(){if(getCookie(\"sawbanner\")){var a=getCookie(\"sawbanner\");\"true\"!=a&&addGDPR()}else if(getCookie(\"isEU\"))isEU=getCookie(\"isEU\"),\"true\"==isEU&&addGDPR();else{var b=new XMLHttpRequest;b.onreadystatechange=function(){if(200===b.status){a=JSON.parse(b.responseText);var c=\"nil\"!=a.is_in_european_union?!0:!1;setCookie(\"isEU\",c,1);c&&addGDPR()}};b.open(\"GET\",\"https://geoapi.eclabs.io/location\");b.send()}},500);\\nfunction setCookie(a,b,c){var d=new Date;d.setTime(d.getTime()+864E5*c);document.cookie=a+\"\\\\x3d\"+b+\";path\\\\x3d/;expires\\\\x3d\"+d.toGMTString()}function getCookie(a){return(a=document.cookie.match(\"(^|;) ?\"+a+\"\\\\x3d([^;]*)(;|$)\"))?a[2]:null}\\nfunction addGDPR(){var a=document.createElement(\"script\");a.setAttribute(\"src\",\"https://d34fzxxwb5p53o.cloudfront.net/prod/output/assets/componentes/gdpr/build/cmp.bundle.js\");a.setAttribute(\"id\",\"id_bundle_gdpr\");document.body.appendChild(a);var b=20,c=0,d=setInterval(function(){document.querySelector(\"#id_bundle_gdpr\")&&(function(a){a.__cmp=function(){var b=a.attachEvent||a.addEventListener;b(\"message\",function(b){a.__cmp.receiveMessage(b)});var c=[];b=function(a,b,d){c.push({command:a,parameter:b,\\ncallback:d})};b.commandQueue=c;b.receiveMessage=function(a){var b=a&&a.data&&a.data.__cmpCall;b&&c.push({callId:b.callId,command:b.command,parameter:b.parameter,event:a})};return b}()}(window),__cmp(\"showConsentTool\"),d=clearInterval(d));c++;c===b&&clearInterval(d)},250)};</script><script type=\"text/javascript\" id=\"\">var sessionChartbeat=\"anon\",UserInfo=window.localStorage.getItem(\"ArcId.USER_INFO\");sessionChartbeat=0<=window.document.cookie.indexOf(\"mpp_sess\\\\x3d\")?\"lgdin\":null===UserInfo||\"{}\"===UserInfo?sessionChartbeat=\"anon\":sessionChartbeat=\"lgdin\";(function(){var a=window._cbq=window._cbq||[];a.push([\"_acct\",sessionChartbeat])})();</script><script type=\"text/javascript\" id=\"\">(function(b,a,c,d,e){var f=b.getElementsByTagName(a)[0];b.getElementById(c)||(a=b.createElement(\"script\"),a.id=c,a.async=1,a.h=d,a.t=e,b=encodeURI(btoa(b.referrer)),a.src=\"//\"+d+\"/pixel/js/\"+e+\"/\"+b,f.parentNode.insertBefore(a,f))})(document,\"script\",\"dogtrack-pixel\",\"zeco.spxl.socy.es\",\"ZECO_453_877_194\");</script>\\n<script type=\"text/javascript\" id=\"\">!function(b,e,f,g,a,c,d){b.fbq||(a=b.fbq=function(){a.callMethod?a.callMethod.apply(a,arguments):a.queue.push(arguments)},b._fbq||(b._fbq=a),a.push=a,a.loaded=!0,a.version=\"2.0\",a.queue=[],c=e.createElement(f),c.async=!0,c.src=g,d=e.getElementsByTagName(f)[0],d.parentNode.insertBefore(c,d))}(window,document,\"script\",\"https://connect.facebook.net/en_US/fbevents.js\");fbq(\"init\",\"390633922150860\");fbq(\"track\",\"PageView\");</script>\\n<noscript><img height=\"1\" width=\"1\" style=\"display:none\" src=\"https://www.facebook.com/tr?id=390633922150860&amp;ev=PageView&amp;noscript=1\"></noscript>\\n    <script type=\"text/javascript\" id=\"\">var metaName=getMeta(\"name\",\"keywords\"),metaNameTitle=getMeta(\"name\",\"DC.title\"),metaProperty=getMeta(\"property\",\"article:tag\");function getMeta(d,e){for(var c=[],b=document.getElementsByTagName(\"meta\"),a=0;a<b.length;a++)b[a].getAttribute(d)===e&&c.push(b[a].getAttribute(\"content\"));return c.join()}var metaTags=metaName+\",\"+metaNameTitle+\",\"+metaProperty;_rely.push({tags:metaTags});_rely.send();</script><script type=\"text/javascript\" id=\"\">(function(){setTimeout(function(){try{var a=google_tag_manager[\"rm\"][\"12735002\"](15);null!=a&&(_rely.push({external_id:a.substr(6)}),_rely.send())}catch(b){}},1E3)})();</script></body></html>'"
      ]
     },
     "execution_count": 26,
     "metadata": {},
     "output_type": "execute_result"
    }
   ],
   "source": [
    "driver.page_source"
   ]
  },
  {
   "cell_type": "code",
   "execution_count": 28,
   "metadata": {},
   "outputs": [],
   "source": [
    "# Refresh the page - \n",
    "driver.refresh() #reload or refresh the browser"
   ]
  },
  {
   "cell_type": "code",
   "execution_count": 31,
   "metadata": {},
   "outputs": [],
   "source": [
    "from selenium import webdriver\n",
    "from selenium.webdriver.chrome.service import Service\n",
    "\n",
    "service = Service(executable_path=\"chromedriver-win64/chromedriver.exe\")\n",
    "options = webdriver.ChromeOptions()\n",
    "driver = webdriver.Chrome(service=service, options=options)"
   ]
  },
  {
   "cell_type": "code",
   "execution_count": 36,
   "metadata": {},
   "outputs": [],
   "source": [
    "# driver = webdriver.Chrome(executable_path=r'chromedriver-win64/chromedriver.exe')\n",
    "# service = Service(executable_path='chromedriver.exe')\n",
    "\n",
    "service = Service(executable_path=\"chromedriver-win64/chromedriver.exe\")\n",
    "options = webdriver.ChromeOptions()\n",
    "driver = webdriver.Chrome(service=service, options=options)\n",
    "\n",
    "driver.maximize_window()\n",
    "\n",
    "url_1 = \"https://resultadoshistorico.onpe.gob.pe/EG2021/\"\n",
    "driver.get( url_1 )\n",
    "time.sleep(3)\n",
    "\n",
    "url_2 = \"https://www.google.com/\"\n",
    "driver.get( url_2 )\n",
    "time.sleep(3)\n",
    "\n",
    "driver.back()"
   ]
  },
  {
   "cell_type": "code",
   "execution_count": 39,
   "metadata": {},
   "outputs": [],
   "source": [
    "# driver = webdriver.Chrome(executable_path=r'chromedriver-win64/chromedriver.exe')\n",
    "# service = Service(executable_path='chromedriver.exe')\n",
    "\n",
    "service = Service(executable_path=\"chromedriver-win64/chromedriver.exe\")\n",
    "options = webdriver.ChromeOptions()\n",
    "driver = webdriver.Chrome(service=service, options=options)\n",
    "\n",
    "driver.maximize_window()\n",
    "\n",
    "url_1 = \"https://resultadoshistorico.onpe.gob.pe/EG2021/\"\n",
    "driver.get( url_1 )\n",
    "time.sleep(3)\n",
    "\n",
    "url_2 = \"https://www.google.com/\"\n",
    "driver.get( url_2 )\n",
    "time.sleep(3)\n",
    "\n",
    "driver.back()"
   ]
  },
  {
   "cell_type": "code",
   "execution_count": 38,
   "metadata": {},
   "outputs": [],
   "source": [
    "driver.close()"
   ]
  },
  {
   "cell_type": "code",
   "execution_count": 40,
   "metadata": {},
   "outputs": [],
   "source": [
    "driver.quit()"
   ]
  },
  {
   "cell_type": "markdown",
   "metadata": {},
   "source": [
    "![Quite and Close](Images/quite_close.png)"
   ]
  },
  {
   "cell_type": "code",
   "execution_count": 40,
   "metadata": {},
   "outputs": [
    {
     "data": {
      "text/plain": [
       "selenium.webdriver.chrome.webdriver.WebDriver"
      ]
     },
     "execution_count": 40,
     "metadata": {},
     "output_type": "execute_result"
    }
   ],
   "source": [
    "type(driver)"
   ]
  },
  {
   "cell_type": "markdown",
   "metadata": {},
   "source": [
    "`driver` is an `selenium.webdriver.chrome.webdriver.WebDriver` object. This object has some attributes that will help us to navigate on the web."
   ]
  },
  {
   "cell_type": "markdown",
   "metadata": {},
   "source": [
    "Now, you can see in the driver that we are in [this link](https://www.convocatoriascas.com/)."
   ]
  },
  {
   "cell_type": "markdown",
   "metadata": {},
   "source": [
    "# Extra - Best Practices before working"
   ]
  },
  {
   "cell_type": "markdown",
   "metadata": {},
   "source": [
    "1. Maximize the browser"
   ]
  },
  {
   "cell_type": "code",
   "execution_count": 41,
   "metadata": {},
   "outputs": [],
   "source": [
    "service = Service(executable_path=\"chromedriver-win64/chromedriver.exe\")\n",
    "driver = webdriver.Chrome(service=service)\n",
    "\n",
    "#driver = webdriver.Chrome(executable_path=r'chromedriver-win64/chromedriver.exe')\n",
    "\n",
    "url = 'https://www.kaspersky.com/resource-center/definitions/cookies'\n",
    "driver.get( url )\n",
    "\n",
    "driver.maximize_window()"
   ]
  },
  {
   "cell_type": "markdown",
   "metadata": {},
   "source": [
    "2. Set the Browser Zoom Level to 100 percent"
   ]
  },
  {
   "cell_type": "code",
   "execution_count": 45,
   "metadata": {},
   "outputs": [],
   "source": [
    "driver.execute_script(\"document.body.style.zoom='100%'\")"
   ]
  },
  {
   "cell_type": "markdown",
   "metadata": {},
   "source": [
    "### 7.4.1. HTML\n",
    "HTML stands for HyperText Markup Language. You can deduce that it’s a language for creating web pages. It’s not a programming language like Python or Java, but it’s a markup language. It describes the elements of a page through tags characterized by angle brackets.\n",
    "\n",
    "1. The document always begins and ends using `<html>` and `</html>`.\n",
    "2. `<body></body>` constitutes the visible part of HTML document.\n",
    "3. `<h1>` to `<h3>` tags are defined for the headings."
   ]
  },
  {
   "cell_type": "markdown",
   "metadata": {},
   "source": [
    "#### 7.4.1.1. HTML Headings\n",
    "HTML headings are defined with the `<h1>` to `<h6>` tags.\n",
    "`<h1>` defines the most important heading. `<h6>` defines the least important heading.\n",
    "\n",
    "We can use text cells since markdown reads html tags."
   ]
  },
  {
   "cell_type": "markdown",
   "metadata": {},
   "source": [
    "<h1>This is heading 1</h1>\n",
    "<h2>This is heading 2</h2>\n",
    "<h3>This is heading 3</h3>"
   ]
  },
  {
   "cell_type": "markdown",
   "metadata": {},
   "source": [
    "#### 7.4.1.2. HTML Paragraphs\n",
    "HTML paragraphs are defined with the `<p>` tag.\n",
    "`<br>` tag is similar to `\"\\n\"`."
   ]
  },
  {
   "cell_type": "markdown",
   "metadata": {},
   "source": [
    "<html>\n",
    "<br>\n",
    "<p>My first paragraph.</p> <br>\n",
    "<p>This is another paragraph for this text cell.</p>\n",
    "<html>"
   ]
  },
  {
   "cell_type": "markdown",
   "metadata": {},
   "source": [
    "#### 7.4.1.3. HTML Links\n",
    "HTML links are defined with the <a> tag:"
   ]
  },
  {
   "cell_type": "markdown",
   "metadata": {},
   "source": [
    "<a href=\"http://bayes.cs.ucla.edu/jp_home.html\">This is a link for Judea Pearl Website</a>"
   ]
  },
  {
   "cell_type": "markdown",
   "metadata": {},
   "source": [
    "#### 7.4.1.3. Unordered HTML List\n",
    "An unordered list starts with the `<ul>` tag. Each list item starts with the `<li>` tag."
   ]
  },
  {
   "cell_type": "markdown",
   "metadata": {},
   "source": [
    "<ul>\n",
    "  <li>Coffee</li>\n",
    "  <li>Tea</li>\n",
    "  <li>Milk</li>\n",
    "</ul>"
   ]
  },
  {
   "cell_type": "markdown",
   "metadata": {},
   "source": [
    "#### 7.4.1.4. Ordered HTML List\n",
    "An ordered list starts with the `<ol>` tag. Each list item starts with the `<li>` tag."
   ]
  },
  {
   "cell_type": "markdown",
   "metadata": {},
   "source": [
    "<ol>\n",
    "  <li>Coffee</li>\n",
    "  <li>Tea</li>\n",
    "  <li>Milk</li>\n",
    "</ol>"
   ]
  },
  {
   "cell_type": "markdown",
   "metadata": {},
   "source": [
    "#### 7.4.1.4. HTML Tables\n",
    "\n",
    "A table in HTML consists of table cells inside rows and columns. Each table cell is defined by a `<td>` and a `</td>` tag. Each table row starts with a `<tr>` and end with a `</tr>` tag."
   ]
  },
  {
   "cell_type": "markdown",
   "metadata": {},
   "source": [
    "<table>\n",
    "  <tr>\n",
    "    <th>Manager</th>\n",
    "    <th>Club</th>\n",
    "    <th>Nationality</th>\n",
    "  </tr>\n",
    "  <tr>\n",
    "    <td>Mikel Arteta</td>\n",
    "    <td>Arsenal</td>\n",
    "    <td>Spain</td>\n",
    "  </tr>\n",
    "  <tr>\n",
    "    <td>Thomas Tuchel</td>\n",
    "    <td>Chelsea</td>\n",
    "    <td>Germany</td>\n",
    "  </tr>\n",
    "</table>"
   ]
  },
  {
   "cell_type": "markdown",
   "metadata": {},
   "source": [
    "#### 7.4.1.5. HTML Iframes\n",
    "\n",
    "An HTML iframe is used to display a web page within a web page."
   ]
  },
  {
   "cell_type": "markdown",
   "metadata": {},
   "source": [
    "\n",
    "<!DOCTYPE html>\n",
    "<html>\n",
    "  \n",
    "<head>\n",
    "    <title>HTML iframe src Attribute</title>\n",
    "</head>\n",
    "  \n",
    "<body style=\"text-align: center\">\n",
    "    <h1>Diploma</h1>\n",
    "    <h2>HTML iframe</h2>\n",
    "    <iframe>\n",
    "          \n",
    "        <!DOCTYPE html>\n",
    "        <html>\n",
    "\n",
    "        <head>\n",
    "            <title>New html</title>\n",
    "        </head>\n",
    "\n",
    "        <body style=\"text-align: center\">\n",
    "            <h1>Diploma2</h1>\n",
    "            <h2>HTML iframe</h2>\n",
    "            <iframe>\n",
    "\n",
    "            </iframe>\n",
    "        </body>\n",
    "\n",
    "        </html>\n",
    "    </iframe>\n",
    "</body>\n",
    "  \n",
    "</html>"
   ]
  },
  {
   "cell_type": "markdown",
   "metadata": {},
   "source": [
    "#### 7.4.1.6. HTML Tags - Key"
   ]
  },
  {
   "cell_type": "markdown",
   "metadata": {},
   "source": [
    "|Tag|Description|\n",
    "|---|---|\n",
    "|`<h1>` to `<h6>`|\tDefines HTML headings|\n",
    "|`<ul>`|\tDefines an unordered list|\n",
    "|`<ol>`|\tDefines an ordered list|\n",
    "|`<p>`|\tDefines a paragraph|\n",
    "|`<a>`|\tIt is termed as anchor tag and it creates a hyperlink or link.|\n",
    "|`<div>`|\tIt defines a division or section within HTML document.|\n",
    "|`<strong>`|\tIt is used to define important text.|\n",
    "|`<table>`|\tIt is used to present data in tabular form or to create a table within HTML document.|\n",
    "|`<td>`|\tIt is used to define cells of an HTML table which contains table data|\n",
    "|`<iframe>`|\tDefines an inline frame|"
   ]
  },
  {
   "cell_type": "markdown",
   "metadata": {},
   "source": [
    "### 7.4. Identifying elements in a web page\n",
    "\n",
    "To identify elements of a webpage, we need to inspect the webpage. Open the driver and press `Ctrl`+ `Shift` + `I`."
   ]
  },
  {
   "cell_type": "markdown",
   "metadata": {},
   "source": [
    "#### One Element\n",
    "|Method|Description|\n",
    "|---|---|\n",
    "|find_element_by_id| Use id.|\n",
    "|find_element_by_name| Use name.|\n",
    "|find_element_by_xpath| Use Xpath.|\n",
    "|find_element_by_tag_name| Use HTML tag.|\n",
    "|find_element_by_class_name| Use class name.|\n",
    "|find_element_by_css_selector| Use css selector.|"
   ]
  },
  {
   "cell_type": "markdown",
   "metadata": {},
   "source": [
    "#### Multiple  elements\n",
    "|Method|Description|\n",
    "|---|---|\n",
    "|find_elements_by_id| Use id.|\n",
    "|find_elements_by_name| Use name.|\n",
    "|find_elements_by_xpath| Use Xpath.|\n",
    "|find_elements_by_tag_name| Use HTML tag.|\n",
    "|find_elements_by_class_name| Use class name.|\n",
    "|find_elements_by_css_selector| Use css selector.|"
   ]
  },
  {
   "cell_type": "markdown",
   "metadata": {},
   "source": [
    "### 7.4.1. Xpath\n",
    "XPath in Selenium is an XML path used for navigation through the HTML structure of the page. It is a syntax or language for finding any element on a web page using XML path expression.\n",
    "\n",
    "The basic format of XPath in selenium is explained below with screen shot.\n",
    "<img src=\"../_images/x_path.png\">"
   ]
  },
  {
   "cell_type": "markdown",
   "metadata": {},
   "source": [
    "**DO NOT COMPLICATE!**\n",
    "Finding the XPath of a element:\n",
    "1. Go to the element\n",
    "2. Right click\n",
    "3. Inspect - You may have to do it twice.\n",
    "4. Go to the selected line\n",
    "5. Right click\n",
    "7. Copy \n",
    "8. Copy Full Xpath"
   ]
  },
  {
   "cell_type": "markdown",
   "metadata": {},
   "source": [
    "**Example**\n",
    "\n",
    "We are going to select `Economistas` option and make a click. Use `find_element_by_xpath` and click."
   ]
  },
  {
   "cell_type": "code",
   "execution_count": 50,
   "metadata": {},
   "outputs": [],
   "source": [
    "from selenium.webdriver.common.by import By"
   ]
  },
  {
   "cell_type": "code",
   "execution_count": 46,
   "metadata": {},
   "outputs": [
    {
     "name": "stderr",
     "output_type": "stream",
     "text": [
      "C:\\Users\\ALEXAN~1\\AppData\\Local\\Temp/ipykernel_38996/3855102828.py:1: DeprecationWarning: executable_path has been deprecated, please pass in a Service object\n",
      "  driver = webdriver.Chrome(executable_path=r'chromedriver-win64/chromedriver.exe')\n"
     ]
    }
   ],
   "source": [
    "driver = webdriver.Chrome(executable_path=r'chromedriver-win64/chromedriver.exe')\n",
    "driver.maximize_window()\n",
    "\n",
    "url_1 = \"https://resultadoshistorico.onpe.gob.pe/EG2021/\"\n",
    "driver.get( url_1 )\n",
    "#time.sleep(3)"
   ]
  },
  {
   "cell_type": "code",
   "execution_count": null,
   "metadata": {},
   "outputs": [],
   "source": [
    "# /html/body/onpe-root/onpe-home-onpe/div[1]/div/div/div/div[2]/div[1]/div/div/a/div[2]/div"
   ]
  },
  {
   "cell_type": "code",
   "execution_count": null,
   "metadata": {},
   "outputs": [],
   "source": [
    "/html/body/onpe-root/onpe-home-onpe/div[1]/div/div/div/div[2]/div[1]/div/div/a/div[2]/div\n",
    "/html/body/onpe-root/onpe-home-onpe/div[1]/div/div/div/div[2]/div[2]/div/div/a/div[2]\n"
   ]
  },
  {
   "cell_type": "code",
   "execution_count": 56,
   "metadata": {},
   "outputs": [],
   "source": [
    "resumen_general = driver.find_element( By.XPATH  , '/html/body/onpe-root/onpe-home-onpe/div[1]/div/div/div/div[2]/div[1]/div/div/a/div[2]/div')\n",
    "resumen_general.click()"
   ]
  },
  {
   "cell_type": "code",
   "execution_count": 30,
   "metadata": {},
   "outputs": [],
   "source": [
    "from selenium.webdriver.common.by import By"
   ]
  },
  {
   "cell_type": "code",
   "execution_count": 57,
   "metadata": {},
   "outputs": [],
   "source": [
    "resumen_general = driver.find_element(By.XPATH, '/html/body/onpe-root/onpe-home-onpe/div[1]/div/div/div/div[2]/div[1]/div/div/a/div[2]/div')\n",
    "resumen_general.click()"
   ]
  },
  {
   "cell_type": "code",
   "execution_count": null,
   "metadata": {},
   "outputs": [],
   "source": [
    "#mapdiv > div > div.amcharts-chart-div > svg > g:nth-child(8) > g > g:nth-child(1) > path:nth-child(36)"
   ]
  },
  {
   "cell_type": "code",
   "execution_count": 37,
   "metadata": {},
   "outputs": [],
   "source": [
    "resumen_general = driver.find_element(By.XPATH,'/html/body/onpe-root/onpe-home-onpe/div[1]/div/div/div/div[2]/div[1]/div/div/a/div[1]/img')\n",
    "resumen_general.click()"
   ]
  },
  {
   "cell_type": "markdown",
   "metadata": {},
   "source": [
    "* ID = \"id\"\n",
    "* NAME = \"name\"\n",
    "* XPATH = \"xpath\"\n",
    "* LINK_TEXT = \"link text\"\n",
    "* PARTIAL_LINK_TEXT = \"partial link text\"\n",
    "* TAG_NAME = \"tag name\"\n",
    "* CLASS_NAME = \"class name\"\n",
    "* CSS_SELECTOR = \"css selector\" "
   ]
  },
  {
   "cell_type": "code",
   "execution_count": 63,
   "metadata": {},
   "outputs": [
    {
     "data": {
      "text/plain": [
       "<bound method WebElement.click of <selenium.webdriver.remote.webelement.WebElement (session=\"8a4e0f1dd2d11a6eb4a6bad617a19a21\", element=\"2EFDE05B32D6EA4F017A654BAF16E7D7_element_2579\")>>"
      ]
     },
     "execution_count": 63,
     "metadata": {},
     "output_type": "execute_result"
    }
   ],
   "source": [
    "driver.find_element(By.ID, 'select_ambito').click()\n",
    "driver.find_element(By.NAME, 'cod_ambito').click()"
   ]
  },
  {
   "cell_type": "code",
   "execution_count": 58,
   "metadata": {},
   "outputs": [
    {
     "name": "stderr",
     "output_type": "stream",
     "text": [
      "C:\\Users\\ALEXAN~1\\AppData\\Local\\Temp/ipykernel_38996/1378342553.py:2: DeprecationWarning: find_element_by_* commands are deprecated. Please use find_element() instead\n",
      "  driver.find_element_by_id('select_ambito').click\n"
     ]
    },
    {
     "data": {
      "text/plain": [
       "<bound method WebElement.click of <selenium.webdriver.remote.webelement.WebElement (session=\"8a4e0f1dd2d11a6eb4a6bad617a19a21\", element=\"2EFDE05B32D6EA4F017A654BAF16E7D7_element_2579\")>>"
      ]
     },
     "execution_count": 58,
     "metadata": {},
     "output_type": "execute_result"
    }
   ],
   "source": [
    "# Best practices\n",
    "driver.find_element_by_id('select_ambito').click"
   ]
  },
  {
   "cell_type": "code",
   "execution_count": 60,
   "metadata": {},
   "outputs": [
    {
     "name": "stderr",
     "output_type": "stream",
     "text": [
      "C:\\Users\\ALEXAN~1\\AppData\\Local\\Temp/ipykernel_38996/1327973677.py:1: DeprecationWarning: find_element_by_* commands are deprecated. Please use find_element() instead\n",
      "  driver.find_element_by_name('cod_ambito').click()\n"
     ]
    }
   ],
   "source": [
    "driver.find_element_by_name('cod_ambito').click()\n",
    "#driver.find_element_by_xpath('/html/body/onpe-root/onpe-layout-container/onpe-onpe-epres-re/div[1]/div[3]/div[1]/div[1]/div/div/div/select')"
   ]
  },
  {
   "cell_type": "code",
   "execution_count": 44,
   "metadata": {},
   "outputs": [
    {
     "name": "stderr",
     "output_type": "stream",
     "text": [
      "C:\\Users\\ALEXAN~1\\AppData\\Local\\Temp/ipykernel_23860/3486675539.py:1: DeprecationWarning: find_element_by_* commands are deprecated. Please use find_element() instead\n",
      "  driver.find_element_by_class_name('select_ubigeo')\n"
     ]
    },
    {
     "data": {
      "text/plain": [
       "<selenium.webdriver.remote.webelement.WebElement (session=\"fcb117569a03c401035e92fbc09659db\", element=\"FA2D5037E60912FE13DFE1E09C17F29E_element_11974\")>"
      ]
     },
     "execution_count": 44,
     "metadata": {},
     "output_type": "execute_result"
    }
   ],
   "source": [
    "driver.find_element_by_class_name('select_ubigeo')"
   ]
  },
  {
   "cell_type": "code",
   "execution_count": 46,
   "metadata": {},
   "outputs": [
    {
     "name": "stderr",
     "output_type": "stream",
     "text": [
      "C:\\Users\\ALEXAN~1\\AppData\\Local\\Temp/ipykernel_23860/2823056965.py:1: DeprecationWarning: find_element_by_* commands are deprecated. Please use find_element() instead\n",
      "  searchBox = driver.find_element_by_id('select_ambito')\n"
     ]
    }
   ],
   "source": [
    "searchBox = driver.find_element_by_id('select_ambito')\n",
    "# searchBox = driver.find_element_by_xpath('//*[@id=\"select_ambito\"]')\n",
    "# searchBox = driver.find_element_by_css_selector('#select_ambito')"
   ]
  },
  {
   "cell_type": "markdown",
   "metadata": {},
   "source": [
    "![Web Element](Images/Web_Elementpng.png)"
   ]
  },
  {
   "cell_type": "code",
   "execution_count": 49,
   "metadata": {},
   "outputs": [
    {
     "data": {
      "text/plain": [
       "'T'"
      ]
     },
     "execution_count": 49,
     "metadata": {},
     "output_type": "execute_result"
    }
   ],
   "source": [
    "searchBox.get_attribute('value')"
   ]
  },
  {
   "cell_type": "code",
   "execution_count": 48,
   "metadata": {},
   "outputs": [
    {
     "data": {
      "text/plain": [
       "'T'"
      ]
     },
     "execution_count": 48,
     "metadata": {},
     "output_type": "execute_result"
    }
   ],
   "source": [
    "searchBox.get_attribute('value')"
   ]
  },
  {
   "cell_type": "code",
   "execution_count": 50,
   "metadata": {},
   "outputs": [
    {
     "name": "stderr",
     "output_type": "stream",
     "text": [
      "C:\\Users\\ALEXAN~1\\AppData\\Local\\Temp/ipykernel_23860/892230165.py:1: DeprecationWarning: executable_path has been deprecated, please pass in a Service object\n",
      "  driver = webdriver.Chrome(executable_path=r'chromedriver-win64/chromedriver.exe')\n"
     ]
    }
   ],
   "source": [
    "driver = webdriver.Chrome(executable_path=r'chromedriver-win64/chromedriver.exe')\n",
    "\n",
    "url = 'https://resultadoshistorico.onpe.gob.pe/EG2021/'\n",
    "driver.get( url )\n",
    "\n",
    "driver.maximize_window()"
   ]
  },
  {
   "cell_type": "code",
   "execution_count": 51,
   "metadata": {},
   "outputs": [
    {
     "name": "stderr",
     "output_type": "stream",
     "text": [
      "C:\\Users\\ALEXAN~1\\AppData\\Local\\Temp/ipykernel_23860/1411387364.py:1: DeprecationWarning: find_element_by_* commands are deprecated. Please use find_element() instead\n",
      "  driver.find_element_by_xpath(\"/html/body/onpe-root/onpe-home-onpe/div[1]/div/div/div/div[2]/div[1]/div/div/a/div[1]/img\").click()\n"
     ]
    }
   ],
   "source": [
    "driver.find_element_by_xpath(\"/html/body/onpe-root/onpe-home-onpe/div[1]/div/div/div/div[2]/div[1]/div/div/a/div[1]/img\").click()"
   ]
  },
  {
   "cell_type": "code",
   "execution_count": 53,
   "metadata": {},
   "outputs": [
    {
     "name": "stderr",
     "output_type": "stream",
     "text": [
      "C:\\Users\\ALEXAN~1\\AppData\\Local\\Temp/ipykernel_23860/1563849843.py:1: DeprecationWarning: find_element_by_* commands are deprecated. Please use find_element() instead\n",
      "  searchBox = driver.find_element_by_xpath('/html/body/onpe-root/onpe-layout-container/onpe-onpe-rgen-rsgr/div/div[2]/div[1]/div[1]/div/div/div[1]/select/option[2]')\n"
     ]
    }
   ],
   "source": [
    "searchBox = driver.find_element_by_xpath('/html/body/onpe-root/onpe-layout-container/onpe-onpe-rgen-rsgr/div/div[2]/div[1]/div[1]/div/div/div[1]/select/option[2]')\n",
    "searchBox.click()"
   ]
  },
  {
   "cell_type": "code",
   "execution_count": 56,
   "metadata": {},
   "outputs": [
    {
     "name": "stderr",
     "output_type": "stream",
     "text": [
      "C:\\Users\\ALEXAN~1\\AppData\\Local\\Temp/ipykernel_23860/792330971.py:1: DeprecationWarning: find_element_by_* commands are deprecated. Please use find_element() instead\n",
      "  searchBox = driver.find_element_by_xpath('/html/body/onpe-root/onpe-layout-container/onpe-onpe-rgen-rsgr/div/div[2]/div[1]/div[1]/div/div/div[1]/select/option[2]')\n"
     ]
    },
    {
     "data": {
      "text/plain": [
       "'PERÚ'"
      ]
     },
     "execution_count": 56,
     "metadata": {},
     "output_type": "execute_result"
    }
   ],
   "source": [
    "searchBox = driver.find_element_by_xpath('/html/body/onpe-root/onpe-layout-container/onpe-onpe-rgen-rsgr/div/div[2]/div[1]/div[1]/div/div/div[1]/select/option[2]')\n",
    "searchBox.text"
   ]
  },
  {
   "cell_type": "code",
   "execution_count": 41,
   "metadata": {},
   "outputs": [
    {
     "name": "stderr",
     "output_type": "stream",
     "text": [
      "C:\\Users\\ALEXAN~1\\AppData\\Local\\Temp/ipykernel_4352/2800196250.py:1: DeprecationWarning: find_element_by_* commands are deprecated. Please use find_element() instead\n",
      "  searchBox = driver.find_element_by_id('select_ambito')\n"
     ]
    },
    {
     "data": {
      "text/plain": [
       "<selenium.webdriver.remote.webelement.WebElement (session=\"b5ca8d1ebed563e3c66a5bd8dcd59bc6\", element=\"F4712B94759471922218DCBC330F7E1A_element_91\")>"
      ]
     },
     "execution_count": 41,
     "metadata": {},
     "output_type": "execute_result"
    }
   ],
   "source": [
    "searchBox = driver.find_element_by_id('select_ambito')\n",
    "searchBox"
   ]
  },
  {
   "cell_type": "markdown",
   "metadata": {},
   "source": [
    "**Suggestion** <br>\n",
    "We do not recomend to use `tag` at first time since most web pages use nested tags and it is difficult to define a element using HTML tag. However, it is great to find elements that is inside another located element in the web. Let's see the example."
   ]
  },
  {
   "cell_type": "markdown",
   "metadata": {},
   "source": [
    "# EXAMPLE USING ONPE WEBPAGE"
   ]
  },
  {
   "cell_type": "markdown",
   "metadata": {},
   "source": [
    "## Example Alex"
   ]
  },
  {
   "cell_type": "code",
   "execution_count": 64,
   "metadata": {},
   "outputs": [
    {
     "name": "stderr",
     "output_type": "stream",
     "text": [
      "C:\\Users\\ALEXAN~1\\AppData\\Local\\Temp/ipykernel_38996/3888719961.py:1: DeprecationWarning: executable_path has been deprecated, please pass in a Service object\n",
      "  driver = webdriver.Chrome(executable_path=r'chromedriver-win64/chromedriver.exe')\n"
     ]
    }
   ],
   "source": [
    "driver = webdriver.Chrome(executable_path=r'chromedriver-win64/chromedriver.exe')\n",
    "driver.maximize_window()\n",
    "\n",
    "url_1 = \"https://resultadoshistorico.onpe.gob.pe/EG2021/\"\n",
    "driver.get( url_1 )"
   ]
  },
  {
   "cell_type": "code",
   "execution_count": 65,
   "metadata": {},
   "outputs": [],
   "source": [
    "driver.find_element(By.XPATH, '/html/body/onpe-root/onpe-home-onpe/div[1]/div/div/div/div[2]/div[1]/div/div/a/div[2]/div').click()"
   ]
  },
  {
   "cell_type": "code",
   "execution_count": 66,
   "metadata": {},
   "outputs": [],
   "source": [
    "driver.find_element(By.XPATH, '/html/body/onpe-root/onpe-layout-container/onpe-menu/div/nav/div/div/div[2]/div/div[2]/a').click()\n"
   ]
  },
  {
   "cell_type": "code",
   "execution_count": 67,
   "metadata": {},
   "outputs": [],
   "source": [
    "driver.find_element(By.XPATH, '/html/body/onpe-root/onpe-layout-container/onpe-onpe-epres-re/div[1]/div[3]/div[1]/div[1]/div/div/div[1]/select/option[2]').click()"
   ]
  },
  {
   "cell_type": "code",
   "execution_count": 70,
   "metadata": {},
   "outputs": [],
   "source": [
    "table_path = driver.find_element(By.XPATH, '/html/body/onpe-root/onpe-layout-container/onpe-onpe-epres-re/div[1]/div[4]/div[1]/div[3]')"
   ]
  },
  {
   "cell_type": "code",
   "execution_count": 77,
   "metadata": {},
   "outputs": [],
   "source": [
    "table_html = table_path.get_attribute( 'innerHTML' )\n",
    "#table_html"
   ]
  },
  {
   "cell_type": "code",
   "execution_count": 74,
   "metadata": {},
   "outputs": [],
   "source": [
    "import pandas as pd"
   ]
  },
  {
   "cell_type": "code",
   "execution_count": 76,
   "metadata": {},
   "outputs": [
    {
     "data": {
      "text/html": [
       "<div>\n",
       "<style scoped>\n",
       "    .dataframe tbody tr th:only-of-type {\n",
       "        vertical-align: middle;\n",
       "    }\n",
       "\n",
       "    .dataframe tbody tr th {\n",
       "        vertical-align: top;\n",
       "    }\n",
       "\n",
       "    .dataframe thead th {\n",
       "        text-align: right;\n",
       "    }\n",
       "</style>\n",
       "<table border=\"1\" class=\"dataframe\">\n",
       "  <thead>\n",
       "    <tr style=\"text-align: right;\">\n",
       "      <th></th>\n",
       "      <th>TOTAL DE VOTOS</th>\n",
       "      <th>TOTAL DE VOTOS.1</th>\n",
       "      <th>TOTAL DE VOTOS.2</th>\n",
       "      <th>TOTAL DE VOTOS.3</th>\n",
       "      <th>TOTAL DE VOTOS.4</th>\n",
       "      <th>TOTAL DE VOTOS.5</th>\n",
       "    </tr>\n",
       "  </thead>\n",
       "  <tbody>\n",
       "    <tr>\n",
       "      <th>0</th>\n",
       "      <td>ORGANIZACIONES POLÍTICAS</td>\n",
       "      <td>ORGANIZACIONES POLÍTICAS</td>\n",
       "      <td>ORGANIZACIONES POLÍTICAS</td>\n",
       "      <td>TOTAL</td>\n",
       "      <td>%VÁLIDOS</td>\n",
       "      <td>%EMITIDOS</td>\n",
       "    </tr>\n",
       "    <tr>\n",
       "      <th>1</th>\n",
       "      <td>NaN</td>\n",
       "      <td>NaN</td>\n",
       "      <td>PARTIDO NACIONALISTA PERUANO</td>\n",
       "      <td>228955</td>\n",
       "      <td>1.608%</td>\n",
       "      <td>1.309%</td>\n",
       "    </tr>\n",
       "    <tr>\n",
       "      <th>2</th>\n",
       "      <td>NaN</td>\n",
       "      <td>NaN</td>\n",
       "      <td>EL FRENTE AMPLIO POR JUSTICIA, VIDA Y LIBERTAD</td>\n",
       "      <td>64217</td>\n",
       "      <td>0.451%</td>\n",
       "      <td>0.367%</td>\n",
       "    </tr>\n",
       "    <tr>\n",
       "      <th>3</th>\n",
       "      <td>NaN</td>\n",
       "      <td>NaN</td>\n",
       "      <td>PARTIDO MORADO</td>\n",
       "      <td>319176</td>\n",
       "      <td>2.242%</td>\n",
       "      <td>1.825%</td>\n",
       "    </tr>\n",
       "    <tr>\n",
       "      <th>4</th>\n",
       "      <td>NaN</td>\n",
       "      <td>NaN</td>\n",
       "      <td>PERU PATRIA SEGURA</td>\n",
       "      <td>54341</td>\n",
       "      <td>0.382%</td>\n",
       "      <td>0.311%</td>\n",
       "    </tr>\n",
       "    <tr>\n",
       "      <th>5</th>\n",
       "      <td>NaN</td>\n",
       "      <td>NaN</td>\n",
       "      <td>VICTORIA NACIONAL</td>\n",
       "      <td>802957</td>\n",
       "      <td>5.639%</td>\n",
       "      <td>4.592%</td>\n",
       "    </tr>\n",
       "    <tr>\n",
       "      <th>6</th>\n",
       "      <td>NaN</td>\n",
       "      <td>NaN</td>\n",
       "      <td>ACCION POPULAR</td>\n",
       "      <td>1294681</td>\n",
       "      <td>9.092%</td>\n",
       "      <td>7.404%</td>\n",
       "    </tr>\n",
       "    <tr>\n",
       "      <th>7</th>\n",
       "      <td>NaN</td>\n",
       "      <td>NaN</td>\n",
       "      <td>AVANZA PAIS - PARTIDO DE INTEGRACION SOCIAL</td>\n",
       "      <td>1652682</td>\n",
       "      <td>11.607%</td>\n",
       "      <td>9.452%</td>\n",
       "    </tr>\n",
       "    <tr>\n",
       "      <th>8</th>\n",
       "      <td>NaN</td>\n",
       "      <td>NaN</td>\n",
       "      <td>PODEMOS PERU</td>\n",
       "      <td>808559</td>\n",
       "      <td>5.678%</td>\n",
       "      <td>4.624%</td>\n",
       "    </tr>\n",
       "    <tr>\n",
       "      <th>9</th>\n",
       "      <td>NaN</td>\n",
       "      <td>NaN</td>\n",
       "      <td>JUNTOS POR EL PERU</td>\n",
       "      <td>1111407</td>\n",
       "      <td>7.805%</td>\n",
       "      <td>6.356%</td>\n",
       "    </tr>\n",
       "    <tr>\n",
       "      <th>10</th>\n",
       "      <td>NaN</td>\n",
       "      <td>NaN</td>\n",
       "      <td>PARTIDO POPULAR CRISTIANO - PPC</td>\n",
       "      <td>282007</td>\n",
       "      <td>1.981%</td>\n",
       "      <td>1.613%</td>\n",
       "    </tr>\n",
       "    <tr>\n",
       "      <th>11</th>\n",
       "      <td>NaN</td>\n",
       "      <td>NaN</td>\n",
       "      <td>FUERZA POPULAR</td>\n",
       "      <td>1907896</td>\n",
       "      <td>13.399%</td>\n",
       "      <td>10.911%</td>\n",
       "    </tr>\n",
       "    <tr>\n",
       "      <th>12</th>\n",
       "      <td>NaN</td>\n",
       "      <td>NaN</td>\n",
       "      <td>UNION POR EL PERU</td>\n",
       "      <td>100312</td>\n",
       "      <td>0.704%</td>\n",
       "      <td>0.574%</td>\n",
       "    </tr>\n",
       "    <tr>\n",
       "      <th>13</th>\n",
       "      <td>NaN</td>\n",
       "      <td>NaN</td>\n",
       "      <td>RENOVACION POPULAR</td>\n",
       "      <td>1657575</td>\n",
       "      <td>11.641%</td>\n",
       "      <td>9.480%</td>\n",
       "    </tr>\n",
       "    <tr>\n",
       "      <th>14</th>\n",
       "      <td>NaN</td>\n",
       "      <td>NaN</td>\n",
       "      <td>RENACIMIENTO UNIDO NACIONAL</td>\n",
       "      <td>88634</td>\n",
       "      <td>0.622%</td>\n",
       "      <td>0.507%</td>\n",
       "    </tr>\n",
       "    <tr>\n",
       "      <th>15</th>\n",
       "      <td>NaN</td>\n",
       "      <td>NaN</td>\n",
       "      <td>PARTIDO DEMOCRATICO SOMOS PERU</td>\n",
       "      <td>237367</td>\n",
       "      <td>1.667%</td>\n",
       "      <td>1.357%</td>\n",
       "    </tr>\n",
       "    <tr>\n",
       "      <th>16</th>\n",
       "      <td>NaN</td>\n",
       "      <td>NaN</td>\n",
       "      <td>PARTIDO POLITICO NACIONAL PERU LIBRE</td>\n",
       "      <td>2714152</td>\n",
       "      <td>19.061%</td>\n",
       "      <td>15.522%</td>\n",
       "    </tr>\n",
       "    <tr>\n",
       "      <th>17</th>\n",
       "      <td>NaN</td>\n",
       "      <td>NaN</td>\n",
       "      <td>DEMOCRACIA DIRECTA</td>\n",
       "      <td>50184</td>\n",
       "      <td>0.352%</td>\n",
       "      <td>0.287%</td>\n",
       "    </tr>\n",
       "    <tr>\n",
       "      <th>18</th>\n",
       "      <td>NaN</td>\n",
       "      <td>NaN</td>\n",
       "      <td>ALIANZA PARA EL PROGRESO</td>\n",
       "      <td>863955</td>\n",
       "      <td>6.068%</td>\n",
       "      <td>4.941%</td>\n",
       "    </tr>\n",
       "    <tr>\n",
       "      <th>19</th>\n",
       "      <td>NaN</td>\n",
       "      <td>NaN</td>\n",
       "      <td>TOTAL DE VOTOS VÁLIDOS</td>\n",
       "      <td>14239057</td>\n",
       "      <td>100.000%</td>\n",
       "      <td>81.432%</td>\n",
       "    </tr>\n",
       "    <tr>\n",
       "      <th>20</th>\n",
       "      <td>NaN</td>\n",
       "      <td>NaN</td>\n",
       "      <td>VOTOS EN BLANCO</td>\n",
       "      <td>2159535</td>\n",
       "      <td>NaN</td>\n",
       "      <td>12.350%</td>\n",
       "    </tr>\n",
       "    <tr>\n",
       "      <th>21</th>\n",
       "      <td>NaN</td>\n",
       "      <td>NaN</td>\n",
       "      <td>VOTOS NULOS</td>\n",
       "      <td>1087222</td>\n",
       "      <td>NaN</td>\n",
       "      <td>6.218%</td>\n",
       "    </tr>\n",
       "    <tr>\n",
       "      <th>22</th>\n",
       "      <td>NaN</td>\n",
       "      <td>NaN</td>\n",
       "      <td>TOTAL DE VOTOS EMITIDOS</td>\n",
       "      <td>17485814</td>\n",
       "      <td>NaN</td>\n",
       "      <td>100.000%</td>\n",
       "    </tr>\n",
       "  </tbody>\n",
       "</table>\n",
       "</div>"
      ],
      "text/plain": [
       "              TOTAL DE VOTOS          TOTAL DE VOTOS.1  \\\n",
       "0   ORGANIZACIONES POLÍTICAS  ORGANIZACIONES POLÍTICAS   \n",
       "1                        NaN                       NaN   \n",
       "2                        NaN                       NaN   \n",
       "3                        NaN                       NaN   \n",
       "4                        NaN                       NaN   \n",
       "5                        NaN                       NaN   \n",
       "6                        NaN                       NaN   \n",
       "7                        NaN                       NaN   \n",
       "8                        NaN                       NaN   \n",
       "9                        NaN                       NaN   \n",
       "10                       NaN                       NaN   \n",
       "11                       NaN                       NaN   \n",
       "12                       NaN                       NaN   \n",
       "13                       NaN                       NaN   \n",
       "14                       NaN                       NaN   \n",
       "15                       NaN                       NaN   \n",
       "16                       NaN                       NaN   \n",
       "17                       NaN                       NaN   \n",
       "18                       NaN                       NaN   \n",
       "19                       NaN                       NaN   \n",
       "20                       NaN                       NaN   \n",
       "21                       NaN                       NaN   \n",
       "22                       NaN                       NaN   \n",
       "\n",
       "                                  TOTAL DE VOTOS.2 TOTAL DE VOTOS.3  \\\n",
       "0                         ORGANIZACIONES POLÍTICAS            TOTAL   \n",
       "1                     PARTIDO NACIONALISTA PERUANO           228955   \n",
       "2   EL FRENTE AMPLIO POR JUSTICIA, VIDA Y LIBERTAD            64217   \n",
       "3                                   PARTIDO MORADO           319176   \n",
       "4                               PERU PATRIA SEGURA            54341   \n",
       "5                                VICTORIA NACIONAL           802957   \n",
       "6                                   ACCION POPULAR          1294681   \n",
       "7      AVANZA PAIS - PARTIDO DE INTEGRACION SOCIAL          1652682   \n",
       "8                                     PODEMOS PERU           808559   \n",
       "9                               JUNTOS POR EL PERU          1111407   \n",
       "10                 PARTIDO POPULAR CRISTIANO - PPC           282007   \n",
       "11                                  FUERZA POPULAR          1907896   \n",
       "12                               UNION POR EL PERU           100312   \n",
       "13                              RENOVACION POPULAR          1657575   \n",
       "14                     RENACIMIENTO UNIDO NACIONAL            88634   \n",
       "15                  PARTIDO DEMOCRATICO SOMOS PERU           237367   \n",
       "16            PARTIDO POLITICO NACIONAL PERU LIBRE          2714152   \n",
       "17                              DEMOCRACIA DIRECTA            50184   \n",
       "18                        ALIANZA PARA EL PROGRESO           863955   \n",
       "19                          TOTAL DE VOTOS VÁLIDOS         14239057   \n",
       "20                                 VOTOS EN BLANCO          2159535   \n",
       "21                                     VOTOS NULOS          1087222   \n",
       "22                         TOTAL DE VOTOS EMITIDOS         17485814   \n",
       "\n",
       "   TOTAL DE VOTOS.4 TOTAL DE VOTOS.5  \n",
       "0          %VÁLIDOS        %EMITIDOS  \n",
       "1            1.608%           1.309%  \n",
       "2            0.451%           0.367%  \n",
       "3            2.242%           1.825%  \n",
       "4            0.382%           0.311%  \n",
       "5            5.639%           4.592%  \n",
       "6            9.092%           7.404%  \n",
       "7           11.607%           9.452%  \n",
       "8            5.678%           4.624%  \n",
       "9            7.805%           6.356%  \n",
       "10           1.981%           1.613%  \n",
       "11          13.399%          10.911%  \n",
       "12           0.704%           0.574%  \n",
       "13          11.641%           9.480%  \n",
       "14           0.622%           0.507%  \n",
       "15           1.667%           1.357%  \n",
       "16          19.061%          15.522%  \n",
       "17           0.352%           0.287%  \n",
       "18           6.068%           4.941%  \n",
       "19         100.000%          81.432%  \n",
       "20              NaN          12.350%  \n",
       "21              NaN           6.218%  \n",
       "22              NaN         100.000%  "
      ]
     },
     "execution_count": 76,
     "metadata": {},
     "output_type": "execute_result"
    }
   ],
   "source": [
    "table = pd.read_html( table_html )\n",
    "table[0]"
   ]
  },
  {
   "cell_type": "code",
   "execution_count": 79,
   "metadata": {},
   "outputs": [
    {
     "name": "stderr",
     "output_type": "stream",
     "text": [
      "C:\\Users\\ALEXAN~1\\AppData\\Local\\Temp/ipykernel_38996/151453635.py:1: DeprecationWarning: executable_path has been deprecated, please pass in a Service object\n",
      "  driver = webdriver.Chrome(executable_path=r'chromedriver-win64/chromedriver.exe')\n"
     ]
    },
    {
     "data": {
      "text/html": [
       "<div>\n",
       "<style scoped>\n",
       "    .dataframe tbody tr th:only-of-type {\n",
       "        vertical-align: middle;\n",
       "    }\n",
       "\n",
       "    .dataframe tbody tr th {\n",
       "        vertical-align: top;\n",
       "    }\n",
       "\n",
       "    .dataframe thead th {\n",
       "        text-align: right;\n",
       "    }\n",
       "</style>\n",
       "<table border=\"1\" class=\"dataframe\">\n",
       "  <thead>\n",
       "    <tr style=\"text-align: right;\">\n",
       "      <th></th>\n",
       "      <th>TOTAL DE VOTOS</th>\n",
       "      <th>TOTAL DE VOTOS.1</th>\n",
       "      <th>TOTAL DE VOTOS.2</th>\n",
       "      <th>TOTAL DE VOTOS.3</th>\n",
       "      <th>TOTAL DE VOTOS.4</th>\n",
       "      <th>TOTAL DE VOTOS.5</th>\n",
       "    </tr>\n",
       "  </thead>\n",
       "  <tbody>\n",
       "    <tr>\n",
       "      <th>0</th>\n",
       "      <td>ORGANIZACIONES POLÍTICAS</td>\n",
       "      <td>ORGANIZACIONES POLÍTICAS</td>\n",
       "      <td>ORGANIZACIONES POLÍTICAS</td>\n",
       "      <td>TOTAL</td>\n",
       "      <td>%VÁLIDOS</td>\n",
       "      <td>%EMITIDOS</td>\n",
       "    </tr>\n",
       "    <tr>\n",
       "      <th>1</th>\n",
       "      <td>NaN</td>\n",
       "      <td>NaN</td>\n",
       "      <td>PARTIDO NACIONALISTA PERUANO</td>\n",
       "      <td>228955</td>\n",
       "      <td>1.608%</td>\n",
       "      <td>1.309%</td>\n",
       "    </tr>\n",
       "    <tr>\n",
       "      <th>2</th>\n",
       "      <td>NaN</td>\n",
       "      <td>NaN</td>\n",
       "      <td>EL FRENTE AMPLIO POR JUSTICIA, VIDA Y LIBERTAD</td>\n",
       "      <td>64217</td>\n",
       "      <td>0.451%</td>\n",
       "      <td>0.367%</td>\n",
       "    </tr>\n",
       "    <tr>\n",
       "      <th>3</th>\n",
       "      <td>NaN</td>\n",
       "      <td>NaN</td>\n",
       "      <td>PARTIDO MORADO</td>\n",
       "      <td>319176</td>\n",
       "      <td>2.242%</td>\n",
       "      <td>1.825%</td>\n",
       "    </tr>\n",
       "    <tr>\n",
       "      <th>4</th>\n",
       "      <td>NaN</td>\n",
       "      <td>NaN</td>\n",
       "      <td>PERU PATRIA SEGURA</td>\n",
       "      <td>54341</td>\n",
       "      <td>0.382%</td>\n",
       "      <td>0.311%</td>\n",
       "    </tr>\n",
       "    <tr>\n",
       "      <th>5</th>\n",
       "      <td>NaN</td>\n",
       "      <td>NaN</td>\n",
       "      <td>VICTORIA NACIONAL</td>\n",
       "      <td>802957</td>\n",
       "      <td>5.639%</td>\n",
       "      <td>4.592%</td>\n",
       "    </tr>\n",
       "    <tr>\n",
       "      <th>6</th>\n",
       "      <td>NaN</td>\n",
       "      <td>NaN</td>\n",
       "      <td>ACCION POPULAR</td>\n",
       "      <td>1294681</td>\n",
       "      <td>9.092%</td>\n",
       "      <td>7.404%</td>\n",
       "    </tr>\n",
       "    <tr>\n",
       "      <th>7</th>\n",
       "      <td>NaN</td>\n",
       "      <td>NaN</td>\n",
       "      <td>AVANZA PAIS - PARTIDO DE INTEGRACION SOCIAL</td>\n",
       "      <td>1652682</td>\n",
       "      <td>11.607%</td>\n",
       "      <td>9.452%</td>\n",
       "    </tr>\n",
       "    <tr>\n",
       "      <th>8</th>\n",
       "      <td>NaN</td>\n",
       "      <td>NaN</td>\n",
       "      <td>PODEMOS PERU</td>\n",
       "      <td>808559</td>\n",
       "      <td>5.678%</td>\n",
       "      <td>4.624%</td>\n",
       "    </tr>\n",
       "    <tr>\n",
       "      <th>9</th>\n",
       "      <td>NaN</td>\n",
       "      <td>NaN</td>\n",
       "      <td>JUNTOS POR EL PERU</td>\n",
       "      <td>1111407</td>\n",
       "      <td>7.805%</td>\n",
       "      <td>6.356%</td>\n",
       "    </tr>\n",
       "    <tr>\n",
       "      <th>10</th>\n",
       "      <td>NaN</td>\n",
       "      <td>NaN</td>\n",
       "      <td>PARTIDO POPULAR CRISTIANO - PPC</td>\n",
       "      <td>282007</td>\n",
       "      <td>1.981%</td>\n",
       "      <td>1.613%</td>\n",
       "    </tr>\n",
       "    <tr>\n",
       "      <th>11</th>\n",
       "      <td>NaN</td>\n",
       "      <td>NaN</td>\n",
       "      <td>FUERZA POPULAR</td>\n",
       "      <td>1907896</td>\n",
       "      <td>13.399%</td>\n",
       "      <td>10.911%</td>\n",
       "    </tr>\n",
       "    <tr>\n",
       "      <th>12</th>\n",
       "      <td>NaN</td>\n",
       "      <td>NaN</td>\n",
       "      <td>UNION POR EL PERU</td>\n",
       "      <td>100312</td>\n",
       "      <td>0.704%</td>\n",
       "      <td>0.574%</td>\n",
       "    </tr>\n",
       "    <tr>\n",
       "      <th>13</th>\n",
       "      <td>NaN</td>\n",
       "      <td>NaN</td>\n",
       "      <td>RENOVACION POPULAR</td>\n",
       "      <td>1657575</td>\n",
       "      <td>11.641%</td>\n",
       "      <td>9.480%</td>\n",
       "    </tr>\n",
       "    <tr>\n",
       "      <th>14</th>\n",
       "      <td>NaN</td>\n",
       "      <td>NaN</td>\n",
       "      <td>RENACIMIENTO UNIDO NACIONAL</td>\n",
       "      <td>88634</td>\n",
       "      <td>0.622%</td>\n",
       "      <td>0.507%</td>\n",
       "    </tr>\n",
       "    <tr>\n",
       "      <th>15</th>\n",
       "      <td>NaN</td>\n",
       "      <td>NaN</td>\n",
       "      <td>PARTIDO DEMOCRATICO SOMOS PERU</td>\n",
       "      <td>237367</td>\n",
       "      <td>1.667%</td>\n",
       "      <td>1.357%</td>\n",
       "    </tr>\n",
       "    <tr>\n",
       "      <th>16</th>\n",
       "      <td>NaN</td>\n",
       "      <td>NaN</td>\n",
       "      <td>PARTIDO POLITICO NACIONAL PERU LIBRE</td>\n",
       "      <td>2714152</td>\n",
       "      <td>19.061%</td>\n",
       "      <td>15.522%</td>\n",
       "    </tr>\n",
       "    <tr>\n",
       "      <th>17</th>\n",
       "      <td>NaN</td>\n",
       "      <td>NaN</td>\n",
       "      <td>DEMOCRACIA DIRECTA</td>\n",
       "      <td>50184</td>\n",
       "      <td>0.352%</td>\n",
       "      <td>0.287%</td>\n",
       "    </tr>\n",
       "    <tr>\n",
       "      <th>18</th>\n",
       "      <td>NaN</td>\n",
       "      <td>NaN</td>\n",
       "      <td>ALIANZA PARA EL PROGRESO</td>\n",
       "      <td>863955</td>\n",
       "      <td>6.068%</td>\n",
       "      <td>4.941%</td>\n",
       "    </tr>\n",
       "    <tr>\n",
       "      <th>19</th>\n",
       "      <td>NaN</td>\n",
       "      <td>NaN</td>\n",
       "      <td>TOTAL DE VOTOS VÁLIDOS</td>\n",
       "      <td>14239057</td>\n",
       "      <td>100.000%</td>\n",
       "      <td>81.432%</td>\n",
       "    </tr>\n",
       "    <tr>\n",
       "      <th>20</th>\n",
       "      <td>NaN</td>\n",
       "      <td>NaN</td>\n",
       "      <td>VOTOS EN BLANCO</td>\n",
       "      <td>2159535</td>\n",
       "      <td>NaN</td>\n",
       "      <td>12.350%</td>\n",
       "    </tr>\n",
       "    <tr>\n",
       "      <th>21</th>\n",
       "      <td>NaN</td>\n",
       "      <td>NaN</td>\n",
       "      <td>VOTOS NULOS</td>\n",
       "      <td>1087222</td>\n",
       "      <td>NaN</td>\n",
       "      <td>6.218%</td>\n",
       "    </tr>\n",
       "    <tr>\n",
       "      <th>22</th>\n",
       "      <td>NaN</td>\n",
       "      <td>NaN</td>\n",
       "      <td>TOTAL DE VOTOS EMITIDOS</td>\n",
       "      <td>17485814</td>\n",
       "      <td>NaN</td>\n",
       "      <td>100.000%</td>\n",
       "    </tr>\n",
       "  </tbody>\n",
       "</table>\n",
       "</div>"
      ],
      "text/plain": [
       "              TOTAL DE VOTOS          TOTAL DE VOTOS.1  \\\n",
       "0   ORGANIZACIONES POLÍTICAS  ORGANIZACIONES POLÍTICAS   \n",
       "1                        NaN                       NaN   \n",
       "2                        NaN                       NaN   \n",
       "3                        NaN                       NaN   \n",
       "4                        NaN                       NaN   \n",
       "5                        NaN                       NaN   \n",
       "6                        NaN                       NaN   \n",
       "7                        NaN                       NaN   \n",
       "8                        NaN                       NaN   \n",
       "9                        NaN                       NaN   \n",
       "10                       NaN                       NaN   \n",
       "11                       NaN                       NaN   \n",
       "12                       NaN                       NaN   \n",
       "13                       NaN                       NaN   \n",
       "14                       NaN                       NaN   \n",
       "15                       NaN                       NaN   \n",
       "16                       NaN                       NaN   \n",
       "17                       NaN                       NaN   \n",
       "18                       NaN                       NaN   \n",
       "19                       NaN                       NaN   \n",
       "20                       NaN                       NaN   \n",
       "21                       NaN                       NaN   \n",
       "22                       NaN                       NaN   \n",
       "\n",
       "                                  TOTAL DE VOTOS.2 TOTAL DE VOTOS.3  \\\n",
       "0                         ORGANIZACIONES POLÍTICAS            TOTAL   \n",
       "1                     PARTIDO NACIONALISTA PERUANO           228955   \n",
       "2   EL FRENTE AMPLIO POR JUSTICIA, VIDA Y LIBERTAD            64217   \n",
       "3                                   PARTIDO MORADO           319176   \n",
       "4                               PERU PATRIA SEGURA            54341   \n",
       "5                                VICTORIA NACIONAL           802957   \n",
       "6                                   ACCION POPULAR          1294681   \n",
       "7      AVANZA PAIS - PARTIDO DE INTEGRACION SOCIAL          1652682   \n",
       "8                                     PODEMOS PERU           808559   \n",
       "9                               JUNTOS POR EL PERU          1111407   \n",
       "10                 PARTIDO POPULAR CRISTIANO - PPC           282007   \n",
       "11                                  FUERZA POPULAR          1907896   \n",
       "12                               UNION POR EL PERU           100312   \n",
       "13                              RENOVACION POPULAR          1657575   \n",
       "14                     RENACIMIENTO UNIDO NACIONAL            88634   \n",
       "15                  PARTIDO DEMOCRATICO SOMOS PERU           237367   \n",
       "16            PARTIDO POLITICO NACIONAL PERU LIBRE          2714152   \n",
       "17                              DEMOCRACIA DIRECTA            50184   \n",
       "18                        ALIANZA PARA EL PROGRESO           863955   \n",
       "19                          TOTAL DE VOTOS VÁLIDOS         14239057   \n",
       "20                                 VOTOS EN BLANCO          2159535   \n",
       "21                                     VOTOS NULOS          1087222   \n",
       "22                         TOTAL DE VOTOS EMITIDOS         17485814   \n",
       "\n",
       "   TOTAL DE VOTOS.4 TOTAL DE VOTOS.5  \n",
       "0          %VÁLIDOS        %EMITIDOS  \n",
       "1            1.608%           1.309%  \n",
       "2            0.451%           0.367%  \n",
       "3            2.242%           1.825%  \n",
       "4            0.382%           0.311%  \n",
       "5            5.639%           4.592%  \n",
       "6            9.092%           7.404%  \n",
       "7           11.607%           9.452%  \n",
       "8            5.678%           4.624%  \n",
       "9            7.805%           6.356%  \n",
       "10           1.981%           1.613%  \n",
       "11          13.399%          10.911%  \n",
       "12           0.704%           0.574%  \n",
       "13          11.641%           9.480%  \n",
       "14           0.622%           0.507%  \n",
       "15           1.667%           1.357%  \n",
       "16          19.061%          15.522%  \n",
       "17           0.352%           0.287%  \n",
       "18           6.068%           4.941%  \n",
       "19         100.000%          81.432%  \n",
       "20              NaN          12.350%  \n",
       "21              NaN           6.218%  \n",
       "22              NaN         100.000%  "
      ]
     },
     "execution_count": 79,
     "metadata": {},
     "output_type": "execute_result"
    }
   ],
   "source": [
    "driver = webdriver.Chrome(executable_path=r'chromedriver-win64/chromedriver.exe')\n",
    "driver.maximize_window()\n",
    "\n",
    "url_1 = \"https://resultadoshistorico.onpe.gob.pe/EG2021/\"\n",
    "driver.get( url_1 )\n",
    "\n",
    "driver.find_element(By.XPATH, '/html/body/onpe-root/onpe-home-onpe/div[1]/div/div/div/div[2]/div[1]/div/div/a/div[2]/div').click()\n",
    "time.sleep(2)\n",
    "driver.find_element(By.XPATH, '/html/body/onpe-root/onpe-layout-container/onpe-menu/div/nav/div/div/div[2]/div/div[2]/a').click()\n",
    "time.sleep(2)\n",
    "driver.find_element(By.XPATH, '/html/body/onpe-root/onpe-layout-container/onpe-onpe-epres-re/div[1]/div[3]/div[1]/div[1]/div/div/div[1]/select/option[2]').click()\n",
    "time.sleep(2)\n",
    "\n",
    "table_path = driver.find_element(By.XPATH, '/html/body/onpe-root/onpe-layout-container/onpe-onpe-epres-re/div[1]/div[4]/div[1]/div[3]')\n",
    "\n",
    "table_html = table_path.get_attribute( 'innerHTML' )\n",
    "\n",
    "table = pd.read_html( table_html )\n",
    "table[0]"
   ]
  },
  {
   "cell_type": "code",
   "execution_count": null,
   "metadata": {},
   "outputs": [],
   "source": [
    "row_new_columns = table[ 0 ].iloc[ 0 , 2: ]\n",
    "clean_columns = row_new_columns \\\n",
    "                      .str.replace( \" \", \"_\") \\\n",
    "                      .str.lower().str.replace( \"%\", \"share_\") \\\n",
    "                      .apply( lambda x : unidecode.unidecode( x ) ) \\\n",
    "                      .tolist()\n",
    "\n",
    "# Selecting specific columns\n",
    "table_clean = table[0].iloc[ 1:, 2: ].copy()\n",
    "\n",
    "# rename columns\n",
    "table_clean.columns = clean_columns"
   ]
  },
  {
   "cell_type": "markdown",
   "metadata": {},
   "source": [
    "## [First Round](https://resultadoshistorico.onpe.gob.pe/EG2021/ResumenGeneral/10/T)"
   ]
  },
  {
   "cell_type": "code",
   "execution_count": 42,
   "metadata": {},
   "outputs": [],
   "source": [
    "# pip install lxml\n",
    "# pip install lxmunidecodel"
   ]
  },
  {
   "cell_type": "code",
   "execution_count": 43,
   "metadata": {},
   "outputs": [],
   "source": [
    "from selenium import webdriver\n",
    "from selenium.webdriver.common.keys import Keys\n",
    "from selenium.common.exceptions import NoSuchElementException\n",
    "from selenium.webdriver import ActionChains\n",
    "import pandas as pd\n",
    "import numpy as np\n",
    "import os\n",
    "import time\n",
    "import re\n",
    "import unidecode\n",
    "import time \n",
    "from selenium.webdriver.support.ui import Select\n",
    "from webdriver_manager.chrome import ChromeDriverManager"
   ]
  },
  {
   "cell_type": "markdown",
   "metadata": {},
   "source": [
    "# Driver Path Address"
   ]
  },
  {
   "cell_type": "code",
   "execution_count": 44,
   "metadata": {},
   "outputs": [
    {
     "name": "stderr",
     "output_type": "stream",
     "text": [
      "C:\\Users\\ALEXAN~1\\AppData\\Local\\Temp/ipykernel_4352/523775411.py:1: DeprecationWarning: executable_path has been deprecated, please pass in a Service object\n",
      "  driver = webdriver.Chrome(executable_path=r'chromedriver-win64/chromedriver.exe')\n"
     ]
    }
   ],
   "source": [
    "driver = webdriver.Chrome(executable_path=r'chromedriver-win64/chromedriver.exe')\n",
    "# Maximize window\n",
    "driver.maximize_window()"
   ]
  },
  {
   "cell_type": "markdown",
   "metadata": {},
   "source": [
    "# Extracting all tables"
   ]
  },
  {
   "cell_type": "code",
   "execution_count": 57,
   "metadata": {},
   "outputs": [
    {
     "name": "stderr",
     "output_type": "stream",
     "text": [
      "C:\\Users\\ALEXAN~1\\AppData\\Local\\Temp/ipykernel_23860/2332946352.py:1: DeprecationWarning: executable_path has been deprecated, please pass in a Service object\n",
      "  driver = webdriver.Chrome(executable_path=r'chromedriver-win64/chromedriver.exe')\n",
      "C:\\Users\\ALEXAN~1\\AppData\\Local\\Temp/ipykernel_23860/2332946352.py:9: DeprecationWarning: find_element_by_* commands are deprecated. Please use find_element() instead\n",
      "  resumen_general = driver.find_element_by_xpath('/html/body/onpe-root/onpe-home-onpe/div[1]/div/div/div/div[2]/div[1]/div/div/a/div[1]/img')\n"
     ]
    }
   ],
   "source": [
    "driver = webdriver.Chrome(executable_path=r'chromedriver-win64/chromedriver.exe')\n",
    "# Maximize window\n",
    "driver.maximize_window()\n",
    "\n",
    "# go to the link\n",
    "url_1 = \"https://resultadoshistorico.onpe.gob.pe/EG2021/\"\n",
    "driver.get( url_1 )\n",
    "\n",
    "resumen_general = driver.find_element_by_xpath('/html/body/onpe-root/onpe-home-onpe/div[1]/div/div/div/div[2]/div[1]/div/div/a/div[1]/img')\n",
    "resumen_general.click()"
   ]
  },
  {
   "cell_type": "code",
   "execution_count": 58,
   "metadata": {},
   "outputs": [
    {
     "name": "stderr",
     "output_type": "stream",
     "text": [
      "C:\\Users\\ALEXAN~1\\AppData\\Local\\Temp/ipykernel_23860/2079164939.py:1: DeprecationWarning: find_element_by_* commands are deprecated. Please use find_element() instead\n",
      "  presidential = driver.find_element_by_xpath('/html/body/onpe-root/onpe-layout-container/onpe-onpe-rgen-rsgr/div/div[2]/div[2]/ul/li[1]/a')\n"
     ]
    }
   ],
   "source": [
    "presidential = driver.find_element_by_xpath('/html/body/onpe-root/onpe-layout-container/onpe-onpe-rgen-rsgr/div/div[2]/div[2]/ul/li[1]/a')\n",
    "presidential.click()"
   ]
  },
  {
   "cell_type": "code",
   "execution_count": 61,
   "metadata": {},
   "outputs": [
    {
     "name": "stderr",
     "output_type": "stream",
     "text": [
      "C:\\Users\\ALEXAN~1\\AppData\\Local\\Temp/ipykernel_23860/3582292250.py:1: DeprecationWarning: find_element_by_* commands are deprecated. Please use find_element() instead\n",
      "  opt_peru = driver.find_element_by_xpath('/html/body/onpe-root/onpe-layout-container/onpe-onpe-rgen-rsgr/div/div[2]/div[1]/div[1]/div/div/div[1]/select/option[2]')\n"
     ]
    }
   ],
   "source": [
    "opt_peru = driver.find_element_by_xpath('/html/body/onpe-root/onpe-layout-container/onpe-onpe-rgen-rsgr/div/div[2]/div[1]/div[1]/div/div/div[1]/select/option[2]')\n",
    "opt_peru.click()"
   ]
  },
  {
   "cell_type": "markdown",
   "metadata": {},
   "source": [
    "## Pesidential results"
   ]
  },
  {
   "cell_type": "code",
   "execution_count": 48,
   "metadata": {},
   "outputs": [],
   "source": [
    "# presidential = driver.find_element_by_xpath('/html/body/onpe-root/onpe-layout-container/onpe-menu/div/nav/div/div/div[2]/div/div[2]/a/span')\n",
    "# presidential.click"
   ]
  },
  {
   "cell_type": "code",
   "execution_count": 49,
   "metadata": {},
   "outputs": [],
   "source": [
    "# # presidential section\n",
    "# presidential = driver.find_element_by_xpath( \"/html/body/onpe-root/onpe-layout-container/onpe-menu/div/nav/div/div/div[2]/div/div[2]/a\" )\n",
    "# presidential.click()"
   ]
  },
  {
   "cell_type": "markdown",
   "metadata": {},
   "source": [
    "### Get all elements from all options"
   ]
  },
  {
   "cell_type": "code",
   "execution_count": 50,
   "metadata": {},
   "outputs": [],
   "source": [
    "# scope = driver.find_element_by_xpath( \"/html/body/onpe-root/onpe-layout-container/onpe-onpe-epres-re/div[1]/div[3]/div[1]/div[1]/div/div/div/select\" )\n",
    "# scope.click()"
   ]
  },
  {
   "cell_type": "code",
   "execution_count": null,
   "metadata": {},
   "outputs": [],
   "source": []
  },
  {
   "cell_type": "code",
   "execution_count": 70,
   "metadata": {},
   "outputs": [
    {
     "data": {
      "text/plain": [
       "<selenium.webdriver.remote.webelement.WebElement (session=\"150dbc982fccd844d1f13ad43e1035b2\", element=\"41616776DD4C61A8DC4C3BA36E17EA26_element_6028\")>"
      ]
     },
     "execution_count": 70,
     "metadata": {},
     "output_type": "execute_result"
    }
   ],
   "source": [
    "#Actualización de las funciones para usar objetos con selenium\n",
    "regiones = driver.find_element(By.XPATH, '/html/body/onpe-root/onpe-layout-container/onpe-onpe-rgen-rsgr/div/div[2]/div[1]/div[1]/div/div/div[2]/select')\n",
    "regiones"
   ]
  },
  {
   "cell_type": "code",
   "execution_count": 69,
   "metadata": {},
   "outputs": [
    {
     "data": {
      "text/plain": [
       "'AMAZONAS'"
      ]
     },
     "execution_count": 69,
     "metadata": {},
     "output_type": "execute_result"
    }
   ],
   "source": [
    "driver.find_element(By.XPATH, \"/html/body/onpe-root/onpe-layout-container/onpe-onpe-rgen-rsgr/div/div[2]/div[1]/div[1]/div/div/div[2]/select/option[2]\").text"
   ]
  },
  {
   "cell_type": "code",
   "execution_count": 75,
   "metadata": {},
   "outputs": [
    {
     "data": {
      "text/plain": [
       "'AMAZONAS'"
      ]
     },
     "execution_count": 75,
     "metadata": {},
     "output_type": "execute_result"
    }
   ],
   "source": [
    "#Actualización de las funciones para usar objetos con selenium\n",
    "regiones = driver.find_element(By.XPATH, '/html/body/onpe-root/onpe-layout-container/onpe-onpe-rgen-rsgr/div/div[2]/div[1]/div[1]/div/div/div[2]/select')\n",
    "regiones.find_elements(By.TAG_NAME, \"option\")[1].text"
   ]
  },
  {
   "cell_type": "code",
   "execution_count": 52,
   "metadata": {},
   "outputs": [
    {
     "data": {
      "text/plain": [
       "'AMAZONAS'"
      ]
     },
     "execution_count": 52,
     "metadata": {},
     "output_type": "execute_result"
    }
   ],
   "source": [
    "regiones.find_elements(By.TAG_NAME,\"option\")[1].text"
   ]
  },
  {
   "cell_type": "code",
   "execution_count": 57,
   "metadata": {},
   "outputs": [
    {
     "name": "stderr",
     "output_type": "stream",
     "text": [
      "C:\\Users\\ALEXAN~1\\AppData\\Local\\Temp/ipykernel_4352/2865713082.py:1: DeprecationWarning: find_element_by_* commands are deprecated. Please use find_element() instead\n",
      "  scope_options = driver.find_element_by_xpath('/html/body/onpe-root/onpe-layout-container/onpe-onpe-rgen-rsgr/div/div[2]/div[1]/div[1]/div/div/div[1]/select')\n",
      "C:\\Users\\Alexander\\anaconda3\\lib\\site-packages\\selenium\\webdriver\\remote\\webelement.py:359: UserWarning: find_elements_by_* commands are deprecated. Please use find_elements() instead\n",
      "  warnings.warn(\"find_elements_by_* commands are deprecated. Please use find_elements() instead\")\n"
     ]
    },
    {
     "data": {
      "text/plain": [
       "'EXTRANJERO'"
      ]
     },
     "execution_count": 57,
     "metadata": {},
     "output_type": "execute_result"
    }
   ],
   "source": [
    "scope_options = driver.find_element_by_xpath('/html/body/onpe-root/onpe-layout-container/onpe-onpe-rgen-rsgr/div/div[2]/div[1]/div[1]/div/div/div[1]/select')\n",
    "scope_options.find_elements_by_tag_name(\"option\")[2].text"
   ]
  },
  {
   "cell_type": "code",
   "execution_count": 59,
   "metadata": {},
   "outputs": [
    {
     "name": "stderr",
     "output_type": "stream",
     "text": [
      "C:\\Users\\ALEXAN~1\\AppData\\Local\\Temp/ipykernel_4352/939183077.py:1: DeprecationWarning: find_element_by_* commands are deprecated. Please use find_element() instead\n",
      "  scope_options = driver.find_element_by_xpath('/html/body/onpe-root/onpe-layout-container/onpe-onpe-rgen-rsgr/div/div[2]/div[1]/div[1]/div/div/div[1]/select')\n"
     ]
    }
   ],
   "source": [
    "scope_options = driver.find_element_by_xpath('/html/body/onpe-root/onpe-layout-container/onpe-onpe-rgen-rsgr/div/div[2]/div[1]/div[1]/div/div/div[1]/select')"
   ]
  },
  {
   "cell_type": "code",
   "execution_count": 62,
   "metadata": {},
   "outputs": [
    {
     "data": {
      "text/plain": [
       "'EXTRANJERO'"
      ]
     },
     "execution_count": 62,
     "metadata": {},
     "output_type": "execute_result"
    }
   ],
   "source": [
    "scope_options.find_elements_by_tag_name(\"option\")[0].text\n",
    "scope_options.find_elements_by_tag_name(\"option\")[1].text\n",
    "scope_options.find_elements_by_tag_name(\"option\")[2].text"
   ]
  },
  {
   "cell_type": "code",
   "execution_count": 77,
   "metadata": {},
   "outputs": [
    {
     "name": "stderr",
     "output_type": "stream",
     "text": [
      "C:\\Users\\ALEXAN~1\\AppData\\Local\\Temp/ipykernel_23860/457926441.py:1: DeprecationWarning: find_element_by_* commands are deprecated. Please use find_element() instead\n",
      "  scope = driver.find_element_by_xpath( \"/html/body/onpe-root/onpe-layout-container/onpe-onpe-rgen-rsgr/div/div[2]/div[1]/div[1]/div/div/div[1]/select\" )\n"
     ]
    },
    {
     "data": {
      "text/plain": [
       "<selenium.webdriver.remote.webelement.WebElement (session=\"150dbc982fccd844d1f13ad43e1035b2\", element=\"41616776DD4C61A8DC4C3BA36E17EA26_element_7852\")>"
      ]
     },
     "execution_count": 77,
     "metadata": {},
     "output_type": "execute_result"
    }
   ],
   "source": [
    "scope = driver.find_element_by_xpath( \"/html/body/onpe-root/onpe-layout-container/onpe-onpe-rgen-rsgr/div/div[2]/div[1]/div[1]/div/div/div[1]/select\" )\n",
    "scope"
   ]
  },
  {
   "cell_type": "code",
   "execution_count": 81,
   "metadata": {},
   "outputs": [
    {
     "data": {
      "text/plain": [
       "'EXTRANJERO'"
      ]
     },
     "execution_count": 81,
     "metadata": {},
     "output_type": "execute_result"
    }
   ],
   "source": [
    "scope.find_elements_by_tag_name(\"option\")[2].text"
   ]
  },
  {
   "cell_type": "code",
   "execution_count": 64,
   "metadata": {},
   "outputs": [],
   "source": [
    "scope_options = scope.find_elements_by_tag_name(\"option\")"
   ]
  },
  {
   "cell_type": "code",
   "execution_count": 65,
   "metadata": {},
   "outputs": [
    {
     "data": {
      "text/plain": [
       "[<selenium.webdriver.remote.webelement.WebElement (session=\"7044b58859814a98da64965ce17db995\", element=\"98CC869DA3BC59F8EC849A0A10F8CCE8_element_371\")>,\n",
       " <selenium.webdriver.remote.webelement.WebElement (session=\"7044b58859814a98da64965ce17db995\", element=\"98CC869DA3BC59F8EC849A0A10F8CCE8_element_376\")>,\n",
       " <selenium.webdriver.remote.webelement.WebElement (session=\"7044b58859814a98da64965ce17db995\", element=\"98CC869DA3BC59F8EC849A0A10F8CCE8_element_380\")>]"
      ]
     },
     "execution_count": 65,
     "metadata": {},
     "output_type": "execute_result"
    }
   ],
   "source": [
    "scope_options"
   ]
  },
  {
   "cell_type": "code",
   "execution_count": 66,
   "metadata": {},
   "outputs": [
    {
     "data": {
      "text/plain": [
       "{'TODOS': <selenium.webdriver.remote.webelement.WebElement (session=\"7044b58859814a98da64965ce17db995\", element=\"98CC869DA3BC59F8EC849A0A10F8CCE8_element_371\")>,\n",
       " 'PERÚ': <selenium.webdriver.remote.webelement.WebElement (session=\"7044b58859814a98da64965ce17db995\", element=\"98CC869DA3BC59F8EC849A0A10F8CCE8_element_376\")>,\n",
       " 'EXTRANJERO': <selenium.webdriver.remote.webelement.WebElement (session=\"7044b58859814a98da64965ce17db995\", element=\"98CC869DA3BC59F8EC849A0A10F8CCE8_element_380\")>}"
      ]
     },
     "execution_count": 66,
     "metadata": {},
     "output_type": "execute_result"
    }
   ],
   "source": [
    "dict_scope_options = { i.text : i for i in scope_options }\n",
    "dict_scope_options"
   ]
  },
  {
   "cell_type": "code",
   "execution_count": 67,
   "metadata": {},
   "outputs": [
    {
     "data": {
      "text/plain": [
       "{'TODOS': <selenium.webdriver.remote.webelement.WebElement (session=\"7044b58859814a98da64965ce17db995\", element=\"98CC869DA3BC59F8EC849A0A10F8CCE8_element_371\")>,\n",
       " 'PERÚ': <selenium.webdriver.remote.webelement.WebElement (session=\"7044b58859814a98da64965ce17db995\", element=\"98CC869DA3BC59F8EC849A0A10F8CCE8_element_376\")>,\n",
       " 'EXTRANJERO': <selenium.webdriver.remote.webelement.WebElement (session=\"7044b58859814a98da64965ce17db995\", element=\"98CC869DA3BC59F8EC849A0A10F8CCE8_element_380\")>}"
      ]
     },
     "execution_count": 67,
     "metadata": {},
     "output_type": "execute_result"
    }
   ],
   "source": [
    "# There are three options\n",
    "dict_scope_options.keys()\n",
    "dict_scope_options"
   ]
  },
  {
   "cell_type": "code",
   "execution_count": 68,
   "metadata": {},
   "outputs": [],
   "source": [
    "# We click on Peru\n",
    "dict_scope_options['PERÚ'].click()"
   ]
  },
  {
   "cell_type": "markdown",
   "metadata": {},
   "source": [
    "We have to be careful since everytime we make a click, the url changes."
   ]
  },
  {
   "cell_type": "markdown",
   "metadata": {},
   "source": [
    "### Loop over all departments"
   ]
  },
  {
   "cell_type": "code",
   "execution_count": 91,
   "metadata": {},
   "outputs": [],
   "source": [
    "from selenium.webdriver.support.ui import Select  # Import Select class"
   ]
  },
  {
   "cell_type": "code",
   "execution_count": 95,
   "metadata": {},
   "outputs": [
    {
     "name": "stderr",
     "output_type": "stream",
     "text": [
      "C:\\Users\\ALEXAN~1\\AppData\\Local\\Temp/ipykernel_23860/3847548577.py:4: DeprecationWarning: find_element_by_* commands are deprecated. Please use find_element() instead\n",
      "  dept_0 = driver.find_element_by_xpath( \"/html/body/onpe-root/onpe-layout-container/onpe-onpe-rgen-rsgr/div/div[2]/div[1]/div[1]/div/div/div[2]/select\" )\n"
     ]
    },
    {
     "data": {
      "text/plain": [
       "<selenium.webdriver.remote.webelement.WebElement (session=\"150dbc982fccd844d1f13ad43e1035b2\", element=\"41616776DD4C61A8DC4C3BA36E17EA26_element_6028\")>"
      ]
     },
     "execution_count": 95,
     "metadata": {},
     "output_type": "execute_result"
    }
   ],
   "source": [
    "# Store all_tables\n",
    "all_tables = {}\n",
    "\n",
    "dept_0 = driver.find_element_by_xpath( \"/html/body/onpe-root/onpe-layout-container/onpe-onpe-rgen-rsgr/div/div[2]/div[1]/div[1]/div/div/div[2]/select\" )\n",
    "dept_0"
   ]
  },
  {
   "cell_type": "code",
   "execution_count": 99,
   "metadata": {},
   "outputs": [],
   "source": [
    "# All selenium objects in department select\n",
    "dpt = Select( dept_0 )\n",
    "#dpt.options[15].text"
   ]
  },
  {
   "cell_type": "code",
   "execution_count": 100,
   "metadata": {},
   "outputs": [
    {
     "data": {
      "text/plain": [
       "[<selenium.webdriver.remote.webelement.WebElement (session=\"150dbc982fccd844d1f13ad43e1035b2\", element=\"41616776DD4C61A8DC4C3BA36E17EA26_element_4358\")>,\n",
       " <selenium.webdriver.remote.webelement.WebElement (session=\"150dbc982fccd844d1f13ad43e1035b2\", element=\"41616776DD4C61A8DC4C3BA36E17EA26_element_4359\")>,\n",
       " <selenium.webdriver.remote.webelement.WebElement (session=\"150dbc982fccd844d1f13ad43e1035b2\", element=\"41616776DD4C61A8DC4C3BA36E17EA26_element_4360\")>,\n",
       " <selenium.webdriver.remote.webelement.WebElement (session=\"150dbc982fccd844d1f13ad43e1035b2\", element=\"41616776DD4C61A8DC4C3BA36E17EA26_element_4361\")>,\n",
       " <selenium.webdriver.remote.webelement.WebElement (session=\"150dbc982fccd844d1f13ad43e1035b2\", element=\"41616776DD4C61A8DC4C3BA36E17EA26_element_4362\")>,\n",
       " <selenium.webdriver.remote.webelement.WebElement (session=\"150dbc982fccd844d1f13ad43e1035b2\", element=\"41616776DD4C61A8DC4C3BA36E17EA26_element_4363\")>,\n",
       " <selenium.webdriver.remote.webelement.WebElement (session=\"150dbc982fccd844d1f13ad43e1035b2\", element=\"41616776DD4C61A8DC4C3BA36E17EA26_element_4364\")>,\n",
       " <selenium.webdriver.remote.webelement.WebElement (session=\"150dbc982fccd844d1f13ad43e1035b2\", element=\"41616776DD4C61A8DC4C3BA36E17EA26_element_4365\")>,\n",
       " <selenium.webdriver.remote.webelement.WebElement (session=\"150dbc982fccd844d1f13ad43e1035b2\", element=\"41616776DD4C61A8DC4C3BA36E17EA26_element_4366\")>,\n",
       " <selenium.webdriver.remote.webelement.WebElement (session=\"150dbc982fccd844d1f13ad43e1035b2\", element=\"41616776DD4C61A8DC4C3BA36E17EA26_element_4367\")>,\n",
       " <selenium.webdriver.remote.webelement.WebElement (session=\"150dbc982fccd844d1f13ad43e1035b2\", element=\"41616776DD4C61A8DC4C3BA36E17EA26_element_4368\")>,\n",
       " <selenium.webdriver.remote.webelement.WebElement (session=\"150dbc982fccd844d1f13ad43e1035b2\", element=\"41616776DD4C61A8DC4C3BA36E17EA26_element_4369\")>,\n",
       " <selenium.webdriver.remote.webelement.WebElement (session=\"150dbc982fccd844d1f13ad43e1035b2\", element=\"41616776DD4C61A8DC4C3BA36E17EA26_element_4370\")>,\n",
       " <selenium.webdriver.remote.webelement.WebElement (session=\"150dbc982fccd844d1f13ad43e1035b2\", element=\"41616776DD4C61A8DC4C3BA36E17EA26_element_4371\")>,\n",
       " <selenium.webdriver.remote.webelement.WebElement (session=\"150dbc982fccd844d1f13ad43e1035b2\", element=\"41616776DD4C61A8DC4C3BA36E17EA26_element_4372\")>,\n",
       " <selenium.webdriver.remote.webelement.WebElement (session=\"150dbc982fccd844d1f13ad43e1035b2\", element=\"41616776DD4C61A8DC4C3BA36E17EA26_element_4373\")>,\n",
       " <selenium.webdriver.remote.webelement.WebElement (session=\"150dbc982fccd844d1f13ad43e1035b2\", element=\"41616776DD4C61A8DC4C3BA36E17EA26_element_4374\")>,\n",
       " <selenium.webdriver.remote.webelement.WebElement (session=\"150dbc982fccd844d1f13ad43e1035b2\", element=\"41616776DD4C61A8DC4C3BA36E17EA26_element_4375\")>,\n",
       " <selenium.webdriver.remote.webelement.WebElement (session=\"150dbc982fccd844d1f13ad43e1035b2\", element=\"41616776DD4C61A8DC4C3BA36E17EA26_element_4376\")>,\n",
       " <selenium.webdriver.remote.webelement.WebElement (session=\"150dbc982fccd844d1f13ad43e1035b2\", element=\"41616776DD4C61A8DC4C3BA36E17EA26_element_4377\")>,\n",
       " <selenium.webdriver.remote.webelement.WebElement (session=\"150dbc982fccd844d1f13ad43e1035b2\", element=\"41616776DD4C61A8DC4C3BA36E17EA26_element_4378\")>,\n",
       " <selenium.webdriver.remote.webelement.WebElement (session=\"150dbc982fccd844d1f13ad43e1035b2\", element=\"41616776DD4C61A8DC4C3BA36E17EA26_element_4379\")>,\n",
       " <selenium.webdriver.remote.webelement.WebElement (session=\"150dbc982fccd844d1f13ad43e1035b2\", element=\"41616776DD4C61A8DC4C3BA36E17EA26_element_4380\")>,\n",
       " <selenium.webdriver.remote.webelement.WebElement (session=\"150dbc982fccd844d1f13ad43e1035b2\", element=\"41616776DD4C61A8DC4C3BA36E17EA26_element_4381\")>,\n",
       " <selenium.webdriver.remote.webelement.WebElement (session=\"150dbc982fccd844d1f13ad43e1035b2\", element=\"41616776DD4C61A8DC4C3BA36E17EA26_element_4382\")>,\n",
       " <selenium.webdriver.remote.webelement.WebElement (session=\"150dbc982fccd844d1f13ad43e1035b2\", element=\"41616776DD4C61A8DC4C3BA36E17EA26_element_4383\")>]"
      ]
     },
     "execution_count": 100,
     "metadata": {},
     "output_type": "execute_result"
    }
   ],
   "source": [
    "dpt.options"
   ]
  },
  {
   "cell_type": "code",
   "execution_count": 101,
   "metadata": {},
   "outputs": [
    {
     "data": {
      "text/plain": [
       "26"
      ]
     },
     "execution_count": 101,
     "metadata": {},
     "output_type": "execute_result"
    }
   ],
   "source": [
    "# Get number of total options\n",
    "num_prov_options = len( dpt.options )\n",
    "num_prov_options"
   ]
  },
  {
   "cell_type": "code",
   "execution_count": 102,
   "metadata": {},
   "outputs": [
    {
     "name": "stderr",
     "output_type": "stream",
     "text": [
      "C:\\Users\\ALEXAN~1\\AppData\\Local\\Temp/ipykernel_23860/1015677902.py:10: DeprecationWarning: find_element_by_* commands are deprecated. Please use find_element() instead\n",
      "  dpt = Select( driver.find_element_by_xpath( \"/html/body/onpe-root/onpe-layout-container/onpe-onpe-rgen-rsgr/div/div[2]/div[1]/div[1]/div/div/div[2]/select\" ) )\n"
     ]
    },
    {
     "name": "stdout",
     "output_type": "stream",
     "text": [
      "--TODOS--\n",
      "AMAZONAS\n",
      "ANCASH\n",
      "APURIMAC\n",
      "AREQUIPA\n",
      "AYACUCHO\n",
      "CAJAMARCA\n",
      "CALLAO\n",
      "CUSCO\n",
      "HUANCAVELICA\n",
      "HUANUCO\n",
      "ICA\n",
      "JUNIN\n",
      "LA LIBERTAD\n",
      "LAMBAYEQUE\n",
      "LIMA\n",
      "LORETO\n",
      "MADRE DE DIOS\n",
      "MOQUEGUA\n",
      "PASCO\n",
      "PIURA\n",
      "PUNO\n",
      "SAN MARTIN\n",
      "TACNA\n",
      "TUMBES\n",
      "UCAYALI\n"
     ]
    }
   ],
   "source": [
    "# we can loop over all departments\n",
    "# for dpt_idx in range( num_prov_options ):\n",
    "# but it will take too much time\n",
    "# We are going to do it over two departments\n",
    "for dpt_idx in range( num_prov_options ):\n",
    "    \n",
    "    # Get again all departments since HTML is refreshing\n",
    "    # all elements\n",
    "    # Click on one specific department\n",
    "    dpt = Select( driver.find_element_by_xpath( \"/html/body/onpe-root/onpe-layout-container/onpe-onpe-rgen-rsgr/div/div[2]/div[1]/div[1]/div/div/div[2]/select\" ) )\n",
    "    department = dpt.options[ dpt_idx ]\n",
    "    \n",
    "    # Get departmant name\n",
    "    dpt_name = department.text\n",
    "    print(dpt_name)"
   ]
  },
  {
   "cell_type": "markdown",
   "metadata": {},
   "source": [
    "# Dynamic Pages"
   ]
  },
  {
   "cell_type": "code",
   "execution_count": 83,
   "metadata": {},
   "outputs": [
    {
     "name": "stderr",
     "output_type": "stream",
     "text": [
      "C:\\Users\\ALEXAN~1\\AppData\\Local\\Temp/ipykernel_38996/3319275976.py:1: DeprecationWarning: executable_path has been deprecated, please pass in a Service object\n",
      "  driver = webdriver.Chrome( ChromeDriverManager().install() )\n"
     ]
    }
   ],
   "source": [
    "driver = webdriver.Chrome( ChromeDriverManager().install() )\n",
    "# Maximize window\n",
    "driver.maximize_window()\n",
    "driver.get('https://www.legacy.com/obituaries/legacy/obituary-search.aspx?isnew=1&affiliateId=0&stateid=17')\n",
    "\n",
    "name = driver.find_element(By.XPATH, '/html/body/div[2]/div[2]/div[2]/form/div[3]/div[1]/div[1]/div/div/div[1]/div[2]/div[3]/div/div[1]/input[1]')\n",
    "name.send_keys(\"Maria\")\n",
    "\n",
    "lastname = driver.find_element(By.XPATH, '/html/body/div[2]/div[2]/div[2]/form/div[3]/div[1]/div[1]/div/div/div[1]/div[2]/div[3]/div/div[1]/input[2]')\n",
    "lastname.send_keys(\"Brown\")\n",
    "\n",
    "\n",
    "search = driver.find_element(By.XPATH, '/html/body/div[2]/div[2]/div[2]/form/div[3]/div[1]/div[1]/div/div/div[1]/div[2]/div[5]/div/div[2]/a')\n",
    "search.click()\n"
   ]
  },
  {
   "cell_type": "code",
   "execution_count": 84,
   "metadata": {},
   "outputs": [
    {
     "name": "stderr",
     "output_type": "stream",
     "text": [
      "C:\\Users\\ALEXAN~1\\AppData\\Local\\Temp/ipykernel_38996/2320181688.py:1: DeprecationWarning: executable_path has been deprecated, please pass in a Service object\n",
      "  driver = webdriver.Chrome( ChromeDriverManager().install() )\n",
      "C:\\Users\\ALEXAN~1\\AppData\\Local\\Temp/ipykernel_38996/2320181688.py:7: DeprecationWarning: find_element_by_* commands are deprecated. Please use find_element() instead\n",
      "  driver.find_element_by_xpath('//*[@id=\"ctl00_ctl00_ContentPlaceHolder1_ContentPlaceHolder1_uxSearchWideControl_ddlSearchRange\"]/option[10]').click()\n",
      "C:\\Users\\ALEXAN~1\\AppData\\Local\\Temp/ipykernel_38996/2320181688.py:10: DeprecationWarning: find_element_by_* commands are deprecated. Please use find_element() instead\n",
      "  death_begin = driver.find_element_by_xpath('//*[@id=\"ctl00_ctl00_ContentPlaceHolder1_ContentPlaceHolder1_uxSearchWideControl_txtStartDate\"]')\n",
      "C:\\Users\\ALEXAN~1\\AppData\\Local\\Temp/ipykernel_38996/2320181688.py:13: DeprecationWarning: find_element_by_* commands are deprecated. Please use find_element() instead\n",
      "  death_end = driver.find_element_by_xpath('//*[@id=\"ctl00_ctl00_ContentPlaceHolder1_ContentPlaceHolder1_uxSearchWideControl_txtEndDate\"]')\n",
      "C:\\Users\\ALEXAN~1\\AppData\\Local\\Temp/ipykernel_38996/2320181688.py:17: DeprecationWarning: find_element_by_* commands are deprecated. Please use find_element() instead\n",
      "  keyword = driver.find_element_by_xpath('//*[@id=\"ctl00_ctl00_ContentPlaceHolder1_ContentPlaceHolder1_uxSearchWideControl_txtFirstName\"]')\n",
      "C:\\Users\\ALEXAN~1\\AppData\\Local\\Temp/ipykernel_38996/2320181688.py:21: DeprecationWarning: find_element_by_* commands are deprecated. Please use find_element() instead\n",
      "  keyword = driver.find_element_by_xpath('//*[@id=\"ctl00_ctl00_ContentPlaceHolder1_ContentPlaceHolder1_uxSearchWideControl_txtLastName\"]')\n",
      "C:\\Users\\ALEXAN~1\\AppData\\Local\\Temp/ipykernel_38996/2320181688.py:25: DeprecationWarning: find_element_by_* commands are deprecated. Please use find_element() instead\n",
      "  keyword = driver.find_element_by_xpath('//*[@id=\"ctl00_ctl00_ContentPlaceHolder1_ContentPlaceHolder1_uxSearchWideControl_txtKeyword\"]')\n",
      "C:\\Users\\ALEXAN~1\\AppData\\Local\\Temp/ipykernel_38996/2320181688.py:29: DeprecationWarning: find_element_by_* commands are deprecated. Please use find_element() instead\n",
      "  driver.find_element_by_xpath('//*[@id=\"ctl00_ctl00_ContentPlaceHolder1_ContentPlaceHolder1_uxSearchWideControl_ddlCountry\"]/option[11]').click()\n"
     ]
    },
    {
     "ename": "NoSuchElementException",
     "evalue": "Message: no such element: Unable to locate element: {\"method\":\"xpath\",\"selector\":\"//*[@id=\"ctl00_ctl00_ContentPlaceHolder1_ContentPlaceHolder1_uxSearchWideControl_ddlCountry\"]/option[11]\"}\n  (Session info: chrome=120.0.6099.217)\nStacktrace:\n\tGetHandleVerifier [0x00D56EE3+174339]\n\t(No symbol) [0x00C80A51]\n\t(No symbol) [0x00996FF6]\n\t(No symbol) [0x009C9876]\n\t(No symbol) [0x009C9C2C]\n\t(No symbol) [0x009FBD42]\n\t(No symbol) [0x009E7054]\n\t(No symbol) [0x009FA104]\n\t(No symbol) [0x009E6DA6]\n\t(No symbol) [0x009C1034]\n\t(No symbol) [0x009C1F8D]\n\tGetHandleVerifier [0x00DF4B1C+820540]\n\tsqlite3_dbdata_init [0x00EB53EE+653550]\n\tsqlite3_dbdata_init [0x00EB4E09+652041]\n\tsqlite3_dbdata_init [0x00EA97CC+605388]\n\tsqlite3_dbdata_init [0x00EB5D9B+656027]\n\t(No symbol) [0x00C8FE6C]\n\t(No symbol) [0x00C883B8]\n\t(No symbol) [0x00C884DD]\n\t(No symbol) [0x00C75818]\n\tBaseThreadInitThunk [0x76F3FCC9+25]\n\tRtlGetAppContainerNamedObjectPath [0x77DB7C6E+286]\n\tRtlGetAppContainerNamedObjectPath [0x77DB7C3E+238]\n",
     "output_type": "error",
     "traceback": [
      "\u001b[1;31m---------------------------------------------------------------------------\u001b[0m",
      "\u001b[1;31mNoSuchElementException\u001b[0m                    Traceback (most recent call last)",
      "\u001b[1;32mC:\\Users\\ALEXAN~1\\AppData\\Local\\Temp/ipykernel_38996/2320181688.py\u001b[0m in \u001b[0;36m<module>\u001b[1;34m\u001b[0m\n\u001b[0;32m     27\u001b[0m \u001b[1;33m\u001b[0m\u001b[0m\n\u001b[0;32m     28\u001b[0m  \u001b[1;31m# Set the state of last residence\u001b[0m\u001b[1;33m\u001b[0m\u001b[1;33m\u001b[0m\u001b[0m\n\u001b[1;32m---> 29\u001b[1;33m \u001b[0mdriver\u001b[0m\u001b[1;33m.\u001b[0m\u001b[0mfind_element_by_xpath\u001b[0m\u001b[1;33m(\u001b[0m\u001b[1;34m'//*[@id=\"ctl00_ctl00_ContentPlaceHolder1_ContentPlaceHolder1_uxSearchWideControl_ddlCountry\"]/option[11]'\u001b[0m\u001b[1;33m)\u001b[0m\u001b[1;33m.\u001b[0m\u001b[0mclick\u001b[0m\u001b[1;33m(\u001b[0m\u001b[1;33m)\u001b[0m\u001b[1;33m\u001b[0m\u001b[1;33m\u001b[0m\u001b[0m\n\u001b[0m\u001b[0;32m     30\u001b[0m \u001b[1;33m\u001b[0m\u001b[0m\n\u001b[0;32m     31\u001b[0m \u001b[1;31m# Send information\u001b[0m\u001b[1;33m\u001b[0m\u001b[1;33m\u001b[0m\u001b[0m\n",
      "\u001b[1;32m~\\anaconda3\\lib\\site-packages\\selenium\\webdriver\\remote\\webdriver.py\u001b[0m in \u001b[0;36mfind_element_by_xpath\u001b[1;34m(self, xpath)\u001b[0m\n\u001b[0;32m    518\u001b[0m             \u001b[0mstacklevel\u001b[0m\u001b[1;33m=\u001b[0m\u001b[1;36m2\u001b[0m\u001b[1;33m,\u001b[0m\u001b[1;33m\u001b[0m\u001b[1;33m\u001b[0m\u001b[0m\n\u001b[0;32m    519\u001b[0m         )\n\u001b[1;32m--> 520\u001b[1;33m         \u001b[1;32mreturn\u001b[0m \u001b[0mself\u001b[0m\u001b[1;33m.\u001b[0m\u001b[0mfind_element\u001b[0m\u001b[1;33m(\u001b[0m\u001b[0mby\u001b[0m\u001b[1;33m=\u001b[0m\u001b[0mBy\u001b[0m\u001b[1;33m.\u001b[0m\u001b[0mXPATH\u001b[0m\u001b[1;33m,\u001b[0m \u001b[0mvalue\u001b[0m\u001b[1;33m=\u001b[0m\u001b[0mxpath\u001b[0m\u001b[1;33m)\u001b[0m\u001b[1;33m\u001b[0m\u001b[1;33m\u001b[0m\u001b[0m\n\u001b[0m\u001b[0;32m    521\u001b[0m \u001b[1;33m\u001b[0m\u001b[0m\n\u001b[0;32m    522\u001b[0m     \u001b[1;32mdef\u001b[0m \u001b[0mfind_elements_by_xpath\u001b[0m\u001b[1;33m(\u001b[0m\u001b[0mself\u001b[0m\u001b[1;33m,\u001b[0m \u001b[0mxpath\u001b[0m\u001b[1;33m)\u001b[0m \u001b[1;33m->\u001b[0m \u001b[0mWebElement\u001b[0m\u001b[1;33m:\u001b[0m\u001b[1;33m\u001b[0m\u001b[1;33m\u001b[0m\u001b[0m\n",
      "\u001b[1;32m~\\anaconda3\\lib\\site-packages\\selenium\\webdriver\\remote\\webdriver.py\u001b[0m in \u001b[0;36mfind_element\u001b[1;34m(self, by, value)\u001b[0m\n\u001b[0;32m   1242\u001b[0m             \u001b[0mvalue\u001b[0m \u001b[1;33m=\u001b[0m \u001b[1;34m'[name=\"%s\"]'\u001b[0m \u001b[1;33m%\u001b[0m \u001b[0mvalue\u001b[0m\u001b[1;33m\u001b[0m\u001b[1;33m\u001b[0m\u001b[0m\n\u001b[0;32m   1243\u001b[0m \u001b[1;33m\u001b[0m\u001b[0m\n\u001b[1;32m-> 1244\u001b[1;33m         return self.execute(Command.FIND_ELEMENT, {\n\u001b[0m\u001b[0;32m   1245\u001b[0m             \u001b[1;34m'using'\u001b[0m\u001b[1;33m:\u001b[0m \u001b[0mby\u001b[0m\u001b[1;33m,\u001b[0m\u001b[1;33m\u001b[0m\u001b[1;33m\u001b[0m\u001b[0m\n\u001b[0;32m   1246\u001b[0m             'value': value})['value']\n",
      "\u001b[1;32m~\\anaconda3\\lib\\site-packages\\selenium\\webdriver\\remote\\webdriver.py\u001b[0m in \u001b[0;36mexecute\u001b[1;34m(self, driver_command, params)\u001b[0m\n\u001b[0;32m    422\u001b[0m         \u001b[0mresponse\u001b[0m \u001b[1;33m=\u001b[0m \u001b[0mself\u001b[0m\u001b[1;33m.\u001b[0m\u001b[0mcommand_executor\u001b[0m\u001b[1;33m.\u001b[0m\u001b[0mexecute\u001b[0m\u001b[1;33m(\u001b[0m\u001b[0mdriver_command\u001b[0m\u001b[1;33m,\u001b[0m \u001b[0mparams\u001b[0m\u001b[1;33m)\u001b[0m\u001b[1;33m\u001b[0m\u001b[1;33m\u001b[0m\u001b[0m\n\u001b[0;32m    423\u001b[0m         \u001b[1;32mif\u001b[0m \u001b[0mresponse\u001b[0m\u001b[1;33m:\u001b[0m\u001b[1;33m\u001b[0m\u001b[1;33m\u001b[0m\u001b[0m\n\u001b[1;32m--> 424\u001b[1;33m             \u001b[0mself\u001b[0m\u001b[1;33m.\u001b[0m\u001b[0merror_handler\u001b[0m\u001b[1;33m.\u001b[0m\u001b[0mcheck_response\u001b[0m\u001b[1;33m(\u001b[0m\u001b[0mresponse\u001b[0m\u001b[1;33m)\u001b[0m\u001b[1;33m\u001b[0m\u001b[1;33m\u001b[0m\u001b[0m\n\u001b[0m\u001b[0;32m    425\u001b[0m             response['value'] = self._unwrap_value(\n\u001b[0;32m    426\u001b[0m                 response.get('value', None))\n",
      "\u001b[1;32m~\\anaconda3\\lib\\site-packages\\selenium\\webdriver\\remote\\errorhandler.py\u001b[0m in \u001b[0;36mcheck_response\u001b[1;34m(self, response)\u001b[0m\n\u001b[0;32m    245\u001b[0m                 \u001b[0malert_text\u001b[0m \u001b[1;33m=\u001b[0m \u001b[0mvalue\u001b[0m\u001b[1;33m[\u001b[0m\u001b[1;34m'alert'\u001b[0m\u001b[1;33m]\u001b[0m\u001b[1;33m.\u001b[0m\u001b[0mget\u001b[0m\u001b[1;33m(\u001b[0m\u001b[1;34m'text'\u001b[0m\u001b[1;33m)\u001b[0m\u001b[1;33m\u001b[0m\u001b[1;33m\u001b[0m\u001b[0m\n\u001b[0;32m    246\u001b[0m             \u001b[1;32mraise\u001b[0m \u001b[0mexception_class\u001b[0m\u001b[1;33m(\u001b[0m\u001b[0mmessage\u001b[0m\u001b[1;33m,\u001b[0m \u001b[0mscreen\u001b[0m\u001b[1;33m,\u001b[0m \u001b[0mstacktrace\u001b[0m\u001b[1;33m,\u001b[0m \u001b[0malert_text\u001b[0m\u001b[1;33m)\u001b[0m  \u001b[1;31m# type: ignore[call-arg]  # mypy is not smart enough here\u001b[0m\u001b[1;33m\u001b[0m\u001b[1;33m\u001b[0m\u001b[0m\n\u001b[1;32m--> 247\u001b[1;33m         \u001b[1;32mraise\u001b[0m \u001b[0mexception_class\u001b[0m\u001b[1;33m(\u001b[0m\u001b[0mmessage\u001b[0m\u001b[1;33m,\u001b[0m \u001b[0mscreen\u001b[0m\u001b[1;33m,\u001b[0m \u001b[0mstacktrace\u001b[0m\u001b[1;33m)\u001b[0m\u001b[1;33m\u001b[0m\u001b[1;33m\u001b[0m\u001b[0m\n\u001b[0m\u001b[0;32m    248\u001b[0m \u001b[1;33m\u001b[0m\u001b[0m\n\u001b[0;32m    249\u001b[0m     \u001b[1;32mdef\u001b[0m \u001b[0m_value_or_default\u001b[0m\u001b[1;33m(\u001b[0m\u001b[0mself\u001b[0m\u001b[1;33m,\u001b[0m \u001b[0mobj\u001b[0m\u001b[1;33m:\u001b[0m \u001b[0mMapping\u001b[0m\u001b[1;33m[\u001b[0m\u001b[0m_KT\u001b[0m\u001b[1;33m,\u001b[0m \u001b[0m_VT\u001b[0m\u001b[1;33m]\u001b[0m\u001b[1;33m,\u001b[0m \u001b[0mkey\u001b[0m\u001b[1;33m:\u001b[0m \u001b[0m_KT\u001b[0m\u001b[1;33m,\u001b[0m \u001b[0mdefault\u001b[0m\u001b[1;33m:\u001b[0m \u001b[0m_VT\u001b[0m\u001b[1;33m)\u001b[0m \u001b[1;33m->\u001b[0m \u001b[0m_VT\u001b[0m\u001b[1;33m:\u001b[0m\u001b[1;33m\u001b[0m\u001b[1;33m\u001b[0m\u001b[0m\n",
      "\u001b[1;31mNoSuchElementException\u001b[0m: Message: no such element: Unable to locate element: {\"method\":\"xpath\",\"selector\":\"//*[@id=\"ctl00_ctl00_ContentPlaceHolder1_ContentPlaceHolder1_uxSearchWideControl_ddlCountry\"]/option[11]\"}\n  (Session info: chrome=120.0.6099.217)\nStacktrace:\n\tGetHandleVerifier [0x00D56EE3+174339]\n\t(No symbol) [0x00C80A51]\n\t(No symbol) [0x00996FF6]\n\t(No symbol) [0x009C9876]\n\t(No symbol) [0x009C9C2C]\n\t(No symbol) [0x009FBD42]\n\t(No symbol) [0x009E7054]\n\t(No symbol) [0x009FA104]\n\t(No symbol) [0x009E6DA6]\n\t(No symbol) [0x009C1034]\n\t(No symbol) [0x009C1F8D]\n\tGetHandleVerifier [0x00DF4B1C+820540]\n\tsqlite3_dbdata_init [0x00EB53EE+653550]\n\tsqlite3_dbdata_init [0x00EB4E09+652041]\n\tsqlite3_dbdata_init [0x00EA97CC+605388]\n\tsqlite3_dbdata_init [0x00EB5D9B+656027]\n\t(No symbol) [0x00C8FE6C]\n\t(No symbol) [0x00C883B8]\n\t(No symbol) [0x00C884DD]\n\t(No symbol) [0x00C75818]\n\tBaseThreadInitThunk [0x76F3FCC9+25]\n\tRtlGetAppContainerNamedObjectPath [0x77DB7C6E+286]\n\tRtlGetAppContainerNamedObjectPath [0x77DB7C3E+238]\n"
     ]
    }
   ],
   "source": [
    "\n",
    "driver = webdriver.Chrome( ChromeDriverManager().install() )\n",
    "# Maximize window\n",
    "driver.maximize_window()\n",
    "driver.get('https://www.legacy.com/obituaries/legacy/obituary-search.aspx?isnew=1&affiliateId=0&stateid=17')\n",
    "\n",
    "# range of death\n",
    "driver.find_element_by_xpath('//*[@id=\"ctl00_ctl00_ContentPlaceHolder1_ContentPlaceHolder1_uxSearchWideControl_ddlSearchRange\"]/option[10]').click()\n",
    "\n",
    "\n",
    "death_begin = driver.find_element_by_xpath('//*[@id=\"ctl00_ctl00_ContentPlaceHolder1_ContentPlaceHolder1_uxSearchWideControl_txtStartDate\"]')\n",
    "death_begin.send_keys('10/10/1994')\n",
    "\n",
    "death_end = driver.find_element_by_xpath('//*[@id=\"ctl00_ctl00_ContentPlaceHolder1_ContentPlaceHolder1_uxSearchWideControl_txtEndDate\"]')    \n",
    "death_end.send_keys('10/10/2005')\n",
    "\n",
    "# type the Firstname \n",
    "keyword = driver.find_element_by_xpath('//*[@id=\"ctl00_ctl00_ContentPlaceHolder1_ContentPlaceHolder1_uxSearchWideControl_txtFirstName\"]')\n",
    "keyword.send_keys('robert')\n",
    "\n",
    "# type the Lastname \n",
    "keyword = driver.find_element_by_xpath('//*[@id=\"ctl00_ctl00_ContentPlaceHolder1_ContentPlaceHolder1_uxSearchWideControl_txtLastName\"]')\n",
    "keyword.send_keys('brown')\n",
    "\n",
    "# type the Title \n",
    "keyword = driver.find_element_by_xpath('//*[@id=\"ctl00_ctl00_ContentPlaceHolder1_ContentPlaceHolder1_uxSearchWideControl_txtKeyword\"]')\n",
    "keyword.send_keys('professor')\n",
    "\n",
    " # Set the state of last residence\n",
    "driver.find_element_by_xpath('//*[@id=\"ctl00_ctl00_ContentPlaceHolder1_ContentPlaceHolder1_uxSearchWideControl_ddlCountry\"]/option[11]').click()\n",
    "        \n",
    "# Send information\n",
    "driver.find_element_by_xpath('//*[@id=\"lnkSearch\"]').click()\n",
    "\n",
    "\n"
   ]
  },
  {
   "cell_type": "code",
   "execution_count": 10,
   "metadata": {},
   "outputs": [],
   "source": [
    "# we can loop over all departments\n",
    "# for dpt_idx in range( num_prov_options ):\n",
    "# but it will take too much time\n",
    "# We are going to do it over two departments\n",
    "for dpt_idx in range( 2 ):\n",
    "    \n",
    "    # Get again all departments since HTML is refreshing\n",
    "    # all elements\n",
    "    # Click on one specific department\n",
    "    dpt = Select( driver.find_element_by_xpath( \"/html/body/onpe-root/onpe-layout-container/onpe-onpe-epres-re/div[1]/div[3]/div[1]/div[1]/div/div/div[2]/select\" ) )\n",
    "    department = dpt.options[ dpt_idx ]\n",
    "    \n",
    "    # Get departmant name\n",
    "    dpt_name = department.text\n",
    "    \n",
    "    # We select a different department name\n",
    "    if dpt_name != \"--TODOS--\" :\n",
    "        \n",
    "        # click on department\n",
    "        department.click()\n",
    "        \n",
    "        # Get all elements of province\n",
    "        prov = Select( driver.find_element_by_xpath( \"/html/body/onpe-root/onpe-layout-container/onpe-onpe-epres-re/div[1]/div[3]/div[1]/div[1]/div/div/div[3]/select\" ) )\n",
    "        num_prov_options = len( prov.options )\n",
    "        \n",
    "        for prov_idx in range( num_prov_options ):\n",
    "            \n",
    "            # Get again all districts since HTML is refreshing\n",
    "            # all elements\n",
    "            prov = Select( driver.find_element_by_xpath( \"/html/body/onpe-root/onpe-layout-container/onpe-onpe-epres-re/div[1]/div[3]/div[1]/div[1]/div/div/div[3]/select\" ) )\n",
    "            province = prov.options[ prov_idx ]\n",
    "                \n",
    "            # Get province name\n",
    "            prov_name = province.text\n",
    "            \n",
    "            if prov_name != \"--TODOS--\" :\n",
    "                \n",
    "                # click on province\n",
    "                province.click()\n",
    "                \n",
    "                # Get all elements from district\n",
    "                dist = Select( driver.find_element_by_xpath( \"/html/body/onpe-root/onpe-layout-container/onpe-onpe-epres-re/div[1]/div[3]/div[1]/div[1]/div/div/div[4]/select\" ) )\n",
    "                num_dist_options = len( dist.options )\n",
    "                \n",
    "                for dist_idx in range( num_dist_options ):\n",
    "                    \n",
    "                    # Get again all districts since HTML is refreshing\n",
    "                    # all elements\n",
    "                    dist = Select( driver.find_element_by_xpath( \"/html/body/onpe-root/onpe-layout-container/onpe-onpe-epres-re/div[1]/div[3]/div[1]/div[1]/div/div/div[4]/select\" ) )\n",
    "                    district = dist.options[ dist_idx ]\n",
    "                    \n",
    "                    # Get district name\n",
    "                    dist_name = district.text\n",
    "                    \n",
    "                    if dist_name != \"-- SELECCIONE --\" :\n",
    "                        \n",
    "                        # click on district\n",
    "                        district.click()\n",
    "                        \n",
    "                        # Get UBIGEO\n",
    "                        ubigeo = driver.current_url.split(\"/\")[ -1 ]\n",
    "                        \n",
    "                        ## Get table of presidential votes\n",
    "                        # Get html at this point\n",
    "                        table_path = driver.find_element_by_xpath( \"/html/body/onpe-root/onpe-layout-container/onpe-onpe-epres-re/div[1]/div[4]/div[1]/div[3]/div\" )\n",
    "                        table_html = table_path.get_attribute( 'innerHTML' )\n",
    "                        # Read the table using pandas\n",
    "                        table = pd.read_html( table_html )\n",
    "                        \n",
    "                        # Cleaning tables\n",
    "                        row_new_columns = table[ 0 ].iloc[ 0 , 2: ]\n",
    "                        clean_columns = row_new_columns \\\n",
    "                                              .str.replace( \" \", \"_\") \\\n",
    "                                              .str.lower().str.replace( \"%\", \"share_\") \\\n",
    "                                              .apply( lambda x : unidecode.unidecode( x ) ) \\\n",
    "                                              .tolist()\n",
    "                        \n",
    "                        # Selecting specific columns\n",
    "                        table_clean = table[0].iloc[ 1:, 2: ].copy()\n",
    "                        \n",
    "                        # rename columns\n",
    "                        table_clean.columns = clean_columns\n",
    "                        \n",
    "                        # New values to columns \n",
    "                        table_clean[ 'department' ] = dpt_name\n",
    "                        table_clean[ 'province' ]   = prov_name\n",
    "                        table_clean[ 'district' ]   = dist_name\n",
    "                        table_clean[ 'ubigeo' ]     = ubigeo\n",
    "                        \n",
    "                        # store tables\n",
    "                        all_tables[ ubigeo ] = table_clean"
   ]
  },
  {
   "cell_type": "code",
   "execution_count": 12,
   "metadata": {},
   "outputs": [],
   "source": [
    "final_data = pd.concat( all_tables.values() ).reset_index( drop = True )"
   ]
  },
  {
   "cell_type": "code",
   "execution_count": 15,
   "metadata": {},
   "outputs": [],
   "source": [
    "final_data.to_excel( r'example_round.xlsx' , index = False )"
   ]
  },
  {
   "cell_type": "code",
   "execution_count": null,
   "metadata": {},
   "outputs": [],
   "source": []
  },
  {
   "cell_type": "code",
   "execution_count": null,
   "metadata": {},
   "outputs": [],
   "source": []
  }
 ],
 "metadata": {
  "hide_input": false,
  "kernelspec": {
   "display_name": "Python 3 (ipykernel)",
   "language": "python",
   "name": "python3"
  },
  "language_info": {
   "codemirror_mode": {
    "name": "ipython",
    "version": 3
   },
   "file_extension": ".py",
   "mimetype": "text/x-python",
   "name": "python",
   "nbconvert_exporter": "python",
   "pygments_lexer": "ipython3",
   "version": "3.9.7"
  }
 },
 "nbformat": 4,
 "nbformat_minor": 4
}
