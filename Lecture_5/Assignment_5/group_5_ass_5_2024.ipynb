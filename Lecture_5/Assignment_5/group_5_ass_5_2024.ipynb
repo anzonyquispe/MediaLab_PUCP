{
 "cells": [
  {
   "cell_type": "markdown",
   "metadata": {},
   "source": [
    "# Assignment 5\n",
    "\n",
    "You have to get all the votes for all the departments and provinces and districts available in this [link](https://resultadoshistorico.onpe.gob.pe/EG2021/EleccionesPresidenciales/RePres/T). General a final table with the columns of the department, province, district, political_organization, total_votes.\n",
    "The code must run and do not fail. If the code fails, it will be graded as zero. Check this."
   ]
  },
  {
   "cell_type": "code",
   "execution_count": 84,
   "metadata": {},
   "outputs": [
    {
     "name": "stdout",
     "output_type": "stream",
     "text": [
      "Requirement already satisfied: selenium in c:\\users\\carlos\\anaconda3\\lib\\site-packages (4.16.0)\n",
      "Requirement already satisfied: urllib3[socks]<3,>=1.26 in c:\\users\\carlos\\anaconda3\\lib\\site-packages (from selenium) (1.26.16)\n",
      "Requirement already satisfied: trio~=0.17 in c:\\users\\carlos\\anaconda3\\lib\\site-packages (from selenium) (0.24.0)\n",
      "Requirement already satisfied: trio-websocket~=0.9 in c:\\users\\carlos\\anaconda3\\lib\\site-packages (from selenium) (0.11.1)\n",
      "Requirement already satisfied: certifi>=2021.10.8 in c:\\users\\carlos\\anaconda3\\lib\\site-packages (from selenium) (2023.7.22)\n",
      "Requirement already satisfied: attrs>=20.1.0 in c:\\users\\carlos\\anaconda3\\lib\\site-packages (from trio~=0.17->selenium) (22.1.0)\n",
      "Requirement already satisfied: sortedcontainers in c:\\users\\carlos\\anaconda3\\lib\\site-packages (from trio~=0.17->selenium) (2.4.0)\n",
      "Requirement already satisfied: idna in c:\\users\\carlos\\anaconda3\\lib\\site-packages (from trio~=0.17->selenium) (3.4)\n",
      "Requirement already satisfied: outcome in c:\\users\\carlos\\anaconda3\\lib\\site-packages (from trio~=0.17->selenium) (1.3.0.post0)\n",
      "Requirement already satisfied: sniffio>=1.3.0 in c:\\users\\carlos\\anaconda3\\lib\\site-packages (from trio~=0.17->selenium) (1.3.0)\n",
      "Requirement already satisfied: cffi>=1.14 in c:\\users\\carlos\\anaconda3\\lib\\site-packages (from trio~=0.17->selenium) (1.15.1)\n",
      "Requirement already satisfied: wsproto>=0.14 in c:\\users\\carlos\\anaconda3\\lib\\site-packages (from trio-websocket~=0.9->selenium) (1.2.0)\n",
      "Requirement already satisfied: PySocks!=1.5.7,<2.0,>=1.5.6 in c:\\users\\carlos\\anaconda3\\lib\\site-packages (from urllib3[socks]<3,>=1.26->selenium) (1.7.1)\n",
      "Requirement already satisfied: pycparser in c:\\users\\carlos\\anaconda3\\lib\\site-packages (from cffi>=1.14->trio~=0.17->selenium) (2.21)\n",
      "Requirement already satisfied: h11<1,>=0.9.0 in c:\\users\\carlos\\anaconda3\\lib\\site-packages (from wsproto>=0.14->trio-websocket~=0.9->selenium) (0.14.0)\n",
      "Requirement already satisfied: webdriver-manager in c:\\users\\carlos\\anaconda3\\lib\\site-packages (4.0.1)\n",
      "Requirement already satisfied: requests in c:\\users\\carlos\\anaconda3\\lib\\site-packages (from webdriver-manager) (2.31.0)\n",
      "Requirement already satisfied: python-dotenv in c:\\users\\carlos\\anaconda3\\lib\\site-packages (from webdriver-manager) (0.21.0)\n",
      "Requirement already satisfied: packaging in c:\\users\\carlos\\anaconda3\\lib\\site-packages (from webdriver-manager) (23.1)\n",
      "Requirement already satisfied: charset-normalizer<4,>=2 in c:\\users\\carlos\\anaconda3\\lib\\site-packages (from requests->webdriver-manager) (2.0.4)\n",
      "Requirement already satisfied: idna<4,>=2.5 in c:\\users\\carlos\\anaconda3\\lib\\site-packages (from requests->webdriver-manager) (3.4)\n",
      "Requirement already satisfied: urllib3<3,>=1.21.1 in c:\\users\\carlos\\anaconda3\\lib\\site-packages (from requests->webdriver-manager) (1.26.16)\n",
      "Requirement already satisfied: certifi>=2017.4.17 in c:\\users\\carlos\\anaconda3\\lib\\site-packages (from requests->webdriver-manager) (2023.7.22)\n"
     ]
    }
   ],
   "source": [
    "#Nos aseguramos de instalar selenium y el web driver\n",
    "!pip install selenium\n",
    "!pip install webdriver-manager"
   ]
  },
  {
   "cell_type": "code",
   "execution_count": 85,
   "metadata": {},
   "outputs": [],
   "source": [
    "# Importamos selenium\n",
    "from selenium import webdriver\n",
    "\n",
    "# Importamos el driver\n",
    "from webdriver_manager.chrome import ChromeDriverManager\n",
    "import re\n",
    "import time"
   ]
  },
  {
   "cell_type": "code",
   "execution_count": 86,
   "metadata": {},
   "outputs": [],
   "source": [
    "from selenium.webdriver.common.by import By"
   ]
  },
  {
   "cell_type": "code",
   "execution_count": 87,
   "metadata": {},
   "outputs": [],
   "source": [
    "import pandas as pd"
   ]
  },
  {
   "cell_type": "code",
   "execution_count": 113,
   "metadata": {},
   "outputs": [],
   "source": [
    "from selenium import webdriver\n",
    "from selenium.webdriver.chrome.service import Service\n",
    "\n",
    "#Ejecutamos el webdriver, en este caso ponemos mi ruta de acceso (Carlos)\n",
    "\n",
    "service = Service(executable_path=r'C:\\Users\\CARLOS\\Downloads\\chromedriver-win64\\chromedriver-win64\\chromedriver.exe')\n",
    "options = webdriver.ChromeOptions()\n",
    "driver = webdriver.Chrome(service=service, options=options)"
   ]
  },
  {
   "cell_type": "code",
   "execution_count": 114,
   "metadata": {},
   "outputs": [],
   "source": [
    "# con este código ingresamos al link\n",
    "url = 'https://resultadoshistorico.onpe.gob.pe/EG2021/'\n",
    "driver.get(url)"
   ]
  },
  {
   "cell_type": "code",
   "execution_count": 115,
   "metadata": {},
   "outputs": [],
   "source": [
    "# ingresamos al apartado de resumen general usando el XPATH.\n",
    "resumen_general = driver.find_element( By.XPATH, \"/html/body/onpe-root/onpe-home-onpe/div[1]/div/div/div/div[2]/div[1]/div/div/a/div[1]/img\")\n",
    "resumen_general.click()"
   ]
  },
  {
   "cell_type": "code",
   "execution_count": 116,
   "metadata": {},
   "outputs": [],
   "source": [
    "#Seleccionamos el resumen presidencial\n",
    "presidencial = driver.find_element(By.XPATH, \"/html/body/onpe-root/onpe-layout-container/onpe-menu/div/nav/div/div/div[2]/div/div[2]/a\")\n",
    "presidencial.click()\n",
    "\n",
    "# Seleccionamos el ambito usando el ID\n",
    "ambito = driver.find_element(By.ID, \"select_ambito\")\n",
    "ambito.click()\n",
    "\n",
    "#seleccionamos la opción peru del ambito\n",
    "peru_opt = driver.find_element(By.XPATH, \"/html/body/onpe-root/onpe-layout-container/onpe-onpe-epres-re/div[1]/div[3]/div[1]/div[1]/div/div/div/select/option[2]\")\n",
    "peru_opt.click()"
   ]
  },
  {
   "cell_type": "code",
   "execution_count": 125,
   "metadata": {},
   "outputs": [],
   "source": [
    "list_tablas = []\n",
    "dpto = driver.find_element(By.ID, \"select_departamento\")\n",
    "dpto.click()\n",
    "\n",
    "for idx_dpt in range (2,26):\n",
    "        try:\n",
    "            dpt_opt = driver.find_element(By.ID, \"/html/body/onpe-root/onpe-layout-container/onpe-onpe-epres-re/div[1]/div[3]/div[1]/div[1]/div/div/div[2]/select/option[{idx}]\")\n",
    "            dpt_opt.click()\n",
    "        except:\n",
    "            break"
   ]
  },
  {
   "cell_type": "code",
   "execution_count": 126,
   "metadata": {},
   "outputs": [
    {
     "ename": "NoSuchElementException",
     "evalue": "Message: no such element: Unable to locate element: {\"method\":\"css selector\",\"selector\":\"[id=\"/html/body/onpe-root/onpe-layout-container/onpe-onpe-epres-re/div[1]/div[3]/div[1]/div[1]/div/div/div[2]/select/option[{idx}]\"]\"}\n  (Session info: chrome=120.0.6099.224); For documentation on this error, please visit: https://www.selenium.dev/documentation/webdriver/troubleshooting/errors#no-such-element-exception\nStacktrace:\n\tGetHandleVerifier [0x00007FF6BC0A2142+3514994]\n\t(No symbol) [0x00007FF6BBCC0CE2]\n\t(No symbol) [0x00007FF6BBB676AA]\n\t(No symbol) [0x00007FF6BBBB1860]\n\t(No symbol) [0x00007FF6BBBB197C]\n\t(No symbol) [0x00007FF6BBBF4EE7]\n\t(No symbol) [0x00007FF6BBBD602F]\n\t(No symbol) [0x00007FF6BBBF28F6]\n\t(No symbol) [0x00007FF6BBBD5D93]\n\t(No symbol) [0x00007FF6BBBA4BDC]\n\t(No symbol) [0x00007FF6BBBA5C64]\n\tGetHandleVerifier [0x00007FF6BC0CE16B+3695259]\n\tGetHandleVerifier [0x00007FF6BC126737+4057191]\n\tGetHandleVerifier [0x00007FF6BC11E4E3+4023827]\n\tGetHandleVerifier [0x00007FF6BBDF04F9+689705]\n\t(No symbol) [0x00007FF6BBCCC048]\n\t(No symbol) [0x00007FF6BBCC8044]\n\t(No symbol) [0x00007FF6BBCC81C9]\n\t(No symbol) [0x00007FF6BBCB88C4]\n\tBaseThreadInitThunk [0x00007FFDFE2653E0+16]\n\tRtlUserThreadStart [0x00007FFDFFA4485B+43]\n",
     "output_type": "error",
     "traceback": [
      "\u001b[1;31m---------------------------------------------------------------------------\u001b[0m",
      "\u001b[1;31mNoSuchElementException\u001b[0m                    Traceback (most recent call last)",
      "Cell \u001b[1;32mIn[126], line 6\u001b[0m\n\u001b[0;32m      4\u001b[0m dpto \u001b[38;5;241m=\u001b[39m driver\u001b[38;5;241m.\u001b[39mfind_element(By\u001b[38;5;241m.\u001b[39mID, \u001b[38;5;124m\"\u001b[39m\u001b[38;5;124mselect_departamento\u001b[39m\u001b[38;5;124m\"\u001b[39m)\n\u001b[0;32m      5\u001b[0m dpto\u001b[38;5;241m.\u001b[39mclick()\n\u001b[1;32m----> 6\u001b[0m dpt_opt \u001b[38;5;241m=\u001b[39m driver\u001b[38;5;241m.\u001b[39mfind_element(By\u001b[38;5;241m.\u001b[39mID, \u001b[38;5;124m\"\u001b[39m\u001b[38;5;124m/html/body/onpe-root/onpe-layout-container/onpe-onpe-epres-re/div[1]/div[3]/div[1]/div[1]/div/div/div[2]/select/option[\u001b[39m\u001b[38;5;132;01m{idx}\u001b[39;00m\u001b[38;5;124m]\u001b[39m\u001b[38;5;124m\"\u001b[39m)\n\u001b[0;32m      7\u001b[0m dpt_opt\u001b[38;5;241m.\u001b[39mclick()\n\u001b[0;32m      9\u001b[0m prov \u001b[38;5;241m=\u001b[39m driver\u001b[38;5;241m.\u001b[39mfind_element ( By\u001b[38;5;241m.\u001b[39mID, \u001b[38;5;124m\"\u001b[39m\u001b[38;5;124mcod_prov\u001b[39m\u001b[38;5;124m\"\u001b[39m)\n",
      "File \u001b[1;32m~\\anaconda3\\Lib\\site-packages\\selenium\\webdriver\\remote\\webdriver.py:742\u001b[0m, in \u001b[0;36mWebDriver.find_element\u001b[1;34m(self, by, value)\u001b[0m\n\u001b[0;32m    739\u001b[0m     by \u001b[38;5;241m=\u001b[39m By\u001b[38;5;241m.\u001b[39mCSS_SELECTOR\n\u001b[0;32m    740\u001b[0m     value \u001b[38;5;241m=\u001b[39m \u001b[38;5;124mf\u001b[39m\u001b[38;5;124m'\u001b[39m\u001b[38;5;124m[name=\u001b[39m\u001b[38;5;124m\"\u001b[39m\u001b[38;5;132;01m{\u001b[39;00mvalue\u001b[38;5;132;01m}\u001b[39;00m\u001b[38;5;124m\"\u001b[39m\u001b[38;5;124m]\u001b[39m\u001b[38;5;124m'\u001b[39m\n\u001b[1;32m--> 742\u001b[0m \u001b[38;5;28;01mreturn\u001b[39;00m \u001b[38;5;28mself\u001b[39m\u001b[38;5;241m.\u001b[39mexecute(Command\u001b[38;5;241m.\u001b[39mFIND_ELEMENT, {\u001b[38;5;124m\"\u001b[39m\u001b[38;5;124musing\u001b[39m\u001b[38;5;124m\"\u001b[39m: by, \u001b[38;5;124m\"\u001b[39m\u001b[38;5;124mvalue\u001b[39m\u001b[38;5;124m\"\u001b[39m: value})[\u001b[38;5;124m\"\u001b[39m\u001b[38;5;124mvalue\u001b[39m\u001b[38;5;124m\"\u001b[39m]\n",
      "File \u001b[1;32m~\\anaconda3\\Lib\\site-packages\\selenium\\webdriver\\remote\\webdriver.py:348\u001b[0m, in \u001b[0;36mWebDriver.execute\u001b[1;34m(self, driver_command, params)\u001b[0m\n\u001b[0;32m    346\u001b[0m response \u001b[38;5;241m=\u001b[39m \u001b[38;5;28mself\u001b[39m\u001b[38;5;241m.\u001b[39mcommand_executor\u001b[38;5;241m.\u001b[39mexecute(driver_command, params)\n\u001b[0;32m    347\u001b[0m \u001b[38;5;28;01mif\u001b[39;00m response:\n\u001b[1;32m--> 348\u001b[0m     \u001b[38;5;28mself\u001b[39m\u001b[38;5;241m.\u001b[39merror_handler\u001b[38;5;241m.\u001b[39mcheck_response(response)\n\u001b[0;32m    349\u001b[0m     response[\u001b[38;5;124m\"\u001b[39m\u001b[38;5;124mvalue\u001b[39m\u001b[38;5;124m\"\u001b[39m] \u001b[38;5;241m=\u001b[39m \u001b[38;5;28mself\u001b[39m\u001b[38;5;241m.\u001b[39m_unwrap_value(response\u001b[38;5;241m.\u001b[39mget(\u001b[38;5;124m\"\u001b[39m\u001b[38;5;124mvalue\u001b[39m\u001b[38;5;124m\"\u001b[39m, \u001b[38;5;28;01mNone\u001b[39;00m))\n\u001b[0;32m    350\u001b[0m     \u001b[38;5;28;01mreturn\u001b[39;00m response\n",
      "File \u001b[1;32m~\\anaconda3\\Lib\\site-packages\\selenium\\webdriver\\remote\\errorhandler.py:229\u001b[0m, in \u001b[0;36mErrorHandler.check_response\u001b[1;34m(self, response)\u001b[0m\n\u001b[0;32m    227\u001b[0m         alert_text \u001b[38;5;241m=\u001b[39m value[\u001b[38;5;124m\"\u001b[39m\u001b[38;5;124malert\u001b[39m\u001b[38;5;124m\"\u001b[39m]\u001b[38;5;241m.\u001b[39mget(\u001b[38;5;124m\"\u001b[39m\u001b[38;5;124mtext\u001b[39m\u001b[38;5;124m\"\u001b[39m)\n\u001b[0;32m    228\u001b[0m     \u001b[38;5;28;01mraise\u001b[39;00m exception_class(message, screen, stacktrace, alert_text)  \u001b[38;5;66;03m# type: ignore[call-arg]  # mypy is not smart enough here\u001b[39;00m\n\u001b[1;32m--> 229\u001b[0m \u001b[38;5;28;01mraise\u001b[39;00m exception_class(message, screen, stacktrace)\n",
      "\u001b[1;31mNoSuchElementException\u001b[0m: Message: no such element: Unable to locate element: {\"method\":\"css selector\",\"selector\":\"[id=\"/html/body/onpe-root/onpe-layout-container/onpe-onpe-epres-re/div[1]/div[3]/div[1]/div[1]/div/div/div[2]/select/option[{idx}]\"]\"}\n  (Session info: chrome=120.0.6099.224); For documentation on this error, please visit: https://www.selenium.dev/documentation/webdriver/troubleshooting/errors#no-such-element-exception\nStacktrace:\n\tGetHandleVerifier [0x00007FF6BC0A2142+3514994]\n\t(No symbol) [0x00007FF6BBCC0CE2]\n\t(No symbol) [0x00007FF6BBB676AA]\n\t(No symbol) [0x00007FF6BBBB1860]\n\t(No symbol) [0x00007FF6BBBB197C]\n\t(No symbol) [0x00007FF6BBBF4EE7]\n\t(No symbol) [0x00007FF6BBBD602F]\n\t(No symbol) [0x00007FF6BBBF28F6]\n\t(No symbol) [0x00007FF6BBBD5D93]\n\t(No symbol) [0x00007FF6BBBA4BDC]\n\t(No symbol) [0x00007FF6BBBA5C64]\n\tGetHandleVerifier [0x00007FF6BC0CE16B+3695259]\n\tGetHandleVerifier [0x00007FF6BC126737+4057191]\n\tGetHandleVerifier [0x00007FF6BC11E4E3+4023827]\n\tGetHandleVerifier [0x00007FF6BBDF04F9+689705]\n\t(No symbol) [0x00007FF6BBCCC048]\n\t(No symbol) [0x00007FF6BBCC8044]\n\t(No symbol) [0x00007FF6BBCC81C9]\n\t(No symbol) [0x00007FF6BBCB88C4]\n\tBaseThreadInitThunk [0x00007FFDFE2653E0+16]\n\tRtlUserThreadStart [0x00007FFDFFA4485B+43]\n"
     ]
    }
   ],
   "source": [
    "list_tablas = []\n",
    "\n",
    "for idx_dpt in range (2,24):\n",
    "        dpto = driver.find_element(By.ID, \"select_departamento\")\n",
    "        dpto.click()\n",
    "        dpt_opt = driver.find_element(By.ID, \"/html/body/onpe-root/onpe-layout-container/onpe-onpe-epres-re/div[1]/div[3]/div[1]/div[1]/div/div/div[2]/select/option[{idx}]\")\n",
    "        dpt_opt.click()\n",
    "        \n",
    "        prov = driver.find_element ( By.ID, \"cod_prov\")\n",
    "        dist.click()\n",
    "            \n",
    "        for idx_prov in range(2, 100):\n",
    "            try: \n",
    "                prov_opt = driver.find_element( By.XPATH, f'/html/body/onpe-root/onpe-layout-container/onpe-onpe-epres-re/div[1]/div[3]/div[1]/div[1]/div/div/div[3]/select/option[{idx_prov}]')\n",
    "                prov_name = prov_opt.text\n",
    "                prov_opt.click()\n",
    "                print(prov_name)\n",
    "\n",
    "                # seleccionar el distrito\n",
    "                dist = driver.find_element( By.ID, \"cod_dist\")\n",
    "                dist.click()\n",
    "\n",
    "            except:\n",
    "                    break\n",
    "\n",
    "\n",
    "            for idx in range(2, 10000000):\n",
    "\n",
    "                try:\n",
    "                    dist_opt = driver.find_element( By.XPATH, f\"/html/body/onpe-root/onpe-layout-container/onpe-onpe-epres-re/div[1]/div[3]/div[1]/div[1]/div/div/div[4]/select/option[{idx}]\")\n",
    "                    dist_name = dist_opt.text\n",
    "                    dist_opt.click()\n",
    "\n",
    "\n",
    "\n",
    "                    # exatraer la tabla\n",
    "                    tabla_votos = driver.find_element( By.ID, \"table-scroll\")\n",
    "\n",
    "                    tabla_html = tabla_votos.get_property( 'innerHTML')\n",
    "\n",
    "                    tabla_votos_clean = pd.read_html( tabla_html )[0]\n",
    "\n",
    "\n",
    "                    # Establecer la primera fila como nombres de columna\n",
    "                    tabla_votos_clean.columns = tabla_votos_clean.iloc[0]\n",
    "\n",
    "                    # Eliminar la primera fila del DataFrame\n",
    "                    tabla_votos_clean = tabla_votos_clean.iloc[1:]\n",
    "\n",
    "                    tabla_votos_clean['Departament'] = dpto_name\n",
    "\n",
    "                    tabla_votos_clean['Province'] = prov_name\n",
    "\n",
    "                    tabla_votos_clean['District'] = dist_name\n",
    "\n",
    "                    list_tablas.append( tabla_votos_clean )\n",
    "\n",
    "                except:\n",
    "                    break\n",
    "            \n",
    "        #     print(f\"/html/body/onpe-root/onpe-layout-container/onpe-onpe-epres-re/div[1]/div[3]/div[1]/div[1]/div/div/div[4]/select/option[{idx}]\")\n",
    "\n"
   ]
  },
  {
   "cell_type": "code",
   "execution_count": null,
   "metadata": {},
   "outputs": [],
   "source": []
  },
  {
   "cell_type": "code",
   "execution_count": null,
   "metadata": {},
   "outputs": [],
   "source": []
  }
 ],
 "metadata": {
  "hide_input": false,
  "kernelspec": {
   "display_name": "Python 3 (ipykernel)",
   "language": "python",
   "name": "python3"
  },
  "language_info": {
   "codemirror_mode": {
    "name": "ipython",
    "version": 3
   },
   "file_extension": ".py",
   "mimetype": "text/x-python",
   "name": "python",
   "nbconvert_exporter": "python",
   "pygments_lexer": "ipython3",
   "version": "3.11.5"
  }
 },
 "nbformat": 4,
 "nbformat_minor": 4
}
