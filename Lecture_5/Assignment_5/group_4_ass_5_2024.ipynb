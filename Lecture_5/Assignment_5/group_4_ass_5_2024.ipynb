{
 "cells": [
  {
   "cell_type": "markdown",
   "metadata": {},
   "source": [
    "# Assignment 5\n",
    "\n",
    "You have to get all the votes for all the departments and provinces and districts available in this [link](https://resultadoshistorico.onpe.gob.pe/EG2021/EleccionesPresidenciales/RePres/T). General a final table with the columns of the department, province, district, political_organization, total_votes.\n",
    "The code must run and do not fail. If the code fails, it will be graded as zero. Check this."
   ]
  },
  {
   "cell_type": "code",
   "execution_count": null,
   "metadata": {},
   "outputs": [],
   "source": [
    "from IPython.display import display, HTML\n",
    "\n",
    "display(HTML(data=\"\"\"\n",
    "<style>\n",
    "    div#notebook-container    { width: 95%; }\n",
    "    div#menubar-container     { width: 65%; }\n",
    "    div#maintoolbar-container { width: 99%; }a\n",
    "</style>\n",
    "\"\"\"))"
   ]
  },
  {
   "cell_type": "code",
   "execution_count": null,
   "metadata": {},
   "outputs": [],
   "source": [
    "!pip install selenium\n",
    "!pip install webdriver-manager"
   ]
  },
  {
   "cell_type": "code",
   "execution_count": null,
   "metadata": {},
   "outputs": [],
   "source": [
    "# Import the necessary packages\n",
    "from selenium import webdriver\n",
    "from selenium.webdriver.common.by import By\n",
    "from selenium.webdriver.chrome.service import Service\n",
    "from webdriver_manager.chrome import ChromeDriverManager\n",
    "import pandas as pd"
   ]
  },
  {
   "cell_type": "code",
   "execution_count": null,
   "metadata": {},
   "outputs": [],
   "source": [
    "# Establish the service configuration and webdriver options\n",
    "service = Service(executable_path=\"D:\\Descargas\\chromedriver-win64\\chromedriver-win64\\chromedriver.exe\")\n",
    "options = webdriver.ChromeOptions()\n",
    "driver = webdriver.Chrome(service=service, options=options)"
   ]
  },
  {
   "cell_type": "code",
   "execution_count": null,
   "metadata": {},
   "outputs": [],
   "source": [
    "# Insert the page URL\n",
    "url = 'https://resultadoshistorico.onpe.gob.pe/EG2021/'\n",
    "driver.get(url)"
   ]
  },
  {
   "cell_type": "code",
   "execution_count": null,
   "metadata": {},
   "outputs": [],
   "source": [
    "#First, the \"Resumen General\" section is located to activate it with one click. It's neccesary to attach the full XPATH\n",
    "resumen_general = driver.find_element( By.XPATH, \"/html/body/onpe-root/onpe-home-onpe/div[1]/div/div/div/div[2]/div[1]/div/div/a/div[1]/img\")\n",
    "resumen_general.click()"
   ]
  },
  {
   "cell_type": "code",
   "execution_count": null,
   "metadata": {},
   "outputs": [],
   "source": [
    "# Then, the \"Presidencial\" section is located to activate it with one click. It's neccesary to attach the full XPATH\n",
    "presidencial = driver.find_element(By.XPATH, \"/html/body/onpe-root/onpe-layout-container/onpe-menu/div/nav/div/div/div[2]/div/div[2]/a\")\n",
    "presidencial.click()"
   ]
  },
  {
   "cell_type": "code",
   "execution_count": null,
   "metadata": {},
   "outputs": [],
   "source": [
    "# After that, we need to selec \"Peru\" using the ID and full XPATH\n",
    "ambito = driver.find_element(By.ID, \"select_ambito\")\n",
    "ambito.click()\n",
    "peru_opt = driver.find_element(By.XPATH, \"/html/body/onpe-root/onpe-layout-container/onpe-onpe-epres-re/div[1]/div[3]/div[1]/div[1]/div/div/div/select/option[2]\")\n",
    "peru_opt.click()"
   ]
  },
  {
   "cell_type": "code",
   "execution_count": null,
   "metadata": {},
   "outputs": [],
   "source": [
    "# After that, we need to selec \"Peru\" using the ID and full XPATH\n",
    "ambito = driver.find_element(By.ID, \"select_ambito\")\n",
    "ambito.click()\n",
    "peru_opt = driver.find_element(By.XPATH, \"/html/body/onpe-root/onpe-layout-container/onpe-onpe-epres-re/div[1]/div[3]/div[1]/div[1]/div/div/div/select/option[2]\")\n",
    "peru_opt.click()"
   ]
  },
  {
   "cell_type": "code",
   "execution_count": null,
   "metadata": {},
   "outputs": [],
   "source": [
    "# we testing the ID for loop\n",
    "dpto = driver.find_element(By.ID, \"select_departamento\")\n",
    "dpto.click()\n",
    "\n",
    "prov = driver.find_element( By.ID, 'cod_prov')\n",
    "prov.click()\n",
    "\n",
    "dist = driver.find_element( By.ID, 'cod_dist')\n",
    "dist.click()"
   ]
  },
  {
   "cell_type": "code",
   "execution_count": null,
   "metadata": {},
   "outputs": [],
   "source": [
    "# Creating of table model\n",
    "tabla_votos = driver.find_element(By.XPATH, \"/html/body/onpe-root/onpe-layout-container/onpe-onpe-epres-re/div[1]/div[4]/div[1]/div[3]/div\")\n",
    "\n",
    "tabla_html = tabla_votos.get_property( 'innerHTML')\n",
    "\n",
    "tabla_votos_clean = pd.read_html( tabla_html )[0]\n",
    "\n",
    "tabla_votos_clean.columns = tabla_votos_clean.iloc[0]\n",
    "\n",
    "# Delete the first row of the DataFrame row of the DataFrame\n",
    "tabla_votos_clean = tabla_votos_clean.iloc[1:]\n",
    "tabla_votos_clean"
   ]
  }
 ],
 "metadata": {
  "hide_input": false,
  "kernelspec": {
   "display_name": "Python 3 (ipykernel)",
   "language": "python",
   "name": "python3"
  },
  "language_info": {
   "codemirror_mode": {
    "name": "ipython",
    "version": 3
   },
   "file_extension": ".py",
   "mimetype": "text/x-python",
   "name": "python",
   "nbconvert_exporter": "python",
   "pygments_lexer": "ipython3",
   "version": "3.10.9"
  }
 },
 "nbformat": 4,
 "nbformat_minor": 4
}
