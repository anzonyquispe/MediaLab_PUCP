{
 "cells": [
  {
   "cell_type": "markdown",
   "metadata": {},
   "source": [
    "# 1 Assignment\n",
    "\n",
    "It is totally prohibited to use any kind of loop. You can use stackoverflow. If you copy codes from previous answers, explain each step. No explanation is `0 points`."
   ]
  },
  {
   "cell_type": "markdown",
   "metadata": {},
   "source": [
    "## 1.1 Tuple\n",
    "\n",
    "\n",
    "\n",
    "1. Print the first item of the second item of `tuple1` object. **Hint: Use indexing**<br><br>\n",
    "2. Print the last item of the `tuple1` object.**Hint: Use indexing**<br><br>\n",
    "3. Change the value \"orange\" for \"pink grapefruit\". Comment the output. **Hint: Is it possible?** <br><br>\n",
    "4. Print the length of `tuple1`. **Hint: Length function**<br><br>\n",
    "5. Sum all the elements of tuple2 and describe your steps and explain each of them. **Hint: Use `map` function.**<br><br>\n",
    "6. Generate a new tuple object named as `tuple3` with the half values of `tuple2`. This tuple should be similar as `tuple2`, tuple of lists.  **Hint: Use `map` funciont.**<br><br>"
   ]
  },
  {
   "cell_type": "code",
   "execution_count": 3,
   "metadata": {},
   "outputs": [],
   "source": [
    "tuple1 = (\"Orange\", [10, 20, 30], (5, 15, 25))\n",
    "tuple2 = ([7, 8], [9, 1], [10, 7])"
   ]
  },
  {
   "cell_type": "code",
   "execution_count": 4,
   "metadata": {},
   "outputs": [
    {
     "name": "stdout",
     "output_type": "stream",
     "text": [
      "[10, 20, 30]\n"
     ]
    }
   ],
   "source": [
    "#1 \n",
    "# The print is used to report results, in this case, an index structure is employed to report a specific element. \n",
    "print(tuple1[1])"
   ]
  },
  {
   "cell_type": "code",
   "execution_count": 5,
   "metadata": {},
   "outputs": [
    {
     "name": "stdout",
     "output_type": "stream",
     "text": [
      "(5, 15, 25)\n"
     ]
    }
   ],
   "source": [
    "#2 \n",
    "# It's the same logic of #1\n",
    "print(tuple1[2])"
   ]
  },
  {
   "cell_type": "code",
   "execution_count": 4,
   "metadata": {},
   "outputs": [
    {
     "name": "stdout",
     "output_type": "stream",
     "text": [
      "('Pink Grapefruit', [10, 20, 30], (5, 15, 25))\n"
     ]
    }
   ],
   "source": [
    "#3 \n",
    "# Another tuple is created to replace the label tuple1, while retaining the other elements.\n",
    "tuple1 = (\"Pink Grapefruit\", tuple1[1], tuple1[2])\n",
    "print(tuple1)"
   ]
  },
  {
   "cell_type": "code",
   "execution_count": 5,
   "metadata": {},
   "outputs": [
    {
     "name": "stdout",
     "output_type": "stream",
     "text": [
      "3\n"
     ]
    }
   ],
   "source": [
    "#3 \n",
    "# len(tuple1) counts the elements of tuple1.\n",
    "print(len(tuple1))"
   ]
  },
  {
   "cell_type": "code",
   "execution_count": 6,
   "metadata": {},
   "outputs": [
    {
     "name": "stdout",
     "output_type": "stream",
     "text": [
      "42\n"
     ]
    }
   ],
   "source": [
    "#Point 4\n",
    "# obj = map(sum, tuple2): This line uses the map function to apply the sum (add add up the values in a sequence) function to each element of the tuple tuple2\n",
    "# total_sum = sum(obj): dds up all the results obtained by applying the sum function to each element of tuple2. The final result is stored in the variable total_sum.\n",
    "\n",
    "obj = map(sum, tuple2)\n",
    "total_sum = sum(obj)\n",
    "print(total_sum)"
   ]
  },
  {
   "cell_type": "code",
   "execution_count": 7,
   "metadata": {},
   "outputs": [
    {
     "name": "stdout",
     "output_type": "stream",
     "text": [
      "([3, 4], [4, 0], [5, 3])\n"
     ]
    }
   ],
   "source": [
    "#Point 5 \n",
    "# lambda sublist: [value // 2 for value in sublist]: Here, an anonymous function (lambda) is defined. It takes a sublist as input and returns a new list where each element is divided by 2\n",
    "# apply lambda to elements of sublist \n",
    "tuple3 = tuple(map(lambda sublist: [value // 2 for value in sublist], tuple2))\n",
    "print(tuple3)"
   ]
  },
  {
   "cell_type": "markdown",
   "metadata": {},
   "source": [
    "## 1.2 Lists\n",
    "1. Show the indices of the `np.nan` values  in the `f_list` list. We want to see this output: `The indices 0, 1, 4, 7 have np.nan values.` **Hint: Use print function and [f-strings](https://realpython.com/python-f-strings/) to insert the indices values.**<br><br>\n",
    "\n",
    "2. Replicate 4 times the values of the list `p2_list`. We expect an ouput like this: `[ 2 , 3, 4, 5, 2 , 3, 4, 5, 2 , 3, 4, 5, 2 , 3, 4, 5]`.  **Hint: Use multiplication function in `lists`and see the output.**<br><br>\n",
    "3. Print the length of `f_list`. **Hint: Length function**<br><br>\n",
    "4. Print `My teacher assistant is so boring.` using `text1` list. **Hint: Use the [`join` function](https://stackoverflow.com/questions/493819/why-is-it-string-joinlist-instead-of-list-joinstring)**<br><br>\n",
    "5. Print `My TA is so boring, but is very funny.` using `text1` list.**Hint: Use the `join` function, and `extend` method.**<br><br>\n",
    "6. Print <br>\n",
    "`The max value of values1 is 86 and is located in the 0 index. ` <br>\n",
    "`The min value of values1 is 0 and is located in the 7 index. ` <br> **Hint: Use the `f-string`, `min`, and `max` functions.**\n",
    "<br>\n",
    "7. Get two lists: `names` and `last_names` using `last_and_name` list. **Hint: Use `map` and `split`.**\n",
    "<br>\n",
    "8. Give only the last names of students who do not have email. Use the `emails` and `last_names` listt. **Hint: Use `map` and `split`.**\n",
    "<br>"
   ]
  },
  {
   "cell_type": "code",
   "execution_count": 12,
   "metadata": {},
   "outputs": [],
   "source": [
    "import numpy as np"
   ]
  },
  {
   "cell_type": "code",
   "execution_count": 13,
   "metadata": {},
   "outputs": [],
   "source": [
    "f_list = [np.nan , np.nan, \"Austria\", \"Germany\", np.nan, \"Pakistan\", \"np.nan\", np.nan ]"
   ]
  },
  {
   "cell_type": "code",
   "execution_count": 4,
   "metadata": {},
   "outputs": [],
   "source": [
    "text1 = ['My', 'teacher', 'assistant', 'is', 'so', 'boring.']"
   ]
  },
  {
   "cell_type": "code",
   "execution_count": 16,
   "metadata": {},
   "outputs": [],
   "source": [
    "p2_list = [ 2 , 3, 4, 5 ]"
   ]
  },
  {
   "cell_type": "code",
   "execution_count": 5,
   "metadata": {},
   "outputs": [],
   "source": [
    "values1 = [ 86, 86, 85, 85, 85, 83, 23, 0, 84, 1 ] "
   ]
  },
  {
   "cell_type": "code",
   "execution_count": 8,
   "metadata": {},
   "outputs": [],
   "source": [
    "# These two lists a\n",
    "last_and_name = [ \"CORNEJO SANCHEZ, CHRISTIAN SANTOS\", \"ORELLANA QUISPE, CRISTIAN NASSER\", \"MORALES CHOQUEHUANCA, ANGELICA KARINA\", \"GUIMARAY RIBEYRO, JOSE ROBERTO\", \"CAMACHO GAVIDIA, ABEL FERNANDO\", \"TINTAYA ORIHUELA, MEIR ALVARO\", \"CHAVEZ MARTINEZ, JOSELIN ALEXANDRA\", \"FIGUEROA MURO, LEONEL ARTURO\", \"GOMEZ CRIBILLERO, JOSE FELIPE\", \"PALOMINO SEGUÍN, AFRANIA\", \"LUZON CUEVA, BIANCA MARIETTE\", \"SUAÑA ZEGARRA, ADRIAN ANDRE\", \"SOTO POMACHAGUA, DORKAS YOMIRA JHERMY\", \"FIORENTINO MARTINEZ, LADY ALY\", \"LAMA MAVILA, HECTOR ANDRE\", \"MEZA HINOJO, GUSTAVO\", \"LOZADA MURILLO, PERSEO MARCELO\", \"ZAMBRANO JIMENEZ, MIGUEL ALONZO\", \"JACOBS LUQUE, NICOLAS\", \"VIDAL VIDAL, ROCIO GABRIELA\", \"TORRES ANICAMA, JANE CAMILA\", \"LOPEZ ESTRADA, MARIA ELISA\", \"BOYCO ORAMS, ALEJANDRO\", \"DIAZ BERROSPI, KARLINE ROSMELI\", \"RIEGA ESCALANTE, STEPHY ROSARIO\", \"LEVANO TORRES, VALERIA CECILIA\", \"ESQUIVES BRAVO, SEBASTIAN RENATO\", \"PEREZ GONZALES, JUAN CARLOS\", \"OTERO MAGUIÑA, MARIANA\", \"CLAVO CAMPOS, ANDREA BRIZETH\", \"AGUILAR GARCIA, ERICK JOSUE\", \"CALDAS VELASQUEZ, JOSUE DANIEL\", \"SALAS NUÑEZ BORJA, FABIO MANUEL\", \"PIZARRO VILLANES, FERNANDA NICOLLE\", \"QUILLATUPA MORALES, ANGELA ADELINA\", \"HUANCAYA IDONE, CESAR DANTE\", \"CALVO PORTOCARRERO, GABRIELA ISABEL\", \"IBAÑEZ ABANTO, ANGEL MAURICIO\", \"MELÉNDEZ APONTE, JUAN DIEGO\", \"CRISTIAN SERRANO, ARONE\", \"HINOJOSA CAHUANA, PERCY ALBERTH\", \"ANGLAS GARCÍA, KEVIN ARTURO\", \"ALDAVE ACOSTA, CESAR ERNESTO\", \"NÚÑEZ HUAMÁN, CÉSAR AGUSTO\", \"OBREGON HUAMAN, DIANA EDITH\", \"SOTO PACHERRES, RODRIGO FRANCO\", \"INGARUCA RIVERA, GRETTEL ALEXANDRA\", \"ROJAS HUAMAN, ROSA ANGELA\", \"NEYRA SALAS, DANTE OMAR\", \"HUERTA ESPINOZA, YAJAIRA ALEXANDRA\", \"HUANCA MARTINEZ, JORGE ALBERTO\", \"FLORES CADILLO, ALEXIS\" ]\n",
    "emails = [\"cscornejo@pucp.edu.pe\", \"orellana.cn@pucp.edu.pe\", \"karina.morales@pucp.edu.pe\", \"a20083223@pucp.pe\", \"abel.camacho@pucp.pe\", \"mtintaya@pucp.edu.pe\", \"joselin.chavez@pucp.edu.pe\", \"a20105737@pucp.pe\", \"jfgomezc@pucp.pe\", \"afrania.palomino@pucp.pe\", \"luzon.bianca@pucp.pe\", \"adrian.suanaz@pucp.pe\", \"soto.y@pucp.edu.pe\", \"a20132766@pucp.pe\", \"andre.lama@pucp.edu.pe\", \"gustavo.meza@pucp.edu.pe\", \"pmlozada@pucp.edu.pe\", \"m.zambranoj@pucp.edu.pe\", \"nicolas.jacobs@pucp.edu.pe\", \"gvidal@pucp.edu.pe\", \"jane.torres@pucp.edu.pe\", \"m.lopez@pucp.edu.pe\", \"alejandro.boyco@pucp.edu.pe\", \"a20167070@pucp.edu.pe\", \"riega.stephy@pucp.edu.pe\", \"vlevanot@pucp.edu.pe\", \"sesquives@pucp.edu.pe\", \"perez.juanc@pucp.edu.pe\", \"mariana.otero@pucp.edu.pe\", \"aclavo@pucp.edu.pe\", \"a20182474@pucp.edu.pe\", \"josue.caldas@pucp.edu.pe\", \"fabio.salas@pucp.edu.pe\", \"fernanda.pizarro@pucp.edu.pe\", \"aquillatupa@pucp.pe\", \"\", \"\", \"\", \"\", \"\", \"f0873079@pucp.edu.pe\", \"\", \"\", \"\", \"\", \"\", \"\", \"\", \"\", \"\", \"\", \"flores.alexis@pucp.edu.pe\", ]"
   ]
  },
  {
   "cell_type": "code",
   "execution_count": 14,
   "metadata": {},
   "outputs": [
    {
     "name": "stdout",
     "output_type": "stream",
     "text": [
      "The indices 0, 1, 4, 7 have np.nan values.\n"
     ]
    }
   ],
   "source": [
    "# 1.  \n",
    "# enumerate(f_list): This provides both the index (i) and the value (value) for each element in the list f_list.\n",
    "# for i, value in enumerate(f_list): This sets up a loop that iterates over all elements of the list f_list. i is the index of the element, and value is the value of the element at that index.\n",
    "# isinstance(value, float): Checks if the value is of type float (a numeric type in Python). This is done to prevent text strings (such as \"Austria\" and \"Germany\") from interfering with the NaN check.\n",
    "# np.isnan(value): Verifies if the value is NaN using the isnan function from NumPy.\n",
    "# This creates a list containing only the indices (i) of the elements that meet the specified condition in the if statement.\n",
    "\n",
    "nan_indices = [i for i, value in enumerate(f_list) if isinstance(value, float) and np.isnan(value)]\n",
    "print(f\"The indices {', '.join(map(str, nan_indices))} have np.nan values.\")"
   ]
  },
  {
   "cell_type": "code",
   "execution_count": 17,
   "metadata": {},
   "outputs": [
    {
     "name": "stdout",
     "output_type": "stream",
     "text": [
      "[2, 3, 4, 5, 2, 3, 4, 5, 2, 3, 4, 5, 2, 3, 4, 5]\n"
     ]
    }
   ],
   "source": [
    "#2.\n",
    "# Replicates the elements of p2_list four times \n",
    "replicated_list = p2_list * 4\n",
    "print(replicated_list)"
   ]
  },
  {
   "cell_type": "code",
   "execution_count": 1,
   "metadata": {},
   "outputs": [
    {
     "name": "stdout",
     "output_type": "stream",
     "text": [
      "The length of f_list is: 8\n"
     ]
    }
   ],
   "source": [
    "# Point 3: Print the length of f_list\n",
    "import numpy as np\n",
    "\n",
    "# Given list with np.nan values\n",
    "#This line defines a list called f_list containing a mix of np.nan values and strings.\n",
    "f_list = [np.nan, np.nan, \"Austria\", \"Germany\", np.nan, \"Pakistan\", \"np.nan\", np.nan]\n",
    "\n",
    "# Calculate the length of the list using the len function\n",
    "#his line calculates the length of the list f_list using the len function and stores it in the variable length_of_f_list\n",
    "length_of_f_list = len(f_list)\n",
    "\n",
    "# Print the output\n",
    "print(f\"The length of f_list is: {length_of_f_list}\")"
   ]
  },
  {
   "cell_type": "code",
   "execution_count": 2,
   "metadata": {},
   "outputs": [
    {
     "name": "stdout",
     "output_type": "stream",
     "text": [
      "My teacher assistant is so boring.\n"
     ]
    }
   ],
   "source": [
    "#Point 4\n",
    "# Given list\n",
    "text1 = [\"My\", \"teacher\", \"assistant\", \"is\", \"so\", \"boring.\"]\n",
    "\n",
    "# Use the join function to concatenate the elements of the list with a space between them\n",
    "text_output = ' '.join(text1)\n",
    "\n",
    "# Print the output\n",
    "print(text_output)"
   ]
  },
  {
   "cell_type": "code",
   "execution_count": 3,
   "metadata": {},
   "outputs": [
    {
     "name": "stdout",
     "output_type": "stream",
     "text": [
      "My teacher assistant is so boring, but is very funny.\n"
     ]
    }
   ],
   "source": [
    "#Point 5\n",
    "# Given list\n",
    "text1 = [\"My\", \"teacher\", \"assistant\", \"is\", \"so\", \"boring,\"]\n",
    "\n",
    "# Use the extend method to add more words to the list\n",
    "text1.extend([\"but\", \"is\", \"very\", \"funny.\"])\n",
    "\n",
    "# Use the join function to concatenate the elements of the list with a space between them\n",
    "text_output = ' '.join(text1)\n",
    "\n",
    "# Print the output\n",
    "print(text_output)"
   ]
  },
  {
   "cell_type": "code",
   "execution_count": 1,
   "metadata": {},
   "outputs": [
    {
     "name": "stdout",
     "output_type": "stream",
     "text": [
      "The max value of values1 is 86 and is located in the 0 index.\n"
     ]
    }
   ],
   "source": [
    "# 6\n",
    "# Find the max value contained in the list values1\n",
    "values1 = [ 86, 86, 85, 85, 85, 83, 23, 0, 84, 1 ] \n",
    "max_value = max(values1)\n",
    "\n",
    "# then use index method to find the index of the maximum value \n",
    "max_index = values1.index(max_value)\n",
    "\n",
    "# f-string is used to print the result. Also it incorporates the max_value and max_index into the formatted string\n",
    "print(f'The max value of values1 is {max_value} and is located in the {max_index} index.')\n"
   ]
  },
  {
   "cell_type": "code",
   "execution_count": 2,
   "metadata": {},
   "outputs": [
    {
     "name": "stdout",
     "output_type": "stream",
     "text": [
      "The mix value of values1 is 0 and is located in the 7 index.\n"
     ]
    }
   ],
   "source": [
    "# Find the min value contained in the list values1\n",
    "values1 = [ 86, 86, 85, 85, 85, 83, 23, 0, 84, 1 ] \n",
    "min_value = min(values1)\n",
    "\n",
    "# then use index method to find the index of the minimum value \n",
    "min_index = values1.index(min_value)\n",
    "\n",
    "# f-string is used to print the result. Also it incorporates the min_value and min_index into the formatted string\n",
    "print(f'The mix value of values1 is {min_value} and is located in the {min_index} index.')"
   ]
  },
  {
   "cell_type": "code",
   "execution_count": 5,
   "metadata": {},
   "outputs": [
    {
     "name": "stdout",
     "output_type": "stream",
     "text": [
      "Names: ('CHRISTIAN SANTOS', 'CRISTIAN NASSER', 'ANGELICA KARINA', 'JOSE ROBERTO', 'ABEL FERNANDO', 'MEIR ALVARO', 'JOSELIN ALEXANDRA', 'LEONEL ARTURO', 'JOSE FELIPE', 'AFRANIA', 'BIANCA MARIETTE', 'ADRIAN ANDRE', 'DORKAS YOMIRA JHERMY', 'LADY ALY', 'HECTOR ANDRE', 'GUSTAVO', 'PERSEO MARCELO', 'MIGUEL ALONZO', 'NICOLAS', 'ROCIO GABRIELA', 'JANE CAMILA', 'MARIA ELISA', 'ALEJANDRO', 'KARLINE ROSMELI', 'STEPHY ROSARIO', 'VALERIA CECILIA', 'SEBASTIAN RENATO', 'JUAN CARLOS', 'MARIANA', 'ANDREA BRIZETH', 'ERICK JOSUE', 'JOSUE DANIEL', 'FABIO MANUEL', 'FERNANDA NICOLLE', 'ANGELA ADELINA', 'CESAR DANTE', 'GABRIELA ISABEL', 'ANGEL MAURICIO', 'JUAN DIEGO', 'ARONE', 'PERCY ALBERTH', 'KEVIN ARTURO', 'CESAR ERNESTO', 'CÉSAR AGUSTO', 'DIANA EDITH', 'RODRIGO FRANCO', 'GRETTEL ALEXANDRA', 'ROSA ANGELA', 'DANTE OMAR', 'YAJAIRA ALEXANDRA', 'JORGE ALBERTO', 'ALEXIS')\n",
      "Last Names: ('CORNEJO SANCHEZ', 'ORELLANA QUISPE', 'MORALES CHOQUEHUANCA', 'GUIMARAY RIBEYRO', 'CAMACHO GAVIDIA', 'TINTAYA ORIHUELA', 'CHAVEZ MARTINEZ', 'FIGUEROA MURO', 'GOMEZ CRIBILLERO', 'PALOMINO SEGUÍN', 'LUZON CUEVA', 'SUAÑA ZEGARRA', 'SOTO POMACHAGUA', 'FIORENTINO MARTINEZ', 'LAMA MAVILA', 'MEZA HINOJO', 'LOZADA MURILLO', 'ZAMBRANO JIMENEZ', 'JACOBS LUQUE', 'VIDAL VIDAL', 'TORRES ANICAMA', 'LOPEZ ESTRADA', 'BOYCO ORAMS', 'DIAZ BERROSPI', 'RIEGA ESCALANTE', 'LEVANO TORRES', 'ESQUIVES BRAVO', 'PEREZ GONZALES', 'OTERO MAGUIÑA', 'CLAVO CAMPOS', 'AGUILAR GARCIA', 'CALDAS VELASQUEZ', 'SALAS NUÑEZ BORJA', 'PIZARRO VILLANES', 'QUILLATUPA MORALES', 'HUANCAYA IDONE', 'CALVO PORTOCARRERO', 'IBAÑEZ ABANTO', 'MELÉNDEZ APONTE', 'CRISTIAN SERRANO', 'HINOJOSA CAHUANA', 'ANGLAS GARCÍA', 'ALDAVE ACOSTA', 'NÚÑEZ HUAMÁN', 'OBREGON HUAMAN', 'SOTO PACHERRES', 'INGARUCA RIVERA', 'ROJAS HUAMAN', 'NEYRA SALAS', 'HUERTA ESPINOZA', 'HUANCA MARTINEZ', 'FLORES CADILLO')\n"
     ]
    }
   ],
   "source": [
    "# 7\n",
    "# map function applies a lambda function to each element of \"last_and_name\" list\n",
    "# lambda function checks if ', ' exists in the element (x). If it does, it splits the element into two parts using ('',1). If it doesn't, it returns the element itself along with an empty string\n",
    "# zip(*map) is used to transpose the mapped data in two separate lists: names and last names\n",
    "# \"*\" is used to unpack the result of \"zip\"\n",
    "last_names, names = zip(*map(lambda x: x.split(', ', 1) if ', ' in x else (x, ''), last_and_name))\n",
    "\n",
    "# finally, print the two separe lists\n",
    "print(\"Names:\", names)\n",
    "print(\"Last Names:\", last_names)"
   ]
  },
  {
   "cell_type": "code",
   "execution_count": 9,
   "metadata": {},
   "outputs": [
    {
     "name": "stdout",
     "output_type": "stream",
     "text": [
      "['HUANCAYA IDONE', 'CALVO PORTOCARRERO', 'IBAÑEZ ABANTO', 'MELÉNDEZ APONTE', 'CRISTIAN SERRANO', 'ANGLAS GARCÍA', 'ALDAVE ACOSTA', 'NÚÑEZ HUAMÁN', 'OBREGON HUAMAN', 'SOTO PACHERRES', 'INGARUCA RIVERA', 'ROJAS HUAMAN', 'NEYRA SALAS', 'HUERTA ESPINOZA', 'HUANCA MARTINEZ']\n"
     ]
    }
   ],
   "source": [
    "# 8\n",
    "# start zipping the \"last_and_name\" and emails lists together to pair each student's name with their corresponding email\n",
    "zipped_data = zip(last_and_name, emails)\n",
    "\n",
    "# filter function to select only those stundents who don't have an email. This is done by checking if the email is an empty string\n",
    "# lambda function takes one argument (x) and checks if the second element of x (i.e., x[1]) is an empty string (\"\")\n",
    "students_without_email = filter(lambda x: x[1] == \"\", zipped_data)\n",
    "\n",
    "# map function used to extract the last name from each tuple in the filtered list. Split used for split(\",\") each full name and take the first part.\n",
    "last_names_without_email = map(lambda x: x[0].split(\",\")[0], students_without_email)\n",
    "\n",
    "# convert the result to a list and print\n",
    "result = list(last_names_without_email)\n",
    "print(result)\n"
   ]
  },
  {
   "cell_type": "markdown",
   "metadata": {},
   "source": [
    "## 1.3 Strings\n",
    "\n",
    "\n",
    "1. Drop the duplicated blank spaces in `str1`. Do not use the regular expresions. Do not use the code shown in class. Explain your steps.**Hint: Use `split` method and `join` function.**\n",
    "\n",
    "2. Get the number of letters in the string .**Hint: Use `len`function.**\n",
    "\n",
    "3. Get the number of blank spaces (all of them) in the string .**Hint: Use `len`function.**\n",
    "\n",
    "4. Get the position of `@` in each string in the emails list. **Hint: Use `map`function and `find` method.**\n",
    "\n",
    "5. Identifies if exists `.edu.`  in each string in the `emails` list. Get a list of Booleans. **Hint: Use `map`function and `find` method.**\n",
    "\n",
    "6. Get all the strings before the first dot `.`in each string in the `emails` list. Identifies how many of them has `@`. **Hint: Use `map`function and `find` method.**"
   ]
  },
  {
   "cell_type": "code",
   "execution_count": 10,
   "metadata": {},
   "outputs": [],
   "source": [
    "str1 = 'I am                            too                                                        old'"
   ]
  },
  {
   "cell_type": "code",
   "execution_count": 11,
   "metadata": {},
   "outputs": [],
   "source": [
    "emails = [\"cscornejo@pucp.edu.pe\", \"orellana.cn@pucp.edu.pe\", \"karina.morales@pucp.edu.pe\", \"a20083223@pucp.pe\", \"abel.camacho@pucp.pe\", \"mtintaya@pucp.edu.pe\", \"joselin.chavez@pucp.edu.pe\", \"a20105737@pucp.pe\", \"jfgomezc@pucp.pe\", \"afrania.palomino@pucp.pe\", \"luzon.bianca@pucp.pe\", \"adrian.suanaz@pucp.pe\", \"soto.y@pucp.edu.pe\", \"a20132766@pucp.pe\", \"andre.lama@pucp.edu.pe\", \"gustavo.meza@pucp.edu.pe\", \"pmlozada@pucp.edu.pe\", \"m.zambranoj@pucp.edu.pe\", \"nicolas.jacobs@pucp.edu.pe\", \"gvidal@pucp.edu.pe\", \"jane.torres@pucp.edu.pe\", \"m.lopez@pucp.edu.pe\", \"alejandro.boyco@pucp.edu.pe\", \"a20167070@pucp.edu.pe\", \"riega.stephy@pucp.edu.pe\", \"vlevanot@pucp.edu.pe\", \"sesquives@pucp.edu.pe\", \"perez.juanc@pucp.edu.pe\", \"mariana.otero@pucp.edu.pe\", \"aclavo@pucp.edu.pe\", \"a20182474@pucp.edu.pe\", \"josue.caldas@pucp.edu.pe\", \"fabio.salas@pucp.edu.pe\", \"fernanda.pizarro@pucp.edu.pe\", \"aquillatupa@pucp.pe\"]"
   ]
  },
  {
   "cell_type": "code",
   "execution_count": 12,
   "metadata": {},
   "outputs": [
    {
     "data": {
      "text/plain": [
       "'I am too old'"
      ]
     },
     "execution_count": 12,
     "metadata": {},
     "output_type": "execute_result"
    }
   ],
   "source": [
    "# 1\n",
    "# The split method removes duplicated blank spaces. Divide the string into a list of words \n",
    "words= str1.split()\n",
    "# Use join function to join the words back together into a single string with a single space as a separator\n",
    "result= ' '.join(words)\n",
    "result"
   ]
  },
  {
   "cell_type": "code",
   "execution_count": 18,
   "metadata": {
    "scrolled": true
   },
   "outputs": [
    {
     "name": "stdout",
     "output_type": "stream",
     "text": [
      "Iamtooold\n",
      "9\n"
     ]
    }
   ],
   "source": [
    "# 2\n",
    "# Remove whitespaces from the string to count only letters. The expression \"char.isalpha()\" was use in order to filter only alphabetic characters \n",
    "letters_only = ''.join(char for char in str1 if char.isalpha())\n",
    "# Use len function to get the number of letters\n",
    "num_letters = len(letters_only)\n",
    "print(letters_only)\n",
    "print(num_letters)"
   ]
  },
  {
   "cell_type": "code",
   "execution_count": 19,
   "metadata": {},
   "outputs": [
    {
     "name": "stdout",
     "output_type": "stream",
     "text": [
      "85\n"
     ]
    }
   ],
   "source": [
    "# 3\n",
    "# The metod str1.count('') counts the space character from the string\n",
    "num_blank_spaces = str1.count(' ')\n",
    "# print the result to get the final output\n",
    "print(num_blank_spaces)"
   ]
  },
  {
   "cell_type": "code",
   "execution_count": 4,
   "metadata": {},
   "outputs": [
    {
     "name": "stdout",
     "output_type": "stream",
     "text": [
      "Positions of '@' in each email:\n",
      "Email 1: 9\n",
      "Email 2: 11\n",
      "Email 3: 14\n",
      "Email 4: 9\n",
      "Email 5: 12\n",
      "Email 6: 8\n",
      "Email 7: 14\n",
      "Email 8: 9\n",
      "Email 9: 8\n",
      "Email 10: 16\n",
      "Email 11: 12\n",
      "Email 12: 13\n",
      "Email 13: 6\n",
      "Email 14: 9\n",
      "Email 15: 10\n",
      "Email 16: 12\n",
      "Email 17: 8\n",
      "Email 18: 11\n",
      "Email 19: 14\n",
      "Email 20: 6\n",
      "Email 21: 11\n",
      "Email 22: 7\n",
      "Email 23: 15\n",
      "Email 24: 9\n",
      "Email 25: 12\n",
      "Email 26: 8\n",
      "Email 27: 9\n",
      "Email 28: 11\n",
      "Email 29: 13\n",
      "Email 30: 6\n",
      "Email 31: 9\n",
      "Email 32: 12\n",
      "Email 33: 11\n",
      "Email 34: 16\n",
      "Email 35: 11\n"
     ]
    }
   ],
   "source": [
    "#Point 4\n",
    "# Given list of emails\n",
    "emails = [\"cscornejo@pucp.edu.pe\", \"orellana.cn@pucp.edu.pe\", \"karina.morales@pucp.edu.pe\", \"a20083223@pucp.pe\", \"abel.camacho@pucp.pe\", \"mtintaya@pucp.edu.pe\", \"joselin.chavez@pucp.edu.pe\", \"a20105737@pucp.pe\", \"jfgomezc@pucp.pe\", \"afrania.palomino@pucp.pe\", \"luzon.bianca@pucp.pe\", \"adrian.suanaz@pucp.pe\", \"soto.y@pucp.edu.pe\", \"a20132766@pucp.pe\", \"andre.lama@pucp.edu.pe\", \"gustavo.meza@pucp.edu.pe\", \"pmlozada@pucp.edu.pe\", \"m.zambranoj@pucp.edu.pe\", \"nicolas.jacobs@pucp.edu.pe\", \"gvidal@pucp.edu.pe\", \"jane.torres@pucp.edu.pe\", \"m.lopez@pucp.edu.pe\", \"alejandro.boyco@pucp.edu.pe\", \"a20167070@pucp.edu.pe\", \"riega.stephy@pucp.edu.pe\", \"vlevanot@pucp.edu.pe\", \"sesquives@pucp.edu.pe\", \"perez.juanc@pucp.edu.pe\", \"mariana.otero@pucp.edu.pe\", \"aclavo@pucp.edu.pe\", \"a20182474@pucp.edu.pe\", \"josue.caldas@pucp.edu.pe\", \"fabio.salas@pucp.edu.pe\", \"fernanda.pizarro@pucp.edu.pe\", \"aquillatupa@pucp.pe\"]\n",
    "\n",
    "# Define a function to get the position of '@' in a string\n",
    "#get_at_position(email): This function uses the find method to get the position of '@' in a given email string\n",
    "def get_at_position(email):\n",
    "    return email.find('@')\n",
    "\n",
    "# Use the map function to apply the function to each email in the list\n",
    "positions = list(map(get_at_position, emails))\n",
    "\n",
    "# Print the output\n",
    "#The code then prints the positions of '@' in each email\n",
    "print(\"Positions of '@' in each email:\")\n",
    "for i, position in enumerate(positions):\n",
    "    print(f\"Email {i + 1}: {position}\")"
   ]
  },
  {
   "cell_type": "code",
   "execution_count": 5,
   "metadata": {},
   "outputs": [
    {
     "name": "stdout",
     "output_type": "stream",
     "text": [
      "List of Booleans indicating if '.edu.' exists in each email:\n",
      "Email 1: True\n",
      "Email 2: True\n",
      "Email 3: True\n",
      "Email 4: False\n",
      "Email 5: False\n",
      "Email 6: True\n",
      "Email 7: True\n",
      "Email 8: False\n",
      "Email 9: False\n",
      "Email 10: False\n",
      "Email 11: False\n",
      "Email 12: False\n",
      "Email 13: True\n",
      "Email 14: False\n",
      "Email 15: True\n",
      "Email 16: True\n",
      "Email 17: True\n",
      "Email 18: True\n",
      "Email 19: True\n",
      "Email 20: True\n",
      "Email 21: True\n",
      "Email 22: True\n",
      "Email 23: True\n",
      "Email 24: True\n",
      "Email 25: True\n",
      "Email 26: True\n",
      "Email 27: True\n",
      "Email 28: True\n",
      "Email 29: True\n",
      "Email 30: True\n",
      "Email 31: True\n",
      "Email 32: True\n",
      "Email 33: True\n",
      "Email 34: True\n",
      "Email 35: False\n"
     ]
    }
   ],
   "source": [
    "#Point 5\n",
    "# Given list of emails\n",
    "emails = [\"cscornejo@pucp.edu.pe\", \"orellana.cn@pucp.edu.pe\", \"karina.morales@pucp.edu.pe\", \"a20083223@pucp.pe\", \"abel.camacho@pucp.pe\", \"mtintaya@pucp.edu.pe\", \"joselin.chavez@pucp.edu.pe\", \"a20105737@pucp.pe\", \"jfgomezc@pucp.pe\", \"afrania.palomino@pucp.pe\", \"luzon.bianca@pucp.pe\", \"adrian.suanaz@pucp.pe\", \"soto.y@pucp.edu.pe\", \"a20132766@pucp.pe\", \"andre.lama@pucp.edu.pe\", \"gustavo.meza@pucp.edu.pe\", \"pmlozada@pucp.edu.pe\", \"m.zambranoj@pucp.edu.pe\", \"nicolas.jacobs@pucp.edu.pe\", \"gvidal@pucp.edu.pe\", \"jane.torres@pucp.edu.pe\", \"m.lopez@pucp.edu.pe\", \"alejandro.boyco@pucp.edu.pe\", \"a20167070@pucp.edu.pe\", \"riega.stephy@pucp.edu.pe\", \"vlevanot@pucp.edu.pe\", \"sesquives@pucp.edu.pe\", \"perez.juanc@pucp.edu.pe\", \"mariana.otero@pucp.edu.pe\", \"aclavo@pucp.edu.pe\", \"a20182474@pucp.edu.pe\", \"josue.caldas@pucp.edu.pe\", \"fabio.salas@pucp.edu.pe\", \"fernanda.pizarro@pucp.edu.pe\", \"aquillatupa@pucp.pe\"]\n",
    "\n",
    "# Define a function to check if \".edu.\" exists in a string\n",
    "#contains_edu(email): This function checks if \".edu.\" exists in a given email string\n",
    "def contains_edu(email):\n",
    "    return \".edu.\" in email\n",
    "\n",
    "# Use the map function to apply the function to each email in the list\n",
    "#The map function applies the contains_edu function to each email in the emails list, creating a list of Booleans\n",
    "edu_check_list = list(map(contains_edu, emails))\n",
    "\n",
    "#The code then prints the Booleans indicating whether \".edu.\" exists in each email\n",
    "# Print the output\n",
    "print(\"List of Booleans indicating if '.edu.' exists in each email:\")\n",
    "for i, is_edu in enumerate(edu_check_list):\n",
    "    print(f\"Email {i + 1}: {is_edu}\")"
   ]
  },
  {
   "cell_type": "code",
   "execution_count": 6,
   "metadata": {},
   "outputs": [
    {
     "name": "stdout",
     "output_type": "stream",
     "text": [
      "List of Booleans indicating if the substring before the first dot contains '@':\n",
      "Email 1: True\n",
      "Email 2: False\n",
      "Email 3: False\n",
      "Email 4: True\n",
      "Email 5: False\n",
      "Email 6: True\n",
      "Email 7: False\n",
      "Email 8: True\n",
      "Email 9: True\n",
      "Email 10: False\n",
      "Email 11: False\n",
      "Email 12: False\n",
      "Email 13: False\n",
      "Email 14: True\n",
      "Email 15: False\n",
      "Email 16: False\n",
      "Email 17: True\n",
      "Email 18: False\n",
      "Email 19: False\n",
      "Email 20: True\n",
      "Email 21: False\n",
      "Email 22: False\n",
      "Email 23: False\n",
      "Email 24: True\n",
      "Email 25: False\n",
      "Email 26: True\n",
      "Email 27: True\n",
      "Email 28: False\n",
      "Email 29: False\n",
      "Email 30: True\n",
      "Email 31: True\n",
      "Email 32: False\n",
      "Email 33: False\n",
      "Email 34: False\n",
      "Email 35: True\n",
      "\n",
      "Number of substrings before the first dot that contain '@': 14\n"
     ]
    }
   ],
   "source": [
    "#Point 6\n",
    "# Given list of emails\n",
    "emails = [\"cscornejo@pucp.edu.pe\", \"orellana.cn@pucp.edu.pe\", \"karina.morales@pucp.edu.pe\", \"a20083223@pucp.pe\", \"abel.camacho@pucp.pe\", \"mtintaya@pucp.edu.pe\", \"joselin.chavez@pucp.edu.pe\", \"a20105737@pucp.pe\", \"jfgomezc@pucp.pe\", \"afrania.palomino@pucp.pe\", \"luzon.bianca@pucp.pe\", \"adrian.suanaz@pucp.pe\", \"soto.y@pucp.edu.pe\", \"a20132766@pucp.pe\", \"andre.lama@pucp.edu.pe\", \"gustavo.meza@pucp.edu.pe\", \"pmlozada@pucp.edu.pe\", \"m.zambranoj@pucp.edu.pe\", \"nicolas.jacobs@pucp.edu.pe\", \"gvidal@pucp.edu.pe\", \"jane.torres@pucp.edu.pe\", \"m.lopez@pucp.edu.pe\", \"alejandro.boyco@pucp.edu.pe\", \"a20167070@pucp.edu.pe\", \"riega.stephy@pucp.edu.pe\", \"vlevanot@pucp.edu.pe\", \"sesquives@pucp.edu.pe\", \"perez.juanc@pucp.edu.pe\", \"mariana.otero@pucp.edu.pe\", \"aclavo@pucp.edu.pe\", \"a20182474@pucp.edu.pe\", \"josue.caldas@pucp.edu.pe\", \"fabio.salas@pucp.edu.pe\", \"fernanda.pizarro@pucp.edu.pe\", \"aquillatupa@pucp.pe\"]\n",
    "\n",
    "# Define a function to get the substring before the first dot and check if it contains '@'\n",
    "#substring_before_dot(email): This function finds the position of the first dot, extracts the substring before it, and checks if '@' is present in that substring\n",
    "def substring_before_dot(email):\n",
    "    # Find the position of the first dot\n",
    "    dot_position = email.find('.')\n",
    "    \n",
    "    # Extract the substring before the first dot\n",
    "    substring = email[:dot_position]\n",
    "    \n",
    "    # Check if '@' is present in the substring\n",
    "    has_at = '@' in substring\n",
    "    \n",
    "    return has_at\n",
    "\n",
    "# Use the map function to apply the function to each email in the list\n",
    "substring_check_list = list(map(substring_before_dot, emails))\n",
    "\n",
    "# Count how many of them have '@'\n",
    "count_with_at = sum(substring_check_list)\n",
    "\n",
    "# Print the output\n",
    "print(\"List of Booleans indicating if the substring before the first dot contains '@':\")\n",
    "for i, has_at in enumerate(substring_check_list):\n",
    "    print(f\"Email {i + 1}: {has_at}\")\n",
    "\n",
    "print(f\"\\nNumber of substrings before the first dot that contain '@': {count_with_at}\")\n"
   ]
  },
  {
   "cell_type": "code",
   "execution_count": null,
   "metadata": {},
   "outputs": [],
   "source": []
  }
 ],
 "metadata": {
  "hide_input": false,
  "kernelspec": {
   "display_name": "Python 3 (ipykernel)",
   "language": "python",
   "name": "python3"
  },
  "language_info": {
   "codemirror_mode": {
    "name": "ipython",
    "version": 3
   },
   "file_extension": ".py",
   "mimetype": "text/x-python",
   "name": "python",
   "nbconvert_exporter": "python",
   "pygments_lexer": "ipython3",
   "version": "3.11.5"
  },
  "toc": {
   "base_numbering": 1,
   "nav_menu": {},
   "number_sections": true,
   "sideBar": true,
   "skip_h1_title": false,
   "title_cell": "Table of Contents",
   "title_sidebar": "Contents",
   "toc_cell": false,
   "toc_position": {},
   "toc_section_display": true,
   "toc_window_display": false
  }
 },
 "nbformat": 4,
 "nbformat_minor": 4
}
