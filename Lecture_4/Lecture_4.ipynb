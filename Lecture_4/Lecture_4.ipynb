{
 "cells": [
  {
   "cell_type": "code",
   "execution_count": null,
   "metadata": {
    "hide_input": true
   },
   "outputs": [],
   "source": [
    "import numpy as np\n",
    "import pandas as pd"
   ]
  },
  {
   "cell_type": "markdown",
   "metadata": {},
   "source": [
    "# 4. If and Loops"
   ]
  },
  {
   "cell_type": "markdown",
   "metadata": {},
   "source": [
    "- <a href='#def'>4.1. If condition</a>\n",
    "     - <a href='#4.1.1.'>4.1.1. The structure of the code </a> \n",
    "     - <a href='#4.1.2.'>4.1.2. If condition with more than 1 expression </a> \n",
    "     - <a href='#4.1.3.'>4.1.3. Logical Operators </a> \n",
    "     - <a href='#4.1.4.'>4.1.4. Python Identity Operators </a> \n",
    "     - <a href='#4.1.5.'>4.1.5. Final IF condition structure </a>\n",
    "     - <a href='#4.1.6.'>4.1.6. Python Nested if Statement </a> \n",
    "- <a href='#4.2.'>4.2. For Loops </a> \n",
    "     - <a href='#4.2.1.'>4.2.1. In numpy </a> \n",
    "     - <a href='#4.2.2.'> 4.2.2. In List </a> \n",
    "     - <a href='#4.2.3.'> 4.2.3. In Dictionary </a> \n",
    "     - <a href='#4.2.4.'> 4.2.4. For loop using range</a>\n",
    "     - <a href='#4.2.5.'> 4.2.5. Nested For Loop</a>\n",
    "     - <a href='#4.2.6.'> 4.2.6. Iterations over Pandas</a>\n",
    "- <a href='#4.3.'> 4.3. Pass, Continue, Break, Try</a>\n",
    "     - <a href='#4.3.1.'>4.3.1. Pass</a>\n",
    "     - <a href='#4.3.2.'>4.3.2. Continue</a>\n",
    "     - <a href='#4.3.3.'>4.3.3. Break</a>\n",
    "     - <a href='#4.3.4.'>4.3.4. Try </a>\n",
    "     \n",
    "- <a href='#4.4.'>4.4. While Loop </a>\n",
    "     - <a href='#4.4.1.'>4.4.1. Structure </a>\n",
    "- <a href='#4.5.'>4.5. References </a>  "
   ]
  },
  {
   "cell_type": "markdown",
   "metadata": {},
   "source": [
    "## 4.1. <a id='def'> If condition </a>\n",
    "\n",
    "Function **if** test conditions. \n",
    "- Equals: a == b\n",
    "- Not Equals: a != b\n",
    "- Less than: a < b\n",
    "- Less than or equal to: a <= b\n",
    "- Greater than: a > b\n",
    "- Greater than or equal to: a >= b\n",
    "\n",
    "<img src=\"../_images/if-statement.jpg\" alt=\"image info\" />"
   ]
  },
  {
   "cell_type": "markdown",
   "metadata": {},
   "source": [
    "## 4.1.1.  <a id='4.1.1.'> The structure of the code </a> <br>\n",
    "\n",
    "<font size=\"4\">\n",
    "if <font color='green'>test expresion</font>:<br>\n",
    "&nbsp;&nbsp;&nbsp;&nbsp;Code to excute<br>\n",
    "</font>\n",
    "\n",
    "The function **if** tests the veracity of a logic expression. The result of test statement should be a **<font color='red'>boolean</font>**. In other words, the output of the test statemen must be **<font color='red'>True</font>** or **<font color='red'>False</font>**. To sum, any function that its output is **boolean** can be used as a test expression in the **if** function. "
   ]
  },
  {
   "cell_type": "markdown",
   "metadata": {},
   "source": [
    "#### Examples"
   ]
  },
  {
   "cell_type": "code",
   "execution_count": null,
   "metadata": {},
   "outputs": [],
   "source": [
    "A = 30\n",
    "B = 20\n",
    "result = A > B\n",
    "result"
   ]
  },
  {
   "cell_type": "code",
   "execution_count": null,
   "metadata": {},
   "outputs": [],
   "source": [
    "A = 20\n",
    "B = 30"
   ]
  },
  {
   "cell_type": "code",
   "execution_count": null,
   "metadata": {},
   "outputs": [],
   "source": [
    "A == B "
   ]
  },
  {
   "cell_type": "code",
   "execution_count": null,
   "metadata": {},
   "outputs": [],
   "source": [
    "result = A == B\n",
    "print( f' Is A greater than B? \\t{result}') # f'' help us to use numeric variables in strings"
   ]
  },
  {
   "cell_type": "code",
   "execution_count": null,
   "metadata": {},
   "outputs": [],
   "source": [
    "jose = 2017\n",
    "bianca = 2018"
   ]
  },
  {
   "cell_type": "code",
   "execution_count": null,
   "metadata": {},
   "outputs": [],
   "source": [
    "jose == bianca"
   ]
  },
  {
   "cell_type": "code",
   "execution_count": null,
   "metadata": {},
   "outputs": [],
   "source": [
    "if jose != bianca:\n",
    "    print(\"jose is not equal to bianca\")"
   ]
  },
  {
   "cell_type": "code",
   "execution_count": null,
   "metadata": {},
   "outputs": [],
   "source": [
    "A = 20\n",
    "B = 30\n",
    "\n",
    "if A > B:\n",
    "    \n",
    "    print( 'A is greater than B' )\n",
    "\n",
    "elif A == B:\n",
    "    \n",
    "    print( 'A is equal to B' )\n",
    "    \n",
    "\n",
    "else:\n",
    "    print('No condition was met.')\n",
    "    "
   ]
  },
  {
   "cell_type": "code",
   "execution_count": null,
   "metadata": {},
   "outputs": [],
   "source": [
    "A = 2012\n",
    "B = 2015\n",
    "\n",
    "result = A == B\n",
    "print( f'result A == B \\t{result} \\n')\n",
    "\n",
    "result = A != B\n",
    "print(f'result A != B \\t  {result} \\n' )\n",
    "\n",
    "result = A > B\n",
    "print(f'result A > B \\t {result} \\n')"
   ]
  },
  {
   "cell_type": "markdown",
   "metadata": {},
   "source": [
    "### 4.1.2.   <a id='4.1.2.'> If condition with more than 1 expression </a> \n",
    "\n",
    "We will use **elif**. This function allows us to add more test expressions.  <br><br>\n",
    "\n",
    "\n",
    "\n",
    "<font size=\"4\">\n",
    "if <font color='green'>test expresion1</font>: <br>\n",
    "&nbsp;&nbsp;&nbsp;&nbsp;Code1<br><br>\n",
    "elif <font color='green'>test expresion2</font>:<br>\n",
    "&nbsp;&nbsp;&nbsp;&nbsp;Code2<br><br>\n",
    "elif <font color='green'>test expresion3</font>:<br>\n",
    "&nbsp;&nbsp;&nbsp;&nbsp;Code3<br><br>\n",
    "elif <font color='green'>test expresion4</font>:<br>\n",
    "&nbsp;&nbsp;&nbsp;&nbsp;Code4<br><br>\n",
    "elif <font color='green'>test expresion5</font>:<br>\n",
    "&nbsp;&nbsp;&nbsp;&nbsp;Code5<br><br>\n",
    "else :<br>\n",
    "&nbsp;&nbsp;&nbsp;&nbsp;Code6<br><br>\n",
    "</font>\n",
    "\n",
    "Python will read the conditions of the test in order. \n",
    "If **Test expression 1** is `True`, the rest of the test expressions will not be evaluated. \n",
    "R execute **Code2** and will not test the next conditions. <br>\n",
    "\n",
    "In case no Test expression is `True`, the **Code6** will be excuted."
   ]
  },
  {
   "cell_type": "markdown",
   "metadata": {},
   "source": [
    "#### Examples"
   ]
  },
  {
   "cell_type": "code",
   "execution_count": null,
   "metadata": {},
   "outputs": [],
   "source": [
    "A = 20\n",
    "B = 30\n",
    "\n",
    "if A == B:\n",
    "    print( 'Test expresion 1 is True' )\n",
    "\n",
    "elif A > B:\n",
    "    print( 'Test expresion 2 is True' )\n",
    "\n",
    "elif A >= B:\n",
    "    print( 'Test expresion 3 is True' )\n",
    "    \n",
    "elif A < B:\n",
    "    print( 'Test expresion 4 is True' )\n",
    "\n",
    "elif A <= B:\n",
    "    print( 'Test expresion 5 is True' )\n",
    "    \n",
    "else:\n",
    "    print( 'Test expresion 6 is True- \"A<=B\"' )"
   ]
  },
  {
   "cell_type": "code",
   "execution_count": null,
   "metadata": {},
   "outputs": [],
   "source": [
    "# A = 20\n",
    "# B = 30\n",
    "\n",
    "if A == B:\n",
    "     print ('A is the same as B. Condition 1 is true.')\n",
    "    \n",
    "elif A > B:\n",
    "     print ('A is greater than B. Condition 2 is true.')\n",
    "\n",
    "elif A >= B:\n",
    "     print ('A is greater than or equal to B. Condition 3 is true.')\n",
    "    \n",
    "elif A < B:\n",
    "     print ('A is less than B. Condition 4 is true.')\n",
    "    \n",
    "elif A <= B:\n",
    "     print ('A is less than or equal to B. Condition 5 is true.')\n",
    "    \n",
    "else:\n",
    "     print ('When neither condition is true, this phrase is printed.')"
   ]
  },
  {
   "cell_type": "markdown",
   "metadata": {},
   "source": [
    "### 4.1.3.   <a id='4.1.3.'> [Logical Operators](https://www.geeksforgeeks.org/python-logical-operators-with-examples-improvement-needed/) </a> \n",
    "\n",
    "\n",
    "Three key logical operators: **<font color = 'red' >and</font>**, **<font color = 'red' > or</font>**, and **<font color = 'red' > not</font>**."
   ]
  },
  {
   "cell_type": "code",
   "execution_count": null,
   "metadata": {},
   "outputs": [],
   "source": [
    "A = 20\n",
    "B = 30\n",
    "C = 25\n",
    "\n",
    "if ( A == B ) and ( A < C ):\n",
    "     print ('A is equal to B and less than C. Condition 1 is true.')\n",
    "    \n",
    "elif ( A > B ) or ( A > C ):\n",
    "     print ('A is greater than B or greater than C. Condition 2 is true.')\n",
    "\n",
    "elif ( B > C ) and ( B > A ):\n",
    "     print ('B is greater than C and greater than A. Condition 3 is true.')\n",
    "    \n",
    "else:\n",
    "     print ('When neither condition is true, this phrase is printed.')"
   ]
  },
  {
   "cell_type": "code",
   "execution_count": null,
   "metadata": {},
   "outputs": [],
   "source": [
    "True, 30, \"String\""
   ]
  },
  {
   "cell_type": "code",
   "execution_count": null,
   "metadata": {},
   "outputs": [],
   "source": [
    "def power(a, b, c, d):\n",
    "    n = a*b*c*d\n",
    "    return n"
   ]
  },
  {
   "cell_type": "code",
   "execution_count": null,
   "metadata": {},
   "outputs": [],
   "source": [
    "a = 10\n",
    "b = 15\n",
    "c = 20\n",
    "d = 25\n"
   ]
  },
  {
   "cell_type": "code",
   "execution_count": null,
   "metadata": {},
   "outputs": [],
   "source": [
    "# A = 20\n",
    "# B = 30\n",
    "# C = 25\n",
    "\n",
    "if not (B> 30):\n",
    "     print ('B is not equal to 30. Condition 1 is true.')\n",
    "        \n",
    "else:\n",
    "     print ('When neither condition is true, this phrase is printed.')"
   ]
  },
  {
   "cell_type": "markdown",
   "metadata": {},
   "source": [
    "### 4.1.4.   <a id='4.1.4.'> [Python Identity Operators](https://www.w3schools.com/python/gloss_python_identity_operators.asp) </a> \n",
    "\n",
    "These operators help us to compare whether variables refer to the same object.\n",
    "We have **<font color = 'red' >is</font>**, and **<font color = 'red' > is not</font>** as identity operators."
   ]
  },
  {
   "cell_type": "code",
   "execution_count": null,
   "metadata": {},
   "outputs": [],
   "source": [
    "C = None\n",
    "C"
   ]
  },
  {
   "cell_type": "code",
   "execution_count": null,
   "metadata": {},
   "outputs": [],
   "source": [
    "if C is None:\n",
    "    print( 'Ohh C is None :(')"
   ]
  },
  {
   "cell_type": "code",
   "execution_count": null,
   "metadata": {},
   "outputs": [],
   "source": [
    "import numpy as np"
   ]
  },
  {
   "cell_type": "code",
   "execution_count": null,
   "metadata": {},
   "outputs": [],
   "source": [
    "if C == np.nan:\n",
    "    print(\"C is empty.\")"
   ]
  },
  {
   "cell_type": "code",
   "execution_count": null,
   "metadata": {},
   "outputs": [],
   "source": [
    "if C is float:\n",
    "    print( 'C is not a float')\n",
    "    \n",
    "else:\n",
    "    print(\"No, it is not a float.\")"
   ]
  },
  {
   "cell_type": "markdown",
   "metadata": {},
   "source": [
    "#### Difference between **<font color = 'red' > ==</font>** and **<font color = 'red' > is</font>** operator in Python\n",
    "\n",
    "1. **<font color = 'red' > ==</font>** operator compares the values of both the operands and checks for value equality.\n",
    "2. **<font color = 'red' > is</font>** operator checks whether both the operands refer to the same object or not (present in the same memory location)."
   ]
  },
  {
   "cell_type": "code",
   "execution_count": null,
   "metadata": {},
   "outputs": [],
   "source": [
    "a = 5\n",
    "b = 5"
   ]
  },
  {
   "cell_type": "code",
   "execution_count": null,
   "metadata": {},
   "outputs": [],
   "source": [
    "a is b"
   ]
  },
  {
   "cell_type": "code",
   "execution_count": null,
   "metadata": {},
   "outputs": [],
   "source": [
    "a = np.arange(0, 4)\n",
    "b = np.array( [0, 1 , 2 , 3 ] )"
   ]
  },
  {
   "cell_type": "code",
   "execution_count": null,
   "metadata": {},
   "outputs": [],
   "source": [
    "a"
   ]
  },
  {
   "cell_type": "code",
   "execution_count": null,
   "metadata": {},
   "outputs": [],
   "source": [
    "b"
   ]
  },
  {
   "cell_type": "code",
   "execution_count": null,
   "metadata": {
    "scrolled": true
   },
   "outputs": [],
   "source": [
    "a == b    "
   ]
  },
  {
   "cell_type": "code",
   "execution_count": null,
   "metadata": {},
   "outputs": [],
   "source": [
    "a"
   ]
  },
  {
   "cell_type": "code",
   "execution_count": null,
   "metadata": {},
   "outputs": [],
   "source": [
    "b"
   ]
  },
  {
   "cell_type": "code",
   "execution_count": null,
   "metadata": {},
   "outputs": [],
   "source": [
    "a is b"
   ]
  },
  {
   "cell_type": "markdown",
   "metadata": {},
   "source": [
    "### 4.1.5.   <a id='4.1.5.'> Final IF condition structure </a> \n"
   ]
  },
  {
   "cell_type": "markdown",
   "metadata": {},
   "source": [
    "The strict way to run the if conditions is as follows: <br>\n",
    "\n",
    "<font size = \"4\">\n",
    "\n",
    "\n",
    "if <font color = 'green'> condition1 </font>: <font color = 'red'> (Required) </font> <br>\n",
    "&nbsp; &nbsp; &nbsp; &nbsp; &nbsp; &nbsp; code1 <br> <br>\n",
    "elif <font color = 'green'> condition2 </font>:**(Optional)**<br>\n",
    "&nbsp; &nbsp; &nbsp; &nbsp; &nbsp; &nbsp; code2 <br> <br>\n",
    "elif <font color = 'green'> condition3 </font>:**(Optional)**<br>\n",
    "&nbsp; &nbsp; &nbsp; &nbsp; &nbsp; &nbsp; code3 <br> <br>\n",
    "elif <font color = 'green'> condition4 </font>:**(Optional)**<br>\n",
    "&nbsp; &nbsp; &nbsp; &nbsp; &nbsp; &nbsp; code4 <br> <br>\n",
    "else: <font color = 'red'> (Required) </font> <br>\n",
    "&nbsp; &nbsp; &nbsp; &nbsp; &nbsp; &nbsp; code5 <br>\n",
    "<br>\n",
    "</font>"
   ]
  },
  {
   "cell_type": "markdown",
   "metadata": {},
   "source": [
    "### 4.1.6.   <a id='4.1.6.'> Python Nested if Statement </a> "
   ]
  },
  {
   "cell_type": "code",
   "execution_count": null,
   "metadata": {},
   "outputs": [],
   "source": [
    "total = 120\n",
    "country = \"AR\"\n",
    "#country = \"AR\"\n",
    "\n",
    "if country == \"PE\":\n",
    "    if total <= 50:\n",
    "        print(\"Shipping Cost is  $50\")\n",
    "    elif total <= 100:\n",
    "        print(\"Shipping Cost is $25\")\n",
    "    elif total <= 150:\n",
    "        print(\"Shipping Costs $5\")\n",
    "    else:\n",
    "        print(\"FREE\")\n",
    "    \n",
    "if country == \"AR\": \n",
    "    if total <= 50:\n",
    "        print(\"Shipping Cost is  $100\")\n",
    "\n",
    "    else:\n",
    "        print(\"FREE\")"
   ]
  },
  {
   "cell_type": "markdown",
   "metadata": {},
   "source": [
    "The **if** function is not only useful with logical expressions, but also with functions whose result is a **<font color = 'red' > Boolean </font>** (**True** or **False**).<br>\n",
    "For example, the **isinstance** function evaluates whether a variable is string, bool, int, float and returns a Boolean (True or False) as a result. For more information [here](https://docs.python.org/3/library/functions.html#isinstance). <br>"
   ]
  },
  {
   "cell_type": "code",
   "execution_count": null,
   "metadata": {
    "scrolled": true
   },
   "outputs": [],
   "source": [
    "# The result of isinstance is a Boolean. Then it can be used as a condition in the if function.\n",
    "isinstance (A, str)"
   ]
  },
  {
   "cell_type": "code",
   "execution_count": null,
   "metadata": {},
   "outputs": [],
   "source": [
    "A = np.array([3, 4, 5])\n",
    "type(A)"
   ]
  },
  {
   "cell_type": "code",
   "execution_count": null,
   "metadata": {},
   "outputs": [],
   "source": [
    "#A = [15, \"Meir\", True]\n",
    "A = np.array([3, 4, 5])\n",
    "\n",
    "if isinstance( A, str ):\n",
    "    print( 'A is a string' )\n",
    "\n",
    "elif isinstance( A, bool ):\n",
    "    print( 'A is a boolean' )\n",
    "\n",
    "elif isinstance( A, float ):\n",
    "    print( 'A is a float' )\n",
    "\n",
    "elif isinstance( A, int ):\n",
    "    print( 'A is an integer' )\n",
    "\n",
    "elif isinstance( A, complex ):\n",
    "    print( 'A is a complex' )\n",
    "\n",
    "elif isinstance(A, list):\n",
    "    print( 'A is a List' )\n",
    "\n",
    "elif isinstance(A, dict):\n",
    "    print( 'A is a Dictionary' )\n",
    "\n",
    "else:\n",
    "    print( 'A is another type of variable')"
   ]
  },
  {
   "cell_type": "markdown",
   "metadata": {},
   "source": [
    "## 4.2.   <a id='4.2.'> For Loops </a> \n",
    "\n",
    "\n",
    "A for loop is used for iterating over a sequence. It executes a code a definite number of times. It has the following structure:\n",
    "\n",
    "<img src=\"../_images/for_loop.jpg\" alt=\"image info\" />\n",
    "\n"
   ]
  },
  {
   "cell_type": "markdown",
   "metadata": {},
   "source": [
    "### 4.2.1. <a id='4.2.1.'> In numpy </a> "
   ]
  },
  {
   "cell_type": "code",
   "execution_count": null,
   "metadata": {},
   "outputs": [],
   "source": [
    "import numpy as np"
   ]
  },
  {
   "cell_type": "code",
   "execution_count": null,
   "metadata": {},
   "outputs": [],
   "source": [
    "sequence = np.array( [15, 20, 25, 30 , 35 , 40 , 50 ] )\n",
    "sequence"
   ]
  },
  {
   "cell_type": "code",
   "execution_count": null,
   "metadata": {},
   "outputs": [],
   "source": [
    "idx = \n",
    "\n",
    "number = sequence[idx]\n",
    "print(number)\n",
    "\n",
    "square = number ** 2\n",
    "square\n",
    "\n",
    "if idx == 6:\n",
    "    print(square)\n",
    "    print('ultimo')"
   ]
  },
  {
   "cell_type": "code",
   "execution_count": null,
   "metadata": {},
   "outputs": [],
   "source": [
    "sequence"
   ]
  },
  {
   "cell_type": "code",
   "execution_count": null,
   "metadata": {},
   "outputs": [],
   "source": [
    "sequence_squared = []\n",
    "for number in sequence:\n",
    "    \n",
    "    print(number)\n",
    "    square = number**2\n",
    "    print(square, \"\\n\")\n",
    "    \n",
    "    sequence_squared.append( square )"
   ]
  },
  {
   "cell_type": "code",
   "execution_count": null,
   "metadata": {},
   "outputs": [],
   "source": [
    "sequence_squared"
   ]
  },
  {
   "cell_type": "code",
   "execution_count": null,
   "metadata": {},
   "outputs": [],
   "source": [
    "idx = 0\n",
    "for element in sequence:\n",
    "    print( element )\n",
    "    \n",
    "    print(idx, \"\\n\")\n",
    "    idx = idx + 1\n",
    "    "
   ]
  },
  {
   "cell_type": "markdown",
   "metadata": {},
   "source": [
    "### 4.2.2 <a id='4.2.2.'> In List </a> "
   ]
  },
  {
   "cell_type": "code",
   "execution_count": null,
   "metadata": {},
   "outputs": [],
   "source": [
    "birthday = [29, 15, 24, 12]"
   ]
  },
  {
   "cell_type": "code",
   "execution_count": null,
   "metadata": {},
   "outputs": [],
   "source": [
    "for day in birthday:\n",
    "    \n",
    "    print(day)\n",
    "    result = (day**2) / 20\n",
    "    print(result, '\\n')\n",
    "    \n",
    "    "
   ]
  },
  {
   "cell_type": "code",
   "execution_count": null,
   "metadata": {},
   "outputs": [],
   "source": [
    "cols = ['v001', 'v003', 'v004']\n",
    "new_cols = []\n",
    "for col in cols:\n",
    "    \n",
    "    print(col.upper())\n",
    "    upper_col = col.upper()\n",
    "    \n",
    "    new_cols.append(upper_col)"
   ]
  },
  {
   "cell_type": "code",
   "execution_count": null,
   "metadata": {},
   "outputs": [],
   "source": [
    "new_cols"
   ]
  },
  {
   "cell_type": "code",
   "execution_count": null,
   "metadata": {},
   "outputs": [],
   "source": [
    "classes_age = [ [11, 12, 11] , [15, 16, 16] , [17, 17, 18]]\n",
    "class_age_avg = []\n",
    "\n",
    "for ages_class in classes_age:\n",
    "    \n",
    "    age_avg = np.array(ages_class).mean()\n",
    "    class_age_avg.append( age_avg )"
   ]
  },
  {
   "cell_type": "code",
   "execution_count": null,
   "metadata": {},
   "outputs": [],
   "source": [
    "class_age_avg"
   ]
  },
  {
   "cell_type": "code",
   "execution_count": null,
   "metadata": {},
   "outputs": [],
   "source": [
    "classes_age = [ [11, 12, 11] , [15, 16, 16] , [17, 17, 18]]\n",
    "\n",
    "for ages_class in classes_age:\n",
    "    \n",
    "    mean_age = np.array(ages_class).mean()\n",
    "    print(mean_age)"
   ]
  },
  {
   "cell_type": "code",
   "execution_count": null,
   "metadata": {},
   "outputs": [],
   "source": [
    "ages = [ 21, 23, 25, 24, 20]\n",
    "\n",
    "for age in ages:\n",
    "    print( type(age) )"
   ]
  },
  {
   "cell_type": "markdown",
   "metadata": {},
   "source": [
    "### 4.2.3  <a id='4.2.3.'>In Dictionary </a> "
   ]
  },
  {
   "cell_type": "code",
   "execution_count": null,
   "metadata": {},
   "outputs": [],
   "source": [
    "class_1 = { \"students\" : ['Miguel', 'Anthony', 'Paul', 'Rodrigo', 'Jason'] , \n",
    "           \"age\" : [20, 18, 15, 20, 22] }"
   ]
  },
  {
   "cell_type": "code",
   "execution_count": null,
   "metadata": {},
   "outputs": [],
   "source": [
    "class_1.keys()"
   ]
  },
  {
   "cell_type": "code",
   "execution_count": null,
   "metadata": {},
   "outputs": [],
   "source": [
    "for key in class_1.keys():\n",
    "\n",
    "    print(class_1[key])\n"
   ]
  },
  {
   "cell_type": "code",
   "execution_count": null,
   "metadata": {},
   "outputs": [],
   "source": [
    "type(class_1.keys())"
   ]
  },
  {
   "cell_type": "code",
   "execution_count": null,
   "metadata": {},
   "outputs": [],
   "source": [
    "# Step 1\n",
    "class_1[\"students\"]"
   ]
  },
  {
   "cell_type": "code",
   "execution_count": null,
   "metadata": {},
   "outputs": [],
   "source": [
    "# Step 2\n",
    "class_1[\"age\"]"
   ]
  },
  {
   "cell_type": "code",
   "execution_count": null,
   "metadata": {},
   "outputs": [],
   "source": [
    "class_1_list = ['students', 'age']"
   ]
  },
  {
   "cell_type": "code",
   "execution_count": null,
   "metadata": {},
   "outputs": [],
   "source": [
    "class_1[\"age\"]"
   ]
  },
  {
   "cell_type": "code",
   "execution_count": null,
   "metadata": {},
   "outputs": [],
   "source": [
    " for val in class_1[\"age\"]:\n",
    "         print (val)"
   ]
  },
  {
   "cell_type": "code",
   "execution_count": null,
   "metadata": {},
   "outputs": [],
   "source": [
    "for key in class_1.keys():\n",
    "    \n",
    "    print(key)\n",
    "    values_key = class_1[key]\n",
    "    for val in values_key:\n",
    "         print (val)\n",
    "    \n",
    "    print(\"\\n\")"
   ]
  },
  {
   "cell_type": "code",
   "execution_count": null,
   "metadata": {},
   "outputs": [],
   "source": []
  },
  {
   "cell_type": "code",
   "execution_count": null,
   "metadata": {},
   "outputs": [],
   "source": []
  },
  {
   "cell_type": "code",
   "execution_count": null,
   "metadata": {},
   "outputs": [],
   "source": [
    "for key in class_1.keys():\n",
    "    print(key)"
   ]
  },
  {
   "cell_type": "code",
   "execution_count": null,
   "metadata": {},
   "outputs": [],
   "source": []
  },
  {
   "cell_type": "code",
   "execution_count": null,
   "metadata": {},
   "outputs": [],
   "source": [
    " class_1.keys()"
   ]
  },
  {
   "cell_type": "code",
   "execution_count": null,
   "metadata": {},
   "outputs": [],
   "source": [
    "for key in class_1.keys():\n",
    "    print(key)"
   ]
  },
  {
   "cell_type": "code",
   "execution_count": null,
   "metadata": {},
   "outputs": [],
   "source": [
    "for val in class_1[\"students\"]:\n",
    "         print (val)"
   ]
  },
  {
   "cell_type": "code",
   "execution_count": null,
   "metadata": {},
   "outputs": [],
   "source": [
    "for val in class_1[\"age\"]:\n",
    "         print (val)"
   ]
  },
  {
   "cell_type": "markdown",
   "metadata": {},
   "source": [
    "1. class_1[\"students\"], iteration over each value\n",
    "2. class_1[\"age\"], iteration over each value"
   ]
  },
  {
   "cell_type": "code",
   "execution_count": null,
   "metadata": {},
   "outputs": [],
   "source": [
    "class_1.keys()"
   ]
  },
  {
   "cell_type": "code",
   "execution_count": null,
   "metadata": {},
   "outputs": [],
   "source": [
    "class_1[\"age\"]"
   ]
  },
  {
   "cell_type": "code",
   "execution_count": null,
   "metadata": {},
   "outputs": [],
   "source": [
    "for key in class_1.keys():\n",
    "    for val in class_1[key]:\n",
    "         print (val)"
   ]
  },
  {
   "cell_type": "code",
   "execution_count": null,
   "metadata": {},
   "outputs": [],
   "source": [
    "for key in class_1.keys():\n",
    "    print(key)"
   ]
  },
  {
   "cell_type": "code",
   "execution_count": null,
   "metadata": {},
   "outputs": [],
   "source": [
    "class_1.values()"
   ]
  },
  {
   "cell_type": "code",
   "execution_count": null,
   "metadata": {},
   "outputs": [],
   "source": [
    "for val in class_1.values():\n",
    "    print( val )"
   ]
  },
  {
   "cell_type": "code",
   "execution_count": null,
   "metadata": {},
   "outputs": [],
   "source": [
    "class_1.values()"
   ]
  },
  {
   "cell_type": "code",
   "execution_count": null,
   "metadata": {},
   "outputs": [],
   "source": [
    "class_1.items()"
   ]
  },
  {
   "cell_type": "code",
   "execution_count": null,
   "metadata": {},
   "outputs": [],
   "source": [
    "class_1"
   ]
  },
  {
   "cell_type": "code",
   "execution_count": null,
   "metadata": {},
   "outputs": [],
   "source": [
    "students!!!\n",
    "20**20"
   ]
  },
  {
   "cell_type": "code",
   "execution_count": null,
   "metadata": {},
   "outputs": [],
   "source": [
    "for key, val in class_1.items():\n",
    "    for element in key[1]:\n",
    "        print(element + \"!!!\")"
   ]
  },
  {
   "cell_type": "code",
   "execution_count": null,
   "metadata": {},
   "outputs": [],
   "source": [
    "for key, val in class_1.items():\n",
    "    print(key + \"!!!\")\n",
    "    if isinstance\n",
    "    print(val)"
   ]
  },
  {
   "cell_type": "code",
   "execution_count": null,
   "metadata": {},
   "outputs": [],
   "source": [
    "class_1.items()"
   ]
  },
  {
   "cell_type": "code",
   "execution_count": null,
   "metadata": {},
   "outputs": [],
   "source": [
    "for key, val in class_1.items():\n",
    "    key_mod = key + \"!!!\"\n",
    "    #print(val)\n",
    "    val_mod = val**2\n",
    "    print(key_mod, val_mod)"
   ]
  },
  {
   "cell_type": "code",
   "execution_count": null,
   "metadata": {},
   "outputs": [],
   "source": [
    "for key, val in class_1.items():\n",
    "    print( key, val )"
   ]
  },
  {
   "cell_type": "code",
   "execution_count": null,
   "metadata": {},
   "outputs": [],
   "source": [
    "for key in class_1.keys():\n",
    "    for val in class_1[key]:\n",
    "         print (val)"
   ]
  },
  {
   "cell_type": "code",
   "execution_count": null,
   "metadata": {
    "scrolled": true
   },
   "outputs": [],
   "source": [
    "for key, val in class_1.items():\n",
    "    print( key, val )"
   ]
  },
  {
   "cell_type": "code",
   "execution_count": null,
   "metadata": {},
   "outputs": [],
   "source": [
    "dict1 = {}\n",
    "\n",
    "for i in range(5):\n",
    "    dict1[f'random_{i+1}' ] = np.random.rand(3)"
   ]
  },
  {
   "cell_type": "code",
   "execution_count": null,
   "metadata": {
    "scrolled": true
   },
   "outputs": [],
   "source": [
    "dict1"
   ]
  },
  {
   "cell_type": "markdown",
   "metadata": {},
   "source": [
    "### 4.2.4 <a id = '4.2.4.'>  For loop using range </a>"
   ]
  },
  {
   "cell_type": "code",
   "execution_count": null,
   "metadata": {},
   "outputs": [],
   "source": [
    "# Class\n",
    "students = ['Miguel', 'Anthony', 'Paul', 'Rodrigo', 'Jason', 'Yajaira']\n",
    "\n",
    "# Ages\n",
    "ages = [20, 18, 15, 20, 22, 25]"
   ]
  },
  {
   "cell_type": "code",
   "execution_count": null,
   "metadata": {},
   "outputs": [],
   "source": [
    "for index in range(0, len(ages)):\n",
    "    print ( f'{ students[index] } is { ages[index] } years old.' )"
   ]
  },
  {
   "cell_type": "code",
   "execution_count": null,
   "metadata": {},
   "outputs": [],
   "source": [
    "# Class\n",
    "students = ['Miguel', 'Anthony', 'Paul', 'Rodrigo', 'Jason', 'Yajaira']\n",
    "\n",
    "# Ages\n",
    "ages = [20, 18, 15, 20, 22]"
   ]
  },
  {
   "cell_type": "code",
   "execution_count": null,
   "metadata": {},
   "outputs": [],
   "source": [
    "for age, name in zip(ages, students):\n",
    "    print ( f'{ name} is { age } years old.' )"
   ]
  },
  {
   "cell_type": "code",
   "execution_count": null,
   "metadata": {},
   "outputs": [],
   "source": [
    "list(enumerate( students ))"
   ]
  },
  {
   "cell_type": "code",
   "execution_count": null,
   "metadata": {},
   "outputs": [],
   "source": [
    "ages.reverse()"
   ]
  },
  {
   "cell_type": "code",
   "execution_count": null,
   "metadata": {},
   "outputs": [],
   "source": [
    "ages"
   ]
  },
  {
   "cell_type": "code",
   "execution_count": null,
   "metadata": {},
   "outputs": [],
   "source": [
    "for i, element in enumerate( students ):\n",
    "    print(i, ages[-1-i ])\n",
    "    print ( f'{ students[i] } is { ages[-1-i ] } years old.\\n' )"
   ]
  },
  {
   "cell_type": "code",
   "execution_count": null,
   "metadata": {},
   "outputs": [],
   "source": [
    "for index in range (0, len (students)):\n",
    "     print ( f'{ students[index] } is { ages[index] } years old.' )"
   ]
  },
  {
   "cell_type": "code",
   "execution_count": null,
   "metadata": {},
   "outputs": [],
   "source": [
    "len(students)"
   ]
  },
  {
   "cell_type": "code",
   "execution_count": null,
   "metadata": {},
   "outputs": [],
   "source": [
    "for index in range ( 0, len(students) ):\n",
    "     print (f'{ students[ index ] } is { ages[ index ] } years old.')"
   ]
  },
  {
   "cell_type": "markdown",
   "metadata": {},
   "source": [
    "### 4.2.5 <a id='4.2.5.'>  Nested For Loop </a>\n",
    "\n",
    "A for loop inside of another for loop."
   ]
  },
  {
   "cell_type": "code",
   "execution_count": null,
   "metadata": {},
   "outputs": [],
   "source": [
    "age_class = [ [11, 12, 11] , [15, 16, 16] , [17, 17, 18]]\n",
    "age_class"
   ]
  },
  {
   "cell_type": "code",
   "execution_count": null,
   "metadata": {},
   "outputs": [],
   "source": [
    "array_test = np.arange(0, 999).reshape(111, 9)"
   ]
  },
  {
   "cell_type": "code",
   "execution_count": null,
   "metadata": {},
   "outputs": [],
   "source": [
    "i = 1\n",
    "for array in array_test:\n",
    "#     print( \"\\n\", classroom )\n",
    "    \n",
    "    for value in array:\n",
    "#         print( age_studen,  )\n",
    "        print(i)\n",
    "        i = i + 1\n",
    "        \n",
    "        \n",
    "    "
   ]
  },
  {
   "cell_type": "code",
   "execution_count": null,
   "metadata": {},
   "outputs": [],
   "source": [
    "import pandas as pd"
   ]
  },
  {
   "cell_type": "code",
   "execution_count": null,
   "metadata": {},
   "outputs": [],
   "source": [
    "# sequence\n",
    "students = [ 'Justin' , 'Pogba', 'Paul', 'Carrillo', 'Xavi', \"Daniel\" ]\n",
    "\n",
    "# age\n",
    "gr_age = [ 20, 18, 15, 20, 17, 29 ]\n",
    "\n",
    "# Univ\n",
    "unis = ['UNFV', 'UNSMS', \"PUCP\", \"UPC\", \"UCV\", \"USMP\", \"UIGL\"]"
   ]
  },
  {
   "cell_type": "code",
   "execution_count": null,
   "metadata": {},
   "outputs": [],
   "source": [
    "list(zip( students , gr_age, unis ))"
   ]
  },
  {
   "cell_type": "code",
   "execution_count": null,
   "metadata": {},
   "outputs": [],
   "source": [
    "# Loops\n",
    "for student, age, univ in zip( students , gr_age, unis ):\n",
    "    print(f'{ student } is { age } and study at {univ}')"
   ]
  },
  {
   "cell_type": "code",
   "execution_count": null,
   "metadata": {},
   "outputs": [],
   "source": [
    "pd.DataFrame( {'students':students, 'ages' : gr_age})"
   ]
  },
  {
   "cell_type": "code",
   "execution_count": null,
   "metadata": {},
   "outputs": [],
   "source": []
  },
  {
   "cell_type": "code",
   "execution_count": null,
   "metadata": {},
   "outputs": [],
   "source": []
  },
  {
   "cell_type": "code",
   "execution_count": null,
   "metadata": {},
   "outputs": [],
   "source": [
    "## Diferent dimmensions\n",
    "# sequence\n",
    "students = [ 'Justin' , 'Pogba', 'Paul', 'Carrillo', 'Xavi' ]\n",
    "\n",
    "# Edades\n",
    "gr_age = [ 20, 18, 15, 20 ]\n",
    "\n",
    "for student, age in zip( students , gr_age ):\n",
    "    print(f'{ student } is { age }')"
   ]
  },
  {
   "cell_type": "markdown",
   "metadata": {},
   "source": [
    "### 4.2.6. <a id = '4.2.6.'> Iterations over Pandas</a>"
   ]
  },
  {
   "cell_type": "markdown",
   "metadata": {},
   "source": [
    "[Marine fishing extraction by destination and main species (thousands of tons)](https://estadisticas.bcrp.gob.pe/estadisticas/series/anuales/extraccion-pesquera-maritima-por-destino-y-principales-especies-miles-de-toneladas)"
   ]
  },
  {
   "cell_type": "code",
   "execution_count": null,
   "metadata": {},
   "outputs": [],
   "source": [
    "import pandas as pd"
   ]
  },
  {
   "cell_type": "code",
   "execution_count": null,
   "metadata": {},
   "outputs": [],
   "source": [
    "extraction_fish = pd.read_csv( r\"../_data/production_fish.csv\" )"
   ]
  },
  {
   "cell_type": "code",
   "execution_count": null,
   "metadata": {},
   "outputs": [],
   "source": [
    "extraction_fish"
   ]
  },
  {
   "cell_type": "code",
   "execution_count": null,
   "metadata": {},
   "outputs": [],
   "source": [
    "cols_selected = extraction_fish.iloc[:, 1:-1]\n",
    "cols_selected"
   ]
  },
  {
   "cell_type": "code",
   "execution_count": null,
   "metadata": {},
   "outputs": [],
   "source": [
    "index, row = list(cols_selected.iterrows())[0]"
   ]
  },
  {
   "cell_type": "code",
   "execution_count": null,
   "metadata": {},
   "outputs": [],
   "source": [
    "maxmin = row.max() - row.min()\n",
    "maxmin"
   ]
  },
  {
   "cell_type": "code",
   "execution_count": null,
   "metadata": {},
   "outputs": [],
   "source": []
  },
  {
   "cell_type": "code",
   "execution_count": null,
   "metadata": {},
   "outputs": [],
   "source": [
    "for index, row in cols_selected.iterrows():\n",
    "    extraction_fish.at[ index, 'Max_min'] = row.max() - row.min()"
   ]
  },
  {
   "cell_type": "code",
   "execution_count": null,
   "metadata": {},
   "outputs": [],
   "source": [
    "extraction_fish"
   ]
  },
  {
   "cell_type": "markdown",
   "metadata": {},
   "source": [
    "#### Exercise - Rename Columns"
   ]
  },
  {
   "cell_type": "code",
   "execution_count": null,
   "metadata": {},
   "outputs": [],
   "source": [
    "extraction_fish"
   ]
  },
  {
   "cell_type": "code",
   "execution_count": null,
   "metadata": {},
   "outputs": [],
   "source": [
    "extraction_fish.head(3)\n",
    "\n",
    "col_names = extraction_fish.columns.to_list()[ 1:-2 ]"
   ]
  },
  {
   "cell_type": "code",
   "execution_count": null,
   "metadata": {},
   "outputs": [],
   "source": []
  },
  {
   "cell_type": "code",
   "execution_count": null,
   "metadata": {
    "scrolled": true
   },
   "outputs": [],
   "source": [
    "for col in col_names:\n",
    "    extraction_fish[ f'%_{col}' ]  = extraction_fish[ f'{col}' ] * 100 / extraction_fish[ 'total_production' ]\n",
    "\n",
    "extraction_fish.head()"
   ]
  },
  {
   "cell_type": "markdown",
   "metadata": {},
   "source": [
    "## 4.3. <a id = '4.3.'> Pass, Continue, Break, Try</a>\n",
    "\n",
    "|Function|Description|\n",
    "|---|---|\n",
    "| `Pass`| Allows you to handle the condition <br> without the loop being impacted in any way|\n",
    "| `Continue`| The current iteration of the loop will be disrupted, <br> but the program will return to the top of the loop|\n",
    "| `Break`| The loop will exit|\n",
    "| `Try`| This command lets you test a block of code for errors.|\n",
    "| `Exception`| An exception is an event, which occurs during <br> the execution of a program that disrupts the normal <br> flow of the program's instructions. <br> It allows you to raise a message to help the user.|"
   ]
  },
  {
   "cell_type": "markdown",
   "metadata": {},
   "source": [
    "\n",
    "### 4.3.1 <a id = '4.3.1.'> Pass</a>"
   ]
  },
  {
   "cell_type": "code",
   "execution_count": null,
   "metadata": {},
   "outputs": [],
   "source": [
    "for number in range(10):\n",
    "    print('Number is ' + str(number))"
   ]
  },
  {
   "cell_type": "code",
   "execution_count": null,
   "metadata": {},
   "outputs": [],
   "source": [
    "a = 2\n",
    "if a == 1:\n",
    "    print(a)"
   ]
  },
  {
   "cell_type": "code",
   "execution_count": null,
   "metadata": {},
   "outputs": [],
   "source": [
    "prime = [2 , 3, 5, 7]"
   ]
  },
  {
   "cell_type": "code",
   "execution_count": null,
   "metadata": {},
   "outputs": [],
   "source": [
    "0,1,2,3,4,5,6,7,8,9"
   ]
  },
  {
   "cell_type": "code",
   "execution_count": null,
   "metadata": {},
   "outputs": [],
   "source": [
    "# This is looking for prime numbers\n",
    "for number in range(10):\n",
    "    \n",
    "    print('Number is ' + str(number))\n",
    "    \n",
    "    if (number in prime):\n",
    "        # comment\n",
    "        # pass\n",
    "        print(\"This is a prime number\")\n",
    "\n",
    "    elif number == 3:\n",
    "        #number = number + 1\n",
    "        print( f'This number is {number}' )\n",
    "\n",
    "    else:\n",
    "        #number = number + 2\n",
    "        print('This is not a prime number' , '\\n')\n",
    "\n",
    "print('Out of loop')"
   ]
  },
  {
   "cell_type": "code",
   "execution_count": null,
   "metadata": {},
   "outputs": [],
   "source": [
    "# This is looking for prime numbers\n",
    "for number in range(10):\n",
    "    \n",
    "    print('Number is ' + str(number))\n",
    "    \n",
    "    if (number in prime):\n",
    "        # comment\n",
    "        pass\n",
    "        #print(\"This is a prime number\")\n",
    "\n",
    "    elif number == 3:\n",
    "        #number = number + 1\n",
    "        print( f'This number is {number}' )\n",
    "\n",
    "    else:\n",
    "        #number = number + 2\n",
    "        print('This is not a prime number' , '\\n')\n",
    "\n",
    "print('Out of loop')"
   ]
  },
  {
   "cell_type": "markdown",
   "metadata": {},
   "source": [
    "### 4.3.2. <a id = '4.3.2.'>Continue</a>"
   ]
  },
  {
   "cell_type": "code",
   "execution_count": null,
   "metadata": {},
   "outputs": [],
   "source": [
    "for number in range(10):\n",
    "    print('Number is ' + str(number))\n",
    "    \n",
    "    if number == 5:\n",
    "        # comment\n",
    "        continue\n",
    "\n",
    "    elif number == 3:\n",
    "        #number = number + 1\n",
    "        print( f'This number is {number}' )\n",
    "\n",
    "    else:\n",
    "        #number = number + 2\n",
    "        print('Different number than 3 y 5' , '\\n')\n",
    "    \n",
    "    \n",
    "\n",
    "print('Out of loop')"
   ]
  },
  {
   "cell_type": "code",
   "execution_count": null,
   "metadata": {},
   "outputs": [],
   "source": [
    "# find the even numbers\n",
    "\n",
    "for i in range(10):\n",
    "    \n",
    "    if i % 2 == False:\n",
    "        pass\n",
    "    \n",
    "    else:\n",
    "        continue\n",
    "    \n",
    "    print(\"alex\")\n",
    "    print(i)"
   ]
  },
  {
   "cell_type": "markdown",
   "metadata": {},
   "source": [
    "### 4.3.3. <a id = '4.3.3.'>Break</a>"
   ]
  },
  {
   "cell_type": "code",
   "execution_count": null,
   "metadata": {},
   "outputs": [],
   "source": [
    "for number in range(10):\n",
    "    print('Number is ' + str(number))\n",
    "    \n",
    "    if number == 5:\n",
    "        # comment\n",
    "        print( f'This number is {number}' )\n",
    "\n",
    "    elif number == 0:\n",
    "        #number = number + 1\n",
    "        print('This is the output of break.')\n",
    "        break\n",
    "        \n",
    "    else:\n",
    "        #number = number + 2\n",
    "        print('Different number =! 3, 5', \"\\n\")\n",
    "\n",
    "    \n",
    "\n",
    "print('Out of loop')"
   ]
  },
  {
   "cell_type": "code",
   "execution_count": null,
   "metadata": {},
   "outputs": [],
   "source": [
    "for number in range(10):\n",
    "    if number == 5:\n",
    "        # comment\n",
    "        raise Exception('This is the output of exception.')\n",
    "\n",
    "    elif number == 3:\n",
    "        #number = number + 1\n",
    "        print( f'This number is {number}' )\n",
    "\n",
    "    else:\n",
    "        #number = number + 2\n",
    "        print('Different number')\n",
    "\n",
    "    print('Number is ' + str(number))\n",
    "\n",
    "print('Out of loop')"
   ]
  },
  {
   "cell_type": "markdown",
   "metadata": {},
   "source": [
    "### 4.3.4. <a id = '4.3.4.'> Try </a>\n",
    "\n",
    "|Function|Description|\n",
    "|---|---|\n",
    "|`except`| Run a code if an error occurs.|\n",
    "|`else`| The code will be executed whether there is no error.|\n",
    "|`finally`| The code will be executed <br> does no matter whether or not the try raises an exception.|"
   ]
  },
  {
   "cell_type": "markdown",
   "metadata": {},
   "source": [
    "`except`: Run a code if an error occurs."
   ]
  },
  {
   "cell_type": "code",
   "execution_count": null,
   "metadata": {},
   "outputs": [],
   "source": [
    "x = 'Hola'"
   ]
  },
  {
   "cell_type": "code",
   "execution_count": null,
   "metadata": {},
   "outputs": [],
   "source": [
    "print(x + 4)\n",
    "\n",
    "print(\"hola\")"
   ]
  },
  {
   "cell_type": "code",
   "execution_count": 1,
   "metadata": {},
   "outputs": [
    {
     "ename": "NameError",
     "evalue": "name 'x' is not defined",
     "output_type": "error",
     "traceback": [
      "\u001b[0;31m---------------------------------------------------------------------------\u001b[0m",
      "\u001b[0;31mNameError\u001b[0m                                 Traceback (most recent call last)",
      "Cell \u001b[0;32mIn[1], line 1\u001b[0m\n\u001b[0;32m----> 1\u001b[0m x\n",
      "\u001b[0;31mNameError\u001b[0m: name 'x' is not defined"
     ]
    }
   ],
   "source": [
    "x"
   ]
  },
  {
   "cell_type": "code",
   "execution_count": 2,
   "metadata": {},
   "outputs": [
    {
     "name": "stdout",
     "output_type": "stream",
     "text": [
      "Variable x is not defined\n"
     ]
    }
   ],
   "source": [
    "try:\n",
    "    print(x + 4)\n",
    "    \n",
    "except TypeError:\n",
    "    print(5+5)\n",
    "    print(\"An error tipo TypeError\")\n",
    "    \n",
    "except NameError:\n",
    "    print(\"Variable x is not defined\")\n",
    "    \n",
    "except:\n",
    "    print(\"Something else went wrong\")"
   ]
  },
  {
   "cell_type": "code",
   "execution_count": null,
   "metadata": {},
   "outputs": [],
   "source": [
    "name = \"John\"\n",
    "\n",
    "print(namme)"
   ]
  },
  {
   "cell_type": "code",
   "execution_count": null,
   "metadata": {},
   "outputs": [],
   "source": [
    "try:\n",
    "    print(namme)\n",
    "    \n",
    "except TypeError:\n",
    "    print(5+5)\n",
    "    print(\"An error tipo TypeError\")\n",
    "    \n",
    "except NameError:\n",
    "    print(\"the correct label of the variable is name\" )\n",
    "    print(\"Variable x is not defined\")\n",
    "    \n",
    "except:\n",
    "    print(\"Something else went wrong\")"
   ]
  },
  {
   "cell_type": "code",
   "execution_count": null,
   "metadata": {},
   "outputs": [],
   "source": [
    "try:\n",
    "    print(namme)\n",
    "    \n",
    "# except TypeError:\n",
    "#     print(5+5)\n",
    "#     print(\"An error tipo TypeError\")\n",
    "    \n",
    "# except NameError:\n",
    "#     print(\"the correct label of the variable is name\" )\n",
    "#     print(\"Variable x is not defined\")\n",
    "    \n",
    "except:\n",
    "    print(\"There is an error\")"
   ]
  },
  {
   "cell_type": "markdown",
   "metadata": {},
   "source": [
    "`else`: The code will be executed whether there is no error."
   ]
  },
  {
   "cell_type": "code",
   "execution_count": null,
   "metadata": {},
   "outputs": [],
   "source": [
    "x = 6"
   ]
  },
  {
   "cell_type": "code",
   "execution_count": null,
   "metadata": {},
   "outputs": [],
   "source": [
    "try:\n",
    "    x + 4\n",
    "    \n",
    "except:\n",
    "    print(\"Something went wrong\")\n",
    "    #print( 5 + 4)\n",
    "\n",
    "else:\n",
    "    print(\"Nothing went wrong\")\n",
    "    \n",
    "    try:\n",
    "        print( x + \"2\")    \n",
    "    except:\n",
    "        print(\"error 2\")"
   ]
  },
  {
   "cell_type": "markdown",
   "metadata": {},
   "source": [
    "`finally`: The code will be executed does no matter whether or not the try raises an exception."
   ]
  },
  {
   "cell_type": "code",
   "execution_count": null,
   "metadata": {},
   "outputs": [],
   "source": [
    "x = 6"
   ]
  },
  {
   "cell_type": "code",
   "execution_count": null,
   "metadata": {},
   "outputs": [],
   "source": [
    "try:\n",
    "    print(x + 4)\n",
    "except:\n",
    "    print(\"Something went wrong\")\n",
    "finally:\n",
    "    print( f'el elemento {x} ya paso por este filtro')"
   ]
  },
  {
   "cell_type": "code",
   "execution_count": null,
   "metadata": {},
   "outputs": [],
   "source": [
    "s = 16\n",
    "if s:\n",
    "    print(s)"
   ]
  },
  {
   "cell_type": "markdown",
   "metadata": {},
   "source": [
    "## 4.4. <a id='4.4.'> While Loop </a>\n",
    "While loop is used to repeat code as long as the condition is true. When the logical expression is false, the code will finish executing. [More Info](https://python101.pythonlibrary.org/chapter5_loops.html)\n",
    "<img src=\"../_images\\while_loop.jpg\">"
   ]
  },
  {
   "cell_type": "markdown",
   "metadata": {},
   "source": [
    "### 4.4.1. <a id='4.4.1.'> Structure </a>\n",
    "\n",
    "while <font color='green'>condition</font>: <br>\n",
    "&nbsp;&nbsp;&nbsp;&nbsp;&nbsp;&nbsp;code 1<br><br>\n",
    "&nbsp;&nbsp;&nbsp;&nbsp;&nbsp;&nbsp;<font color='red'>break code</font><br><br>\n",
    "\n",
    "The break code is an expression that allows the logical condition to be false at some point, because if not, the code will continue to execute infinitely."
   ]
  },
  {
   "cell_type": "code",
   "execution_count": null,
   "metadata": {},
   "outputs": [],
   "source": [
    "# Initialize an empty list to store the emails\n",
    "emails = []"
   ]
  },
  {
   "cell_type": "code",
   "execution_count": null,
   "metadata": {},
   "outputs": [
    {
     "name": "stdout",
     "output_type": "stream",
     "text": [
      "Please enter an email: asdad2@asdadasda.com\n"
     ]
    }
   ],
   "source": [
    "\n",
    "\n",
    "while True:\n",
    "    # Requesting email input from the user\n",
    "    email = input(\"Please enter an email: \")\n",
    "\n",
    "    \n",
    "\n",
    "    # Check if the email contains '@pucp'\n",
    "    if 'Exit' in email:\n",
    "        print(\"You finish the collection.\")\n",
    "        break\n",
    "       \n",
    "    if '@pucp' in email:\n",
    "        print(\"This email is not allowed in the collection.\")\n",
    "        continue\n",
    "    # Adding the email to the list\n",
    "    emails.append(email)\n",
    "\n",
    "# Displaying the collected emails\n",
    "print(\"Collected emails:\", emails)\n"
   ]
  },
  {
   "cell_type": "code",
   "execution_count": null,
   "metadata": {},
   "outputs": [],
   "source": []
  },
  {
   "cell_type": "code",
   "execution_count": null,
   "metadata": {},
   "outputs": [],
   "source": []
  },
  {
   "cell_type": "code",
   "execution_count": null,
   "metadata": {},
   "outputs": [],
   "source": []
  },
  {
   "cell_type": "code",
   "execution_count": null,
   "metadata": {},
   "outputs": [],
   "source": [
    "i = 1\n",
    "i "
   ]
  },
  {
   "cell_type": "code",
   "execution_count": null,
   "metadata": {},
   "outputs": [],
   "source": [
    "i += 3"
   ]
  },
  {
   "cell_type": "code",
   "execution_count": null,
   "metadata": {},
   "outputs": [],
   "source": [
    "i"
   ]
  },
  {
   "cell_type": "code",
   "execution_count": null,
   "metadata": {},
   "outputs": [],
   "source": [
    "i = 1\n",
    "\n",
    "while i < 10:\n",
    "    print(i)\n",
    "    \n",
    "    # break code \n",
    "    i += 1\n",
    "    print(\"now i is \", i)\n",
    "    \n",
    "    "
   ]
  },
  {
   "cell_type": "code",
   "execution_count": null,
   "metadata": {},
   "outputs": [],
   "source": [
    "i = 1\n",
    "\n",
    "# condition  \"i < 6\"\n",
    "while i < 6:\n",
    "    \n",
    "    print(i)\n",
    "    \n",
    "    # break code, \n",
    "    i += 1 \n",
    "    # ==> i = i + 1"
   ]
  },
  {
   "cell_type": "markdown",
   "metadata": {},
   "source": [
    "#### Excersice\n",
    "1. Print $2^n$, but the result is less than 10,000."
   ]
  },
  {
   "cell_type": "code",
   "execution_count": null,
   "metadata": {},
   "outputs": [],
   "source": [
    "x = 2\n",
    "\n",
    "while x < 10000:\n",
    "    print(x)\n",
    "    \n",
    "    #break code\n",
    "    x = 2*x\n",
    "    print(\"now i is \", x)"
   ]
  },
  {
   "cell_type": "markdown",
   "metadata": {},
   "source": [
    "2. A teacher has 100 apples for his entire class. The first student took four apples, and the next student always took more apples than the previous one. How many children have apples?"
   ]
  },
  {
   "cell_type": "code",
   "execution_count": null,
   "metadata": {},
   "outputs": [],
   "source": [
    "apples = 100\n",
    "last_st = 4\n",
    "i = 1\n",
    "\n",
    "while apples > last_st:\n",
    "    \n",
    "    # Code\n",
    "    apples = apples - last_st\n",
    "    last_st += 1\n",
    "\n",
    "    # Break code\n",
    "    i += 1\n",
    "    # What is the format function for\n",
    "    print ( '{} children have apples'.format(i) )\n",
    "\n",
    "# print ('{} children have apples'.format (i))"
   ]
  },
  {
   "cell_type": "code",
   "execution_count": null,
   "metadata": {},
   "outputs": [],
   "source": [
    "# string = \"the age of anzony\"\n",
    "# anzony_age = 23\n",
    "\n",
    "# print( 'the age of anzony {}'.format(anzony_age) )"
   ]
  },
  {
   "cell_type": "markdown",
   "metadata": {},
   "source": [
    "3. Print all elements of an array."
   ]
  },
  {
   "cell_type": "code",
   "execution_count": null,
   "metadata": {},
   "outputs": [],
   "source": [
    "import numpy as np\n",
    "\n",
    "edad = np.array([ 3, 6, 7, 10, 15, 17, 18, 31, 26, 88 , 100, 120, 110])\n",
    "i = 0\n",
    "\n",
    "while i < edad.size:\n",
    "    \n",
    "    print(edad[i])\n",
    "    i += 1"
   ]
  },
  {
   "cell_type": "markdown",
   "metadata": {},
   "source": [
    "4. While loop Excersice"
   ]
  },
  {
   "cell_type": "code",
   "execution_count": null,
   "metadata": {},
   "outputs": [],
   "source": [
    "quarantine_days = 1\n",
    "stress_level = 2\n",
    "\n",
    "\n",
    "while quarantine_days <= 40:\n",
    "    \n",
    "    print ( f'Quarantine day n° {quarantine_days}. ')\n",
    "    \n",
    "    if stress_level> 100:\n",
    "        print (f'Her family let Rebeca out on the day {quarantine_days}.')\n",
    "        stress_level = 1\n",
    "        break\n",
    "     \n",
    "    elif quarantine_days <15:\n",
    "        \n",
    "        print (\"Rebeca watch Love Alarm\")\n",
    "    \n",
    "    elif (quarantine_days >= 15) & (quarantine_days <20):\n",
    "        \n",
    "        print (\"Rebeca reads El mundo de Sofia and Cronicas de una muerte anunciada\")\n",
    "    \n",
    "    elif (quarantine_days >= 20) & (quarantine_days <40):\n",
    "        print ('Rebeca builds her Foundation of Analysis I class')\n",
    "        \n",
    "    else:\n",
    "        print (\"The lady works out\")\n",
    "    \n",
    "    print (f'The day number {quarantine_days} of quarantine is over. \\n ')\n",
    "    \n",
    "    # Days increase\n",
    "    quarantine_days = quarantine_days + 1\n",
    "    stress_level = stress_level * 2\n",
    "\n",
    "print (\"Quarantine is over.\")"
   ]
  },
  {
   "cell_type": "markdown",
   "metadata": {},
   "source": [
    "5. Pandas with While loop"
   ]
  },
  {
   "cell_type": "code",
   "execution_count": null,
   "metadata": {},
   "outputs": [],
   "source": [
    "import pandas as pd\n",
    "data1 = {'names': ['Martins', 'Raul', 'Estremadoyro', \"Kante\", 'Tigo', 'Betson', 'Finado', 'Alex', 'Miracles', 'Bambi'], \n",
    "     'age': [23, 25, 36, 78, 90, 32, 200, 24, 12, 18]}\n",
    "people = pd.DataFrame( data = data1)"
   ]
  },
  {
   "cell_type": "code",
   "execution_count": null,
   "metadata": {
    "scrolled": true
   },
   "outputs": [],
   "source": [
    "people"
   ]
  },
  {
   "cell_type": "code",
   "execution_count": null,
   "metadata": {},
   "outputs": [],
   "source": [
    "i = 0\n",
    "# row by row\n",
    "nrows = people.age.count()\n",
    "while i < nrows:\n",
    "  \n",
    "    if people['age'][i] > 150:\n",
    "        print('Ohhh no a phantom')\n",
    "        break\n",
    "    \n",
    "    elif people['age'][i] < 18:\n",
    "        # New column\n",
    "        people.loc[[i], [\"pass\"]] = \"No pass\"\n",
    "    \n",
    "    else:\n",
    "        people.loc[[i], [\"pass\"]] = \"Pass\"\n",
    "        \n",
    "    i += 1"
   ]
  },
  {
   "cell_type": "markdown",
   "metadata": {},
   "source": [
    "## 4.5. <a id = '4.5.'> References </a>\n",
    "\n",
    "1. [DataCamp](https://www.datacamp.com/community/tutorials/python-if-elif-else?utm_source=adwords_ppc&utm_medium=cpc&utm_campaignid=1455363063&utm_adgroupid=65083631748&utm_device=c&utm_keyword=&utm_matchtype=b&utm_network=g&utm_adpostion=&utm_creative=332602034358&utm_targetid=dsa-429603003980&utm_loc_interest_ms=&utm_loc_physical_ms=9060932&gclid=CjwKCAiA7dKMBhBCEiwAO_crFCArGqe0fxSaO2q6eTaTtigeALef5CcM1hRWgNI8hMEoVCg-uOwFDhoCu1kQAvD_BwE)\n",
    "2. https://www.programiz.com/python-programming/if-elif-else\n",
    "3. https://www.guru99.com/if-loop-python-conditional-structures.html\n",
    "4. https://www.w3schools.com/python/python_for_loops.asp\n",
    "5. https://www.programiz.com/python-programming/for-loop\n",
    "6. https://www.geeksforgeeks.org/loops-in-python/\n",
    "7. https://www.w3schools.com/python/python_while_loops.asp\n",
    "8. https://www.programiz.com/python-programming/while-loop\n",
    "9. https://www.tutorialspoint.com/python/python_while_loop.htm"
   ]
  },
  {
   "cell_type": "code",
   "execution_count": null,
   "metadata": {},
   "outputs": [],
   "source": []
  }
 ],
 "metadata": {
  "hide_input": false,
  "kernelspec": {
   "display_name": "Python 3 (ipykernel)",
   "language": "python",
   "name": "python3"
  },
  "language_info": {
   "codemirror_mode": {
    "name": "ipython",
    "version": 3
   },
   "file_extension": ".py",
   "mimetype": "text/x-python",
   "name": "python",
   "nbconvert_exporter": "python",
   "pygments_lexer": "ipython3",
   "version": "3.11.5"
  },
  "toc": {
   "base_numbering": 1,
   "nav_menu": {},
   "number_sections": true,
   "sideBar": true,
   "skip_h1_title": false,
   "title_cell": "Table of Contents",
   "title_sidebar": "Contents",
   "toc_cell": false,
   "toc_position": {},
   "toc_section_display": true,
   "toc_window_display": false
  }
 },
 "nbformat": 4,
 "nbformat_minor": 4
}
