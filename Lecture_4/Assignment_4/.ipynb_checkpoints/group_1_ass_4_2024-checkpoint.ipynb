{
 "cells": [
  {
   "cell_type": "markdown",
   "id": "1d648d5a",
   "metadata": {},
   "source": [
    "# Assignment 4"
   ]
  },
  {
   "cell_type": "markdown",
   "id": "4131c565",
   "metadata": {},
   "source": [
    "1. Inspect this dataset `./_data/bogota_firms.xlsx` and show some descriptive statistics of it.\n",
    "2. Reshape the dataset from wide to long at year level. Drop columns if they are in Dollars. Keep columns from Operating revenue (Turnover) th LCU 2023 to the end, and the name of the firm.\n",
    "3. Rename the columns and use short names for each column. This new name should be shorter than 20 characters.\n",
    "4. Generate a dictionary with the definition of all the columns in your dataset.\n",
    "5. Generate a function named as calling_data that take as input the `name of the firm  or list of names (firm_name)` and `(start_year, end_year)`. The function should return a tuple with a dataframe with the same format as the one resulting from task 1-4, and your dictionary of columns. The function should work without `end_year`. It means it only takes `start_year`.\n"
   ]
<<<<<<< Updated upstream
  },
  {
   "cell_type": "markdown",
   "id": "5b6180d3",
   "metadata": {},
   "source": [
    "***Excercise 1***"
   "id": "e5ad21c7",
   "metadata": {},
   "source": [
    "# EXERCISE 4"
   ]
  },
  {
   "cell_type": "code",
   "execution_count": 2,
   "id": "daef2718",
   "metadata": {},
   "id": "e837da2e",
   "metadata": {},
   "outputs": [
    {
     "name": "stdout",
     "output_type": "stream",
     "text": [
      "Unnamed: 0:\n",
      "  count: 10000.0\n",
      "  mean: 5000.5\n",
      "  std: 2886.89568\n",
      "  min: 1.0\n",
      "  25%: 2500.75\n",
      "  50%: 5000.5\n",
      "  75%: 7500.25\n",
      "  max: 10000.0\n",
      "\n",
      "NACE Rev. 2, core code (4 digits):\n",
      "  count: 9650.0\n",
      "  mean: 4842.839482\n",
      "  std: 2167.757574\n",
      "  min: 100.0\n",
      "  25%: 4299.0\n",
      "  50%: 4690.0\n",
      "  75%: 6120.0\n",
      "  max: 9609.0\n",
      "\n",
      "Last avail. year:\n",
      "  count: 10000.0\n",
      "  mean: 2020.2965\n",
      "  std: 3.672947\n",
      "  min: 2005.0\n",
      "  25%: 2021.0\n",
      "  50%: 2022.0\n",
      "  75%: 2022.0\n",
      "  max: 2023.0\n",
      "\n"
     ]
    }
   ],
   "source": [
    "summary_statistics = {\n",
    "    'Unnamed: 0': {\n",
    "        'count': 10000.00000,\n",
    "        'mean': 5000.50000,\n",
    "        'std': 2886.89568,\n",
    "        'min': 1.00000,\n",
    "        '25%': 2500.75000,\n",
    "        '50%': 5000.50000,\n",
    "        '75%': 7500.25000,\n",
    "        'max': 10000.00000\n",
    "    },\n",
    "    'NACE Rev. 2, core code (4 digits)': {\n",
    "        'count': 9650.000000,\n",
    "        'mean': 4842.839482,\n",
    "        'std': 2167.757574,\n",
    "        'min': 100.000000,\n",
    "        '25%': 4299.000000,\n",
    "        '50%': 4690.000000,\n",
    "        '75%': 6120.000000,\n",
    "        'max': 9609.000000\n",
    "    },\n",
    "    'Last avail. year': {\n",
    "        'count': 10000.000000,\n",
    "        'mean': 2020.296500,\n",
    "        'std': 3.672947,\n",
    "        'min': 2005.000000,\n",
    "        '25%': 2021.000000,\n",
    "        '50%': 2022.000000,\n",
    "        '75%': 2022.000000,\n",
    "        'max': 2023.000000\n",
    "    }\n",
    "}\n",
    "\n",
    "# Print the dictionary\n",
    "for column, stats in summary_statistics.items():\n",
    "    print(f\"{column}:\")\n",
    "    for stat, value in stats.items():\n",
    "        print(f\"  {stat}: {value}\")\n",
    "    print()"
   ]
  },
  {
   "cell_type": "code",
   "execution_count": 25,
   "id": "daef2718",
   "metadata": {},
   "outputs": [],
   "source": [
    "import numpy as np\n",
    "import pandas as pd"
   ]
  },
  {
   "cell_type": "code",
   "execution_count": 9,
   "id": "f7e550c6",
   "metadata": {},
   "outputs": [],
   "source": [
    "file_path = 'C:/path/to/your/directory/bogota_firms.xlsx'"
   ]
  },
  {
   "cell_type": "code",
   "execution_count": 10,
   "id": "f1fde89b",
   "metadata": {},
   "outputs": [
    {
     "name": "stdout",
     "output_type": "stream",
     "text": [
      "C:\\Users\\alice\\Documents\\GitHub\\MediaLab_PUCP\\Lecture_4\\Assignment_4\n"
     ]
    }
   ],
   "source": [
    "import os\n",
    "print(os.getcwd())"
   ]
  },
  {
   "cell_type": "code",
   "execution_count": 21,
   "id": "e0a14d58",
   "metadata": {},
   "outputs": [
    {
     "name": "stdout",
     "output_type": "stream",
     "text": [
      "Defaulting to user installation because normal site-packages is not writeable\n",
      "Requirement already satisfied: pandas in c:\\users\\alice\\appdata\\roaming\\python\\python311\\site-packages (2.1.4)\n",
      "Requirement already satisfied: numpy<2,>=1.23.2 in c:\\programdata\\anaconda3\\lib\\site-packages (from pandas) (1.24.3)\n",
      "Requirement already satisfied: python-dateutil>=2.8.2 in c:\\programdata\\anaconda3\\lib\\site-packages (from pandas) (2.8.2)\n",
      "Requirement already satisfied: pytz>=2020.1 in c:\\programdata\\anaconda3\\lib\\site-packages (from pandas) (2023.3.post1)\n",
      "Requirement already satisfied: tzdata>=2022.1 in c:\\programdata\\anaconda3\\lib\\site-packages (from pandas) (2023.3)\n",
      "Requirement already satisfied: six>=1.5 in c:\\programdata\\anaconda3\\lib\\site-packages (from python-dateutil>=2.8.2->pandas) (1.16.0)\n",
      "Note: you may need to restart the kernel to use updated packages.\n"
     ]
    }
   ],
   "source": [
    "pip install --upgrade pandas"
   ]
  },
  {
   "cell_type": "code",
   "execution_count": 30,
   "id": "74bb1aac",
   "metadata": {
    "scrolled": true
   },
   "outputs": [
    {
     "data": {
      "text/plain": [
       "\"\\nEstadísticas descriptivas de la hoja 'Search summary':\""
      ]
     },
     "metadata": {},
     "output_type": "display_data"
    },
    {
     "data": {
      "text/html": [
       "<div>\n",
       "<style scoped>\n",
       "    .dataframe tbody tr th:only-of-type {\n",
       "        vertical-align: middle;\n",
       "    }\n",
       "\n",
       "    .dataframe tbody tr th {\n",
       "        vertical-align: top;\n",
       "    }\n",
       "\n",
       "    .dataframe thead th {\n",
       "        text-align: right;\n",
       "    }\n",
       "</style>\n",
       "<table border=\"1\" class=\"dataframe\">\n",
       "  <thead>\n",
       "    <tr style=\"text-align: right;\">\n",
       "      <th></th>\n",
       "      <th>List export</th>\n",
       "      <th>Unnamed: 1</th>\n",
       "      <th>Unnamed: 2</th>\n",
       "      <th>Unnamed: 3</th>\n",
       "      <th>Unnamed: 4</th>\n",
       "      <th>Unnamed: 5</th>\n",
       "    </tr>\n",
       "  </thead>\n",
       "  <tbody>\n",
       "    <tr>\n",
       "      <th>count</th>\n",
       "      <td>23</td>\n",
       "      <td>9</td>\n",
       "      <td>2</td>\n",
       "      <td>3</td>\n",
       "      <td>4</td>\n",
       "      <td>3</td>\n",
       "    </tr>\n",
       "    <tr>\n",
       "      <th>unique</th>\n",
       "      <td>23</td>\n",
       "      <td>9</td>\n",
       "      <td>2</td>\n",
       "      <td>3</td>\n",
       "      <td>4</td>\n",
       "      <td>3</td>\n",
       "    </tr>\n",
       "    <tr>\n",
       "      <th>top</th>\n",
       "      <td>Product name</td>\n",
       "      <td>Orbis</td>\n",
       "      <td>31/03</td>\n",
       "      <td>Active companies, Unknown situation</td>\n",
       "      <td>Step result</td>\n",
       "      <td>Search result</td>\n",
       "    </tr>\n",
       "    <tr>\n",
       "      <th>freq</th>\n",
       "      <td>1</td>\n",
       "      <td>1</td>\n",
       "      <td>1</td>\n",
       "      <td>1</td>\n",
       "      <td>1</td>\n",
       "      <td>1</td>\n",
       "    </tr>\n",
       "  </tbody>\n",
       "</table>\n",
       "</div>"
      ],
      "text/plain": [
       "         List export Unnamed: 1 Unnamed: 2  \\\n",
       "count             23          9          2   \n",
       "unique            23          9          2   \n",
       "top     Product name      Orbis      31/03   \n",
       "freq               1          1          1   \n",
       "\n",
       "                                 Unnamed: 3   Unnamed: 4     Unnamed: 5  \n",
       "count                                     3            4              3  \n",
       "unique                                    3            4              3  \n",
       "top     Active companies, Unknown situation  Step result  Search result  \n",
       "freq                                      1            1              1  "
      ]
     },
     "metadata": {},
     "output_type": "display_data"
    },
    {
     "data": {
      "text/plain": [
       "\"\\nEstadísticas descriptivas de la hoja 'Results':\""
      ]
     },
     "metadata": {},
     "output_type": "display_data"
    },
    {
     "data": {
      "text/html": [
       "<div>\n",
       "<style scoped>\n",
       "    .dataframe tbody tr th:only-of-type {\n",
       "        vertical-align: middle;\n",
       "    }\n",
       "\n",
       "    .dataframe tbody tr th {\n",
       "        vertical-align: top;\n",
       "    }\n",
       "\n",
       "    .dataframe thead th {\n",
       "        text-align: right;\n",
       "    }\n",
       "</style>\n",
       "<table border=\"1\" class=\"dataframe\">\n",
       "  <thead>\n",
       "    <tr style=\"text-align: right;\">\n",
       "      <th></th>\n",
       "      <th>Unnamed: 0</th>\n",
       "      <th>NACE Rev. 2, core code (4 digits)</th>\n",
       "      <th>Last avail. year</th>\n",
       "    </tr>\n",
       "  </thead>\n",
       "  <tbody>\n",
       "    <tr>\n",
       "      <th>count</th>\n",
       "      <td>10000.00000</td>\n",
       "      <td>9650.000000</td>\n",
       "      <td>10000.000000</td>\n",
       "    </tr>\n",
       "    <tr>\n",
       "      <th>mean</th>\n",
       "      <td>5000.50000</td>\n",
       "      <td>4842.839482</td>\n",
       "      <td>2020.296500</td>\n",
       "    </tr>\n",
       "    <tr>\n",
       "      <th>std</th>\n",
       "      <td>2886.89568</td>\n",
       "      <td>2167.757574</td>\n",
       "      <td>3.672947</td>\n",
       "    </tr>\n",
       "    <tr>\n",
       "      <th>min</th>\n",
       "      <td>1.00000</td>\n",
       "      <td>100.000000</td>\n",
       "      <td>2005.000000</td>\n",
       "    </tr>\n",
       "    <tr>\n",
       "      <th>25%</th>\n",
       "      <td>2500.75000</td>\n",
       "      <td>4299.000000</td>\n",
       "      <td>2021.000000</td>\n",
       "    </tr>\n",
       "    <tr>\n",
       "      <th>50%</th>\n",
       "      <td>5000.50000</td>\n",
       "      <td>4690.000000</td>\n",
       "      <td>2022.000000</td>\n",
       "    </tr>\n",
       "    <tr>\n",
       "      <th>75%</th>\n",
       "      <td>7500.25000</td>\n",
       "      <td>6120.000000</td>\n",
       "      <td>2022.000000</td>\n",
       "    </tr>\n",
       "    <tr>\n",
       "      <th>max</th>\n",
       "      <td>10000.00000</td>\n",
       "      <td>9609.000000</td>\n",
       "      <td>2023.000000</td>\n",
       "    </tr>\n",
       "  </tbody>\n",
       "</table>\n",
       "</div>"
      ],
      "text/plain": [
       "        Unnamed: 0  NACE Rev. 2, core code (4 digits)  Last avail. year\n",
       "count  10000.00000                        9650.000000      10000.000000\n",
       "mean    5000.50000                        4842.839482       2020.296500\n",
       "std     2886.89568                        2167.757574          3.672947\n",
       "min        1.00000                         100.000000       2005.000000\n",
       "25%     2500.75000                        4299.000000       2021.000000\n",
       "50%     5000.50000                        4690.000000       2022.000000\n",
       "75%     7500.25000                        6120.000000       2022.000000\n",
       "max    10000.00000                        9609.000000       2023.000000"
      ]
     },
     "metadata": {},
     "output_type": "display_data"
    }
   ],
   "source": [
    "import pandas as pd\n",
    "\n",
    "file_path = '/Users/claupq/Documents/MediaLabPUCP/_data/bogota_firms.xlsx'\n",
    "\n",
    "# read DataFrame from 'Search summary'\n",
    "df_search_summary = pd.read_excel(file_path, sheet_name='Search summary')\n",
    "\n",
    "# read the DataFrame from'Results'\n",
    "df_results = pd.read_excel(file_path, sheet_name='Results')\n",
    "\n",
    "# show descriptive statistics on 'Search summary'\n",
    "display(\"\\nEstadísticas descriptivas de la hoja 'Search summary':\")\n",
    "display(df_search_summary.describe())\n",
    "\n",
    "# Show descriptive statistics on 'Results'\n",
    "file_path = r'C:\\Users\\alice\\Documents\\GitHub\\MediaLab_PUCP\\_data\\bogota_firms.xlsx'\n",
    "df_search_summary = pd.read_excel(file_path, sheet_name='Search summary')\n",
    "df_results = pd.read_excel(file_path, sheet_name='Results')\n",
    "display(\"\\nEstadísticas descriptivas de la hoja 'Search summary':\")\n",
    "display(df_search_summary.describe())\n",
    "display(\"\\nEstadísticas descriptivas de la hoja 'Results':\")\n",
    "display(df_results.describe())"
   ]
  },
  {
   "cell_type": "markdown",
   "id": "d0911501",
   "metadata": {},
   "source": [
    "***Excercise 2***"
   ]
  },
  {
   "cell_type": "code",
   "execution_count": 3,
   "id": "e0a14d58",
   "metadata": {},
   "outputs": [
    {
     "name": "stdout",
     "output_type": "stream",
     "text": [
      "Nombres de las columnas en la hoja 'Results':\n"
     ]
    },
    {
     "data": {
      "text/plain": [
       "['Unnamed: 0',\n",
       " 'Company name Latin alphabet',\n",
       " 'Country ISO code',\n",
       " 'City\\nLatin Alphabet',\n",
       " 'NACE Rev. 2, core code (4 digits)',\n",
       " 'Consolidation code',\n",
       " 'Last avail. year',\n",
       " 'Operating revenue (Turnover)\\nth LCU 2023',\n",
       " 'Operating revenue (Turnover)\\nth USD 2023',\n",
       " 'Operating revenue (Turnover)\\nth LCU 2022',\n",
       " 'Operating revenue (Turnover)\\nth USD 2022',\n",
       " 'Operating revenue (Turnover)\\nth LCU 2021',\n",
       " 'Operating revenue (Turnover)\\nth USD 2021',\n",
       " 'Operating revenue (Turnover)\\nth LCU 2020',\n",
       " 'Operating revenue (Turnover)\\nth USD 2020',\n",
       " 'Operating revenue (Turnover)\\nth LCU 2019',\n",
       " 'Operating revenue (Turnover)\\nth USD 2019',\n",
       " 'Operating revenue (Turnover)\\nth LCU 2018',\n",
       " 'Operating revenue (Turnover)\\nth USD 2018',\n",
       " 'Operating revenue (Turnover)\\nth LCU 2017',\n",
       " 'Operating revenue (Turnover)\\nth USD 2017',\n",
       " 'Operating revenue (Turnover)\\nth LCU 2016',\n",
       " 'Operating revenue (Turnover)\\nth USD 2016',\n",
       " 'Operating revenue (Turnover)\\nth LCU 2015',\n",
       " 'Operating revenue (Turnover)\\nth USD 2015',\n",
       " 'Operating revenue (Turnover)\\nth LCU 2014',\n",
       " 'Operating revenue (Turnover)\\nth USD 2014',\n",
       " 'Operating revenue (Turnover)\\nth LCU 2013',\n",
       " 'Operating revenue (Turnover)\\nth USD 2013',\n",
       " 'Operating revenue (Turnover)\\nth LCU 2012',\n",
       " 'Operating revenue (Turnover)\\nth USD 2012',\n",
       " 'Operating revenue (Turnover)\\nth LCU 2011',\n",
       " 'Operating revenue (Turnover)\\nth USD 2011']"
      ]
     },
     "metadata": {},
     "output_type": "display_data"
    }
   ],
   "source": [
    "import pandas as pd\n",
    "\n",
    "file_path = '/Users/claupq/Documents/MediaLabPUCP/_data/bogota_firms.xlsx'\n",
    "\n",
    "# Read the Excel file and retrieve the column names from the 'Results' sheet\n",
    "df = pd.read_excel(file_path, sheet_name='Results')\n",
    "\n",
    "# Show the names of the columns\n",
    "column_names = df.columns.tolist()\n",
    "print(\"Nombres de las columnas en la hoja 'Results':\")\n",
    "display(column_names)"
   ]
  },
  {
   "cell_type": "code",
   "execution_count": 4,
   "id": "74bb1aac",
   "metadata": {},
   "outputs": [
    {
     "data": {
      "text/plain": [
       "'DataFrame reorganizado (formato largo):'"
      ]
     },
     "metadata": {},
     "output_type": "display_data"
    },
    {
     "data": {
      "text/html": [
       "<div>\n",
       "<style scoped>\n",
       "    .dataframe tbody tr th:only-of-type {\n",
       "        vertical-align: middle;\n",
       "    }\n",
       "\n",
       "    .dataframe tbody tr th {\n",
       "        vertical-align: top;\n",
       "    }\n",
       "\n",
       "    .dataframe thead th {\n",
       "        text-align: right;\n",
       "    }\n",
       "</style>\n",
       "<table border=\"1\" class=\"dataframe\">\n",
       "  <thead>\n",
       "    <tr style=\"text-align: right;\">\n",
       "      <th></th>\n",
       "      <th>Company name Latin alphabet</th>\n",
       "      <th>year</th>\n",
       "      <th>value</th>\n",
       "    </tr>\n",
       "  </thead>\n",
       "  <tbody>\n",
       "    <tr>\n",
       "      <th>0</th>\n",
       "      <td>1 UP MOTOS SAS</td>\n",
       "      <td>Operating revenue (Turnover)\\nth LCU 2023</td>\n",
       "      <td>n.a.</td>\n",
       "    </tr>\n",
       "    <tr>\n",
       "      <th>1</th>\n",
       "      <td>1 UP MOTOS SAS</td>\n",
       "      <td>Operating revenue (Turnover)\\nth USD 2011</td>\n",
       "      <td>n.a.</td>\n",
       "    </tr>\n",
       "    <tr>\n",
       "      <th>2</th>\n",
       "      <td>1 UP MOTOS SAS</td>\n",
       "      <td>Operating revenue (Turnover)\\nth USD 2012</td>\n",
       "      <td>n.a.</td>\n",
       "    </tr>\n",
       "    <tr>\n",
       "      <th>3</th>\n",
       "      <td>1 UP MOTOS SAS</td>\n",
       "      <td>Operating revenue (Turnover)\\nth USD 2013</td>\n",
       "      <td>n.a.</td>\n",
       "    </tr>\n",
       "    <tr>\n",
       "      <th>4</th>\n",
       "      <td>1 UP MOTOS SAS</td>\n",
       "      <td>Operating revenue (Turnover)\\nth USD 2014</td>\n",
       "      <td>n.a.</td>\n",
       "    </tr>\n",
       "  </tbody>\n",
       "</table>\n",
       "</div>"
      ],
      "text/plain": [
       "  Company name Latin alphabet                                       year value\n",
       "0              1 UP MOTOS SAS  Operating revenue (Turnover)\\nth LCU 2023  n.a.\n",
       "1              1 UP MOTOS SAS  Operating revenue (Turnover)\\nth USD 2011  n.a.\n",
       "2              1 UP MOTOS SAS  Operating revenue (Turnover)\\nth USD 2012  n.a.\n",
       "3              1 UP MOTOS SAS  Operating revenue (Turnover)\\nth USD 2013  n.a.\n",
       "4              1 UP MOTOS SAS  Operating revenue (Turnover)\\nth USD 2014  n.a."
      ]
     },
     "metadata": {},
     "output_type": "display_data"
    }
   ],
   "source": [
    "import pandas as pd\n",
    "\n",
    "file_path = '/Users/claupq/Documents/MediaLabPUCP/_data/bogota_firms.xlsx'\n",
    "\n",
    "# Read the DataFrame of 'Results'\n",
    "df_results = pd.read_excel(file_path, sheet_name='Results')\n",
    "\n",
    "# Use 'loc' to reshape the dataset from wide to long and filter columns\n",
    "melted_df_results = df_results.melt(\n",
    "    id_vars=['Company name Latin alphabet'],\n",
    "    var_name='year',\n",
    "    value_name='value'\n",
    ").loc[\n",
    "    :, ['Company name Latin alphabet', 'year', 'value']\n",
    "]\n",
    "\n",
    "# Drop columns if they are in Dollars\n",
    "melted_df_results = melted_df_results.loc[\n",
    "    ~melted_df_results['year'].str.contains('Dollars')\n",
    "]\n",
    "\n",
    "# Keept columns since 2023\n",
    "melted_df_results = melted_df_results.loc[\n",
    "    melted_df_results['year'] >= 'Operating revenue (Turnover)\\nth LCU 2023'\n",
    "].sort_values(\n",
    "    by=['Company name Latin alphabet', 'year']\n",
    ").reset_index(\n",
    "    drop=True\n",
    ")\n",
    "\n",
    "# Display the resulting DataFrame\n",
    "display(\"DataFrame reorganizado (formato largo):\")\n",
    "display(melted_df_results.head())"
   ]
   "cell_type": "code",
   "execution_count": null,
   "id": "a41374cd",
   "metadata": {},
   "outputs": [],
   "source": []
=======
>>>>>>> Stashed changes
  }
 ],
 "metadata": {
  "kernelspec": {
   "display_name": "Python 3 (ipykernel)",
   "language": "python",
   "name": "python3"
  },
  "language_info": {
   "codemirror_mode": {
    "name": "ipython",
    "version": 3
   },
   "file_extension": ".py",
   "mimetype": "text/x-python",
   "name": "python",
   "nbconvert_exporter": "python",
   "pygments_lexer": "ipython3",
   "version": "3.11.5"
  }
 },
 "nbformat": 4,
 "nbformat_minor": 5
}
