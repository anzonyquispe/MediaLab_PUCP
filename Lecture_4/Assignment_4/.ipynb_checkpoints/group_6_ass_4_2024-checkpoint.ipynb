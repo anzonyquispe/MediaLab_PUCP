{
 "cells": [
  {
   "cell_type": "markdown",
   "id": "1d648d5a",
   "metadata": {},
   "source": [
    "# Assignment 4"
   ]
  },
  {
   "cell_type": "markdown",
   "id": "4131c565",
   "metadata": {},
   "source": [
    "1. Inspect this dataset `./_data/bogota_firms.xlsx` and show some descriptive statistics of it.\n",
    "2. Reshape the dataset from wide to long at year level. Drop columns if they are in Dollars. Keep columns from Operating revenue (Turnover) th LCU 2023 to the end, and the name of the firm.\n",
    "3. Rename the columns and use short names for each column. This new name should be shorter than 20 characters.\n",
    "4. Generate a dictionary with the definition of all the columns in your dataset.\n",
    "5. Generate a function named as calling_data that take as input the `name of the firm  or list of names (firm_name)` and `(start_year, end_year)`. The function should return a tuple with a dataframe with the same format as the one resulting from task 1-4, and your dictionary of columns. The function should work without `end_year`. It means it only takes `start_year`.\n"
   ]
  },
  {
   "cell_type": "markdown",
   "id": "5356b614",
   "metadata": {},
   "source": [
    "# Step 1"
   ]
  },
  {
   "cell_type": "code",
   "execution_count": 15,
   "id": "5a91672a",
   "metadata": {},
   "outputs": [],
   "source": [
    "import pandas as pd"
   ]
  },
  {
   "cell_type": "code",
   "execution_count": 16,
   "id": "71e323c5",
   "metadata": {},
   "outputs": [
    {
     "name": "stdout",
     "output_type": "stream",
     "text": [
      "         List export Unnamed: 1 Unnamed: 2  \\\n",
      "count             23          9          2   \n",
      "unique            23          9          2   \n",
      "top     Product name      Orbis      31/03   \n",
      "freq               1          1          1   \n",
      "\n",
      "                                 Unnamed: 3   Unnamed: 4     Unnamed: 5  \n",
      "count                                     3            4              3  \n",
      "unique                                    3            4              3  \n",
      "top     Active companies, Unknown situation  Step result  Search result  \n",
      "freq                                      1            1              1  \n"
     ]
    }
   ],
   "source": [
    "file_path = 'C:/Users/ext-amardini/Documents/Abraham/MediaLab_PUCP/_data/bogota_firms.xlsx'\n",
    "df = pd.read_excel(file_path)\n",
    "descriptive_statistics = df.describe()\n",
    "print (descriptive_statistics)"
   ]
  }
 ],
 "metadata": {
  "kernelspec": {
   "display_name": "Python 3 (ipykernel)",
   "language": "python",
   "name": "python3"
  },
  "language_info": {
   "codemirror_mode": {
    "name": "ipython",
    "version": 3
   },
   "file_extension": ".py",
   "mimetype": "text/x-python",
   "name": "python",
   "nbconvert_exporter": "python",
   "pygments_lexer": "ipython3",
   "version": "3.11.5"
  }
 },
 "nbformat": 4,
 "nbformat_minor": 5
}
