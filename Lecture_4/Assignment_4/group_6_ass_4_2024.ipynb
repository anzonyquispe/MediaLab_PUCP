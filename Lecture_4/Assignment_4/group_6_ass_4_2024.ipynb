{
 "cells": [
  {
   "cell_type": "markdown",
   "id": "1d648d5a",
   "metadata": {},
   "source": [
    "# Assignment 4"
   ]
  },
  {
   "cell_type": "markdown",
   "id": "4131c565",
   "metadata": {},
   "source": [
    "1. Inspect this dataset `./_data/bogota_firms.xlsx` and show some descriptive statistics of it.\n",
    "2. Reshape the dataset from wide to long at year level. Drop columns if they are in Dollars. Keep columns from Operating revenue (Turnover) th LCU 2023 to the end, and the name of the firm.\n",
    "3. Rename the columns and use short names for each column. This new name should be shorter than 20 characters.\n",
    "4. Generate a dictionary with the definition of all the columns in your dataset.\n",
    "5. Generate a function named as calling_data that take as input the `name of the firm  or list of names (firm_name)` and `(start_year, end_year)`. The function should return a tuple with a dataframe with the same format as the one resulting from task 1-4, and your dictionary of columns. The function should work without `end_year`. It means it only takes `start_year`.\n"
   ]
  },
  {
   "cell_type": "markdown",
   "id": "5356b614",
   "metadata": {},
   "source": [
    "# Step 1"
   ]
  },
  {
   "cell_type": "code",
   "execution_count": 38,
   "id": "5a91672a",
   "metadata": {},
   "outputs": [],
   "source": [
    "import pandas as pd"
   ]
  },
  {
   "cell_type": "code",
   "execution_count": 39,
   "id": "71e323c5",
   "metadata": {
    "scrolled": true
   },
   "outputs": [
    {
     "ename": "FileNotFoundError",
     "evalue": "[Errno 2] No such file or directory: 'C:/Users/ext-amardini/Documents/Abraham/MediaLab_PUCP/_data/bogota_firms.xlsx'",
     "output_type": "error",
     "traceback": [
      "\u001b[1;31m---------------------------------------------------------------------------\u001b[0m",
      "\u001b[1;31mFileNotFoundError\u001b[0m                         Traceback (most recent call last)",
      "Cell \u001b[1;32mIn[39], line 2\u001b[0m\n\u001b[0;32m      1\u001b[0m file_path \u001b[38;5;241m=\u001b[39m \u001b[38;5;124m'\u001b[39m\u001b[38;5;124mC:/Users/ext-amardini/Documents/Abraham/MediaLab_PUCP/_data/bogota_firms.xlsx\u001b[39m\u001b[38;5;124m'\u001b[39m\n\u001b[1;32m----> 2\u001b[0m df \u001b[38;5;241m=\u001b[39m pd\u001b[38;5;241m.\u001b[39mread_excel(file_path)\n\u001b[0;32m      3\u001b[0m descriptive_statistics \u001b[38;5;241m=\u001b[39m df\u001b[38;5;241m.\u001b[39mdescribe()\n\u001b[0;32m      4\u001b[0m \u001b[38;5;28mprint\u001b[39m (descriptive_statistics)\n",
      "File \u001b[1;32mD:\\Programas\\Anaconda\\Lib\\site-packages\\pandas\\io\\excel\\_base.py:478\u001b[0m, in \u001b[0;36mread_excel\u001b[1;34m(io, sheet_name, header, names, index_col, usecols, dtype, engine, converters, true_values, false_values, skiprows, nrows, na_values, keep_default_na, na_filter, verbose, parse_dates, date_parser, date_format, thousands, decimal, comment, skipfooter, storage_options, dtype_backend)\u001b[0m\n\u001b[0;32m    476\u001b[0m \u001b[38;5;28;01mif\u001b[39;00m \u001b[38;5;129;01mnot\u001b[39;00m \u001b[38;5;28misinstance\u001b[39m(io, ExcelFile):\n\u001b[0;32m    477\u001b[0m     should_close \u001b[38;5;241m=\u001b[39m \u001b[38;5;28;01mTrue\u001b[39;00m\n\u001b[1;32m--> 478\u001b[0m     io \u001b[38;5;241m=\u001b[39m ExcelFile(io, storage_options\u001b[38;5;241m=\u001b[39mstorage_options, engine\u001b[38;5;241m=\u001b[39mengine)\n\u001b[0;32m    479\u001b[0m \u001b[38;5;28;01melif\u001b[39;00m engine \u001b[38;5;129;01mand\u001b[39;00m engine \u001b[38;5;241m!=\u001b[39m io\u001b[38;5;241m.\u001b[39mengine:\n\u001b[0;32m    480\u001b[0m     \u001b[38;5;28;01mraise\u001b[39;00m \u001b[38;5;167;01mValueError\u001b[39;00m(\n\u001b[0;32m    481\u001b[0m         \u001b[38;5;124m\"\u001b[39m\u001b[38;5;124mEngine should not be specified when passing \u001b[39m\u001b[38;5;124m\"\u001b[39m\n\u001b[0;32m    482\u001b[0m         \u001b[38;5;124m\"\u001b[39m\u001b[38;5;124man ExcelFile - ExcelFile already has the engine set\u001b[39m\u001b[38;5;124m\"\u001b[39m\n\u001b[0;32m    483\u001b[0m     )\n",
      "File \u001b[1;32mD:\\Programas\\Anaconda\\Lib\\site-packages\\pandas\\io\\excel\\_base.py:1496\u001b[0m, in \u001b[0;36mExcelFile.__init__\u001b[1;34m(self, path_or_buffer, engine, storage_options)\u001b[0m\n\u001b[0;32m   1494\u001b[0m     ext \u001b[38;5;241m=\u001b[39m \u001b[38;5;124m\"\u001b[39m\u001b[38;5;124mxls\u001b[39m\u001b[38;5;124m\"\u001b[39m\n\u001b[0;32m   1495\u001b[0m \u001b[38;5;28;01melse\u001b[39;00m:\n\u001b[1;32m-> 1496\u001b[0m     ext \u001b[38;5;241m=\u001b[39m inspect_excel_format(\n\u001b[0;32m   1497\u001b[0m         content_or_path\u001b[38;5;241m=\u001b[39mpath_or_buffer, storage_options\u001b[38;5;241m=\u001b[39mstorage_options\n\u001b[0;32m   1498\u001b[0m     )\n\u001b[0;32m   1499\u001b[0m     \u001b[38;5;28;01mif\u001b[39;00m ext \u001b[38;5;129;01mis\u001b[39;00m \u001b[38;5;28;01mNone\u001b[39;00m:\n\u001b[0;32m   1500\u001b[0m         \u001b[38;5;28;01mraise\u001b[39;00m \u001b[38;5;167;01mValueError\u001b[39;00m(\n\u001b[0;32m   1501\u001b[0m             \u001b[38;5;124m\"\u001b[39m\u001b[38;5;124mExcel file format cannot be determined, you must specify \u001b[39m\u001b[38;5;124m\"\u001b[39m\n\u001b[0;32m   1502\u001b[0m             \u001b[38;5;124m\"\u001b[39m\u001b[38;5;124man engine manually.\u001b[39m\u001b[38;5;124m\"\u001b[39m\n\u001b[0;32m   1503\u001b[0m         )\n",
      "File \u001b[1;32mD:\\Programas\\Anaconda\\Lib\\site-packages\\pandas\\io\\excel\\_base.py:1371\u001b[0m, in \u001b[0;36minspect_excel_format\u001b[1;34m(content_or_path, storage_options)\u001b[0m\n\u001b[0;32m   1368\u001b[0m \u001b[38;5;28;01mif\u001b[39;00m \u001b[38;5;28misinstance\u001b[39m(content_or_path, \u001b[38;5;28mbytes\u001b[39m):\n\u001b[0;32m   1369\u001b[0m     content_or_path \u001b[38;5;241m=\u001b[39m BytesIO(content_or_path)\n\u001b[1;32m-> 1371\u001b[0m \u001b[38;5;28;01mwith\u001b[39;00m get_handle(\n\u001b[0;32m   1372\u001b[0m     content_or_path, \u001b[38;5;124m\"\u001b[39m\u001b[38;5;124mrb\u001b[39m\u001b[38;5;124m\"\u001b[39m, storage_options\u001b[38;5;241m=\u001b[39mstorage_options, is_text\u001b[38;5;241m=\u001b[39m\u001b[38;5;28;01mFalse\u001b[39;00m\n\u001b[0;32m   1373\u001b[0m ) \u001b[38;5;28;01mas\u001b[39;00m handle:\n\u001b[0;32m   1374\u001b[0m     stream \u001b[38;5;241m=\u001b[39m handle\u001b[38;5;241m.\u001b[39mhandle\n\u001b[0;32m   1375\u001b[0m     stream\u001b[38;5;241m.\u001b[39mseek(\u001b[38;5;241m0\u001b[39m)\n",
      "File \u001b[1;32mD:\\Programas\\Anaconda\\Lib\\site-packages\\pandas\\io\\common.py:868\u001b[0m, in \u001b[0;36mget_handle\u001b[1;34m(path_or_buf, mode, encoding, compression, memory_map, is_text, errors, storage_options)\u001b[0m\n\u001b[0;32m    859\u001b[0m         handle \u001b[38;5;241m=\u001b[39m \u001b[38;5;28mopen\u001b[39m(\n\u001b[0;32m    860\u001b[0m             handle,\n\u001b[0;32m    861\u001b[0m             ioargs\u001b[38;5;241m.\u001b[39mmode,\n\u001b[1;32m   (...)\u001b[0m\n\u001b[0;32m    864\u001b[0m             newline\u001b[38;5;241m=\u001b[39m\u001b[38;5;124m\"\u001b[39m\u001b[38;5;124m\"\u001b[39m,\n\u001b[0;32m    865\u001b[0m         )\n\u001b[0;32m    866\u001b[0m     \u001b[38;5;28;01melse\u001b[39;00m:\n\u001b[0;32m    867\u001b[0m         \u001b[38;5;66;03m# Binary mode\u001b[39;00m\n\u001b[1;32m--> 868\u001b[0m         handle \u001b[38;5;241m=\u001b[39m \u001b[38;5;28mopen\u001b[39m(handle, ioargs\u001b[38;5;241m.\u001b[39mmode)\n\u001b[0;32m    869\u001b[0m     handles\u001b[38;5;241m.\u001b[39mappend(handle)\n\u001b[0;32m    871\u001b[0m \u001b[38;5;66;03m# Convert BytesIO or file objects passed with an encoding\u001b[39;00m\n",
      "\u001b[1;31mFileNotFoundError\u001b[0m: [Errno 2] No such file or directory: 'C:/Users/ext-amardini/Documents/Abraham/MediaLab_PUCP/_data/bogota_firms.xlsx'"
     ]
    }
   ],
   "source": [
    "file_path = 'C:/Users/ext-amardini/Documents/Abraham/MediaLab_PUCP/_data/bogota_firms.xlsx'\n",
    "df = pd.read_excel(file_path)\n",
    "descriptive_statistics = df.describe()\n",
    "print (descriptive_statistics)"
   ]
  },
  {
   "cell_type": "markdown",
   "id": "25a72a8d",
   "metadata": {},
   "source": [
    "# Step 2"
   ]
  },
  {
   "cell_type": "markdown",
   "id": "6a3f9a35",
   "metadata": {},
   "source": [
    "Reshape the dataset from wide to long at year level. Drop columns if they are in Dollars. Keep columns from Operating revenue (Turnover) th LCU 2023 to the end, and the name of the firm."
   ]
  },
  {
   "cell_type": "code",
   "execution_count": null,
   "id": "ba9b09c5",
   "metadata": {},
   "outputs": [],
   "source": [
    "excel_path = \"C:/Users/zuale/Documents/GitHub/MediaLab_PUCP/_data/bogota_firms.xlsx\"\n",
    "sheet_name = 'Results'  \n",
    "\n",
    "# Read the Excel file into a DataFrame\n",
    "df = pd.read_excel(excel_path, sheet_name=sheet_name)\n",
    "print(df.head(5))"
   ]
  },
  {
   "cell_type": "code",
   "execution_count": null,
   "id": "87476172",
   "metadata": {},
   "outputs": [],
   "source": [
    "print(df.columns)"
   ]
  },
  {
   "cell_type": "code",
   "execution_count": null,
   "id": "679c9f0b",
   "metadata": {
    "scrolled": true
   },
   "outputs": [],
   "source": [
    "#We need to select specific columns of the DataFrame by their positions\n",
    "selected_columns = df.iloc[:, [1] + list(range(6, 33))]\n",
    "\n",
    "#The we create a new DataFrame with the selected columns\n",
    "selected_df = selected_columns\n",
    "\n",
    "#We print the new DataFrame\n",
    "print(selected_df)"
   ]
  },
  {
   "cell_type": "code",
   "execution_count": null,
   "id": "7d563336",
   "metadata": {},
   "outputs": [],
   "source": [
    "#With that selected DataFrame we reshape it from wide to a long format\n",
    "df_long = pd.melt( selected_df, id_vars=[\"Last avail. year\", \"Company name Latin alphabet\"],\n",
    "                 var_name=\"Variable\",\n",
    "                 value_name=\"Value\"\n",
    "                 )\n",
    "#After we have our long DataFrame we sorted by \"Last avail.year\"\n",
    "df_long_sorted = df_long.sort_values(by=\"Last avail. year\")\n",
    "\n",
    "#We print the DataFrame sorted\n",
    "print(df_long_sorted)"
   ]
  },
  {
   "cell_type": "code",
   "execution_count": null,
   "id": "ae064190",
   "metadata": {},
   "outputs": [],
   "source": [
    "print(df_long_sorted.head(2))\n"
   ]
  },
  {
   "cell_type": "code",
   "execution_count": null,
   "id": "ba622c62",
   "metadata": {},
   "outputs": [],
   "source": [
    "df_long_sorted = df_long\n",
    "print(df_long.head(2))"
   ]
  },
  {
   "cell_type": "code",
   "execution_count": null,
   "id": "41ecf6f4",
   "metadata": {},
   "outputs": [],
   "source": [
    "#Now that we have our long and sorted DataFrame we have to drop columns if they are in Dollars (USD)\n",
    "#We use a filter to drop the rows where the now \"Variable\" contains USD/Dollars\n",
    "df_long_filtered = df_long[~df_long[\"Variable\"].str.contains(\"USD\")]\n",
    "\n",
    "#We use the reset index method to reset the index of DataFrame\n",
    "df_long_filtered_reset = df_long_filtered.reset_index(drop=True)\n",
    "#We print the long and filtered DataFrame\n",
    "print(df_long_filtered_reset)"
   ]
  },
  {
   "cell_type": "code",
   "execution_count": null,
   "id": "31bd36f6",
   "metadata": {},
   "outputs": [],
   "source": [
    "print(df_long_filtered_reset.head(2))"
   ]
  },
  {
   "cell_type": "markdown",
   "id": "87d3c646",
   "metadata": {},
   "source": [
    "# STEP 3"
   ]
  },
  {
   "cell_type": "code",
   "execution_count": null,
   "id": "449ea7e7",
   "metadata": {},
   "outputs": [],
   "source": [
    "import pandas as pd\n",
    "\n",
    "# Read the dataset from the 'Results' sheet\n",
    "excel_path = r\"D:\\Documents\\MediaLab_PUCP\\_data\\bogota_firms.xlsx\"\n",
    "sheet_nm = 'Results'\n",
    "df = pd.read_excel(excel_path, sheet_nm)\n",
    "print(df.head(3))\n",
    "\n",
    "# Rename columns using the mapping\n",
    "df.rename(columns={\"Operating revenue (Turnover) th LCU 2023\": \"Revenue_LCU_2023\",\n",
    "    \"Operating revenue (Turnover) th USD 2023\": \"Revenue_USD_2023\",\n",
    "    \"Operating revenue (Turnover) th LCU 2022\": \"Revenue_LCU_2022\",\n",
    "    \"Operating revenue (Turnover) th USD 2022\": \"Revenue_USD_2022\",\n",
    "    \"Operating revenue (Turnover) th LCU 2021\": \"Revenue_LCU_2021\",\n",
    "    \"Operating revenue (Turnover) th USD 2021\": \"Revenue_USD_2021\",\n",
    "    \"Operating revenue (Turnover) th LCU 2020\": \"Revenue_LCU_2020\",\n",
    "    \"Operating revenue (Turnover) th USD 2020\": \"Revenue_USD_2020\",\n",
    "    \"Operating revenue (Turnover) th LCU 2019\": \"Revenue_LCU_2019\",\n",
    "    \"Operating revenue (Turnover) th USD 2019\": \"Revenue_USD_2019\",\n",
    "    \"Operating revenue (Turnover) th LCU 2018\": \"Revenue_LCU_2018\",\n",
    "    \"Operating revenue (Turnover) th USD 2018\": \"Revenue_USD_2018\",\n",
    "    \"Operating revenue (Turnover) th LCU 2017\": \"Revenue_LCU_2017\",\n",
    "    \"Operating revenue (Turnover) th USD 2017\": \"Revenue_USD_2017\",\n",
    "    \"Operating revenue (Turnover) th LCU 2016\": \"Revenue_LCU_2016\",\n",
    "    \"Operating revenue (Turnover) th USD 2016\": \"Revenue_USD_2016\",\n",
    "    \"Operating revenue (Turnover) th LCU 2015\": \"Revenue_LCU_2015\",\n",
    "    \"Operating revenue (Turnover) th USD 2015\": \"Revenue_USD_2015\",\n",
    "    \"Operating revenue (Turnover) th LCU 2014\": \"Revenue_LCU_2014\",\n",
    "    \"Operating revenue (Turnover) th USD 2014\": \"Revenue_USD_2014\",\n",
    "    \"Operating revenue (Turnover) th LCU 2013\": \"Revenue_LCU_2013\",\n",
    "    \"Operating revenue (Turnover) th USD 2013\": \"Revenue_USD_2013\",\n",
    "    \"Operating revenue (Turnover) th LCU 2012\": \"Revenue_LCU_2012\",\n",
    "    \"Operating revenue (Turnover) th USD 2012\": \"Revenue_USD_2012\",\n",
    "    \"Operating revenue (Turnover) th LCU 2011\": \"Revenue_LCU_2011\",\n",
    "    \"Operating revenue (Turnover) th USD 2011\": \"Revenue_USD_2011\"}, inplace=True)\n",
    "\n",
    "# Print the updated DataFrame\n",
    "print(df)"
   ]
  },
  {
   "cell_type": "markdown",
   "id": "6002a8f0",
   "metadata": {},
   "source": [
    "# STEP 4"
   ]
  },
  {
   "cell_type": "code",
   "execution_count": null,
   "id": "151361f1",
   "metadata": {},
   "outputs": [],
   "source": [
    "# Import pandas library\n",
    "import pandas as pd\n",
    "\n",
    "# Read the dataset\n",
    "df = pd.read_excel(r\"D:\\Documents\\MediaLab_PUCP\\_data\\bogota_firms.xlsx\")\n",
    "\n",
    "# Define a dictionary of column definitions\n",
    "col_dict = {\n",
    "    \"Name of the firm\": \"The name of the company or organization\",\n",
    "\"Revenue_LCU_2023\": \"The operating revenue (turnover) in thousands of local currency units in 2023\",\n",
    "\"Revenue_USD_2023\": \"The operating revenue (turnover) in thousands of dollars in 2023\",\n",
    "\"Revenue_LCU_2022\": \"The operating revenue (turnover) in thousands of local currency units in 2022\",\n",
    "\"Revenue_USD_2022\": \"The operating revenue (turnover) in thousands of dollars in 2022\",\n",
    "\"Revenue_LCU_2021\": \"The operating revenue (turnover) in thousands of local currency units in 2021\",\n",
    "\"Revenue_USD_2021\": \"The operating revenue (turnover) in thousands of dollars in 2021\",\n",
    "\"Revenue_LCU_2020\": \"The operating revenue (turnover) in thousands of local currency units in 2020\",\n",
    "\"Revenue_USD_2020\": \"The operating revenue (turnover) in thousands of dollars in 2020\",\n",
    "\"Revenue_LCU_2019\": \"The operating revenue (turnover) in thousands of local currency units in 2019\",\n",
    "\"Revenue_USD_2019\": \"The operating revenue (turnover) in thousands of dollars in 2019\",\n",
    "\"Revenue_LCU_2018\": \"The operating revenue (turnover) in thousands of local currency units in 2018\",\n",
    "\"Revenue_USD_2018\": \"The operating revenue (turnover) in thousands of dollars in 2018\",\n",
    "\"Revenue_LCU_2017\": \"The operating revenue (turnover) in thousands of local currency units in 2017\",\n",
    "\"Revenue_USD_2017\": \"The operating revenue (turnover) in thousands of dollars in 2017\",\n",
    "\"Revenue_LCU_2016\": \"The operating revenue (turnover) in thousands of local currency units in 2016\",\n",
    "\"Revenue_USD_2016\": \"The operating revenue (turnover) in thousands of dollars in 2016\",\n",
    "\"Revenue_LCU_2015\": \"The operating revenue (turnover) in thousands of local currency units in 2015\",\n",
    "\"Revenue_USD_2015\": \"The operating revenue (turnover) in thousands of dollars in 2015\",\n",
    "\"Revenue_LCU_2014\": \"The operating revenue (turnover) in thousands of local currency units in 2014\",\n",
    "\"Revenue_USD_2014\": \"The operating revenue (turnover) in thousands of dollars in 2014\",\n",
    "\"Revenue_LCU_2013\": \"The operating revenue (turnover) in thousands of local currency units in 2013\",\n",
    "\"Revenue_USD_2013\": \"The operating revenue (turnover) in thousands of dollars in 2013\",\n",
    "\"Revenue_LCU_2012\": \"The operating revenue (turnover) in thousands of local currency units in 2012\",\n",
    "\"Revenue_USD_2012\": \"The operating revenue (turnover) in thousands of dollars in 2012\",\n",
    "\"Revenue_LCU_2011\": \"The operating revenue (turnover) in thousands of local currency units in 2011\",\n",
    "\"Revenue_USD_2011\": \"The operating revenue (turnover) in thousands of dollars in 2011\"\n",
    "\n",
    "}\n",
    "\n",
    "# Print the dictionary\n",
    "print(col_dict)"
   ]
  },
  {
   "cell_type": "code",
   "execution_count": null,
   "id": "c2ac2e2d",
   "metadata": {},
   "outputs": [],
   "source": []
  }
 ],
 "metadata": {
  "kernelspec": {
   "display_name": "Python 3 (ipykernel)",
   "language": "python",
   "name": "python3"
  },
  "language_info": {
   "codemirror_mode": {
    "name": "ipython",
    "version": 3
   },
   "file_extension": ".py",
   "mimetype": "text/x-python",
   "name": "python",
   "nbconvert_exporter": "python",
   "pygments_lexer": "ipython3",
   "version": "3.11.5"
  }
 },
 "nbformat": 4,
 "nbformat_minor": 5
}
