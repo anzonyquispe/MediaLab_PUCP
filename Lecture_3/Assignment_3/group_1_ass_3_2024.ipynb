{
 "cells": [
  {
   "cell_type": "markdown",
   "metadata": {},
   "source": [
    "# 1 Assignment 3"
   ]
  },
  {
   "cell_type": "code",
   "execution_count": 12,
   "metadata": {},
   "outputs": [],
   "source": [
    "import os\n",
    "import os\n",
    "import pickle\n",
    "import pandas as pd\n",
    "import numpy as np\n",
    "import urllib.request"
   ]
  },
  {
   "cell_type": "markdown",
   "metadata": {},
   "source": [
    "1. Import the `REC0111.sav`, `RE223132.sav` and `RE516171.sav` files and their variables and values labels from this path `\"../../_data/endes/2019\"`. The name of imported files should be named as `rec_1`, `rec_2` and `rec_3` for files `REC0111.sav`, `RE223132.sav` and `RE516171.sav` respectively. The name of the variable and value labels should be `var_labels1` and `value_labels1` for `rec1`, `var_labels2` and `value_labels2` for `rec2`, and `var_labels3` and `value_labels3` for `rec3`. **Hint: See the section 3.3.4 of [the lecture 3](https://github.com/alexanderquispe/Diplomado_PUCP/blob/main/Lecture_3/Lecture_3.ipynb)**"
   ]
  },
  {
   "cell_type": "code",
   "execution_count": 18,
   "metadata": {},
   "outputs": [
    {
     "data": {
      "text/plain": [
       "'/Users/claupq/Documents/MediaLab/Lecture_3/Assignment_3'"
      ]
     },
     "execution_count": 18,
     "metadata": {},
     "output_type": "execute_result"
    }
   ],
   "source": [
    "pwd"
   ]
  },
  {
   "cell_type": "code",
   "execution_count": 37,
   "metadata": {},
   "outputs": [
    {
     "name": "stdout",
     "output_type": "stream",
     "text": [
      "          ID1             HHID              CASEID    V001  V002  V003  \\\n",
      "0      2019.0        000100201        000100201  2     1.0   2.0   2.0   \n",
      "1      2019.0        000100201        000100201  3     1.0   2.0   3.0   \n",
      "2      2019.0        000102801        000102801  2     1.0  28.0   2.0   \n",
      "3      2019.0        000102801        000102801  6     1.0  28.0   6.0   \n",
      "4      2019.0        000104801        000104801  2     1.0  48.0   2.0   \n",
      "...       ...              ...                 ...     ...   ...   ...   \n",
      "38330  2019.0        325406201        325406201  2  3254.0  62.0   2.0   \n",
      "38331  2019.0        325406301        325406301  2  3254.0  63.0   2.0   \n",
      "38332  2019.0        325407001        325407001  2  3254.0  70.0   2.0   \n",
      "38333  2019.0        325407201        325407201  2  3254.0  72.0   2.0   \n",
      "38334  2019.0        325407401        325407401  2  3254.0  74.0   2.0   \n",
      "\n",
      "         V004    V007    V008  V009  ...  QD333_4  QD333_5  QD333_6  UBIGEO  \\\n",
      "0         1.0  2019.0  1434.0   4.0  ...       No       No       No  010101   \n",
      "1         1.0  2019.0  1434.0   1.0  ...       No       No       No  010101   \n",
      "2         1.0  2019.0  1434.0   6.0  ...       No       No       No  010101   \n",
      "3         1.0  2019.0  1434.0   3.0  ...       No       No       No  010101   \n",
      "4         1.0  2019.0  1434.0   5.0  ...       No       No       No  010101   \n",
      "...       ...     ...     ...   ...  ...      ...      ...      ...     ...   \n",
      "38330  3254.0  2019.0  1440.0  12.0  ...       No       No       No  250401   \n",
      "38331  3254.0  2019.0  1440.0   6.0  ...       No       No       No  250401   \n",
      "38332  3254.0  2019.0  1440.0   7.0  ...       No       No       No  250401   \n",
      "38333  3254.0  2019.0  1440.0  12.0  ...       No       No       No  250401   \n",
      "38334  3254.0  2019.0  1440.0  10.0  ...       No       No       No  250401   \n",
      "\n",
      "        V022      V005          V190      V191  \\\n",
      "0        3.0  154803.0          Rico  1.234450   \n",
      "1        3.0  154803.0          Rico  1.234450   \n",
      "2        3.0  154803.0          Rico  1.295611   \n",
      "3        3.0  154803.0          Rico  1.295611   \n",
      "4        3.0  154803.0        Pobrer -0.256431   \n",
      "...      ...       ...           ...       ...   \n",
      "38330  249.0  244995.0  El más pobre -1.750187   \n",
      "38331  249.0  244995.0  El más pobre -1.676861   \n",
      "38332  249.0  459792.0  El más pobre -1.585333   \n",
      "38333  249.0  459792.0  El más pobre -1.650159   \n",
      "38334  249.0  244995.0  El más pobre -1.644720   \n",
      "\n",
      "                                        mujeres12a49  NCONGLOME  \n",
      "0                    Mujeres de 15 a 49 años de edad     7065.0  \n",
      "1      Mujeres de 12 a 14 de edad, nunca embarazadas     7065.0  \n",
      "2                    Mujeres de 15 a 49 años de edad     7065.0  \n",
      "3                    Mujeres de 15 a 49 años de edad     7065.0  \n",
      "4                    Mujeres de 15 a 49 años de edad     7065.0  \n",
      "...                                              ...        ...  \n",
      "38330                Mujeres de 15 a 49 años de edad    15783.0  \n",
      "38331                Mujeres de 15 a 49 años de edad    15783.0  \n",
      "38332                Mujeres de 15 a 49 años de edad    15783.0  \n",
      "38333                Mujeres de 15 a 49 años de edad    15783.0  \n",
      "38334                Mujeres de 15 a 49 años de edad    15783.0  \n",
      "\n",
      "[38335 rows x 105 columns]\n"
     ]
    }
   ],
   "source": [
    "import pandas as pd\n",
    "ruta_archivo_spss = \"/Users/claupq/Documents/MediaLab/_data/endes/2019/REC0111.sav\"\n",
    "rec_1 = pd.read_spss(ruta_archivo_spss)\n",
    "print(rec_1)"
   ]
  },
  {
   "cell_type": "code",
   "execution_count": 45,
   "metadata": {},
   "outputs": [
    {
     "name": "stdout",
     "output_type": "stream",
     "text": [
      "Nombres de Variables Modificados: ['var_labels1_ID1', 'var_labels1_HHID', 'var_labels1_CASEID', 'var_labels1_V001', 'var_labels1_V002', 'var_labels1_V003', 'var_labels1_V004', 'var_labels1_V007', 'var_labels1_V008', 'var_labels1_V009', 'var_labels1_V010', 'var_labels1_V011', 'var_labels1_V012', 'var_labels1_V013', 'var_labels1_V014', 'var_labels1_V015', 'var_labels1_V017', 'var_labels1_V018', 'var_labels1_V019', 'var_labels1_V019A', 'var_labels1_V020', 'var_labels1_V021', 'var_labels1_V023', 'var_labels1_V024', 'var_labels1_V025', 'var_labels1_V026', 'var_labels1_V027', 'var_labels1_V028', 'var_labels1_V029', 'var_labels1_V030', 'var_labels1_V031', 'var_labels1_V032', 'var_labels1_V033', 'var_labels1_V034', 'var_labels1_V040', 'var_labels1_V042', 'var_labels1_V043', 'var_labels1_V044', 'var_labels1_V000', 'var_labels1_Q105DD', 'var_labels1_V101', 'var_labels1_V102', 'var_labels1_V103', 'var_labels1_V104', 'var_labels1_V105', 'var_labels1_V106', 'var_labels1_V107', 'var_labels1_V113', 'var_labels1_V115', 'var_labels1_V116', 'var_labels1_V119', 'var_labels1_V120', 'var_labels1_V121', 'var_labels1_V122', 'var_labels1_V123', 'var_labels1_V124', 'var_labels1_V125', 'var_labels1_V127', 'var_labels1_V128', 'var_labels1_V129', 'var_labels1_V130', 'var_labels1_V131', 'var_labels1_V133', 'var_labels1_V134', 'var_labels1_V135', 'var_labels1_V136', 'var_labels1_V137', 'var_labels1_V138', 'var_labels1_V139', 'var_labels1_V140', 'var_labels1_V141', 'var_labels1_V149', 'var_labels1_V150', 'var_labels1_V151', 'var_labels1_V152', 'var_labels1_V153', 'var_labels1_AWFACTT', 'var_labels1_AWFACTU', 'var_labels1_AWFACTR', 'var_labels1_AWFACTE', 'var_labels1_AWFACTW', 'var_labels1_V155', 'var_labels1_V156', 'var_labels1_V157', 'var_labels1_V158', 'var_labels1_V159', 'var_labels1_V160', 'var_labels1_V161', 'var_labels1_V166', 'var_labels1_V167', 'var_labels1_V168', 'var_labels1_ML101', 'var_labels1_QD333_1', 'var_labels1_QD333_2', 'var_labels1_QD333_3', 'var_labels1_QD333_4', 'var_labels1_QD333_5', 'var_labels1_QD333_6', 'var_labels1_UBIGEO', 'var_labels1_V022', 'var_labels1_V005', 'var_labels1_V190', 'var_labels1_V191', 'var_labels1_mujeres12a49', 'var_labels1_NCONGLOME']\n",
      "Etiquetas de Valores Modificadas: {'var_labels1_V013': {0.0: 'De 12 a 14 años de edad', 1.0: 'De 15 a 19 años de edad', 2.0: 'De 20 a 24 años de edad', 3.0: 'De 25 a 29 años de edad', 4.0: 'De 30 a 34 años de edad', 5.0: 'De 35 a 39 años de edad', 6.0: 'De 40 a 44 años de edad', 7.0: 'De 45 a 49 años de edad'}, 'var_labels1_V014': {1.0: 'Mes y año', 2.0: 'Mes y edad - año imputado', 3.0: 'Año y edad - mes imputado', 4.0: 'Año y edad - año ignorado supera el año de entrevista', 5.0: 'Año - edad y mes imputados', 6.0: 'Edad - año y mes imputados', 7.0: 'Mes - edad y año imputados', 8.0: 'Ninguno - edad, mes y año imputados'}, 'var_labels1_V015': {1.0: 'Completa', 2.0: 'Ausente', 3.0: 'Aplazada', 4.0: 'Rechazada', 5.0: 'Incoompleta', 6.0: 'Discapacitada', 7.0: 'Otra'}, 'var_labels1_V018': {0.0: 'Sin calendario'}, 'var_labels1_V019': {0.0: 'Sin calendario'}, 'var_labels1_V020': {0.0: 'Toda la mujer muestra', 1.0: 'Alguna muestra casada'}, 'var_labels1_V023': {1.0: 'Amazonas', 2.0: 'Ancash', 3.0: 'Apurimac', 4.0: 'Arequipa', 5.0: 'Ayacucho', 6.0: 'Cajamarca', 7.0: 'Callao', 8.0: 'Cusco', 9.0: 'Huancavelica', 10.0: ' Huanuco', 11.0: ' Ica', 12.0: ' Junin', 13.0: ' La Libertad', 14.0: ' Lambayeque', 15.0: ' Lima', 16.0: ' Loreto', 17.0: ' Madre de Dios', 18.0: ' Moquegua', 19.0: ' Pasco', 20.0: ' Piura', 21.0: ' Puno', 22.0: ' San Martin', 23.0: ' Tacna', 24.0: ' Tumbes', 25.0: ' Ucayali'}, 'var_labels1_V024': {1.0: 'Amazonas', 2.0: 'Ancash', 3.0: 'Apurimac', 4.0: 'Arequipa', 5.0: 'Ayacucho', 6.0: 'Cajamarca', 7.0: 'Callao', 8.0: 'Cusco', 9.0: 'Huancavelica', 10.0: ' Huanuco', 11.0: ' Ica', 12.0: ' Junin', 13.0: ' La Libertad', 14.0: ' Lambayeque', 15.0: ' Lima', 16.0: ' Loreto', 17.0: ' Madre de Dios', 18.0: ' Moquegua', 19.0: ' Pasco', 20.0: ' Piura', 21.0: ' Puno', 22.0: ' San Martin', 23.0: ' Tacna', 24.0: ' Tumbes', 25.0: ' Ucayali'}, 'var_labels1_V025': {1.0: 'Urbano', 2.0: 'Rural'}, 'var_labels1_V026': {0.0: 'Capital, gran ciudad', 1.0: 'Pequeña ciudad', 2.0: 'Pueblo', 3.0: 'Campo'}, 'var_labels1_V034': {0.0: 'El esposo no está en el hogar'}, 'var_labels1_V042': {0.0: 'No sabeleccionado', 1.0: 'Seleccionado'}, 'var_labels1_V043': {0.0: 'Mujer No sabeleccionada', 1.0: 'Mujer seleccionada'}, 'var_labels1_V044': {0.0: 'Mujer No sabeleccionada', 1.0: 'Mujer seleccionada y entrevistada', 2.0: 'Mujer seleccionada, pero la privacidad no es posible', 3.0: 'Mujer seleccionada, pero no entrevistada'}, 'var_labels1_Q105DD': {31.0: '1', 98.0: 'No sabe el dia'}, 'var_labels1_V101': {1.0: 'Amazonas', 2.0: 'Ancash', 3.0: 'Apurimac', 4.0: 'Arequipa', 5.0: 'Ayacucho', 6.0: 'Cajamarca', 7.0: 'Callao', 8.0: 'Cusco', 9.0: 'Huancavelica', 10.0: 'Huanuco', 11.0: 'Ica', 12.0: 'Junin', 13.0: 'La Libertad', 14.0: 'Lambayeque', 15.0: 'Lima', 16.0: 'Loreto', 17.0: 'Madre de Dios', 18.0: 'Moquegua', 19.0: 'Pasco', 20.0: 'Piura', 21.0: 'Puno', 22.0: 'San Martin', 23.0: 'Tacna', 24.0: 'Tumbes', 25.0: 'Ucayali'}, 'var_labels1_V102': {1.0: 'Urbano', 2.0: 'Rural'}, 'var_labels1_V103': {0.0: 'Capital, gran ciudad', 1.0: 'Ciudad', 2.0: 'Pueblo', 3.0: 'Campo', 4.0: 'En el extranjero'}, 'var_labels1_V104': {95.0: 'Siempre', 96.0: 'Visitante', 97.0: 'Inconsistente', 98.0: 'No sabe'}, 'var_labels1_V105': {0.0: 'Capital, gran ciudad', 1.0: 'Ciudad', 2.0: 'Pueblo', 3.0: 'Campo', 4.0: 'En el extranjero'}, 'var_labels1_V106': {0.0: 'Sin educación', 1.0: 'Primario', 2.0: 'Secundario', 3.0: 'Mayor'}, 'var_labels1_V113': {11.0: 'Dentro de la vivienda', 12.0: 'Fuera de la vivienda, pero dentro del edificio', 13.0: 'Pilón/Grifo público', 21.0: 'Pozo en la casa/patio/lote', 22.0: 'Pozo Público', 41.0: 'Manantial (puquio)', 43.0: 'Río/Acequia/Laguna', 51.0: 'Agua de lluvia', 61.0: 'Camión tanque/Aguatero', 71.0: 'Agua embotellada', 96.0: 'Otro', 97.0: 'No es residente habitual'}, 'var_labels1_V115': {996.0: 'En los lugares', 997.0: 'No residente de jure'}, 'var_labels1_V116': {11.0: 'Vivienda interior', 12.0: 'Vivienda exterior', 21.0: 'Letrina ventilada', 22.0: 'Pozo séptico', 23.0: 'Latrina (ciego o negro)', 24.0: 'Latrina sobre el río/lago', 31.0: 'Río, canal', 32.0: 'Sin servicio', 96.0: 'Otro', 97.0: 'No es residente habitual'}, 'var_labels1_V119': {0.0: 'No', 1.0: 'Si', 7.0: 'No es residente habitual'}, 'var_labels1_V120': {0.0: 'No', 1.0: 'Si', 7.0: 'No es residente habitual'}, 'var_labels1_V121': {0.0: 'No', 1.0: 'Si', 7.0: 'No es residente habitual'}, 'var_labels1_V122': {0.0: 'No', 1.0: 'Si', 7.0: 'No es residente habitual'}, 'var_labels1_V123': {0.0: 'No', 1.0: 'Si', 7.0: 'No es residente habitual'}, 'var_labels1_V124': {0.0: 'No', 1.0: 'Si', 7.0: 'No es residente habitual'}, 'var_labels1_V125': {0.0: 'No', 1.0: 'Si', 7.0: 'No es residente habitual'}, 'var_labels1_V127': {11.0: 'Tierra/arena', 21.0: 'Madera (entablados)', 31.0: 'Parquet o madera pulida', 32.0: 'Làminas asfálticas, vinílicos o similares', 33.0: 'Losetas, terrazos o similares', 34.0: 'Cemento/ladrillo', 96.0: 'Pona', 97.0: 'Otro(pona)'}, 'var_labels1_V128': {11.0: 'Tablones/madera', 12.0: 'Estera', 13.0: 'Caña/bambu/pona/palma/troncos/tabique', 21.0: 'Adobe o tapia tarrajeados', 22.0: 'Quincha (caña con barro)', 23.0: 'Piedra con barro', 24.0: 'Cartón', 31.0: 'Ladrillo o /Bloques de cemento', 32.0: 'Piedra o sillar con cal o cemento', 33.0: 'Tripley', 41.0: 'Sin paredes', 96.0: 'Otro', 97.0: 'No es residente habitual'}, 'var_labels1_V129': {11.0: 'Paja, hojas de palmera etc.', 12.0: 'Estera', 21.0: 'Caña o estera con torta de barro', 22.0: 'Cartón', 31.0: 'Concreto armado', 32.0: 'Madera', 33.0: 'Tejas', 34.0: 'Plancha de calamina, fibra de cemento o similares', 41.0: 'Sin techo', 96.0: 'Otro', 97.0: 'No es residente habitual'}, 'var_labels1_V130': {96.0: 'Otra'}, 'var_labels1_V131': {1.0: 'Quechua', 2.0: 'Aimara', 3.0: 'Ashaninka', 4.0: 'Awajún/Aguaruna', 5.0: 'Shipibo/Konibo', 6.0: 'Shawi/Chayahuita', 7.0: 'Matsigenka/ Machiguenga', 8.0: 'Achuar', 9.0: 'Otra lengua nativa u originaria', 10.0: 'Castellano', 11.0: 'Portugués', 12.0: 'Otra lengua extranjera'}, 'var_labels1_V133': {97.0: 'Inconsistente'}, 'var_labels1_V134': {0.0: 'Capital, ciudad grande', 1.0: 'Ciudad pequeña', 2.0: 'Pueblo', 3.0: 'Campo'}, 'var_labels1_V135': {1.0: 'Residente habitual', 2.0: 'Visitante'}, 'var_labels1_V139': {0.0: 'En el extranjero', 1.0: 'Amazonas', 2.0: 'Ancash', 3.0: 'Apurimac', 4.0: 'Arequipa', 5.0: 'Ayacucho', 6.0: 'Cajamarca', 7.0: 'Callao', 8.0: 'Cusco', 9.0: 'Huancavelica', 10.0: 'Huanuco', 11.0: 'Ica', 12.0: 'Junin', 13.0: 'La Libertad', 14.0: 'Lambayeque', 15.0: 'Lima', 16.0: 'Loreto', 17.0: 'Madre de Dios', 18.0: 'Moquegua', 19.0: 'Pasco', 20.0: 'Piura', 21.0: 'Puno', 22.0: 'San Martin', 23.0: 'Tacna', 24.0: 'Tumbes', 25.0: 'Ucayali', 97.0: 'No es residente habitual'}, 'var_labels1_V140': {1.0: 'Área urbana', 2.0: 'Área rural', 7.0: 'No es residente habitual'}, 'var_labels1_V141': {0.0: 'Capital, ciudad grande', 1.0: 'Ciudad pequeña', 2.0: 'Pueblo', 3.0: 'Campo', 7.0: 'No es residente habitual'}, 'var_labels1_V149': {0.0: 'Sin educación', 1.0: 'Primaria incompleta', 2.0: 'Primaria completa', 3.0: 'Secundaria incompleta', 4.0: 'Secundaria completa', 5.0: 'Superior'}, 'var_labels1_V150': {1.0: 'Jefe del hogar', 2.0: 'Esposa/esposo', 3.0: 'Hijo/Hija', 4.0: 'Yerno/Nuera', 5.0: 'Nieto/Nieta', 6.0: 'Padre/Madre', 7.0: 'Suegro/Suegra', 8.0: 'Hermano/a', 9.0: 'Conviviente', 10.0: 'Otro pariente', 11.0: 'Hijo adoptado/hijo de crianza', 12.0: 'Sin parentesco', 15.0: 'Empleada domésdtica', 98.0: 'No sabe'}, 'var_labels1_V151': {1.0: 'Hombre', 2.0: 'Mujer'}, 'var_labels1_V152': {97.0: '97+', 98.0: 'NS'}, 'var_labels1_V153': {0.0: 'No', 1.0: 'Si', 7.0: 'No es residente habitual'}, 'var_labels1_V155': {0.0: 'No puede leer', 1.0: 'Puede leer sólo parte de la frase', 2.0: 'Puede leer la frase', 3.0: 'No hay tarjeta en el idioma requerido', 4.0: 'Ciega/problemas visuales'}, 'var_labels1_V156': {0.0: 'No', 1.0: 'Si'}, 'var_labels1_V157': {0.0: 'Nunca', 1.0: 'De vez en cuando', 2.0: 'Una vez por semana', 3.0: 'Casi todos los días'}, 'var_labels1_V158': {0.0: 'Nunca', 1.0: 'De vez en cuando', 2.0: 'Una vez por semana', 3.0: 'Casi todos los días'}, 'var_labels1_V159': {0.0: 'Nunca', 1.0: 'De vez en cuando', 2.0: 'Una vez por semana', 3.0: 'Casi todos los días'}, 'var_labels1_V160': {0.0: 'No', 1.0: 'Si', 7.0: 'No es residente habitual'}, 'var_labels1_V161': {1.0: 'Electricidad', 2.0: 'Gas Licuado (GLP)', 3.0: 'Gas natural(Tuberia)', 5.0: 'Kerosene', 6.0: 'Carbón mineral', 7.0: 'Carbon vegetal', 8.0: 'Leña', 9.0: 'Cañas/Arbustos (secos)', 10.0: 'Residuos agricolas', 11.0: 'Bosta', 95.0: 'No cocina', 96.0: 'Otro', 97.0: 'No es residente habitual'}, 'var_labels1_V166': {0.0: 'Sin coloración  - 0 ppm (sin yodo)', 7.0: 'Coloración tenue - 7 ppm', 15.0: 'Coloración azul o morado - 15 ppm', 30.0: 'Coloración morado oscuro - 30 ppm a más', 994.0: 'No se pudo realizar la prueba', 995.0: 'No hay sal en el hogar'}, 'var_labels1_V167': {0.0: 'Ninguno'}, 'var_labels1_V168': {0.0: 'No', 1.0: 'Si'}, 'var_labels1_ML101': {0.0: 'Sin mosquitero', 1.0: 'Solo mosquiteros tratados', 2.0: 'Ambos mosquiteros tratados y no tratados', 3.0: 'Solo mosquiteros no tratados'}, 'var_labels1_QD333_1': {1.0: 'Si', 2.0: 'No'}, 'var_labels1_QD333_2': {1.0: 'Si', 2.0: 'No'}, 'var_labels1_QD333_3': {1.0: 'Si', 2.0: 'No'}, 'var_labels1_QD333_4': {1.0: 'Si', 2.0: 'No'}, 'var_labels1_QD333_5': {1.0: 'Si', 2.0: 'No'}, 'var_labels1_QD333_6': {1.0: 'Si', 2.0: 'No'}, 'var_labels1_V190': {1.0: 'El más pobre', 2.0: 'Pobrer', 3.0: 'Medio', 4.0: 'Rico', 5.0: 'Más rico'}, 'var_labels1_mujeres12a49': {0.0: 'Mujeres de 12 a 14 de edad, nunca embarazadas', 1.0: 'Mujeres de 12 a 49 de edad, alguna vez emabrazadas', 2.0: 'Mujeres de 15 a 49 años de edad'}}\n"
     ]
    }
   ],
   "source": [
    "import pyreadstat\n",
    "\n",
    "\n",
    "ruta_archivo_spss = \"/Users/claupq/Documents/MediaLab/_data/endes/2019/REC0111.sav\"\n",
    "\n",
    "\n",
    "rec_1, metadata_rec_1 = pyreadstat.read_sav(ruta_archivo_spss)\n",
    "\n",
    "\n",
    "rec_1.columns = [f'var_labels1_{col}' for col in rec_1.columns]\n",
    "\n",
    "\n",
    "nuevos_nombres_etiquetas = {f'var_labels1_{key}': value for key, value in metadata_rec_1.variable_value_labels.items()}\n",
    "metadata_rec_1.variable_value_labels = nuevos_nombres_etiquetas\n",
    "\n",
    "\n",
    "nombres_variables_modificados = rec_1.columns.tolist()\n",
    "print(\"Nombres de Variables Modificados:\", nombres_variables_modificados)\n",
    "\n",
    "\n",
    "print(\"Etiquetas de Valores Modificadas:\", metadata_rec_1.variable_value_labels)\n"
   ]
  },
  {
   "cell_type": "code",
   "execution_count": 11,
   "metadata": {},
   "outputs": [
    {
     "name": "stdout",
     "output_type": "stream",
     "text": [
      "          ID1              CASEID  V201  V202  V203  V204  V205  V206  V207  \\\n",
      "0      2019.0        000100201  2   2.0   1.0   1.0   0.0   0.0   0.0   0.0   \n",
      "1      2019.0        000100201  3   0.0   0.0   0.0   0.0   0.0   0.0   0.0   \n",
      "2      2019.0        000102801  2   3.0   1.0   2.0   0.0   0.0   0.0   0.0   \n",
      "3      2019.0        000102801  6   3.0   1.0   0.0   2.0   0.0   0.0   0.0   \n",
      "4      2019.0        000104801  2   3.0   1.0   2.0   0.0   0.0   0.0   0.0   \n",
      "...       ...                 ...   ...   ...   ...   ...   ...   ...   ...   \n",
      "36917  2019.0        325406201  2   5.0   1.0   1.0   2.0   1.0   0.0   0.0   \n",
      "36918  2019.0        325406301  2   5.0   2.0   2.0   0.0   1.0   0.0   0.0   \n",
      "36919  2019.0        325407001  2   8.0   2.0   0.0   5.0   0.0   0.0   1.0   \n",
      "36920  2019.0        325407201  2   2.0   1.0   0.0   0.0   0.0   1.0   0.0   \n",
      "36921  2019.0        325407401  2   1.0   1.0   0.0   0.0   0.0   0.0   0.0   \n",
      "\n",
      "       V208  ...  V307_09  V307_10  V307_11  V307_12 V307_13  V307_14 V307_15  \\\n",
      "0       1.0  ...      NaN      NaN      NaN      NaN     NaN      NaN     NaN   \n",
      "1       0.0  ...      NaN      NaN      NaN      NaN     NaN      NaN     NaN   \n",
      "2       2.0  ...       No       No      NaN      NaN     NaN      NaN     NaN   \n",
      "3       0.0  ...      NaN      NaN      NaN      NaN     NaN      NaN     NaN   \n",
      "4       1.0  ...      NaN      NaN      NaN      NaN     NaN      NaN     NaN   \n",
      "...     ...  ...      ...      ...      ...      ...     ...      ...     ...   \n",
      "36917   1.0  ...      NaN      NaN      NaN      NaN     NaN      NaN     NaN   \n",
      "36918   1.0  ...       No       Sí      NaN      NaN     NaN      NaN     NaN   \n",
      "36919   0.0  ...       Sí       No      NaN      NaN     NaN      NaN     NaN   \n",
      "36920   0.0  ...      NaN      NaN      NaN      NaN     NaN      NaN     NaN   \n",
      "36921   1.0  ...       No      NaN      NaN      NaN     NaN      NaN     NaN   \n",
      "\n",
      "      V307_16 QI302_05A  QI302_05B  \n",
      "0          No        Sí         No  \n",
      "1         NaN       NaN        NaN  \n",
      "2          No        No         Sí  \n",
      "3         NaN        No         No  \n",
      "4         NaN        No         Sí  \n",
      "...       ...       ...        ...  \n",
      "36917     NaN        No         Sí  \n",
      "36918     NaN        No         Sí  \n",
      "36919     NaN        No         Sí  \n",
      "36920     NaN        No         Sí  \n",
      "36921     NaN        No         Sí  \n",
      "\n",
      "[36922 rows x 176 columns]\n"
     ]
    }
   ],
   "source": [
    "import pandas as pd\n",
    "ruta_archivo_spss = \"/Users/claupq/Documents/MediaLab/_data/endes/2019/RE223132.sav\"\n",
    "rec_2 = pd.read_spss(ruta_archivo_spss)\n",
    "print(rec_2)"
   ]
  },
  {
   "cell_type": "code",
   "execution_count": 6,
   "metadata": {},
   "outputs": [
    {
     "name": "stdout",
     "output_type": "stream",
     "text": [
      "Nombres de Variables Modificados: ['var_labels2_ID1', 'var_labels2_CASEID', 'var_labels2_V201', 'var_labels2_V202', 'var_labels2_V203', 'var_labels2_V204', 'var_labels2_V205', 'var_labels2_V206', 'var_labels2_V207', 'var_labels2_V208', 'var_labels2_V209', 'var_labels2_V210', 'var_labels2_V211', 'var_labels2_V212', 'var_labels2_V213', 'var_labels2_V214', 'var_labels2_V215', 'var_labels2_V216', 'var_labels2_V217', 'var_labels2_V218', 'var_labels2_V219', 'var_labels2_V220', 'var_labels2_V221', 'var_labels2_V222', 'var_labels2_V223', 'var_labels2_V224', 'var_labels2_V225', 'var_labels2_V226', 'var_labels2_V227', 'var_labels2_V228', 'var_labels2_V229', 'var_labels2_V230', 'var_labels2_V231', 'var_labels2_V232', 'var_labels2_V233', 'var_labels2_V234', 'var_labels2_V235', 'var_labels2_V237', 'var_labels2_V238', 'var_labels2_V239', 'var_labels2_V240', 'var_labels2_V241', 'var_labels2_V242', 'var_labels2_V243', 'var_labels2_V301', 'var_labels2_V302', 'var_labels2_V310', 'var_labels2_V311', 'var_labels2_V312', 'var_labels2_V313', 'var_labels2_V315', 'var_labels2_V316', 'var_labels2_V317', 'var_labels2_V318', 'var_labels2_V319', 'var_labels2_V320', 'var_labels2_V321', 'var_labels2_V322', 'var_labels2_V323', 'var_labels2_V323A', 'var_labels2_V325A', 'var_labels2_V326', 'var_labels2_V327', 'var_labels2_V337', 'var_labels2_V359', 'var_labels2_V360', 'var_labels2_V361', 'var_labels2_V362', 'var_labels2_V363', 'var_labels2_V364', 'var_labels2_V367', 'var_labels2_V372', 'var_labels2_V372A', 'var_labels2_V375A', 'var_labels2_V376', 'var_labels2_V376A', 'var_labels2_V379', 'var_labels2_V380', 'var_labels2_V384A', 'var_labels2_V384B', 'var_labels2_V384C', 'var_labels2_V393', 'var_labels2_V394', 'var_labels2_V395', 'var_labels2_V3A00A', 'var_labels2_V3A00B', 'var_labels2_V3A00C', 'var_labels2_V3A00D', 'var_labels2_V3A00E', 'var_labels2_V3A00F', 'var_labels2_V3A00G', 'var_labels2_V3A00H', 'var_labels2_V3A00I', 'var_labels2_V3A00J', 'var_labels2_V3A00K', 'var_labels2_V3A00L', 'var_labels2_V3A00M', 'var_labels2_V3A00N', 'var_labels2_V3A00O', 'var_labels2_V3A00P', 'var_labels2_V3A00Q', 'var_labels2_V3A00R', 'var_labels2_V3A00S', 'var_labels2_V3A00T', 'var_labels2_V3A00U', 'var_labels2_V3A00V', 'var_labels2_V3A00W', 'var_labels2_V3A00X', 'var_labels2_V3A00Y', 'var_labels2_V3A00Z', 'var_labels2_V3A01', 'var_labels2_V3A02', 'var_labels2_V3A03', 'var_labels2_V3A04', 'var_labels2_V3A05', 'var_labels2_V3A06', 'var_labels2_V3A07', 'var_labels2_V3A08A', 'var_labels2_V3A08B', 'var_labels2_V3A08C', 'var_labels2_V3A08D', 'var_labels2_V3A08E', 'var_labels2_V3A08F', 'var_labels2_V3A08G', 'var_labels2_V3A08H', 'var_labels2_V3A08I', 'var_labels2_V3A08J', 'var_labels2_V3A08K', 'var_labels2_V3A08L', 'var_labels2_V3A08M', 'var_labels2_V3A08N', 'var_labels2_V3A08O', 'var_labels2_V3A08P', 'var_labels2_V3A08Q', 'var_labels2_V3A08R', 'var_labels2_V3A08S', 'var_labels2_V3A08T', 'var_labels2_V3A08U', 'var_labels2_V3A08V', 'var_labels2_V3A08W', 'var_labels2_V3A08X', 'var_labels2_V3A08Z', 'var_labels2_V3A09A', 'var_labels2_V3A09B', 'var_labels2_V305_01', 'var_labels2_V305_02', 'var_labels2_V305_03', 'var_labels2_V305_05', 'var_labels2_V305_06', 'var_labels2_V305_07', 'var_labels2_V305_08', 'var_labels2_V305_09', 'var_labels2_V305_10', 'var_labels2_V305_11', 'var_labels2_V305_13', 'var_labels2_V305_14', 'var_labels2_V305_15', 'var_labels2_V305_16', 'var_labels2_V307_01', 'var_labels2_V307_02', 'var_labels2_V307_03', 'var_labels2_V307_04', 'var_labels2_V307_05', 'var_labels2_V307_06', 'var_labels2_V307_07', 'var_labels2_V307_08', 'var_labels2_V307_09', 'var_labels2_V307_10', 'var_labels2_V307_11', 'var_labels2_V307_12', 'var_labels2_V307_13', 'var_labels2_V307_14', 'var_labels2_V307_15', 'var_labels2_V307_16', 'var_labels2_QI302_05A', 'var_labels2_QI302_05B']\n",
      "Etiquetas de Valores Modificadas: {'var_labels2_V213': {0.0: 'No o no está segura', 1.0: 'Sí'}, 'var_labels2_V215': {994.0: 'En la menopausia', 995.0: 'Antes del último nacimiento', 996.0: 'Nunca menstruado', 997.0: 'Inconsistente', 998.0: 'No sabe'}, 'var_labels2_V216': {0.0: 'No', 1.0: 'Si'}, 'var_labels2_V217': {1.0: 'Durante su periodo', 2.0: 'Después de su período', 3.0: 'En medio del ciclo', 4.0: 'Antes del período', 5.0: 'En cualquier momento', 6.0: 'Otro', 8.0: 'No sabe'}, 'var_labels2_V220': {6.0: '6+'}, 'var_labels2_V221': {996.0: 'Intervalo Negativo'}, 'var_labels2_V223': {7.0: 'Mes - fecha exacta', 8.0: 'Ninguno - fecha de colocación'}, 'var_labels2_V225': {1.0: 'En ese momento', 2.0: 'Querìa esperar', 3.0: 'No querìa tener (màs) hijas/hijos'}, 'var_labels2_V226': {994.0: 'En la menopausia', 995.0: 'Antes del último nacimiento', 996.0: 'Nunca menstruado', 997.0: 'Inconsistente', 998.0: 'No sabe'}, 'var_labels2_V227': {0.0: 'No marcado', 1.0: 'N> int. desde el nacimiento', 2.0: 'N + amen > intervalo', 3.0: 'N, pero per no ret', 4.0: '95, pero sin nacimiento', 5.0: '95, pero per. devuelto', 6.0: '96, pero por vuelta', 7.0: 'N, last per Emba', 8.0: '96, tuvo hijos', 9.0: 'N, per antes ult nac'}, 'var_labels2_V228': {0.0: 'No', 1.0: 'Si'}, 'var_labels2_V229': {97.0: 'Inconsistente', 98.0: 'No Sabe'}, 'var_labels2_V230': {9997.0: 'Inconsistente', 9998.0: 'No Sabe'}, 'var_labels2_V231': {9997.0: 'Inconsistente', 9998.0: 'No Sabe'}, 'var_labels2_V232': {1.0: 'Mes y año', 2.0: 'De calendario', 5.0: 'Año', 7.0: 'Mes', 8.0: 'Ninguna'}, 'var_labels2_V233': {97.0: 'Inconsistente', 98.0: 'NS'}, 'var_labels2_V234': {0.0: 'No', 1.0: 'Si'}, 'var_labels2_V235': {0.0: 'No niño anterior'}, 'var_labels2_V237': {0.0: 'No', 1.0: 'Si'}, 'var_labels2_V239': {0.0: 'No', 1.0: 'Si'}, 'var_labels2_V240': {97.0: 'Inconsistente', 98.0: 'No sabe'}, 'var_labels2_V241': {9997.0: 'Inconsistente', 9998.0: 'No sabe'}, 'var_labels2_V242': {9997.0: 'Inconsistente', 9998.0: 'No sabe'}, 'var_labels2_V243': {1.0: 'Mes y año', 2.0: 'De calendario', 5.0: 'Año', 7.0: 'Mes', 8.0: 'Ninguna'}, 'var_labels2_V301': {0.0: 'No conoce ningún método', 1.0: 'Sabe sólo folklórico', 2.0: 'Sólo sabe trad. mes', 3.0: 'Conoce el método moderno'}, 'var_labels2_V302': {0.0: 'Nunca usado', 1.0: 'Otros metodos', 2.0: 'Metodos tradicionales', 3.0: 'Metodos modernos'}, 'var_labels2_V311': {4.0: '4 a más', 5.0: 'Nunca usado'}, 'var_labels2_V312': {0.0: 'No usando', 1.0: 'Píldora', 2.0: 'DIU', 3.0: 'Inyección', 4.0: 'Diafragma', 5.0: 'Condón', 6.0: 'Esterilización femenina', 7.0: 'Esterilización masculina', 8.0: 'Abstinencia periódica', 9.0: 'Retiro', 10.0: 'Otro', 11.0: 'Norplant/Implantes', 12.0: 'Abstinencia', 13.0: 'Amenorrea por lactancia (MELA)', 14.0: 'Condón femenino', 15.0: 'Espuma, jalea, óvulos (vaginales)', 16.0: 'Anticoncepción oral de emergencia', 17.0: 'Método específico 1', 18.0: 'Método específico 2', 19.0: 'Método específico 3', 20.0: 'Método específico 4'}, 'var_labels2_V313': {0.0: 'No hay método', 1.0: 'Método folclórico', 2.0: 'Método tradicional', 3.0: 'Método moderno'}, 'var_labels2_V318': {1.0: 'Mes y año', 5.0: 'Año - m imp, una calc', 7.0: 'Mes - fecha de publicación', 8.0: 'Ninguno - fecha de colocación', 9.0: 'De calendario'}, 'var_labels2_V319': {1.0: 'menor de 2', 2.0: 'de 2 a 3', 3.0: 'de 4 a 5', 4.0: 'de 6 a 7', 5.0: 'de 8 a 9', 6.0: 'de 10 a más'}, 'var_labels2_V320': {1.0: 'menor de 25', 2.0: 'de 25 a 29', 3.0: 'de 30 a 34', 4.0: 'de 35 a 39', 5.0: 'de 40 a 44', 6.0: 'de 45 a 49'}, 'var_labels2_V321': {0.0: 'Soltero, antes del matrimonio', 1.0: 'de 0 a 4', 2.0: 'de 5 a 9', 3.0: 'de 10 a 14', 4.0: 'de 15 a 19', 5.0: 'de 20 a 24', 6.0: 'de 25 a más'}, 'var_labels2_V322': {5.0: 'de 5 a más'}, 'var_labels2_V323': {1.0: 'Microginon', 2.0: 'Nordet', 3.0: 'Lofemenal', 4.0: 'Gynera', 5.0: 'Ciclomex', 6.0: 'Triciclomex', 7.0: 'Femiane', 8.0: 'Mercilon', 9.0: 'Marvelon', 10.0: 'Lindiol-e', 11.0: 'Dione 35', 12.0: 'Cilest', 13.0: 'Triquilar', 14.0: 'Trinordiol', 15.0: 'Minigynon', 16.0: 'Exluton', 17.0: 'Ovrette', 18.0: 'Ovral', 19.0: 'Mirelle', 20.0: 'Yasmin Drospyperona', 21.0: 'Peldura', 22.0: 'Anuletyc', 23.0: 'Rigevidon', 24.0: 'Oral Con-F', 25.0: 'Canesa', 26.0: 'Belara', 27.0: 'Tri_Regol', 93.0: 'Sin marca (H. FF.AA., FF.PP)', 94.0: 'Sin marca (ESSALUD)', 95.0: 'Sin marca (MINSA)', 96.0: 'Otro', 98.0: 'No sabe'}, 'var_labels2_V323A': {1.0: 'OK', 2.0: 'Piel', 3.0: 'Royal', 4.0: 'Jontex', 5.0: 'Contempo', 6.0: 'Gens', 7.0: 'LifeStyle', 8.0: 'Sultan', 9.0: 'Durex', 10.0: 'Preventor', 11.0: 'Hanson plans', 12.0: 'Sensitive', 13.0: 'Play boy', 14.0: 'Lubritec', 15.0: 'Pantera', 16.0: 'Tex', 17.0: 'Seohung', 18.0: 'Aladan corporation', 19.0: 'Vladi', 20.0: 'Stalion', 21.0: 'Latex', 22.0: 'Pussy Cat', 23.0: 'Sensación', 24.0: 'Karex', 25.0: 'Do it Loverly', 26.0: 'Nonoxinol - 9', 27.0: 'Famila 28', 93.0: 'Sin marca (H. FF.AA., FF.PP)', 94.0: 'Sin marca (ESSALUD)', 95.0: 'Sin marca (MINSA)', 96.0: 'Otro', 98.0: 'No sabe'}, 'var_labels2_V325A': {9999995.0: 'Gratis', 9999998.0: 'No sabe'}, 'var_labels2_V326': {11.0: 'Hospital MINSA', 12.0: 'Centro de salud MINSA', 13.0: 'Puesto de salud MINSA', 14.0: 'Promotor de salud MINSA', 15.0: 'Hospital ESSALUD', 16.0: 'Policlìnico/Centro/Posta ESSALUD', 17.0: 'Hospital/Otros de las FFAA & PNP', 18.0: 'Hospital/Otro de la Municipalidad', 19.0: 'Otro gobierno', 21.0: 'Clínica particular', 22.0: 'Farmacia/botica', 23.0: 'Consultorio médico particular', 24.0: 'Clínica/Posta de ONG', 25.0: 'Promotor de ONG', 31.0: 'Tienda/supermercado/hostal', 32.0: 'Hospital/Otro de la Iglesia', 33.0: 'Amigos/parientes', 95.0: 'Automedicación', 96.0: 'Otro', 98.0: 'No sabe'}, 'var_labels2_V327': {1.0: 'Hospital, Centro de Salud, Puesto de Salud, Policlínico del Gobierno', 2.0: 'Promotor de Salud', 3.0: 'Clínica/Posta/ Promotor ONG', 4.0: 'Clínica/Consultorio médico particular', 5.0: 'Farmacia/botica', 6.0: 'Tienda, iglesia, amigo', 7.0: 'Automedicación/Otro', 8.0: 'No sabe', 9.0: 'Otro gobierno'}, 'var_labels2_V337': {95.0: 'Todas cal {A core}', 96.0: '96+ {B core}', 997.0: 'Inconsistente', 998.0: 'No sabe'}, 'var_labels2_V359': {1.0: 'Píldora', 2.0: 'DIU', 3.0: 'Inyecciones', 4.0: 'Diafragma', 5.0: 'Condón', 6.0: 'Esterilización femenina', 7.0: 'Esterilización masculina', 8.0: 'Abstinencia periódica', 9.0: 'Retiro', 10.0: 'Otro', 11.0: 'Norplant/Implantes', 12.0: 'Abstinencia', 13.0: 'Amenorrea por lactancia (MELA)', 14.0: 'Condón femenino', 15.0: 'Espuma, jalea, óvulos (vaginales)', 16.0: 'Anticoncepción oral de emergencia', 17.0: 'Método específico 1', 18.0: 'Método específico 2', 19.0: 'Método específico 3', 20.0: 'Método específico 4'}, 'var_labels2_V360': {1.0: 'Quedó embarazada', 2.0: 'Quería quedar embarazada', 3.0: 'Marido desaprobó', 4.0: 'Efectos secundarios', 5.0: 'Motivos de salud', 6.0: 'Acceso, disponibilidad', 7.0: 'Deseaba método más efectivo', 8.0: 'Uso inconveniente', 9.0: 'Sexo poco frecuente/Marido ausente', 10.0: 'Costo', 11.0: 'Fatalista', 12.0: 'Dificil quedar embarazda/menopausia', 13.0: 'Disolución matrimonial', 14.0: 'Otro', 98.0: 'No sabe'}, 'var_labels2_V361': {1.0: 'Actualmente usando', 2.0: 'Usado desde el último nacimiento', 3.0: 'Usado antes del último nacimiento', 4.0: 'Nunca usado'}, 'var_labels2_V362': {1.0: 'En los próximos 12 meses', 2.0: 'Usar más tarde', 3.0: 'No está seguro sobre el momento', 4.0: 'No está seguro sobre el uso', 5.0: 'No tiene la intención', 6.0: 'Nunca tuve relaciones sexuales'}, 'var_labels2_V363': {1.0: 'Píldora', 2.0: 'DIU', 3.0: 'Inyección', 4.0: 'Diafragma', 5.0: 'Condón', 6.0: 'Esterilización femenina', 7.0: 'Esterilización masculina', 8.0: 'Abstinencia periódica', 9.0: 'Retiro', 10.0: 'Otro', 11.0: 'Norplant/Implantes', 12.0: 'Abstinencia', 13.0: 'Amenorrea por lactancia (MELA)', 14.0: 'Condón femenino', 15.0: 'Espuma, jalea, óvulos (vaginales)', 16.0: 'Anticoncepción oral de emergencia', 98.0: 'No sabe'}, 'var_labels2_V364': {1.0: 'Usando el método moderno', 2.0: 'Usando el método tradicional', 3.0: 'No-usuario tiene la intención de', 4.0: 'No tiene la intención de', 5.0: 'Nunca tuve relaciones sexuales'}, 'var_labels2_V367': {1.0: 'Entonces', 2.0: 'Esperar más', 3.0: 'No quería más'}, 'var_labels2_V372': {0.0: 'Paquete no visto', 1.0: 'Paquete visto'}, 'var_labels2_V372A': {0.0: 'Paquete no visto', 1.0: 'Paquete visto'}, 'var_labels2_V375A': {11.0: 'No casado', 21.0: 'No tiene relaciones sexuales', 22.0: 'Sexo poco frecuente', 23.0: 'Menopausia', 24.0: 'Infertilidad/Subfecundidad', 25.0: 'Postparto/Lactancia', 26.0: 'Quiere más hijas(os)', 27.0: 'Embarazada', 28.0: 'Histerectomìa', 31.0: 'Entrevistada se opone', 32.0: 'Esposo/compañero se opuso', 33.0: 'Otros se oponen', 34.0: 'Prohibición religiosa', 41.0: 'No conoce ningún método', 42.0: 'No conoce ninguna fuente', 51.0: 'Problemas de salud', 52.0: 'Miedo a efectos secundarios', 53.0: 'Falta de acceso', 54.0: 'Muy costoso', 55.0: 'Uso inconveniente', 56.0: 'Interfiere con procesos normales del cuerpo', 96.0: 'Otro', 98.0: 'No sabe'}, 'var_labels2_V376': {11.0: 'No casado', 22.0: 'Sexo poco frecuente', 23.0: 'Menopáusica/histerectomizada', 24.0: 'Infertilidad mujer', 25.0: 'Infertilidad hombre', 26.0: 'Quiere más hijas(os)', 31.0: 'Entrevistada se opone', 32.0: 'Esposo/compañero se opuso', 33.0: 'Otros se oponen', 34.0: 'Prohibición religiosa', 41.0: 'No conoce ningún método', 42.0: 'No conoce ninguna fuente', 51.0: 'Problemas de salud', 52.0: 'Miedo a efectos secundarios', 53.0: 'Falta de acceso', 54.0: 'Muy costoso', 55.0: 'Uso inconveniente', 56.0: 'Interfiere con procesos normales del cuerpo', 96.0: 'Otro', 98.0: 'No sabe'}, 'var_labels2_V376A': {0.0: 'No', 1.0: 'Si', 8.0: 'No sabe'}, 'var_labels2_V379': {11.0: 'Hospital MINSA', 12.0: 'Centro de salud MINSA', 13.0: 'Puesto de salud MINSA', 14.0: 'Trabajadora sanitaria MINSA', 15.0: 'Hospital ESSALUD', 16.0: 'Centro/Correo ESSALUD', 17.0: 'Campaña/feria', 18.0: 'Otro gobierno', 21.0: 'Clínica privada', 22.0: 'Farmacia', 23.0: 'Médico privado', 24.0: 'Clínica/FP post ONG', 25.0: 'ONG de trabajadores de la salud', 31.0: 'Tienda/supermercado', 32.0: 'Iglesia', 33.0: 'Amigos/parientes', 95.0: 'Automedicación', 96.0: 'Otro', 98.0: 'No sabe'}, 'var_labels2_V380': {1.0: 'Govt Clinical/Pharm', 2.0: 'Casa de Gobierno/Comm liv', 3.0: 'ONG', 4.0: 'Private Clin/Deliv', 5.0: 'Farmacia Privada', 6.0: 'Tienda, iglesia, amigo', 7.0: 'Otro', 8.0: 'No sabe'}, 'var_labels2_V384A': {0.0: 'No', 1.0: 'Si'}, 'var_labels2_V384B': {0.0: 'No', 1.0: 'Si'}, 'var_labels2_V384C': {0.0: 'No', 1.0: 'Si'}, 'var_labels2_V393': {0.0: 'No', 1.0: 'Si'}, 'var_labels2_V394': {0.0: 'No', 1.0: 'Si'}, 'var_labels2_V395': {0.0: 'No', 1.0: 'Si'}, 'var_labels2_V3A00A': {0.0: 'No', 1.0: 'Hospital del gobierno'}, 'var_labels2_V3A00B': {0.0: 'No', 1.0: 'Centro de salud del gobierno'}, 'var_labels2_V3A00C': {0.0: 'No', 1.0: 'Puesto de salud del gobierno'}, 'var_labels2_V3A00D': {0.0: 'No', 1.0: 'Clínica móvil pública'}, 'var_labels2_V3A00E': {0.0: 'No', 1.0: 'Trabajador de salud comunitario'}, 'var_labels2_V3A00F': {0.0: 'No', 1.0: 'CS sector público'}, 'var_labels2_V3A00G': {0.0: 'No', 1.0: 'CS sector público'}, 'var_labels2_V3A00H': {0.0: 'No', 1.0: 'CS sector público'}, 'var_labels2_V3A00I': {0.0: 'No', 1.0: 'Other sector público'}, 'var_labels2_V3A00J': {0.0: 'No', 1.0: 'Hospítal/clínica particular'}, 'var_labels2_V3A00K': {0.0: 'No', 1.0: 'Famacia privada'}, 'var_labels2_V3A00L': {0.0: 'No', 1.0: 'Doctor privado'}, 'var_labels2_V3A00M': {0.0: 'No', 1.0: 'Clínica móvil privada'}, 'var_labels2_V3A00N': {0.0: 'No', 1.0: 'Trabajador de salud comunitario'}, 'var_labels2_V3A00O': {0.0: 'No', 1.0: 'CS sector privado'}, 'var_labels2_V3A00P': {0.0: 'No', 1.0: 'CS sector privado'}, 'var_labels2_V3A00Q': {0.0: 'No', 1.0: 'CS sector privado'}, 'var_labels2_V3A00R': {0.0: 'No', 1.0: 'Otro sector privado'}, 'var_labels2_V3A00S': {0.0: 'No', 1.0: 'Tienda'}, 'var_labels2_V3A00T': {0.0: 'No', 1.0: 'Práctica tradicional'}, 'var_labels2_V3A00U': {0.0: 'No', 1.0: 'CS otro sector privavdo'}, 'var_labels2_V3A00V': {0.0: 'No', 1.0: 'CS otro sector privado'}, 'var_labels2_V3A00W': {0.0: 'No', 1.0: 'CS otro sector privado'}, 'var_labels2_V3A00X': {0.0: 'No', 1.0: 'Otro'}, 'var_labels2_V3A00Y': {0.0: 'No: conoce una fuente', 1.0: 'Sí: no conoce ninguna fuente'}, 'var_labels2_V3A00Z': {0.0: 'No', 1.0: 'Si'}, 'var_labels2_V3A01': {0.0: 'No', 1.0: 'Si', 8.0: 'No sabe'}, 'var_labels2_V3A02': {0.0: 'No', 1.0: 'Si'}, 'var_labels2_V3A03': {0.0: 'No', 1.0: 'Si'}, 'var_labels2_V3A04': {0.0: 'No', 1.0: 'Si'}, 'var_labels2_V3A05': {0.0: 'No', 1.0: 'Si'}, 'var_labels2_V3A06': {0.0: 'No', 1.0: 'Si'}, 'var_labels2_V3A07': {11.0: 'Hospital MINSA', 12.0: 'Centro de salud MINSA', 13.0: 'Puesto de salud MINSA', 14.0: 'Promotor de salud  MINSA', 15.0: 'Hospital ESSALUD', 16.0: 'Policlìnico/Centro/Posta ESSALUD', 17.0: 'Hospital/Otros de las FFAA & PNP', 18.0: 'Hospital/Otro de la Municipalidad', 19.0: 'Otro gobierno', 21.0: 'Clínica particular', 22.0: 'Farmacia/botica', 23.0: 'Consultorio médico particular', 24.0: 'Clínica /Posta de ONG', 25.0: 'Promotores de ONG', 31.0: 'Tienda/supermercado/hostal', 32.0: 'Hospital/otro de la Iglesia', 33.0: 'Amigos/parientes', 95.0: 'Automedicación', 96.0: 'Otro', 97.0: 'No se pregunto fuente', 98.0: 'No sabe'}, 'var_labels2_V3A08A': {0.0: 'No', 1.0: 'No en unión'}, 'var_labels2_V3A08B': {0.0: 'No', 1.0: 'No tiene relaciones sexuales'}, 'var_labels2_V3A08C': {0.0: 'No', 1.0: 'Sexo poco frecuente'}, 'var_labels2_V3A08D': {0.0: 'No', 1.0: 'Menopáusica/histerectomizada'}, 'var_labels2_V3A08E': {0.0: 'No', 1.0: 'Infertilidad de la mujer'}, 'var_labels2_V3A08F': {0.0: 'No', 1.0: 'Amenorrea posparto'}, 'var_labels2_V3A08G': {0.0: 'No', 1.0: 'Lactancia'}, 'var_labels2_V3A08H': {0.0: 'No', 1.0: 'Fatalista'}, 'var_labels2_V3A08I': {0.0: 'No', 1.0: 'Entrevistada se opone'}, 'var_labels2_V3A08J': {0.0: 'No', 1.0: 'Esposo/compañero se opone'}, 'var_labels2_V3A08K': {0.0: 'No', 1.0: 'Otros se oponen'}, 'var_labels2_V3A08L': {0.0: 'No', 1.0: 'Prohibición religiosa'}, 'var_labels2_V3A08M': {0.0: 'No', 1.0: 'No conoce ningún método'}, 'var_labels2_V3A08N': {0.0: 'No', 1.0: 'No conoce ninguna fuente'}, 'var_labels2_V3A08O': {0.0: 'No', 1.0: 'Problemas de salud'}, 'var_labels2_V3A08P': {0.0: 'No', 1.0: 'Miedo a los efectos secundarios'}, 'var_labels2_V3A08Q': {0.0: 'No', 1.0: 'Falta de acceso/demasiado lejos'}, 'var_labels2_V3A08R': {0.0: 'No', 1.0: 'Muy costoso'}, 'var_labels2_V3A08S': {0.0: 'No', 1.0: 'Uso inconveniente'}, 'var_labels2_V3A08T': {0.0: 'No', 1.0: 'Interfiere con procesos normales del cuerpo'}, 'var_labels2_V3A08U': {0.0: 'No', 1.0: 'Infertilidad masculina'}, 'var_labels2_V3A08V': {0.0: 'No', 1.0: 'CS'}, 'var_labels2_V3A08W': {0.0: 'No', 1.0: 'CS'}, 'var_labels2_V3A08X': {0.0: 'No', 1.0: 'Otra'}, 'var_labels2_V3A08Z': {0.0: 'No', 1.0: 'No sabe'}, 'var_labels2_V3A09A': {998.0: 'No sabe'}, 'var_labels2_V3A09B': {998.0: 'No sabe'}, 'var_labels2_V305_01': {0.0: 'No', 1.0: 'Sí'}, 'var_labels2_V305_02': {0.0: 'No', 1.0: 'Sí'}, 'var_labels2_V305_03': {0.0: 'No', 1.0: 'Sí'}, 'var_labels2_V305_05': {0.0: 'No', 1.0: 'Sí'}, 'var_labels2_V305_06': {0.0: 'No', 1.0: 'Sí'}, 'var_labels2_V305_07': {0.0: 'No', 1.0: 'Sí'}, 'var_labels2_V305_08': {0.0: 'No', 1.0: 'Sí'}, 'var_labels2_V305_09': {0.0: 'No', 1.0: 'Sí'}, 'var_labels2_V305_10': {0.0: 'No', 1.0: 'Sí'}, 'var_labels2_V305_11': {0.0: 'No', 1.0: 'Sí'}, 'var_labels2_V305_13': {0.0: 'No', 1.0: 'Sí'}, 'var_labels2_V305_14': {0.0: 'No', 1.0: 'Sí'}, 'var_labels2_V305_15': {0.0: 'No', 1.0: 'Sí'}, 'var_labels2_V305_16': {0.0: 'No', 1.0: 'Sí'}, 'var_labels2_V307_01': {0.0: 'No', 1.0: 'Sí'}, 'var_labels2_V307_02': {0.0: 'No', 1.0: 'Sí'}, 'var_labels2_V307_03': {0.0: 'No', 1.0: 'Sí'}, 'var_labels2_V307_04': {0.0: 'No', 1.0: 'Sí'}, 'var_labels2_V307_05': {0.0: 'No', 1.0: 'Sí'}, 'var_labels2_V307_06': {0.0: 'No', 1.0: 'Sí'}, 'var_labels2_V307_07': {0.0: 'No', 1.0: 'Sí'}, 'var_labels2_V307_08': {0.0: 'No', 1.0: 'Sí'}, 'var_labels2_V307_09': {0.0: 'No', 1.0: 'Sí'}, 'var_labels2_V307_10': {0.0: 'No', 1.0: 'Sí'}, 'var_labels2_V307_11': {0.0: 'No', 1.0: 'Sí'}, 'var_labels2_V307_12': {0.0: 'No', 1.0: 'Sí'}, 'var_labels2_V307_13': {0.0: 'No', 1.0: 'Sí'}, 'var_labels2_V307_14': {0.0: 'No', 1.0: 'Sí'}, 'var_labels2_V307_15': {0.0: 'No', 1.0: 'Sí'}, 'var_labels2_V307_16': {0.0: 'No', 1.0: 'Sí'}, 'var_labels2_QI302_05A': {1.0: 'Sí', 2.0: 'No'}, 'var_labels2_QI302_05B': {1.0: 'Sí', 2.0: 'No'}}\n"
     ]
    }
   ],
   "source": [
    "import pyreadstat\n",
    "\n",
    "\n",
    "ruta_archivo_spss = \"/Users/claupq/Documents/MediaLab/_data/endes/2019/RE223132.sav\"\n",
    "\n",
    "\n",
    "rec_2, metadata_rec_2 = pyreadstat.read_sav(ruta_archivo_spss)\n",
    "\n",
    "\n",
    "rec_2.columns = [f'var_labels2_{col}' for col in rec_2.columns]\n",
    "\n",
    "\n",
    "nuevos_nombres_etiquetas = {f'var_labels2_{key}': value for key, value in metadata_rec_2.variable_value_labels.items()}\n",
    "metadata_rec_2.variable_value_labels = nuevos_nombres_etiquetas\n",
    "\n",
    "\n",
    "nombres_variables_modificados = rec_2.columns.tolist()\n",
    "\n",
    "print(\"Nombres de Variables Modificados:\", nombres_variables_modificados)\n",
    "\n",
    "\n",
    "print(\"Etiquetas de Valores Modificadas:\", metadata_rec_2.variable_value_labels)"
   ]
  },
  {
   "cell_type": "code",
   "execution_count": 7,
   "metadata": {},
   "outputs": [
    {
     "name": "stdout",
     "output_type": "stream",
     "text": [
      "          ID1              CASEID             V501                  V502  \\\n",
      "0      2019.0        000100201  2           Casado    Actualmente casada   \n",
      "1      2019.0        000102801  2  Viviendo juntos    Actualmente casada   \n",
      "2      2019.0        000102801  6  No viven juntos  Anteriormente casada   \n",
      "3      2019.0        000104801  2  Viviendo juntos    Actualmente casada   \n",
      "4      2019.0        000113601  2  Viviendo juntos    Actualmente casada   \n",
      "...       ...                 ...              ...                   ...   \n",
      "33306  2019.0        325406201  2  Viviendo juntos    Actualmente casada   \n",
      "33307  2019.0        325406301  2  Viviendo juntos    Actualmente casada   \n",
      "33308  2019.0        325407001  2  Viviendo juntos    Actualmente casada   \n",
      "33309  2019.0        325407201  2  Viviendo juntos    Actualmente casada   \n",
      "33310  2019.0        325407401  2  Viviendo juntos    Actualmente casada   \n",
      "\n",
      "                 V503           V504 V505 V506  V507    V508  ...  \\\n",
      "0             Una vez  Vive con ella  NaN  NaN   1.0  2008.0  ...   \n",
      "1             Una vez  Vive con ella  NaN  NaN  12.0  2011.0  ...   \n",
      "2             Una vez            NaN  NaN  NaN   8.0  1984.0  ...   \n",
      "3             Una vez  Vive con ella  NaN  NaN  12.0  2009.0  ...   \n",
      "4      Mas de una vez  Vive con ella  NaN  NaN  12.0  2005.0  ...   \n",
      "...               ...            ...  ...  ...   ...     ...  ...   \n",
      "33306  Mas de una vez  Vive con ella  NaN  NaN  12.0  1985.0  ...   \n",
      "33307         Una vez  Vive con ella  NaN  NaN  12.0  2002.0  ...   \n",
      "33308         Una vez  Vive con ella  NaN  NaN  11.0  1986.0  ...   \n",
      "33309         Una vez  Vive con ella  NaN  NaN   5.0  2008.0  ...   \n",
      "33310         Una vez  Vive con ella  NaN  NaN   6.0  2013.0  ...   \n",
      "\n",
      "                                 V743C                            V743D  \\\n",
      "0                         Entrevistada  Entrevistada y esposo/compañero   \n",
      "1      Entrevistada y esposo/compañero                     Entrevistada   \n",
      "2                                  NaN                              NaN   \n",
      "3                         Entrevistada                     Entrevistada   \n",
      "4                         Entrevistada                     Entrevistada   \n",
      "...                                ...                              ...   \n",
      "33306  Entrevistada y esposo/compañero  Entrevistada y esposo/compañero   \n",
      "33307                     Entrevistada                     Entrevistada   \n",
      "33308                 Esposo/compañero                 Esposo/compañero   \n",
      "33309                 Esposo/compañero                     Entrevistada   \n",
      "33310                 Esposo/compañero                 Esposo/compañero   \n",
      "\n",
      "                                 V743E                            V743F V744A  \\\n",
      "0                         Entrevistada                 Esposo/compañero    No   \n",
      "1                         Entrevistada  Entrevistada y esposo/compañero    No   \n",
      "2                                  NaN                              NaN    No   \n",
      "3                         Entrevistada                     Entrevistada    No   \n",
      "4      Entrevistada y esposo/compañero                 Esposo/compañero    No   \n",
      "...                                ...                              ...   ...   \n",
      "33306  Entrevistada y esposo/compañero  Entrevistada y esposo/compañero    No   \n",
      "33307                     Entrevistada  Entrevistada y esposo/compañero    No   \n",
      "33308                     Entrevistada  Entrevistada y esposo/compañero    No   \n",
      "33309                     Entrevistada  Entrevistada y esposo/compañero    No   \n",
      "33310                     Entrevistada  Entrevistada y esposo/compañero    No   \n",
      "\n",
      "      V744B V744C V744D V744E          V746  \n",
      "0        No    No    No    No    Más que el  \n",
      "1        No    No    No    No  Menos que el  \n",
      "2        No    No    No    No           NaN  \n",
      "3        No    No    No    No           NaN  \n",
      "4        No    No    No    No  Menos que el  \n",
      "...     ...   ...   ...   ...           ...  \n",
      "33306    No    No    No    No           NaN  \n",
      "33307    No    No    No    No           NaN  \n",
      "33308    No    No    No    No           NaN  \n",
      "33309    No    No    No    No           NaN  \n",
      "33310    No    No    No    No           NaN  \n",
      "\n",
      "[33311 rows x 84 columns]\n"
     ]
    }
   ],
   "source": [
    "import pandas as pd\n",
    "ruta_archivo_spss = \"/Users/claupq/Documents/MediaLab/_data/endes/2019/RE516171.sav\"\n",
    "rec_3 = pd.read_spss(ruta_archivo_spss)\n",
    "print(rec_3)"
   ]
  },
  {
   "cell_type": "code",
   "execution_count": 10,
   "metadata": {},
   "outputs": [
    {
     "name": "stdout",
     "output_type": "stream",
     "text": [
      "Nombres de Variables Modificados: ['var_labels3_ID1', 'var_labels3_CASEID', 'var_labels3_V501', 'var_labels3_V502', 'var_labels3_V503', 'var_labels3_V504', 'var_labels3_V505', 'var_labels3_V506', 'var_labels3_V507', 'var_labels3_V508', 'var_labels3_V509', 'var_labels3_V510', 'var_labels3_V511', 'var_labels3_V512', 'var_labels3_V513', 'var_labels3_V525', 'var_labels3_V527', 'var_labels3_V528', 'var_labels3_V529', 'var_labels3_V530', 'var_labels3_V531', 'var_labels3_V532', 'var_labels3_V535', 'var_labels3_V536', 'var_labels3_V537', 'var_labels3_V538', 'var_labels3_V539', 'var_labels3_V540', 'var_labels3_V541', 'var_labels3_V602', 'var_labels3_V603', 'var_labels3_V604', 'var_labels3_V605', 'var_labels3_V613', 'var_labels3_V614', 'var_labels3_V616', 'var_labels3_V621', 'var_labels3_V623', 'var_labels3_V624', 'var_labels3_V625', 'var_labels3_V626', 'var_labels3_V627', 'var_labels3_V628', 'var_labels3_V629', 'var_labels3_V631', 'var_labels3_V632', 'var_labels3_V633A', 'var_labels3_V633B', 'var_labels3_V633C', 'var_labels3_V633D', 'var_labels3_V633E', 'var_labels3_V633F', 'var_labels3_V633G', 'var_labels3_V634', 'var_labels3_V701', 'var_labels3_V702', 'var_labels3_V704', 'var_labels3_V705', 'var_labels3_V714', 'var_labels3_V714A', 'var_labels3_V715', 'var_labels3_V716', 'var_labels3_V717', 'var_labels3_V719', 'var_labels3_V721', 'var_labels3_V729', 'var_labels3_V730', 'var_labels3_V731', 'var_labels3_V732', 'var_labels3_V739', 'var_labels3_V740', 'var_labels3_V741', 'var_labels3_V743A', 'var_labels3_V743B', 'var_labels3_V743C', 'var_labels3_V743D', 'var_labels3_V743E', 'var_labels3_V743F', 'var_labels3_V744A', 'var_labels3_V744B', 'var_labels3_V744C', 'var_labels3_V744D', 'var_labels3_V744E', 'var_labels3_V746']\n",
      "Etiquetas de Valores Modificadas: {'var_labels3_V501': {0.0: 'Nunca casada', 1.0: 'Casado', 2.0: 'Viviendo juntos', 3.0: 'Viuda', 4.0: 'Divorciada', 5.0: 'No viven juntos'}, 'var_labels3_V502': {0.0: 'Nunca casada', 1.0: 'Actualmente casada', 2.0: 'Anteriormente casada'}, 'var_labels3_V503': {1.0: 'Una vez', 2.0: 'Mas de una vez'}, 'var_labels3_V504': {1.0: 'Vive con ella', 2.0: 'Vive en otro sitio'}, 'var_labels3_V505': {0.0: 'No otras esposas', 98.0: 'No sabe'}, 'var_labels3_V506': {98.0: 'No sabe'}, 'var_labels3_V510': {1.0: 'Tiene mes y año', 2.0: 'Tiene mes y edad - imputa año', 3.0: 'Tiene año y edad - imputa mes', 5.0: 'Tiene año - imputa mes', 6.0: 'Tiene edad - imputa mes año', 7.0: 'Tiene mes - imputa año', 8.0: 'Ninguno - imputa todo'}, 'var_labels3_V513': {0.0: 'Nunca casada', 1.0: 'De 0 a 4 años', 2.0: 'De 5 a 9 años', 3.0: 'De 10 a 14 años', 4.0: 'De 15 a 19 años', 5.0: 'De 20 a 24 años', 6.0: 'De 25 a 29 años', 7.0: 'De 30 a más años'}, 'var_labels3_V525': {0.0: 'Nunca tuvo relaciones sexuales', 96.0: 'En la primera union'}, 'var_labels3_V527': {100.0: 'Menos de un día', 101.0: 'Días:', 201.0: 'Semanas:', 301.0: 'Meses:', 401.0: 'Años:'}, 'var_labels3_V528': {31.0: '31 ó más días'}, 'var_labels3_V529': {997.0: 'Inconsistente'}, 'var_labels3_V530': {0.0: 'Sin marcador', 1.0: 'N> int. desde el nacimiento', 2.0: 'N + abst. > intervalo', 3.0: 'N, pero el sexo no res.', 4.0: '96, pero sin nacimiento', 5.0: '96, pero act emb', 6.0: '96, pero reanudó el sexo', 7.0: 'N, último sexo antes de', 8.0: 'N, inconsis 4 semanas', 9.0: 'N, sex bef last birt'}, 'var_labels3_V531': {0.0: 'No tuve relaciones sexuales', 97.0: 'Inconsistente', 98.0: 'No sabe'}, 'var_labels3_V532': {0.0: 'Sin bandera', 1.0: 'Despues de la entrevista', 2.0: 'Después de concep> = 1 año', 3.0: 'Después de concep <1 año', 4.0: 'En marr, nunca marr', 5.0: 'En marr, despues de concep', 6.0: 'Despues del matrimonio'}, 'var_labels3_V535': {0.0: 'No', 1.0: 'Sí, estuvo casada', 2.0: 'Sí, convivió'}, 'var_labels3_V536': {0.0: 'Nunca tuvo relaciones sexuales', 1.0: 'Activo en las últimas 4 semanas', 2.0: 'No activo en las últimas 4 semanas - abstinencia postparto', 3.0: 'No activo en las últimas 4 semanas - no abstinencia postparto'}, 'var_labels3_V537': {60.0: '60 meses o más', 97.0: 'Inconsistente'}, 'var_labels3_V538': {1.0: 'Muerte/viudez', 2.0: 'Divorcio', 3.0: 'Separación'}, 'var_labels3_V539': {1.0: 'Informante', 2.0: 'Otra esposa', 3.0: 'Hijos del cónyuge', 4.0: 'Familia del cónyuge', 6.0: 'Otro', 7.0: 'Sin propiedad'}, 'var_labels3_V540': {0.0: 'No', 1.0: 'Sí'}, 'var_labels3_V541': {0.0: 'No', 1.0: 'Sí', 8.0: 'No sabe/insegura'}, 'var_labels3_V602': {1.0: 'Tener un/otro hijo', 2.0: 'No sabe/insegura', 3.0: 'No más/ninguno', 4.0: 'Esterilizada', 5.0: 'Infertilidad'}, 'var_labels3_V603': {993.0: 'Despues del matrimonio', 994.0: 'Pronto, ahora', 996.0: 'Otro, No numérico', 998.0: 'No sabe'}, 'var_labels3_V604': {0.0: 'De 0 a 11 meses', 1.0: '1 año', 2.0: '2 años', 3.0: '3 años', 4.0: '4 años', 5.0: '5 años', 6.0: '6 ó más años', 7.0: 'No numérico', 8.0: 'No sabe'}, 'var_labels3_V605': {1.0: 'Quiere dentro de 2 años', 2.0: 'Quiere después de 2 ó más años', 3.0: 'Quiere, no está seguro de tiempo', 4.0: 'Indecisa', 5.0: 'No quiere mas', 6.0: 'Esterilizada', 7.0: 'Infértil'}, 'var_labels3_V613': {96.0: 'Respuesta no numérica'}, 'var_labels3_V614': {6.0: '6 ó más', 7.0: 'Respuesta no numérica'}, 'var_labels3_V616': {993.0: 'Despues del matrimonio', 994.0: 'Pronto/ahora', 995.0: 'No puede quedar embarazada', 996.0: 'Otro', 998.0: 'No sabe'}, 'var_labels3_V621': {1.0: 'Ambos quieren el mismo número', 2.0: 'Quiere más hijas/hijos', 3.0: 'Quiere menos hijas/hijos', 8.0: 'No sabe'}, 'var_labels3_V623': {0.0: 'Fértil', 1.0: 'Embarazada', 2.0: 'Amenorrea', 3.0: 'Infértil, menopausia'}, 'var_labels3_V624': {0.0: 'Nunca tuvo relaciones sexuales', 1.0: 'NeceSIDAd insatisfecha de espacio', 2.0: 'NeceSIDAd insatisfecha de limite', 3.0: 'Uso de espacio', 4.0: 'Uso de límite', 5.0: 'Falla de espacio', 6.0: 'Falla de límite', 7.0: 'Deseo de nacimiento <2 años', 8.0: 'No sexo, quiere esperar', 9.0: 'Infértil, menopausia'}, 'var_labels3_V625': {0.0: 'Fértil', 1.0: 'Embarazada', 2.0: 'Amenorreica', 3.0: 'Infértil, menopausia'}, 'var_labels3_V626': {0.0: 'Nunca tuve relaciones sexuales', 1.0: 'NeceSIDAd insatisfecha de espacio', 2.0: 'NeceSIDAd insatisfecha de limitar', 3.0: 'Uso de espacio', 4.0: 'Uso de límite', 5.0: 'Falla de espacio', 6.0: 'Falla de límite', 7.0: 'Deseo de nacimiento <2 años', 8.0: 'No sexo, quiere esperar', 9.0: 'Infértil, menopausia'}, 'var_labels3_V627': {96.0: 'Otro'}, 'var_labels3_V628': {96.0: 'Otro'}, 'var_labels3_V629': {96.0: 'Otro'}, 'var_labels3_V631': {1.0: 'Un gran problema', 2.0: 'Un pequeño problema', 3.0: 'No seria problema', 4.0: 'No puede quedar embarazada/No tiene relaciones sexuales'}, 'var_labels3_V632': {1.0: 'Entrevistada principalmente', 2.0: 'Esposo, compañero principalmente', 3.0: 'Decisión conjunta', 6.0: 'Otro'}, 'var_labels3_V633A': {0.0: 'No', 1.0: 'Sí', 8.0: 'No sabe'}, 'var_labels3_V633B': {0.0: 'No', 1.0: 'Sí', 8.0: 'No sabe'}, 'var_labels3_V633C': {0.0: 'No', 1.0: 'Sí', 8.0: 'No sabe'}, 'var_labels3_V633D': {0.0: 'No', 1.0: 'Sí', 8.0: 'No sabe'}, 'var_labels3_V633E': {0.0: 'No', 1.0: 'Sí', 8.0: 'No sabe'}, 'var_labels3_V633F': {0.0: 'No', 1.0: 'Sí', 8.0: 'No sabe'}, 'var_labels3_V633G': {0.0: 'No', 1.0: 'Sí', 8.0: 'No sabe'}, 'var_labels3_V634': {0.0: 'No', 1.0: 'Sí', 8.0: 'No sabe'}, 'var_labels3_V701': {0.0: 'Sin educación', 1.0: 'Primario', 2.0: 'Secundario', 3.0: 'Superior', 8.0: 'No sabe'}, 'var_labels3_V702': {98.0: 'No sabe'}, 'var_labels3_V704': {0.0: 'Otro, no trabaja, no especificada', 1.0: 'Fuerzas Armadas', 2.0: 'Fuerzas Policiales', 5.0: 'Pensionado, Jubilado, Rentista, Estudiante.', 11.0: 'Miembros del Poder Ejecutivo y de los Cuerpos Legislativos del Personal', 12.0: 'Directores de Empresa (con 3 o más Directores)', 13.0: 'Directores de la Educación', 14.0: 'Gerente de Pequeñas Empresas (Talleres)', 21.0: 'Profesionales de las Ciencias Físicas, Químicas, Matemáticas e Ingeniería, Civil, Arquitecto', 22.0: 'Ingenierías (diferentes a Ing. Civil)', 23.0: 'Profesionales de las Ciencias Biológicas, la Medicina y la Salud.', 24.0: 'Profesores (Maestros y/o Pedagogos), Auxiliar de Educación', 25.0: 'Profesionales de Derecho, Ciencias Económicas Administrativas', 26.0: 'Bibliotecario, Ciencias Sociales, Periodistas, Psicólogos', 27.0: 'Profesionales de las Artes, Escultura, Música y Afines', 28.0: 'Otros Profesionales y Trabajadores Varios: Turismo y Hotelería, Relacionista Público, Diplomáticos, Sacerdotes', 31.0: 'Técnicos de Nivel Medio en Ciencias Físicas, Químicas, Matemáticas e Ingeniería', 32.0: 'Operadores de Equipos Especializados, Fotógrafos y Afines', 33.0: 'Técnicos en Navegación Marítima y Aeronáutica e Inspectores de Seguridad, Salud y Control de Calidad', 34.0: 'Técnicos de Nivel Medio y Trabajadores Asimilados de las Ciencias Biológicas', 35.0: 'Técnicos de Nivel Medio y Trabajadores Asimilados de la Medicina y la Salud, Aplicación de Inyectables, Enfermera Técnic', 36.0: 'Jefes de Ventas y Técnicos en Administración, Contabilidad, Economía y Operaciones Financieras y Comerciales (Afines), T', 37.0: 'Agentes de Servicios Administrativos (Asesor Previsional AFP)', 38.0: 'Asistentes y Auxiliares en la Administración', 39.0: 'Artistas Afines, Trabajadores del Espectáculo, Atletas y Auxiliares de Cultos Religiosos', 41.0: 'Jefes de Dependencias Administrativas, Oficinistas, Secretarias, Digitador, Tipeos por Computadora', 42.0: 'Personal Administrativo y Empleados Afines', 43.0: 'Jefes de Servicios de Transportes y Trabajadores Afines, Controlador de Microbús', 44.0: 'Jefes de Servicios de Correos; Empleados de Bibliotecas, de Imprenta y Afines, Carteros, Mensajeros', 45.0: 'Cajeros, Recepcionistas y Trabajadores Asimilados, Telefonista, Cobradores (Excluye el Cobrador de Microbús)', 46.0: 'Empleados de Oficina en Operación de Campo y Otros Oficinistas, Encuestadores, Registradores, Supervisor de Campo, Auxil', 51.0: 'Personal al Servicio Directo de los Pasajeros, Guía de Turismo, Aeromoza', 52.0: 'Jefes, Ecónomas y Mayordomos, Azafata, Mozo', 53.0: 'Trabajadores de los Cuidados Personales,  Auxiliar de Enfermería, Ayudante en Consultorio Dental', 54.0: 'Peluqueros, Especialistas en Tratamiento de Belleza y Trabajadores Asimilados', 55.0: 'Trabajadores de Servicios Varios, Modelos, Tramitador de Documentos para Sepelio, Cartomancia', 56.0: 'Personal de los Servicios de Protección y Seguridad, Bombero, Policía Municipal, Serenazgo, Policía Particular', 57.0: 'Comerciantes Vendedores al Por Mayor y Por Menor, Vendedor en Kiosko, Vendedora en Puesto de Mercado, Demostrador de Art', 58.0: 'Comerciantes y Vendedores (No ambulatorio), No Clasificados Bajo otros Epígrafes, Vendedor Comisionista, Vendedor, Agent', 61.0: 'Agricult. (Expl.) y Trab. Calificados de Cultivos Extensivos: Peones de Labranza y Peones Agropecuarios,Peones Forestale', 62.0: 'Criadores y Trabajadores Pecuarios Calificados de Cría de Animales para el Mercado y Afines', 63.0: 'Pescadores, Cazadores y Tramperos Peones de la Pesca, la Caza y la Trampa', 71.0: 'Mineros, Canteros, Sondistas y Trabajadores Asimilados', 72.0: 'Obreros de Tratamiento de la Madera y de la Fabricación de Papel', 73.0: 'Obreros de los Tratamientos Químicos y Trabajadores Asimilados', 74.0: 'Hilanderos, Tejedores, Tintoreros y Trabajadores Asimilados', 75.0: 'Obreros de la Preparación, Curtido y Tratamiento de Pieles', 76.0: 'Obreros de la Preparación de Alimentos y Bebidas Degollador de Reses, Cortador de Carne, Panadero, Pastelero', 77.0: 'Obreros de Calzado, Sastres, Modistos, Peleteros, Ebanistas, Tapiceros y Otros Afines, Sombrerero', 78.0: 'Obreros, Mecánicos y Ajustadores de Metales, Equipos Eléctricos, Electrónicos y de Vehículos de Motor, Mecánico de Vehíc', 79.0: 'Ajustadores, Montadores e Instaladores de Máquinas e Instrumentos de Precisión, Relojeros, Mecánicos, Joyeros y Plateros', 81.0: 'Obreros de la Fabricación de Productos de Caucho y Plástico, Instrumentos de Música, Pintores y Conductores de Maquinari', 82.0: 'Confeccionadores de Productos de Papel y Cartón', 83.0: 'Obreros de las Artes Gráficas, Fotógrafo (Excluye Fotógrafo Ambulante)', 84.0: 'Obreros Manufactureros y Trabajadores Asimilados No Clasificados en Otras Clasificaciones', 85.0: 'Pintores de Edificios, de Decoración de Teatro, de Construcción Metálica, de Autos, de Pincel y de Rodillo', 86.0: 'Obreros en la Construcción, Albañil, Carpintero, Ebanista', 87.0: 'Operadores de Máquinas Agrícolas, Fijas y de Instalaciones Similares y Obreros de la Manipulación de Mercancías y Materi', 88.0: 'Conductores de Medios de Transporte y Personas en Ocupaciones Afines (Excepto a Pedal y a Mano), Chofer, Taxista', 91.0: 'Vendedores Ambulantes', 93.0: 'Cobradores y Vendedores de los Servicios de Transporte y Afines, Cobrador de Microbús', 94.0: 'Personal Doméstico, Limpiadores, Lavanderos, Planchadores y Afines, Conserje, Limpiabotas, Fotógrafo Ambulante, Jardiner', 95.0: 'Mensajeros, Repartidores, Porteros y Afines, Lector de Medidores, Guardián', 96.0: 'Recolectores de Basura', 98.0: 'Peones de la Minería, Suministro Electricidad, Gas y Agua, la Construcción, la Industria Manufacturera y el Transporte'}, 'var_labels3_V705': {0.0: 'No trabaja', 1.0: 'Profesional, Técnico, Gerente', 2.0: 'Eclesiástico', 3.0: 'Ventas', 4.0: 'Agricultor, trabajador independiente', 5.0: 'Agricultor, empleado', 6.0: 'Empleado del hogar', 7.0: 'Servicios', 8.0: 'Habilidades manuales', 9.0: 'Sin habilidades manuales'}, 'var_labels3_V714': {0.0: 'No', 1.0: 'Sí'}, 'var_labels3_V714A': {0.0: 'No', 1.0: 'Sí'}, 'var_labels3_V715': {98.0: 'No sabe'}, 'var_labels3_V716': {0.0: 'Otro, no trabaja, no especificada', 1.0: 'Fuerzas Armadas', 2.0: 'Fuerzas Policiales', 5.0: 'Pensionado, Jubilado, Rentista, Estudiante.', 11.0: 'Miembros del Poder Ejecutivo y de los Cuerpos Legislativos del Personal', 12.0: 'Directores de Empresa (con 3 o más Directores)', 13.0: 'Directores de la Educación', 14.0: 'Gerente de Pequeñas Empresas (Talleres)', 21.0: 'Profesionales de las Ciencias Físicas, Químicas, Matemáticas e Ingeniería, Civil, Arquitecto', 22.0: 'Ingenierías (diferentes a Ing. Civil)', 23.0: 'Profesionales de las Ciencias Biológicas, la Medicina y la Salud.', 24.0: 'Profesores (Maestros y/o Pedagogos), Auxiliar de Educación', 25.0: 'Profesionales de Derecho, Ciencias Económicas Administrativas', 26.0: 'Bibliotecario, Ciencias Sociales, Periodistas, Psicólogos', 27.0: 'Profesionales de las Artes, Escultura, Música y Afines', 28.0: 'Otros Profesionales y Trabajadores Varios: Turismo y Hotelería, Relacionista Público, Diplomáticos, Sacerdotes', 31.0: 'Técnicos de Nivel Medio en Ciencias Físicas, Químicas, Matemáticas e Ingeniería', 32.0: 'Operadores de Equipos Especializados, Fotógrafos y Afines', 33.0: 'Técnicos en Navegación Marítima y Aeronáutica e Inspectores de Seguridad, Salud y Control de Calidad', 34.0: 'Técnicos de Nivel Medio y Trabajadores Asimilados de las Ciencias Biológicas', 35.0: 'Técnicos de Nivel Medio y Trabajadores Asimilados de la Medicina y la Salud, Aplicación de Inyectables, Enfermera Técnic', 36.0: 'Jefes de Ventas y Técnicos en Administración, Contabilidad, Economía y Operaciones Financieras y Comerciales (Afines), T', 37.0: 'Agentes de Servicios Administrativos (Asesor Previsional AFP)', 38.0: 'Asistentes y Auxiliares en la Administración', 39.0: 'Artistas Afines, Trabajadores del Espectáculo, Atletas y Auxiliares de Cultos Religiosos', 41.0: 'Jefes de Dependencias Administrativas, Oficinistas, Secretarias, Digitador, Tipeos por Computadora', 42.0: 'Personal Administrativo y Empleados Afines', 43.0: 'Jefes de Servicios de Transportes y Trabajadores Afines, Controlador de Microbús', 44.0: 'Jefes de Servicios de Correos; Empleados de Bibliotecas, de Imprenta y Afines, Carteros, Mensajeros', 45.0: 'Cajeros, Recepcionistas y Trabajadores Asimilados, Telefonista, Cobradores (Excluye el Cobrador de Microbús)', 46.0: 'Empleados de Oficina en Operación de Campo y Otros Oficinistas, Encuestadores, Registradores, Supervisor de Campo, Auxil', 51.0: 'Personal al Servicio Directo de los Pasajeros, Guía de Turismo, Aeromoza', 52.0: 'Jefes, Ecónomas y Mayordomos, Azafata, Mozo', 53.0: 'Trabajadores de los Cuidados Personales,  Auxiliar de Enfermería, Ayudante en Consultorio Dental', 54.0: 'Peluqueros, Especialistas en Tratamiento de Belleza y Trabajadores Asimilados', 55.0: 'Trabajadores de Servicios Varios, Modelos, Tramitador de Documentos para Sepelio, Cartomancia', 56.0: 'Personal de los Servicios de Protección y Seguridad, Bombero, Policía Municipal, Serenazgo, Policía Particular', 57.0: 'Comerciantes Vendedores al Por Mayor y Por Menor, Vendedor en Kiosko, Vendedora en Puesto de Mercado, Demostrador de Art', 58.0: 'Comerciantes y Vendedores (No ambulatorio), No Clasificados Bajo otros Epígrafes, Vendedor Comisionista, Vendedor, Agent', 61.0: 'Agricult. (Expl.) y Trab. Calificados de Cultivos Extensivos: Peones de Labranza y Peones Agropecuarios,Peones Forestale', 62.0: 'Criadores y Trabajadores Pecuarios Calificados de Cría de Animales para el Mercado y Afines', 63.0: 'Pescadores, Cazadores y Tramperos Peones de la Pesca, la Caza y la Trampa', 71.0: 'Mineros, Canteros, Sondistas y Trabajadores Asimilados', 72.0: 'Obreros de Tratamiento de la Madera y de la Fabricación de Papel', 73.0: 'Obreros de los Tratamientos Químicos y Trabajadores Asimilados', 74.0: 'Hilanderos, Tejedores, Tintoreros y Trabajadores Asimilados', 75.0: 'Obreros de la Preparación, Curtido y Tratamiento de Pieles', 76.0: 'Obreros de la Preparación de Alimentos y Bebidas Degollador de Reses, Cortador de Carne, Panadero, Pastelero', 77.0: 'Obreros de Calzado, Sastres, Modistos, Peleteros, Ebanistas, Tapiceros y Otros Afines, Sombrerero', 78.0: 'Obreros, Mecánicos y Ajustadores de Metales, Equipos Eléctricos, Electrónicos y de Vehículos de Motor, Mecánico de Vehíc', 79.0: 'Ajustadores, Montadores e Instaladores de Máquinas e Instrumentos de Precisión, Relojeros, Mecánicos, Joyeros y Plateros', 81.0: 'Obreros de la Fabricación de Productos de Caucho y Plástico, Instrumentos de Música, Pintores y Conductores de Maquinari', 82.0: 'Confeccionadores de Productos de Papel y Cartón', 83.0: 'Obreros de las Artes Gráficas, Fotógrafo (Excluye Fotógrafo Ambulante)', 84.0: 'Obreros Manufactureros y Trabajadores Asimilados No Clasificados en Otras Clasificaciones', 85.0: 'Pintores de Edificios, de Decoración de Teatro, de Construcción Metálica, de Autos, de Pincel y de Rodillo', 86.0: 'Obreros en la Construcción, Albañil, Carpintero, Ebanista', 87.0: 'Operadores de Máquinas Agrícolas, Fijas y de Instalaciones Similares y Obreros de la Manipulación de Mercancías y Materi', 88.0: 'Conductores de Medios de Transporte y Personas en Ocupaciones Afines (Excepto a Pedal y a Mano), Chofer, Taxista', 91.0: 'Vendedores Ambulantes', 93.0: 'Cobradores y Vendedores de los Servicios de Transporte y Afines, Cobrador de Microbús', 94.0: 'Personal Doméstico, Limpiadores, Lavanderos, Planchadores y Afines, Conserje, Limpiabotas, Fotógrafo Ambulante, Jardiner', 95.0: 'Mensajeros, Repartidores, Porteros y Afines, Lector de Medidores, Guardián', 96.0: 'Recolectores de Basura', 98.0: 'Peones de la Minería, Suministro Electricidad, Gas y Agua, la Construcción, la Industria Manufacturera y el Transporte,'}, 'var_labels3_V717': {0.0: 'No trabaja', 1.0: 'Profesional, Técnico, Gerente', 2.0: 'Eclesiástico', 3.0: 'Ventas', 4.0: 'Agricultor, trabajador independiente', 5.0: 'Agricultor, empleado', 6.0: 'Empleada del hogar', 7.0: 'Servicios', 8.0: 'Habilidades manuales', 9.0: 'Sin habilidades manuales'}, 'var_labels3_V719': {1.0: 'Para un familiar', 2.0: 'Para alguien más', 3.0: 'Por cuenta propia'}, 'var_labels3_V721': {1.0: 'En el hogar', 2.0: 'Fuera del hogar'}, 'var_labels3_V729': {0.0: 'Sin educación', 1.0: 'Primaria incompleta', 2.0: 'Primaria completa', 3.0: 'Secundaria incompleta', 4.0: 'Secundaria completa', 5.0: 'Superior', 8.0: 'No sabe'}, 'var_labels3_V730': {96.0: '96+', 98.0: 'No sabe'}, 'var_labels3_V731': {0.0: 'No', 1.0: 'En el año pasado', 2.0: 'Actualmente trabajando', 3.0: 'Tener un trabajo, pero en licencia los últimos 7 días'}, 'var_labels3_V732': {1.0: 'Todo el año', 2.0: 'Por temporada', 3.0: 'De vez en cuando'}, 'var_labels3_V739': {1.0: 'Entrevistada', 2.0: 'Entrevistada y esposo/compañero', 3.0: 'Entrevistada y alguien más', 4.0: 'Esposo/compañero', 5.0: 'Alguien más'}, 'var_labels3_V740': {0.0: 'Propio', 1.0: 'Familiar', 2.0: 'De alguien más', 3.0: 'Alquilado', 4.0: 'Comunitario'}, 'var_labels3_V741': {0.0: 'No le pagan', 1.0: 'Solo en efectivo', 2.0: 'Efectivo y especie', 3.0: 'Solo en especie'}, 'var_labels3_V743A': {0.0: 'Nadie', 1.0: 'Entrevistada', 2.0: 'Entrevistada y esposo/compañero', 3.0: 'Entrevistada y otra persona', 4.0: 'Solo esposo/compañero', 5.0: 'Alguien más'}, 'var_labels3_V743B': {0.0: 'Nadie', 1.0: 'Entrevistada', 2.0: 'Entrevistada y esposo/compañero', 3.0: 'Entrevistada y alguien más', 4.0: 'Esposo/compañero', 5.0: 'Alguien más'}, 'var_labels3_V743C': {0.0: 'Nadie', 1.0: 'Entrevistada', 2.0: 'Entrevistada y esposo/compañero', 3.0: 'Entrevistada y alguien más', 4.0: 'Esposo/compañero', 5.0: 'Alguien más'}, 'var_labels3_V743D': {0.0: 'Nadie', 1.0: 'Entrevistada', 2.0: 'Entrevistada y esposo/compañero', 3.0: 'Entrevistada y alguien más', 4.0: 'Esposo/compañero', 5.0: 'Alguien más'}, 'var_labels3_V743E': {0.0: 'Nadie', 1.0: 'Entrevistada', 2.0: 'Entrevistada y esposo/compañero', 3.0: 'Entrevistada y alguien más', 4.0: 'Esposo/compañero', 5.0: 'Alguien más'}, 'var_labels3_V743F': {1.0: 'Entrevistada', 2.0: 'Entrevistada y esposo/compañero', 3.0: 'Entrevistada y alguien más', 4.0: 'Esposo/compañero', 5.0: 'Alguien más', 6.0: 'Otro', 7.0: 'Esposo/compañero no tiene ganancias'}, 'var_labels3_V744A': {0.0: 'No', 1.0: 'Sí', 8.0: 'No sabe'}, 'var_labels3_V744B': {0.0: 'No', 1.0: 'Sí', 8.0: 'No sabe'}, 'var_labels3_V744C': {0.0: 'No', 1.0: 'Sí', 8.0: 'No sabe'}, 'var_labels3_V744D': {0.0: 'No', 1.0: 'Sí', 8.0: 'No sabe'}, 'var_labels3_V744E': {0.0: 'No', 1.0: 'Sí', 8.0: 'No sabe'}, 'var_labels3_V746': {1.0: 'Más que el', 2.0: 'Menos que el', 3.0: 'Igual que el', 4.0: 'Esposo/compañero no tiene ganancias', 8.0: 'No sabe'}}\n"
     ]
    }
   ],
   "source": [
    "import pyreadstat\n",
    "\n",
    "\n",
    "ruta_archivo_spss = \"/Users/claupq/Documents/MediaLab/_data/endes/2019/RE516171.sav\"\n",
    "\n",
    "\n",
    "rec_3, metadata_rec_3 = pyreadstat.read_sav(ruta_archivo_spss)\n",
    "\n",
    "\n",
    "rec_3.columns = [f'var_labels3_{col}' for col in rec_3.columns]\n",
    "\n",
    "\n",
    "nuevos_nombres_etiquetas = {f'var_labels3_{key}': value for key, value in metadata_rec_3.variable_value_labels.items()}\n",
    "metadata_rec_3.variable_value_labels = nuevos_nombres_etiquetas\n",
    "\n",
    "\n",
    "nombres_variables_modificados = rec_3.columns.tolist()\n",
    "\n",
    "print(\"Nombres de Variables Modificados:\", nombres_variables_modificados)\n",
    "\n",
    "\n",
    "print(\"Etiquetas de Valores Modificadas:\", metadata_rec_3.variable_value_labels)"
   ]
  },
  {
   "cell_type": "markdown",
   "metadata": {},
   "source": [
    "2. Select the following columns for each data set:\n",
    "|Data|Columns|\n",
    "|---|---|\n",
    "|rec1| CASEID, V000, V001, V002, V003, V004, V007, V008, V009, V010, V011, V012, V024, V102, V120, V121, V122, V123, V124, V125, V127, V133 |\n",
    "|rec2| CASEID, V201, V218, V301, V302, V323, V323A, V325A, V326, V327, V337, V359, V360, V361, V362, V363, V364, V367, V372, V372A, V375A, V376, V376A, V379, V380 |\n",
    "|rec3| CASEID, V501, V502, V503, V504, V505, V506, V507, V508, V509, V510, V511, V512, V513, V525, V613, V714, V715 |\n",
    "\n",
    "\n",
    "Additioanlly, you should update the variables and value labels objects. They must have information only for the selected columns. The new dataframes should be name as `rec1_1`, `rec2_1`, and `rec3_1`. The new varible labels objects should be named as `new_var_labels1`, `new_var_labels2`, and `new_var_labels3`. The new value labels objects should be named as `new_value_labels1`, `new_value_labels2`, and `new_value_labels3` **Hint: Use the `loc` and column names to filter. Update the dictionary.**"
   ]
  },
  {
   "cell_type": "markdown",
   "metadata": {},
   "source": [
    "3. Generate a new column for `rec1_1` named as `year`. It should be equal to `2019`. Also, you must update this new variable for the `var_labels` dictionary. Generate a new key for `new_var_labels1` and the value for this key should be **\"Year of the survey\"** **Hint: Use `loc` and `update` method.**"
   ]
  },
  {
   "cell_type": "markdown",
   "metadata": {},
   "source": [
    "4. Merge `rec1_1`, `rec2_1`, and `rec3_1` using **CASEID**. Name this new object as `endes_2019`. **Hint: Use [this link](https://stackoverflow.com/questions/53645882/pandas-merging-101)**"
   ]
  },
  {
   "cell_type": "markdown",
   "metadata": {},
   "source": [
    "5. Unify all the `new_var_labels` in one object and `new_value_labels` in another one object. Name these two objects as `var_labels` and `value_labels`. Use them to generate new attributes for `endes_2019`. These attributes should be named as `var_labels` and `value_labels`. **Hint: Use `update` method.**"
   ]
  },
  {
   "cell_type": "markdown",
   "metadata": {},
   "source": [
    "6. Get the min, max, sd, n_obs, n_missing for the following columns **total children ever born (V201)**, **Ideal number of children (V613)**, **Husbands education-single yrs (V715)**, and **Age at first marriage (V511)**. We want a dataframe with the following columns **Variables, Min, Max, Mean, N_obs, N_missing** and sort by the number of missing rows. **Hint: Use `describe` and `pivot` methods**"
   ]
  },
  {
   "cell_type": "markdown",
   "metadata": {},
   "source": [
    "7. Use `endes_2019` data to generate a new object named `mean_key_vars` to find the mean of **total children ever born (V201)**, **Ideal number of children (V613)**, **Husbands education-single yrs (V715)**, and **Age at first marriage (V511)** by year and department **(V024)**. Name these columns as **mean_total_children, mean_ideal_children, mean_hb_yr_educ and mean_first_marriage**, respectively. **Hint: Use groupby and [this link](https://stackoverflow.com/questions/40901770/is-there-a-simple-way-to-change-a-column-of-yes-no-to-1-0-in-a-pandas-dataframe).**"
   ]
  },
  {
   "cell_type": "markdown",
   "metadata": {},
   "source": [
    "8. Reshape `mean_key_vars` from wide to long. We want a dataframe with three columns **dpto, variables, values**. Name this object as `reshape_mean_key_vars`. **Hint: Use melt method**."
   ]
  },
  {
   "cell_type": "markdown",
   "metadata": {},
   "source": [
    "9. Replicate your answers for questions 7 and 8, but in one line of code. Make it the most simple as possible. **NO HINT**"
   ]
  },
  {
   "cell_type": "markdown",
   "metadata": {},
   "source": [
    "10. Merge `reshape_mean_key_vars` with `endes_2019`. Name this object `final_result`. **Hint: Use merge.**"
   ]
  }
 ],
 "metadata": {
  "hide_input": false,
  "kernelspec": {
   "display_name": "Python 3 (ipykernel)",
   "language": "python",
   "name": "python3"
  },
  "language_info": {
   "codemirror_mode": {
    "name": "ipython",
    "version": 3
   },
   "file_extension": ".py",
   "mimetype": "text/x-python",
   "name": "python",
   "nbconvert_exporter": "python",
   "pygments_lexer": "ipython3",
   "version": "3.11.5"
  },
  "toc": {
   "base_numbering": 1,
   "nav_menu": {},
   "number_sections": true,
   "sideBar": true,
   "skip_h1_title": false,
   "title_cell": "Table of Contents",
   "title_sidebar": "Contents",
   "toc_cell": false,
   "toc_position": {},
   "toc_section_display": true,
   "toc_window_display": false
  }
 },
 "nbformat": 4,
 "nbformat_minor": 4
}
