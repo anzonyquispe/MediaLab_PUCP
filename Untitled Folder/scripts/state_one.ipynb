{
 "cells": [
  {
   "cell_type": "code",
   "execution_count": 1,
   "metadata": {},
   "outputs": [
    {
     "name": "stderr",
     "output_type": "stream",
     "text": [
      "C:\\Users\\raul\\AppData\\Local\\Temp\\ipykernel_2972\\2316466811.py:9: DeprecationWarning: \n",
      "Pyarrow will become a required dependency of pandas in the next major release of pandas (pandas 3.0),\n",
      "(to allow more performant data types, such as the Arrow string type, and better interoperability with other libraries)\n",
      "but was not found to be installed on your system.\n",
      "If this would cause problems for you,\n",
      "please provide us feedback at https://github.com/pandas-dev/pandas/issues/54466\n",
      "        \n",
      "  import pandas as pd\n"
     ]
    }
   ],
   "source": [
    "from selenium import webdriver\n",
    "from selenium.webdriver.chrome.service import Service\n",
    "from selenium.webdriver.common.by import By\n",
    "from webdriver_manager.chrome import ChromeDriverManager\n",
    "# from selenium.webdriver.support.ui import WebDriverWait\n",
    "# from selenium.webdriver.support import expected_conditions as EC\n",
    "# from selenium.common.exceptions import NoSuchElementException,TimeoutException\n",
    "import os\n",
    "import pandas as pd\n",
    "# import time\n",
    "\n",
    "options = webdriver.ChromeOptions()\n",
    "\n",
    "# Suponiendo monitor vertical de 1080px de alto x 1920 ancho\n",
    "options.add_argument(\"--start-maximized\")\n",
    "options.add_argument(\"window-size=1080,1920\")\n",
    "options.add_argument(\"window-position=-1080,0\")\n",
    "\n",
    "url = \"https://dilrmp.gov.in/faces/percent/rptComputerizationOfLandRecord.xhtml\"\n",
    "\n",
    "service = Service(ChromeDriverManager().install())\n",
    "driver = webdriver.Chrome(service=service, options=options)\n",
    "\n",
    "driver.get(url)"
   ]
  },
  {
   "cell_type": "code",
   "execution_count": 2,
   "metadata": {},
   "outputs": [
    {
     "name": "stdout",
     "output_type": "stream",
     "text": [
      "Generating file get_states.csv\n"
     ]
    }
   ],
   "source": [
    "filename = \"get_states.csv\"\n",
    "\n",
    "if not os.path.exists(filename):\n",
    "\n",
    "   print(f\"Generating file {filename}\")\n",
    "\n",
    "   data = []\n",
    "   states = driver.find_elements(By.XPATH, '//*[@id=\"myclrstateform:clrstatemanage_data\"]/tr/td[2]')\n",
    "\n",
    "   for state in states:\n",
    "\n",
    "      anchor = state.find_element(By.TAG_NAME,\"a\")\n",
    "\n",
    "      links  = anchor.get_attribute(\"href\")\n",
    "\n",
    "      state_name = anchor.text\n",
    "\n",
    "      data.append({\"STATE\": state_name,\"URL\": links})\n",
    "\n",
    "      df = pd.DataFrame(data)\n",
    "\n",
    "       # Guardamos el archivo Excel\n",
    "      df.index = range(1, len(df) + 1)\n",
    "      df.to_excel(filename, index=True)\n",
    "      driver.quit()\n",
    "\n",
    "if os.path.exists(filename):\n",
    "   print(f\"The {filename} file already exists, let´s go step two.\")\n"
   ]
  },
  {
   "cell_type": "code",
   "execution_count": null,
   "metadata": {},
   "outputs": [],
   "source": []
  }
 ],
 "metadata": {
  "kernelspec": {
   "display_name": "Python 3",
   "language": "python",
   "name": "python3"
  },
  "language_info": {
   "codemirror_mode": {
    "name": "ipython",
    "version": 3
   },
   "file_extension": ".py",
   "mimetype": "text/x-python",
   "name": "python",
   "nbconvert_exporter": "python",
   "pygments_lexer": "ipython3",
   "version": "3.11.5"
  }
 },
 "nbformat": 4,
 "nbformat_minor": 2
}
