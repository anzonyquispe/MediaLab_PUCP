{
 "cells": [
  {
   "cell_type": "code",
   "execution_count": 1,
   "id": "824e1ad1",
   "metadata": {},
   "outputs": [],
   "source": [
    "import numpy as np\n",
    "\n",
    "from selenium import webdriver\n",
    "from selenium.webdriver.common.by import By\n",
    "from selenium.webdriver.support.ui import WebDriverWait\n",
    "from selenium.webdriver.support import expected_conditions as EC\n",
    "\n",
    "\n",
    "from selenium import webdriver\n",
    "from selenium.webdriver.support.ui import Select\n",
    "\n",
    "\n",
    "from selenium import webdriver\n",
    "from selenium.webdriver.common.keys import Keys\n",
    "from selenium.webdriver import ActionChains\n",
    "from bs4 import BeautifulSoup\n",
    "import os\n",
    "import time\n",
    "\n",
    "from selenium import webdriver\n",
    "from selenium.common.exceptions import WebDriverException\n",
    "\n",
    "from selenium import webdriver\n",
    "from selenium.webdriver.chrome.service import Service\n"
   ]
  },
  {
   "cell_type": "code",
   "execution_count": null,
   "id": "2edaaa05",
   "metadata": {},
   "outputs": [],
   "source": [
    "folder_save = \"/Users/ar8787/Documents/Data_Finanzas\""
   ]
  },
  {
   "cell_type": "code",
   "execution_count": 2,
   "id": "8c0b44b6",
   "metadata": {},
   "outputs": [],
   "source": [
    "\n",
    "service = Service(executable_path='/Users/ar8787/Downloads/chromedriver-mac-arm64/chromedriver')\n",
    "options = webdriver.ChromeOptions()\n",
    "\n",
    "# Set the default download directory\n",
    "download_dir = folder_save\n",
    "prefs = {\"download.default_directory\" : download_dir}\n",
    "options.add_experimental_option(\"prefs\", prefs)\n",
    "\n",
    "driver = webdriver.Chrome(service=service, options=options)\n",
    "\n",
    "\n",
    "\n",
    "url = \"https://libguides.princeton.edu/resource/4554\"\n",
    "\n",
    "driver.get(url) #navigate to the page"
   ]
  },
  {
   "cell_type": "code",
   "execution_count": 26,
   "id": "f42a7a51",
   "metadata": {},
   "outputs": [
    {
     "data": {
      "text/plain": [
       "(6,)"
      ]
     },
     "execution_count": 26,
     "metadata": {},
     "output_type": "execute_result"
    }
   ],
   "source": [
    "list_vals = np.arange(1, 30000, 5000)\n",
    "list_vals.shape"
   ]
  },
  {
   "cell_type": "code",
   "execution_count": 28,
   "id": "e65d20cd",
   "metadata": {},
   "outputs": [
    {
     "name": "stdout",
     "output_type": "stream",
     "text": [
      "Empieza desde el 1\n",
      "Termina en 5000\n",
      "New file detected: Export 12_01_2024 16_45.xlsx\n",
      "Empieza desde el 5001\n",
      "Termina en 10000\n",
      "New file detected: Export 12_01_2024 16_48.xlsx\n",
      "Empieza desde el 10001\n",
      "Termina en 15000\n",
      "New file detected: Export 12_01_2024 16_50.xlsx\n",
      "Empieza desde el 15001\n",
      "Termina en 20000\n",
      "New file detected: Export 12_01_2024 16_52.xlsx\n",
      "Empieza desde el 20001\n",
      "Termina en 25000\n",
      "New file detected: Export 12_01_2024 16_54.xlsx\n",
      "Empieza desde el 25001\n",
      "Termina en 30000\n",
      "New file detected: Export 12_01_2024 16_57.xlsx\n"
     ]
    }
   ],
   "source": [
    "for value_sel in list_vals:\n",
    "    \n",
    "\n",
    "    # Path to the downloads folder\n",
    "    downloads_folder = folder_save\n",
    "\n",
    "    # Get the list of files before the download starts\n",
    "    files_before = os.listdir(downloads_folder)\n",
    "\n",
    "    # Wait for selecting the data that you want\n",
    "    excel_click = driver.find_element(By.XPATH, '/html/body/section[2]/div[1]/div[2]/div/div[2]/div[2]/ul/li[3]/a')\n",
    "    excel_click.click()\n",
    "\n",
    "    time.sleep(5)\n",
    "\n",
    "    # Selecciono la cantidad de firmas\n",
    "    dropdown = Select(driver.find_element( By.ID, \"component_RangeOptionSelectedId\"))\n",
    "    dropdown.select_by_visible_text(\"A range of companies\")\n",
    "\n",
    "\n",
    "    xpath = 'component.From'\n",
    "    from_val = value_sel\n",
    "    print(\"Empieza desde el\", from_val)\n",
    "    wait = WebDriverWait(driver, 2)  # Adjust the timeout as needed\n",
    "    input_element = wait.until(EC.element_to_be_clickable((By.NAME, xpath)))\n",
    "    input_element.clear()  # Clearing any pre-filled text in the input box\n",
    "    input_element.send_keys(f\"{from_val}\")  # Replace with the number you want to input\n",
    "\n",
    "\n",
    "    next_val = from_val - 1 + 5000\n",
    "\n",
    "    xpath = 'component.To'\n",
    "    print(\"Termina en\", next_val)\n",
    "    wait = WebDriverWait(driver, 2)  # Adjust the timeout as needed\n",
    "    input_element = wait.until(EC.element_to_be_clickable((By.NAME, xpath)))\n",
    "    input_element.clear()  # Clearing any pre-filled text in the input box\n",
    "    input_element.send_keys(f\"{next_val}\")  # Replace with the number you want to input\n",
    "\n",
    "\n",
    "    export_button = wait.until(EC.element_to_be_clickable((By.XPATH, \"//a[text()='Export']\")))\n",
    "    export_button.click()\n",
    "\n",
    "    import os\n",
    "    import time\n",
    "    from selenium import webdriver\n",
    "\n",
    "\n",
    "    # Wait for a new file to appear in the folder\n",
    "    new_file = None\n",
    "    timeout = 6000  # Set a timeout for 5 minutes\n",
    "    check_interval = 5  # Check every 5 seconds\n",
    "\n",
    "    start_time = time.time()\n",
    "    while (time.time() - start_time) < timeout:\n",
    "        # Get the list of files in the directory\n",
    "        files_after = os.listdir(downloads_folder)\n",
    "        # Filter out files with \".crdownload\" extension\n",
    "        non_crdownload_files_after = [file for file in files_after if not file.endswith('.crdownload')]\n",
    "        # Check for the difference\n",
    "        new_files = set(non_crdownload_files_after) - set(files_before)\n",
    "        if new_files:\n",
    "            new_file = new_files.pop()\n",
    "            print(f\"New file detected: {new_file}\")\n",
    "            break\n",
    "        time.sleep(check_interval)\n",
    "\n",
    "    # Send the ESC key to the current focused element or to the page\n",
    "    driver.find_element( By.TAG_NAME, 'body').send_keys(Keys.ESCAPE)\n"
   ]
  }
 ],
 "metadata": {
  "kernelspec": {
   "display_name": "Python 3 (ipykernel)",
   "language": "python",
   "name": "python3"
  },
  "language_info": {
   "codemirror_mode": {
    "name": "ipython",
    "version": 3
   },
   "file_extension": ".py",
   "mimetype": "text/x-python",
   "name": "python",
   "nbconvert_exporter": "python",
   "pygments_lexer": "ipython3",
   "version": "3.11.5"
  }
 },
 "nbformat": 4,
 "nbformat_minor": 5
}
