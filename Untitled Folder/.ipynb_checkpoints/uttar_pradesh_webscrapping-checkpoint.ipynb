{
 "cells": [
  {
   "cell_type": "code",
   "execution_count": 1,
   "id": "5836114e",
   "metadata": {},
   "outputs": [],
   "source": [
    "import numpy as np\n",
    "\n",
    "from selenium import webdriver\n",
    "from selenium.webdriver.common.by import By\n",
    "from selenium.webdriver.support.ui import WebDriverWait\n",
    "from selenium.webdriver.support import expected_conditions as EC\n",
    "\n",
    "\n",
    "from selenium import webdriver\n",
    "from selenium.webdriver.support.ui import Select\n",
    "\n",
    "\n",
    "from selenium import webdriver\n",
    "from selenium.webdriver.common.keys import Keys\n",
    "from selenium.webdriver import ActionChains\n",
    "from bs4 import BeautifulSoup\n",
    "import os\n",
    "import time\n",
    "\n",
    "from selenium import webdriver\n",
    "from selenium.common.exceptions import WebDriverException\n",
    "\n",
    "from selenium import webdriver\n",
    "from selenium.webdriver.chrome.service import Service\n"
   ]
  },
  {
   "cell_type": "code",
   "execution_count": 2,
   "id": "a0b836ee",
   "metadata": {},
   "outputs": [],
   "source": [
    "folder_save = r\"C:\\Users\\ar8787\\Desktop\\data_uttar_pradesh\""
   ]
  },
  {
   "cell_type": "code",
   "execution_count": 3,
   "id": "57a5a475",
   "metadata": {},
   "outputs": [
    {
     "data": {
      "text/plain": [
       "<selenium.webdriver.remote.webelement.WebElement (session=\"3f892b47b3b13a138765953c36b707a3\", element=\"EB1DC8F4E497A1B2079312980D8445AA_element_334\")>"
      ]
     },
     "execution_count": 3,
     "metadata": {},
     "output_type": "execute_result"
    }
   ],
   "source": [
    "# \n",
    "service = Service(executable_path= r\"C:\\Users\\ar8787\\Downloads\\chromedriver-win64\\chromedriver-win64\\chromedriver.exe\")\n",
    "options = webdriver.ChromeOptions()\n",
    "\n",
    "# Set the default download directory\n",
    "download_dir = folder_save\n",
    "prefs = {\"download.default_directory\" : download_dir}\n",
    "options.add_experimental_option(\"prefs\", prefs)\n",
    "driver = webdriver.Chrome(service=service, options=options)\n",
    "\n",
    "url = \"https://dilrmp.gov.in/faces/rptdistrictwisephysical/rptComputerizationOfLandRecord.xhtml?statecode=9\"\n",
    "driver.get(url) #navigate to the page\n",
    "WebDriverWait(driver, 10).until(EC.presence_of_element_located((By.ID, 'container')))"
   ]
  },
  {
   "cell_type": "code",
   "execution_count": 4,
   "id": "91152e23",
   "metadata": {},
   "outputs": [],
   "source": [
    "dist_nrow = 1\n",
    "next_dist = True"
   ]
  },
  {
   "cell_type": "code",
   "execution_count": 6,
   "id": "28861417",
   "metadata": {},
   "outputs": [
    {
     "data": {
      "text/plain": [
       "'766'"
      ]
     },
     "execution_count": 6,
     "metadata": {},
     "output_type": "execute_result"
    }
   ],
   "source": [
    "subdist_code"
   ]
  },
  {
   "cell_type": "code",
   "execution_count": 22,
   "id": "eb0926d0",
   "metadata": {},
   "outputs": [],
   "source": [
    "driver.switch_to.window(driver.window_handles[1])"
   ]
  },
  {
   "cell_type": "code",
   "execution_count": null,
   "id": "21840bc6",
   "metadata": {},
   "outputs": [],
   "source": [
    "driver.refresh()\n"
   ]
  },
  {
   "cell_type": "code",
   "execution_count": null,
   "id": "813c3aaa",
   "metadata": {},
   "outputs": [],
   "source": [
    "<span class=\"ui-paginator-next ui-state-default ui-corner-all ui-state-disabled\" tabindex=\"-1\"><span class=\"ui-icon ui-icon-seek-next\">p</span></span>\n",
    "<span class=\"ui-paginator-next ui-state-default ui-corner-all\" tabindex=\"0\"><span class=\"ui-icon ui-icon-seek-next\">p</span></span>"
   ]
  },
  {
   "cell_type": "code",
   "execution_count": 23,
   "id": "da450e50",
   "metadata": {},
   "outputs": [],
   "source": [
    "next_but = driver.find_element( By.XPATH,'//*[@id=\"myform:compListTable_paginator_bottom\"]/span[5]')\n",
    "# next_but.click()"
   ]
  },
  {
   "cell_type": "code",
   "execution_count": 24,
   "id": "932ed6c1",
   "metadata": {},
   "outputs": [],
   "source": [
    "driver.execute_script(\"window.open(arguments[0].getAttribute('href'));\", next_but)"
   ]
  },
  {
   "cell_type": "code",
   "execution_count": 26,
   "id": "de62cca3",
   "metadata": {},
   "outputs": [],
   "source": [
    "class_value = next_but.get_attribute(\"class\")"
   ]
  },
  {
   "cell_type": "code",
   "execution_count": 27,
   "id": "a97f7888",
   "metadata": {},
   "outputs": [
    {
     "name": "stdout",
     "output_type": "stream",
     "text": [
      "The element contains the 'ui-state-disabled' class.\n"
     ]
    }
   ],
   "source": [
    "if \"ui-state-disabled\" in class_value:\n",
    "    print(\"The element contains the 'ui-state-disabled' class.\")\n",
    "else:\n",
    "    print(\"The element does not contain the 'ui-state-disabled' class.\")\n"
   ]
  },
  {
   "cell_type": "code",
   "execution_count": 5,
   "id": "e8d0d372",
   "metadata": {},
   "outputs": [
    {
     "name": "stdout",
     "output_type": "stream",
     "text": [
      "1\n",
      "New file detected: Status of CLR under DILRMP.xls\n",
      "New file detected: Status of CLR under DILRMP.xls\n",
      "New file detected: Status of CLR under DILRMP.xls\n",
      "New file detected: Status of CLR under DILRMP.xls\n",
      "New file detected: Status of CLR under DILRMP.xls\n",
      "New file detected: Status of CLR under DILRMP.xls\n",
      "I can not go to this subdist row 7. we are going to try to go the next window\n",
      "New file detected: Status of CLR under DILRMP.xls\n"
     ]
    },
    {
     "ename": "FileExistsError",
     "evalue": "[WinError 183] Cannot create a file when that file already exists: 'C:\\\\Users\\\\ar8787\\\\Desktop\\\\data_uttar_pradesh\\\\Status of CLR under DILRMP.xls' -> 'C:\\\\Users\\\\ar8787\\\\Desktop\\\\data_uttar_pradesh\\\\146_766.xls'",
     "output_type": "error",
     "traceback": [
      "\u001b[1;31m---------------------------------------------------------------------------\u001b[0m",
      "\u001b[1;31mFileExistsError\u001b[0m                           Traceback (most recent call last)",
      "Cell \u001b[1;32mIn[5], line 133\u001b[0m\n\u001b[0;32m    130\u001b[0m new_file_name \u001b[38;5;241m=\u001b[39m os\u001b[38;5;241m.\u001b[39mpath\u001b[38;5;241m.\u001b[39mjoin(download_dir, newfilename)\n\u001b[0;32m    132\u001b[0m \u001b[38;5;66;03m# Rename the file\u001b[39;00m\n\u001b[1;32m--> 133\u001b[0m os\u001b[38;5;241m.\u001b[39mrename(latest_file, new_file_name)\n\u001b[0;32m    135\u001b[0m \u001b[38;5;66;03m# close the window tab after get excel\u001b[39;00m\n\u001b[0;32m    136\u001b[0m driver\u001b[38;5;241m.\u001b[39mclose()\n",
      "\u001b[1;31mFileExistsError\u001b[0m: [WinError 183] Cannot create a file when that file already exists: 'C:\\\\Users\\\\ar8787\\\\Desktop\\\\data_uttar_pradesh\\\\Status of CLR under DILRMP.xls' -> 'C:\\\\Users\\\\ar8787\\\\Desktop\\\\data_uttar_pradesh\\\\146_766.xls'"
     ]
    }
   ],
   "source": [
    "while next_dist:\n",
    "    \n",
    "    try:\n",
    "        # get the dist element and code\n",
    "        dist_ele = driver.find_element( By.XPATH, f'//*[@id=\"myform:compListTable_data\"]/tr[{dist_nrow}]/td[2]/a')\n",
    "        dist_code = dist_ele.get_attribute('href').split('=')[-1]\n",
    "\n",
    "        # Use JavaScript to open the element's href in a new tab\n",
    "        driver.execute_script(\"window.open(arguments[0].getAttribute('href'));\", dist_ele)\n",
    "        driver.switch_to.window(driver.window_handles[-1])\n",
    "        # wait the container\n",
    "        WebDriverWait(driver, 10).until(EC.presence_of_element_located((By.ID, 'container')))\n",
    "        \n",
    "        next_dist_try = False\n",
    "        gocode_dist = True\n",
    "        \n",
    "        print(\"1\")\n",
    "    except:\n",
    "            print(f\"I can not go to this dist row {dist_nrow}. we are going to try to go the next window\")\n",
    "            next_dist_try = True\n",
    "            \n",
    "    if next_dist_try:\n",
    "        \n",
    "        driver.refresh()\n",
    "        WebDriverWait(driver, 10).until(EC.presence_of_element_located((By.ID, 'container')))\n",
    "        \n",
    "        next_dist_but = driver.find_element( By.XPATH,'//*[@id=\"myform:compListTable_paginator_bottom\"]/span[5]')\n",
    "        class_dist_value = next_dist_but.get_attribute(\"class\")\n",
    "        \n",
    "        if \"ui-state-disabled\" in class_value:\n",
    "            print(\"The element contains the 'ui-state-disabled' class.\")\n",
    "            gocode_dist = False\n",
    "        else:\n",
    "            print(\"The element does not contain the 'ui-state-disabled' class.\")\n",
    "\n",
    "            next_but.click()\n",
    "            time.sleep(10)\n",
    "            dist_nrow = 1\n",
    "            dist_ele = driver.find_element( By.XPATH, f'//*[@id=\"myform:compListTable_data\"]/tr[{dist_nrow}]/td[2]/a')\n",
    "            dist_code = dist_ele.get_attribute('href').split('=')[-1]\n",
    "            # Use JavaScript to open the element's href in a new tab\n",
    "            driver.execute_script(\"window.open(arguments[0].getAttribute('href'));\", dist_ele)\n",
    "            # Switch to the new tab\n",
    "            driver.switch_to.window(driver.window_handles[-1])\n",
    "\n",
    "            # wait the container\n",
    "            WebDriverWait(driver, 10).until(EC.presence_of_element_located((By.ID, 'container')))\n",
    "            gocode_dist = True\n",
    "\n",
    " \n",
    "        \n",
    "    if gocode_dist:\n",
    "\n",
    "        subdist_nrow = 1\n",
    "        next_subdist = True\n",
    "\n",
    "        while next_subdist:\n",
    "\n",
    "            try:\n",
    "                # select the subdist\n",
    "                subdist_ele = driver.find_element( By.XPATH, f'//*[@id=\"myform:compListTable_data\"]/tr[{subdist_nrow}]/td[2]/a')\n",
    "                subdist_code = subdist_ele.get_attribute('href').split('=')[-1]\n",
    "\n",
    "                next_subdist_try = False\n",
    "                gocode_subdist = True\n",
    "            except:\n",
    "                print(f\"I can not go to this subdist row {subdist_nrow}. we are going to try to go the next window\")\n",
    "                next_subdist_try = True\n",
    "\n",
    "\n",
    "            if next_subdist_try:\n",
    "                \n",
    "                next_subdist_but = driver.find_element( By.XPATH,'//*[@id=\"myform:compListTable_paginator_bottom\"]/span[5]')\n",
    "                class_subdist_value = next_subdist_but.get_attribute(\"class\")\n",
    "                \n",
    "                if \"ui-state-disabled\" in class_value:\n",
    "                    print(\"The element contains the 'ui-state-disabled' class.\")\n",
    "                    gocode_dist = False\n",
    "                else:\n",
    "                    print(\"The element does not contain the 'ui-state-disabled' class.\")\n",
    "                    # wait the container\n",
    "                    next_subdist_but.click()\n",
    "                    time.sleep(10)\n",
    "                    WebDriverWait(driver, 10).until(EC.presence_of_element_located((By.ID, 'container')))\n",
    "\n",
    "\n",
    "                    subdist_nrow = 1\n",
    "                    subdist_ele = driver.find_element( By.XPATH, f'//*[@id=\"myform:compListTable_data\"]/tr[{subdist_nrow}]/td[2]/a')\n",
    "                    subdist_code = subdist_ele.get_attribute('href').split('=')[-1]\n",
    "\n",
    "\n",
    "\n",
    "                except:\n",
    "                    gocode_subdist = False\n",
    "\n",
    "\n",
    "            if gocode_subdist:\n",
    "                # Use JavaScript to open the element's href in a new tab\n",
    "                driver.execute_script(\"window.open(arguments[0].getAttribute('href'));\", subdist_ele)\n",
    "\n",
    "                # Switch to the new tab\n",
    "                driver.switch_to.window(driver.window_handles[-1])\n",
    "\n",
    "                # wait the container\n",
    "                WebDriverWait(driver, 10).until(EC.presence_of_element_located((By.ID, 'container')))\n",
    "\n",
    "\n",
    "                # check the number of files\n",
    "                files_before = os.listdir(download_dir)\n",
    "\n",
    "                # download the file\n",
    "                excel_ele = driver.find_element(By.XPATH, \"/html/body/div[2]/div/form/table/tbody/tr[7]/td/input[1]\")\n",
    "                excel_ele.click()\n",
    "\n",
    "                # Wait for a new file to appear in the folder\n",
    "                new_file = None\n",
    "                timeout = 60000  # Set a timeout for 5 minutes\n",
    "                check_interval = 5  # Check every 5 seconds\n",
    "\n",
    "                start_time = time.time()\n",
    "                while (time.time() - start_time) < timeout:\n",
    "                    # Get the list of files in the directory\n",
    "                    files_after = os.listdir(download_dir)\n",
    "                    # Filter out files with \".crdownload\" extension\n",
    "                    non_crdownload_files_after = [file for file in files_after if file.endswith('.xls')]\n",
    "                    # Check for the difference\n",
    "                    new_files = set(non_crdownload_files_after) - set(files_before)\n",
    "                    if new_files:\n",
    "                        new_file = new_files.pop()\n",
    "                        print(f\"New file detected: {new_file}\")\n",
    "                        break\n",
    "                    time.sleep(check_interval)\n",
    "\n",
    "                # Get the most recent file in the download directory\n",
    "                files = os.listdir(download_dir)\n",
    "                paths = [os.path.join(download_dir, basename) for basename in files if not basename.endswith('.DS_Store') ]\n",
    "                latest_file = max(paths, key=os.path.getctime)\n",
    "\n",
    "                # New file name (ensure it ends with .xlsx if it's an Excel file)\n",
    "                newfilename = f\"{int(dist_code)}_{int(subdist_code)}.xls\"\n",
    "                new_file_name = os.path.join(download_dir, newfilename)\n",
    "\n",
    "                # Rename the file\n",
    "                os.rename(latest_file, new_file_name)\n",
    "\n",
    "                # close the window tab after get excel\n",
    "                driver.close()\n",
    "                # Switch to the new tab\n",
    "                driver.switch_to.window(driver.window_handles[-1])\n",
    "\n",
    "                subdist_nrow = subdist_nrow + 1\n",
    "\n",
    "            else:\n",
    "                next_subdist = False\n",
    "        \n",
    "        # close the window tab after get excel\n",
    "        driver.close()\n",
    "        # Switch to the new tab\n",
    "        driver.switch_to.window(driver.window_handles[-1])\n",
    "        dist_nrow = dist_nrow + 1\n",
    "                \n",
    "    else:\n",
    "        next_dist = False"
   ]
  }
 ],
 "metadata": {
  "kernelspec": {
   "display_name": "Python 3 (ipykernel)",
   "language": "python",
   "name": "python3"
  },
  "language_info": {
   "codemirror_mode": {
    "name": "ipython",
    "version": 3
   },
   "file_extension": ".py",
   "mimetype": "text/x-python",
   "name": "python",
   "nbconvert_exporter": "python",
   "pygments_lexer": "ipython3",
   "version": "3.11.5"
  }
 },
 "nbformat": 4,
 "nbformat_minor": 5
}
