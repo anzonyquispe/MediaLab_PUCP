{
 "cells": [
  {
   "cell_type": "code",
   "execution_count": 1,
   "id": "c20730af",
   "metadata": {},
   "outputs": [],
   "source": [
    "import numpy as np\n",
    "\n",
    "from selenium import webdriver\n",
    "from selenium.webdriver.common.by import By\n",
    "from selenium.webdriver.support.ui import WebDriverWait\n",
    "from selenium.webdriver.support import expected_conditions as EC\n",
    "\n",
    "\n",
    "from selenium import webdriver\n",
    "from selenium.webdriver.support.ui import Select\n",
    "\n",
    "\n",
    "from selenium import webdriver\n",
    "from selenium.webdriver.common.keys import Keys\n",
    "from selenium.webdriver import ActionChains\n",
    "from bs4 import BeautifulSoup\n",
    "import os\n",
    "import time\n",
    "\n",
    "from selenium import webdriver\n",
    "from selenium.common.exceptions import WebDriverException\n",
    "\n",
    "from selenium import webdriver\n",
    "from selenium.webdriver.chrome.service import Service\n"
   ]
  },
  {
   "cell_type": "code",
   "execution_count": 2,
   "id": "3838d8a3",
   "metadata": {},
   "outputs": [],
   "source": [
    "folder_save = \"/Users/ar8787/Documents/Data_Finanzas\""
   ]
  },
  {
   "cell_type": "code",
   "execution_count": 3,
   "id": "2a4dc742",
   "metadata": {},
   "outputs": [],
   "source": [
    "\n",
    "service = Service(executable_path='/Users/ar8787/Downloads/chromedriver-mac-arm64/chromedriver')\n",
    "options = webdriver.ChromeOptions()\n",
    "\n",
    "# Set the default download directory\n",
    "download_dir = folder_save\n",
    "prefs = {\"download.default_directory\" : download_dir}\n",
    "options.add_experimental_option(\"prefs\", prefs)\n",
    "\n",
    "driver = webdriver.Chrome(service=service, options=options)\n",
    "\n",
    "\n",
    "\n",
    "url = \"https://www.repubblica.it/\"\n",
    "\n",
    "driver.get(url) #navigate to the page"
   ]
  },
  {
   "cell_type": "code",
   "execution_count": 5,
   "id": "436667ed",
   "metadata": {},
   "outputs": [],
   "source": [
    "driver.find_element(By.XPATH, \"/html/body/div[11]/div/div/div/div[1]/div[2]/div/button[2]\").click()"
   ]
  },
  {
   "cell_type": "code",
   "execution_count": 6,
   "id": "cf62eee3",
   "metadata": {},
   "outputs": [],
   "source": [
    "driver.find_element(By.ID, \"account-data-container\").click()"
   ]
  },
  {
   "cell_type": "code",
   "execution_count": null,
   "id": "713c652e",
   "metadata": {},
   "outputs": [],
   "source": [
    "time.sleep(10)"
   ]
  },
  {
   "cell_type": "code",
   "execution_count": 7,
   "id": "f8916f14",
   "metadata": {},
   "outputs": [],
   "source": [
    "email = driver.find_element( By.XPATH, \"/html/body/div[2]/div[4]/div[2]/div/form/div[2]/div[3]/div[1]/input\")\n",
    "\n",
    "email.send_keys(\"gemmadipoppa@gmail.com\")"
   ]
  },
  {
   "cell_type": "code",
   "execution_count": 9,
   "id": "66bdf77d",
   "metadata": {},
   "outputs": [],
   "source": [
    "password = driver.find_element( By.XPATH, \"/html/body/div[2]/div[4]/div[2]/div/form/div[2]/div[3]/div[2]/input\")\n",
    "\n",
    "password.send_keys(\"gemmaanzony\")"
   ]
  },
  {
   "cell_type": "code",
   "execution_count": 12,
   "id": "59a5b453",
   "metadata": {},
   "outputs": [],
   "source": [
    "driver.find_element(By.XPATH, \"/html/body/div[2]/div[4]/div[2]/div/form/div[2]/div[3]/div[5]/input\").click()"
   ]
  },
  {
   "cell_type": "code",
   "execution_count": null,
   "id": "262283ef",
   "metadata": {},
   "outputs": [],
   "source": [
    "time.sleep(10)"
   ]
  },
  {
   "cell_type": "code",
   "execution_count": 14,
   "id": "63fce0dd",
   "metadata": {},
   "outputs": [],
   "source": [
    "driver.find_element( By.ID, \"repSearchToggleButton\").click()"
   ]
  },
  {
   "cell_type": "code",
   "execution_count": 15,
   "id": "73917781",
   "metadata": {},
   "outputs": [],
   "source": [
    "search_box = driver.find_element(By.XPATH, \"/html/body/div[3]/div[3]/div/form/input[1]\")"
   ]
  },
  {
   "cell_type": "code",
   "execution_count": null,
   "id": "9d9c7b3c",
   "metadata": {},
   "outputs": [],
   "source": [
    "search_box.send_keys(\"mafia\")\n"
   ]
  },
  {
   "cell_type": "code",
   "execution_count": 17,
   "id": "41931e29",
   "metadata": {},
   "outputs": [],
   "source": [
    "search_box.send_keys(Keys.ENTER)\n"
   ]
  },
  {
   "cell_type": "code",
   "execution_count": null,
   "id": "2fa93959",
   "metadata": {},
   "outputs": [],
   "source": [
    "time.sleep(10)"
   ]
  },
  {
   "cell_type": "code",
   "execution_count": 18,
   "id": "44ec33c8",
   "metadata": {},
   "outputs": [],
   "source": [
    "driver.find_element(By.XPATH, \"/html/body/div[1]/div[2]/div[1]/section/ul/li[2]/a\").click()"
   ]
  },
  {
   "cell_type": "code",
   "execution_count": 21,
   "id": "f598b1db",
   "metadata": {},
   "outputs": [],
   "source": [
    "search_text = driver.find_element(By.XPATH,\"/html/body/div[1]/div[2]/div[1]/section/div/div[2]/form[1]/fieldset[1]/input\")\n",
    "search_text.clear()\n",
    "search_text.send_keys(\"mafia\")"
   ]
  },
  {
   "cell_type": "code",
   "execution_count": null,
   "id": "d4d7a1d0",
   "metadata": {},
   "outputs": [],
   "source": []
  },
  {
   "cell_type": "code",
   "execution_count": null,
   "id": "5eb0e299",
   "metadata": {},
   "outputs": [],
   "source": [
    "\n",
    "3:23\n",
    "password: gemmaanzony\n",
    "\n",
    "\n",
    "\n",
    "\n",
    "\n",
    "\n",
    "\n"
   ]
  },
  {
   "cell_type": "code",
   "execution_count": null,
   "id": "d53c9178",
   "metadata": {},
   "outputs": [],
   "source": []
  }
 ],
 "metadata": {
  "kernelspec": {
   "display_name": "Python 3 (ipykernel)",
   "language": "python",
   "name": "python3"
  },
  "language_info": {
   "codemirror_mode": {
    "name": "ipython",
    "version": 3
   },
   "file_extension": ".py",
   "mimetype": "text/x-python",
   "name": "python",
   "nbconvert_exporter": "python",
   "pygments_lexer": "ipython3",
   "version": "3.11.5"
  }
 },
 "nbformat": 4,
 "nbformat_minor": 5
}
