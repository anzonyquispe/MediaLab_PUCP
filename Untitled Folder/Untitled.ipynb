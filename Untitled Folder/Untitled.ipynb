{
 "cells": [
  {
   "cell_type": "code",
   "execution_count": 48,
   "id": "b2aa8ae4",
   "metadata": {},
   "outputs": [],
   "source": [
    "import os\n",
    "import pandas as pd\n",
    "\n",
    "# Define the directory path\n",
    "directory_path = \"/Users/ar8787/Dropbox/DATA_COLOMBIA_ACTUALIZADA\"\n",
    "\n",
    "# Get a list of all files in the directory\n",
    "file_list = os.listdir(directory_path)\n",
    "\n",
    "# Filter the list to include only Excel files (assuming they have the '.xlsx' extension)\n",
    "excel_files = [file for file in file_list if file.endswith('.xlsx')]\n",
    "\n",
    "# Initialize an empty list to store the data from each Excel file\n",
    "data_frames = []\n",
    "\n",
    "# Loop through the Excel files and read them into Pandas DataFrames\n",
    "for file in excel_files:\n",
    "    \n",
    "    if \"~$\" not in file:\n",
    "        file_path = os.path.join(directory_path, file)\n",
    "        df = pd.read_excel(file_path,engine='openpyxl', sheet_name=\"Results\")\n",
    "        data_frames.append(df)\n",
    "\n",
    "# Now, data_frames contains a list of Pandas DataFrames, each representing an Excel file\n",
    "# You can access and manipulate the data from these DataFrames as needed.\n"
   ]
  },
  {
   "cell_type": "code",
   "execution_count": 49,
   "id": "d8cc2bad",
   "metadata": {},
   "outputs": [],
   "source": [
    "df_final = pd.concat( data_frames ).reset_index(drop=True)"
   ]
  },
  {
   "cell_type": "code",
   "execution_count": 73,
   "id": "59883e8e",
   "metadata": {},
   "outputs": [],
   "source": [
    "df_final_clean = df_final[ ~(df_final['BvD ID number'].isnull()) ].copy()"
   ]
  },
  {
   "cell_type": "code",
   "execution_count": 81,
   "id": "4c9bcbbf",
   "metadata": {},
   "outputs": [],
   "source": [
    "df_final_clean['BvD ID number'] = df_final_clean['BvD ID number'].replace('C0', \"CO\" )"
   ]
  },
  {
   "cell_type": "code",
   "execution_count": 106,
   "id": "16ea4a24",
   "metadata": {},
   "outputs": [],
   "source": [
    "bvd_id = df_final['BvD ID number'].tolist()"
   ]
  },
  {
   "cell_type": "code",
   "execution_count": 130,
   "id": "b38ee0e9",
   "metadata": {},
   "outputs": [],
   "source": [
    "df_final_clean['National ID'] = df_final_clean['National ID'].astype(float)"
   ]
  },
  {
   "cell_type": "code",
   "execution_count": 154,
   "id": "af39c4b9",
   "metadata": {},
   "outputs": [],
   "source": [
    "df_final_clean[ 'VAT/Tax number'] = df_final_clean[ 'VAT/Tax number'].astype(float)"
   ]
  },
  {
   "cell_type": "code",
   "execution_count": 142,
   "id": "f47a192f",
   "metadata": {},
   "outputs": [
    {
     "data": {
      "text/plain": [
       "['Unnamed: 0',\n",
       " 'Company name Latin alphabet',\n",
       " 'Inactive',\n",
       " 'Quoted',\n",
       " 'Branch',\n",
       " 'OwnData',\n",
       " 'Woco',\n",
       " 'Country ISO code',\n",
       " 'NACE Rev. 2, core code (4 digits)',\n",
       " 'Consolidation code',\n",
       " 'Last avail. year',\n",
       " 'Operating revenue (Turnover)\\nth USD Last avail. yr',\n",
       " 'Number of employees\\nLast avail. yr',\n",
       " 'Operating revenue (Turnover)\\nth LCU 2023',\n",
       " 'Operating revenue (Turnover)\\nth LCU 2022',\n",
       " 'Operating revenue (Turnover)\\nth LCU 2021',\n",
       " 'Operating revenue (Turnover)\\nth LCU 2020',\n",
       " 'Operating revenue (Turnover)\\nth LCU 2019',\n",
       " 'Operating revenue (Turnover)\\nth LCU 2018',\n",
       " 'Operating revenue (Turnover)\\nth LCU 2017',\n",
       " 'Operating revenue (Turnover)\\nth LCU 2016',\n",
       " 'Operating revenue (Turnover)\\nth LCU 2015',\n",
       " 'Operating revenue (Turnover)\\nth LCU 2014',\n",
       " 'Operating revenue (Turnover)\\nth LCU 2013',\n",
       " 'Operating revenue (Turnover)\\nth LCU 2012',\n",
       " 'Operating revenue (Turnover)\\nth LCU 2011',\n",
       " 'P/L before tax\\nth LCU 2023',\n",
       " 'P/L before tax\\nth LCU 2022',\n",
       " 'P/L before tax\\nth LCU 2021',\n",
       " 'P/L before tax\\nth LCU 2020',\n",
       " 'P/L before tax\\nth LCU 2019',\n",
       " 'P/L before tax\\nth LCU 2018',\n",
       " 'P/L before tax\\nth LCU 2017',\n",
       " 'P/L before tax\\nth LCU 2016',\n",
       " 'P/L before tax\\nth LCU 2015',\n",
       " 'P/L before tax\\nth LCU 2014',\n",
       " 'P/L before tax\\nth LCU 2013',\n",
       " 'P/L before tax\\nth LCU 2012',\n",
       " 'P/L before tax\\nth LCU 2011',\n",
       " 'P/L for period [=Net income]\\nth LCU 2023',\n",
       " 'P/L for period [=Net income]\\nth LCU 2022',\n",
       " 'P/L for period [=Net income]\\nth LCU 2021',\n",
       " 'P/L for period [=Net income]\\nth LCU 2020',\n",
       " 'P/L for period [=Net income]\\nth LCU 2019',\n",
       " 'P/L for period [=Net income]\\nth LCU 2018',\n",
       " 'P/L for period [=Net income]\\nth LCU 2017',\n",
       " 'P/L for period [=Net income]\\nth LCU 2016',\n",
       " 'P/L for period [=Net income]\\nth LCU 2015',\n",
       " 'P/L for period [=Net income]\\nth LCU 2014',\n",
       " 'P/L for period [=Net income]\\nth LCU 2013',\n",
       " 'P/L for period [=Net income]\\nth LCU 2012',\n",
       " 'P/L for period [=Net income]\\nth LCU 2011',\n",
       " 'Cash flow [Net Income before D&A]\\nth LCU 2023',\n",
       " 'Cash flow [Net Income before D&A]\\nth LCU 2022',\n",
       " 'Cash flow [Net Income before D&A]\\nth LCU 2021',\n",
       " 'Cash flow [Net Income before D&A]\\nth LCU 2020',\n",
       " 'Cash flow [Net Income before D&A]\\nth LCU 2019',\n",
       " 'Cash flow [Net Income before D&A]\\nth LCU 2018',\n",
       " 'Cash flow [Net Income before D&A]\\nth LCU 2017',\n",
       " 'Cash flow [Net Income before D&A]\\nth LCU 2016',\n",
       " 'Cash flow [Net Income before D&A]\\nth LCU 2015',\n",
       " 'Cash flow [Net Income before D&A]\\nth LCU 2014',\n",
       " 'Cash flow [Net Income before D&A]\\nth LCU 2013',\n",
       " 'Cash flow [Net Income before D&A]\\nth LCU 2012',\n",
       " 'Cash flow [Net Income before D&A]\\nth LCU 2011',\n",
       " 'Total assets\\nth LCU 2023',\n",
       " 'Total assets\\nth LCU 2022',\n",
       " 'Total assets\\nth LCU 2021',\n",
       " 'Total assets\\nth LCU 2020',\n",
       " 'Total assets\\nth LCU 2019',\n",
       " 'Total assets\\nth LCU 2018',\n",
       " 'Total assets\\nth LCU 2017',\n",
       " 'Total assets\\nth LCU 2016',\n",
       " 'Total assets\\nth LCU 2015',\n",
       " 'Total assets\\nth LCU 2014',\n",
       " 'Total assets\\nth LCU 2013',\n",
       " 'Total assets\\nth LCU 2012',\n",
       " 'Total assets\\nth LCU 2011',\n",
       " 'Shareholders funds\\nth LCU 2023',\n",
       " 'Shareholders funds\\nth LCU 2022',\n",
       " 'Shareholders funds\\nth LCU 2021',\n",
       " 'Shareholders funds\\nth LCU 2020',\n",
       " 'Shareholders funds\\nth LCU 2019',\n",
       " 'Shareholders funds\\nth LCU 2018',\n",
       " 'Shareholders funds\\nth LCU 2017',\n",
       " 'Shareholders funds\\nth LCU 2016',\n",
       " 'Shareholders funds\\nth LCU 2015',\n",
       " 'Shareholders funds\\nth LCU 2014',\n",
       " 'Shareholders funds\\nth LCU 2013',\n",
       " 'Shareholders funds\\nth LCU 2012',\n",
       " 'Shareholders funds\\nth LCU 2011',\n",
       " 'Current ratio\\n2023',\n",
       " 'Current ratio\\n2022',\n",
       " 'Current ratio\\n2021',\n",
       " 'Current ratio\\n2020',\n",
       " 'Current ratio\\n2019',\n",
       " 'Current ratio\\n2018',\n",
       " 'Current ratio\\n2017',\n",
       " 'Current ratio\\n2016',\n",
       " 'Current ratio\\n2015',\n",
       " 'Current ratio\\n2014',\n",
       " 'Current ratio\\n2013',\n",
       " 'Current ratio\\n2012',\n",
       " 'Current ratio\\n2011',\n",
       " 'Profit margin\\n2023',\n",
       " 'Profit margin\\n2022',\n",
       " 'Profit margin\\n2021',\n",
       " 'Profit margin\\n2020',\n",
       " 'Profit margin\\n2019',\n",
       " 'Profit margin\\n2018',\n",
       " 'Profit margin\\n2017',\n",
       " 'Profit margin\\n2016',\n",
       " 'Profit margin\\n2015',\n",
       " 'Profit margin\\n2014',\n",
       " 'Profit margin\\n2013',\n",
       " 'Profit margin\\n2012',\n",
       " 'Profit margin\\n2011',\n",
       " 'ROE using P/L before tax\\n2023',\n",
       " 'ROE using P/L before tax\\n2022',\n",
       " 'ROE using P/L before tax\\n2021',\n",
       " 'ROE using P/L before tax\\n2020',\n",
       " 'ROE using P/L before tax\\n2019',\n",
       " 'ROE using P/L before tax\\n2018',\n",
       " 'ROE using P/L before tax\\n2017',\n",
       " 'ROE using P/L before tax\\n2016',\n",
       " 'ROE using P/L before tax\\n2015',\n",
       " 'ROE using P/L before tax\\n2014',\n",
       " 'ROE using P/L before tax\\n2013',\n",
       " 'ROE using P/L before tax\\n2012',\n",
       " 'ROE using P/L before tax\\n2011',\n",
       " 'ROCE using P/L before tax\\n2023',\n",
       " 'ROCE using P/L before tax\\n2022',\n",
       " 'ROCE using P/L before tax\\n2021',\n",
       " 'ROCE using P/L before tax\\n2020',\n",
       " 'ROCE using P/L before tax\\n2019',\n",
       " 'ROCE using P/L before tax\\n2018',\n",
       " 'ROCE using P/L before tax\\n2017',\n",
       " 'ROCE using P/L before tax\\n2016',\n",
       " 'ROCE using P/L before tax\\n2015',\n",
       " 'ROCE using P/L before tax\\n2014',\n",
       " 'ROCE using P/L before tax\\n2013',\n",
       " 'ROCE using P/L before tax\\n2012',\n",
       " 'ROCE using P/L before tax\\n2011',\n",
       " 'Solvency ratio (Asset based)\\n2023',\n",
       " 'Solvency ratio (Asset based)\\n2022',\n",
       " 'Solvency ratio (Asset based)\\n2021',\n",
       " 'Solvency ratio (Asset based)\\n2020',\n",
       " 'Solvency ratio (Asset based)\\n2019',\n",
       " 'Solvency ratio (Asset based)\\n2018',\n",
       " 'Solvency ratio (Asset based)\\n2017',\n",
       " 'Solvency ratio (Asset based)\\n2016',\n",
       " 'Solvency ratio (Asset based)\\n2015',\n",
       " 'Solvency ratio (Asset based)\\n2014',\n",
       " 'Solvency ratio (Asset based)\\n2013',\n",
       " 'Solvency ratio (Asset based)\\n2012',\n",
       " 'Solvency ratio (Asset based)\\n2011',\n",
       " 'Number of employees\\n2023',\n",
       " 'Number of employees\\n2022',\n",
       " 'Number of employees\\n2021',\n",
       " 'Number of employees\\n2020',\n",
       " 'Number of employees\\n2019',\n",
       " 'Number of employees\\n2018',\n",
       " 'Number of employees\\n2017',\n",
       " 'Number of employees\\n2016',\n",
       " 'Number of employees\\n2015',\n",
       " 'Number of employees\\n2014',\n",
       " 'Number of employees\\n2013',\n",
       " 'Number of employees\\n2012',\n",
       " 'Number of employees\\n2011',\n",
       " 'BvD ID number',\n",
       " 'BvD account number',\n",
       " 'Orbis ID number',\n",
       " 'National ID',\n",
       " 'National ID label',\n",
       " 'National ID type',\n",
       " 'Trade register number',\n",
       " 'VAT/Tax number',\n",
       " 'European VAT number',\n",
       " 'ESCB Financial Vehicle Corporation ID',\n",
       " 'ESCB Monetary Financial Institution ID',\n",
       " 'Tax Identification Number (TIN)',\n",
       " 'LEI (Legal Entity Identifier)',\n",
       " 'Statistical number',\n",
       " 'Other company ID number',\n",
       " 'Previous SIRET number (France)',\n",
       " 'Previous SIRET number date (France)',\n",
       " 'SWIFT_CODE',\n",
       " 'Information provider ID',\n",
       " 'Information provider ID label',\n",
       " 'Ticker symbol',\n",
       " 'ISIN number',\n",
       " 'ISIN number (All)']"
      ]
     },
     "execution_count": 142,
     "metadata": {},
     "output_type": "execute_result"
    }
   ],
   "source": [
    "df_final_clean.columns.tolist()"
   ]
  },
  {
   "cell_type": "code",
   "execution_count": 85,
   "id": "063d50e5",
   "metadata": {},
   "outputs": [],
   "source": [
    "df_real = pd.read_excel('/Users/ar8787/Downloads/firms_id.xlsx')"
   ]
  },
  {
   "cell_type": "code",
   "execution_count": 199,
   "id": "0d398f17",
   "metadata": {},
   "outputs": [],
   "source": [
    "df_real = pd.read_stata('/Users/ar8787/Downloads/firms_id.dta')"
   ]
  },
  {
   "cell_type": "code",
   "execution_count": 200,
   "id": "91830c16",
   "metadata": {},
   "outputs": [
    {
     "data": {
      "text/html": [
       "<div>\n",
       "<style scoped>\n",
       "    .dataframe tbody tr th:only-of-type {\n",
       "        vertical-align: middle;\n",
       "    }\n",
       "\n",
       "    .dataframe tbody tr th {\n",
       "        vertical-align: top;\n",
       "    }\n",
       "\n",
       "    .dataframe thead th {\n",
       "        text-align: right;\n",
       "    }\n",
       "</style>\n",
       "<table border=\"1\" class=\"dataframe\">\n",
       "  <thead>\n",
       "    <tr style=\"text-align: right;\">\n",
       "      <th></th>\n",
       "      <th>national_id_number</th>\n",
       "      <th>bvd_id_number</th>\n",
       "      <th>vat_tax_number</th>\n",
       "    </tr>\n",
       "  </thead>\n",
       "  <tbody>\n",
       "    <tr>\n",
       "      <th>0</th>\n",
       "      <td>7.219716e+06</td>\n",
       "      <td>CO7219716</td>\n",
       "      <td>7219716</td>\n",
       "    </tr>\n",
       "    <tr>\n",
       "      <th>1</th>\n",
       "      <td>6.002636e+07</td>\n",
       "      <td>CO60026365</td>\n",
       "      <td>60026365</td>\n",
       "    </tr>\n",
       "    <tr>\n",
       "      <th>2</th>\n",
       "      <td>6.003730e+07</td>\n",
       "      <td>CO60037304</td>\n",
       "      <td>60037304</td>\n",
       "    </tr>\n",
       "    <tr>\n",
       "      <th>3</th>\n",
       "      <td>8.909370e+07</td>\n",
       "      <td>CO89093704</td>\n",
       "      <td>89093704</td>\n",
       "    </tr>\n",
       "    <tr>\n",
       "      <th>4</th>\n",
       "      <td>8.909029e+08</td>\n",
       "      <td>CO890902875</td>\n",
       "      <td>890902875</td>\n",
       "    </tr>\n",
       "    <tr>\n",
       "      <th>...</th>\n",
       "      <td>...</td>\n",
       "      <td>...</td>\n",
       "      <td>...</td>\n",
       "    </tr>\n",
       "    <tr>\n",
       "      <th>82746</th>\n",
       "      <td>9.013254e+09</td>\n",
       "      <td>CO9013253632</td>\n",
       "      <td>9013253632</td>\n",
       "    </tr>\n",
       "    <tr>\n",
       "      <th>82747</th>\n",
       "      <td>9.013255e+09</td>\n",
       "      <td>CO9013255116</td>\n",
       "      <td>9013255116</td>\n",
       "    </tr>\n",
       "    <tr>\n",
       "      <th>82748</th>\n",
       "      <td>9.013257e+09</td>\n",
       "      <td>CO9013257144</td>\n",
       "      <td>9013257144</td>\n",
       "    </tr>\n",
       "    <tr>\n",
       "      <th>82749</th>\n",
       "      <td>9.013262e+09</td>\n",
       "      <td>CO9013261813</td>\n",
       "      <td>9013261813</td>\n",
       "    </tr>\n",
       "    <tr>\n",
       "      <th>82750</th>\n",
       "      <td>9.013295e+09</td>\n",
       "      <td>CO9013295415</td>\n",
       "      <td>9013295415</td>\n",
       "    </tr>\n",
       "  </tbody>\n",
       "</table>\n",
       "<p>82751 rows × 3 columns</p>\n",
       "</div>"
      ],
      "text/plain": [
       "       national_id_number bvd_id_number vat_tax_number\n",
       "0            7.219716e+06     CO7219716        7219716\n",
       "1            6.002636e+07    CO60026365       60026365\n",
       "2            6.003730e+07    CO60037304       60037304\n",
       "3            8.909370e+07    CO89093704       89093704\n",
       "4            8.909029e+08   CO890902875      890902875\n",
       "...                   ...           ...            ...\n",
       "82746        9.013254e+09  CO9013253632     9013253632\n",
       "82747        9.013255e+09  CO9013255116     9013255116\n",
       "82748        9.013257e+09  CO9013257144     9013257144\n",
       "82749        9.013262e+09  CO9013261813     9013261813\n",
       "82750        9.013295e+09  CO9013295415     9013295415\n",
       "\n",
       "[82751 rows x 3 columns]"
      ]
     },
     "execution_count": 200,
     "metadata": {},
     "output_type": "execute_result"
    }
   ],
   "source": [
    "df_real"
   ]
  },
  {
   "cell_type": "code",
   "execution_count": 108,
   "id": "0fbf1127",
   "metadata": {},
   "outputs": [],
   "source": [
    "df_real['bvd_id_number'] = df_real['bvd_id_number'].str.replace('  ', '')"
   ]
  },
  {
   "cell_type": "code",
   "execution_count": 112,
   "id": "405b8778",
   "metadata": {},
   "outputs": [],
   "source": [
    "bvd_detected = df_real[df_real.bvd_id_number.isin(bvd_id)]['bvd_id_number'].tolist()"
   ]
  },
  {
   "cell_type": "code",
   "execution_count": 118,
   "id": "af1c291c",
   "metadata": {},
   "outputs": [
    {
     "data": {
      "text/html": [
       "<div>\n",
       "<style scoped>\n",
       "    .dataframe tbody tr th:only-of-type {\n",
       "        vertical-align: middle;\n",
       "    }\n",
       "\n",
       "    .dataframe tbody tr th {\n",
       "        vertical-align: top;\n",
       "    }\n",
       "\n",
       "    .dataframe thead th {\n",
       "        text-align: right;\n",
       "    }\n",
       "</style>\n",
       "<table border=\"1\" class=\"dataframe\">\n",
       "  <thead>\n",
       "    <tr style=\"text-align: right;\">\n",
       "      <th></th>\n",
       "      <th>national_id_number</th>\n",
       "      <th>bvd_id_number</th>\n",
       "      <th>vat_tax_number</th>\n",
       "    </tr>\n",
       "  </thead>\n",
       "  <tbody>\n",
       "  </tbody>\n",
       "</table>\n",
       "</div>"
      ],
      "text/plain": [
       "Empty DataFrame\n",
       "Columns: [national_id_number, bvd_id_number, vat_tax_number]\n",
       "Index: []"
      ]
     },
     "execution_count": 118,
     "metadata": {},
     "output_type": "execute_result"
    }
   ],
   "source": [
    "df_real[df_real.bvd_id_number == 'CO170030031470']"
   ]
  },
  {
   "cell_type": "code",
   "execution_count": 159,
   "id": "59806f4e",
   "metadata": {},
   "outputs": [],
   "source": [
    "df_real['vat_tax_number'] = df_real['vat_tax_number'].astype(float)"
   ]
  },
  {
   "cell_type": "code",
   "execution_count": null,
   "id": "97a1be88",
   "metadata": {},
   "outputs": [],
   "source": []
  },
  {
   "cell_type": "code",
   "execution_count": null,
   "id": "01d055ae",
   "metadata": {},
   "outputs": [],
   "source": []
  },
  {
   "cell_type": "code",
   "execution_count": 134,
   "id": "1a54e17b",
   "metadata": {},
   "outputs": [],
   "source": [
    "df2 = df_real.merge( df_final_clean, left_on = 'national_id_number', right_on = 'National ID', indicator = True, how = 'left')"
   ]
  },
  {
   "cell_type": "code",
   "execution_count": 202,
   "id": "9a40eccb",
   "metadata": {},
   "outputs": [],
   "source": [
    "df2.to_csv(\"/Users/ar8787/Downloads/firms_merge.csv\")"
   ]
  },
  {
   "cell_type": "code",
   "execution_count": 140,
   "id": "7c5e31d4",
   "metadata": {},
   "outputs": [],
   "source": [
    "df3_left = df2[df2._merge == 'left_only'].iloc[:, 0:3]"
   ]
  },
  {
   "cell_type": "code",
   "execution_count": 161,
   "id": "5614dd16",
   "metadata": {},
   "outputs": [],
   "source": [
    "df3_left['vat_tax_number'] = df3_left['vat_tax_number'].astype(float)"
   ]
  },
  {
   "cell_type": "code",
   "execution_count": 174,
   "id": "36cbe671",
   "metadata": {},
   "outputs": [],
   "source": [
    "df3_left.bvd_id_number = df3_left.bvd_id_number.astype(str)"
   ]
  },
  {
   "cell_type": "code",
   "execution_count": 186,
   "id": "d2166169",
   "metadata": {},
   "outputs": [],
   "source": [
    "df_final_clean['BvD ID number']=df_final_clean['BvD ID number'].astype(str)"
   ]
  },
  {
   "cell_type": "code",
   "execution_count": null,
   "id": "5656e99f",
   "metadata": {},
   "outputs": [],
   "source": []
  },
  {
   "cell_type": "code",
   "execution_count": 198,
   "id": "772c701c",
   "metadata": {},
   "outputs": [],
   "source": [
    "df3_left.to_csv('/Users/ar8787/Downloads/firms_id_2.csv')"
   ]
  },
  {
   "cell_type": "code",
   "execution_count": null,
   "id": "9d1ee112",
   "metadata": {},
   "outputs": [],
   "source": []
  },
  {
   "cell_type": "code",
   "execution_count": null,
   "id": "006d0474",
   "metadata": {},
   "outputs": [],
   "source": []
  },
  {
   "cell_type": "code",
   "execution_count": null,
   "id": "c436c351",
   "metadata": {},
   "outputs": [],
   "source": []
  },
  {
   "cell_type": "code",
   "execution_count": 55,
   "id": "58bd9065",
   "metadata": {},
   "outputs": [],
   "source": [
    "total_bvd = df_real['bvd_id_number'].tolist()"
   ]
  },
  {
   "cell_type": "code",
   "execution_count": 56,
   "id": "51f087db",
   "metadata": {},
   "outputs": [],
   "source": [
    "list_rest = list(set(total_bvd).difference(bvd_id))"
   ]
  },
  {
   "cell_type": "code",
   "execution_count": null,
   "id": "ce2a7316",
   "metadata": {},
   "outputs": [],
   "source": [
    "bvd_id"
   ]
  },
  {
   "cell_type": "code",
   "execution_count": 58,
   "id": "4a86a3e6",
   "metadata": {},
   "outputs": [
    {
     "data": {
      "text/plain": [
       "(82751, 3)"
      ]
     },
     "execution_count": 58,
     "metadata": {},
     "output_type": "execute_result"
    }
   ],
   "source": [
    "df_real.shape"
   ]
  },
  {
   "cell_type": "code",
   "execution_count": 57,
   "id": "f3447a2f",
   "metadata": {},
   "outputs": [
    {
     "data": {
      "text/html": [
       "<div>\n",
       "<style scoped>\n",
       "    .dataframe tbody tr th:only-of-type {\n",
       "        vertical-align: middle;\n",
       "    }\n",
       "\n",
       "    .dataframe tbody tr th {\n",
       "        vertical-align: top;\n",
       "    }\n",
       "\n",
       "    .dataframe thead th {\n",
       "        text-align: right;\n",
       "    }\n",
       "</style>\n",
       "<table border=\"1\" class=\"dataframe\">\n",
       "  <thead>\n",
       "    <tr style=\"text-align: right;\">\n",
       "      <th></th>\n",
       "      <th>national_id_number</th>\n",
       "      <th>bvd_id_number</th>\n",
       "      <th>vat_tax_number</th>\n",
       "    </tr>\n",
       "  </thead>\n",
       "  <tbody>\n",
       "    <tr>\n",
       "      <th>0</th>\n",
       "      <td>7.219716e+06</td>\n",
       "      <td>CO7219716</td>\n",
       "      <td>7219716</td>\n",
       "    </tr>\n",
       "    <tr>\n",
       "      <th>1</th>\n",
       "      <td>6.002636e+07</td>\n",
       "      <td>CO60026365</td>\n",
       "      <td>60026365</td>\n",
       "    </tr>\n",
       "    <tr>\n",
       "      <th>2</th>\n",
       "      <td>6.003730e+07</td>\n",
       "      <td>CO60037304</td>\n",
       "      <td>60037304</td>\n",
       "    </tr>\n",
       "    <tr>\n",
       "      <th>3</th>\n",
       "      <td>8.909370e+07</td>\n",
       "      <td>CO89093704</td>\n",
       "      <td>89093704</td>\n",
       "    </tr>\n",
       "    <tr>\n",
       "      <th>4</th>\n",
       "      <td>8.909029e+08</td>\n",
       "      <td>CO890902875</td>\n",
       "      <td>890902875</td>\n",
       "    </tr>\n",
       "    <tr>\n",
       "      <th>...</th>\n",
       "      <td>...</td>\n",
       "      <td>...</td>\n",
       "      <td>...</td>\n",
       "    </tr>\n",
       "    <tr>\n",
       "      <th>82746</th>\n",
       "      <td>9.013254e+09</td>\n",
       "      <td>CO9013253632</td>\n",
       "      <td>9013253632</td>\n",
       "    </tr>\n",
       "    <tr>\n",
       "      <th>82747</th>\n",
       "      <td>9.013255e+09</td>\n",
       "      <td>CO9013255116</td>\n",
       "      <td>9013255116</td>\n",
       "    </tr>\n",
       "    <tr>\n",
       "      <th>82748</th>\n",
       "      <td>9.013257e+09</td>\n",
       "      <td>CO9013257144</td>\n",
       "      <td>9013257144</td>\n",
       "    </tr>\n",
       "    <tr>\n",
       "      <th>82749</th>\n",
       "      <td>9.013262e+09</td>\n",
       "      <td>CO9013261813</td>\n",
       "      <td>9013261813</td>\n",
       "    </tr>\n",
       "    <tr>\n",
       "      <th>82750</th>\n",
       "      <td>9.013295e+09</td>\n",
       "      <td>CO9013295415</td>\n",
       "      <td>9013295415</td>\n",
       "    </tr>\n",
       "  </tbody>\n",
       "</table>\n",
       "<p>82610 rows × 3 columns</p>\n",
       "</div>"
      ],
      "text/plain": [
       "       national_id_number bvd_id_number vat_tax_number\n",
       "0            7.219716e+06     CO7219716        7219716\n",
       "1            6.002636e+07    CO60026365       60026365\n",
       "2            6.003730e+07    CO60037304       60037304\n",
       "3            8.909370e+07    CO89093704       89093704\n",
       "4            8.909029e+08   CO890902875      890902875\n",
       "...                   ...           ...            ...\n",
       "82746        9.013254e+09  CO9013253632     9013253632\n",
       "82747        9.013255e+09  CO9013255116     9013255116\n",
       "82748        9.013257e+09  CO9013257144     9013257144\n",
       "82749        9.013262e+09  CO9013261813     9013261813\n",
       "82750        9.013295e+09  CO9013295415     9013295415\n",
       "\n",
       "[82610 rows x 3 columns]"
      ]
     },
     "execution_count": 57,
     "metadata": {},
     "output_type": "execute_result"
    }
   ],
   "source": []
  }
 ],
 "metadata": {
  "kernelspec": {
   "display_name": "Python 3 (ipykernel)",
   "language": "python",
   "name": "python3"
  },
  "language_info": {
   "codemirror_mode": {
    "name": "ipython",
    "version": 3
   },
   "file_extension": ".py",
   "mimetype": "text/x-python",
   "name": "python",
   "nbconvert_exporter": "python",
   "pygments_lexer": "ipython3",
   "version": "3.11.5"
  }
 },
 "nbformat": 4,
 "nbformat_minor": 5
}
