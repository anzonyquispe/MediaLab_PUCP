{
 "cells": [
  {
   "cell_type": "code",
   "execution_count": 92,
   "id": "824e1ad1",
   "metadata": {},
   "outputs": [],
   "source": [
    "import numpy as np\n",
    "\n",
    "from selenium import webdriver\n",
    "from selenium.webdriver.common.by import By\n",
    "from selenium.webdriver.support.ui import WebDriverWait\n",
    "from selenium.webdriver.support import expected_conditions as EC\n",
    "\n",
    "\n",
    "from selenium import webdriver\n",
    "from selenium.webdriver.support.ui import Select\n",
    "\n",
    "\n",
    "from selenium import webdriver\n",
    "from selenium.webdriver.common.keys import Keys\n",
    "from selenium.webdriver import ActionChains\n",
    "from bs4 import BeautifulSoup\n",
    "import os\n",
    "import time\n",
    "\n",
    "from selenium import webdriver\n",
    "from selenium.common.exceptions import WebDriverException\n",
    "\n",
    "from selenium import webdriver\n",
    "from selenium.webdriver.chrome.service import Service\n"
   ]
  },
  {
   "cell_type": "code",
   "execution_count": 93,
   "id": "8c0b44b6",
   "metadata": {},
   "outputs": [],
   "source": [
    "\n",
    "service = Service(executable_path='/Users/ar8787/Downloads/chromedriver-mac-arm64/chromedriver')\n",
    "options = webdriver.ChromeOptions()\n",
    "driver = webdriver.Chrome(service=service, options=options)\n",
    "\n",
    "\n",
    "url = \"https://libguides.princeton.edu/resource/4554\"\n",
    "\n",
    "driver.get(url) #navigate to the page"
   ]
  },
  {
   "cell_type": "markdown",
   "id": "eb2150ab",
   "metadata": {},
   "source": [
    "Wait for selecting the data that you want\n"
   ]
  },
  {
   "cell_type": "code",
   "execution_count": 79,
   "id": "db2d9681",
   "metadata": {},
   "outputs": [],
   "source": [
    "element_to_click = driver.find_element(By.XPATH, '/html/body/section[2]/div[1]/div[2]/div/div[2]/div[2]/ul/li[3]/a')\n",
    "element_to_click.click()"
   ]
  },
  {
   "cell_type": "code",
   "execution_count": 80,
   "id": "ca948294",
   "metadata": {},
   "outputs": [],
   "source": [
    "time.sleep(3)"
   ]
  },
  {
   "cell_type": "code",
   "execution_count": 81,
   "id": "f94f2d0c",
   "metadata": {},
   "outputs": [],
   "source": [
    "dropdown = Select(driver.find_element( By.ID, \"component_RangeOptionSelectedId\"))\n"
   ]
  },
  {
   "cell_type": "code",
   "execution_count": 82,
   "id": "2d634b3f",
   "metadata": {},
   "outputs": [],
   "source": [
    "dropdown.select_by_visible_text(\"A range of companies\")\n"
   ]
  },
  {
   "cell_type": "code",
   "execution_count": 85,
   "id": "8df60baa",
   "metadata": {},
   "outputs": [],
   "source": [
    "xpath = 'component.From'\n",
    "from_val = list_vals[5]\n",
    "wait = WebDriverWait(driver, 2)  # Adjust the timeout as needed\n",
    "input_element = wait.until(EC.element_to_be_clickable((By.NAME, xpath)))\n",
    "input_element.clear()  # Clearing any pre-filled text in the input box\n",
    "input_element.send_keys(f\"{from_val}\")  # Replace with the number you want to input\n"
   ]
  },
  {
   "cell_type": "code",
   "execution_count": 86,
   "id": "299efe6a",
   "metadata": {},
   "outputs": [],
   "source": [
    "next_val = from_val - 1 + 10000"
   ]
  },
  {
   "cell_type": "code",
   "execution_count": 87,
   "id": "7416ea44",
   "metadata": {},
   "outputs": [],
   "source": [
    "xpath = 'component.To'\n",
    "wait = WebDriverWait(driver, 2)  # Adjust the timeout as needed\n",
    "input_element = wait.until(EC.element_to_be_clickable((By.NAME, xpath)))\n",
    "input_element.clear()  # Clearing any pre-filled text in the input box\n",
    "input_element.send_keys(f\"{next_val}\")  # Replace with the number you want to input\n"
   ]
  },
  {
   "cell_type": "code",
   "execution_count": 88,
   "id": "dc675e48",
   "metadata": {},
   "outputs": [],
   "source": [
    "export_button = wait.until(EC.element_to_be_clickable((By.XPATH, \"//a[text()='Export']\")))\n",
    "export_button.click()"
   ]
  },
  {
   "cell_type": "code",
   "execution_count": 78,
   "id": "771780ee",
   "metadata": {},
   "outputs": [],
   "source": [
    "import os\n",
    "import time\n",
    "from selenium import webdriver\n"
   ]
  },
  {
   "cell_type": "code",
   "execution_count": 90,
   "id": "3251b78b",
   "metadata": {
    "scrolled": true
   },
   "outputs": [
    {
     "name": "stdout",
     "output_type": "stream",
     "text": [
      "New file detected: Export 05_01_2024 15_42.xlsx\n"
     ]
    }
   ],
   "source": [
    "# Path to the downloads folder\n",
    "downloads_folder = \"/Users/ar8787/Downloads\"\n",
    "\n",
    "# Get the list of files before the download starts\n",
    "files_before = os.listdir(downloads_folder)\n",
    "\n",
    "# Wait for a new file to appear in the folder\n",
    "new_file = None\n",
    "timeout = 300  # Set a timeout for 5 minutes\n",
    "check_interval = 5  # Check every 5 seconds\n",
    "\n",
    "start_time = time.time()\n",
    "while (time.time() - start_time) < timeout:\n",
    "    # Get the list of files in the directory\n",
    "    files_after = os.listdir(downloads_folder)\n",
    "    # Check for the difference\n",
    "    new_files = set(files_after) - set(files_before)\n",
    "    if new_files:\n",
    "        new_file = new_files.pop()\n",
    "        print(f\"New file detected: {new_file}\")\n",
    "        break\n",
    "    time.sleep(check_interval)"
   ]
  },
  {
   "cell_type": "code",
   "execution_count": 91,
   "id": "64e604f5",
   "metadata": {},
   "outputs": [],
   "source": [
    "# Send the ESC key to the current focused element or to the page\n",
    "driver.find_element( By.TAG_NAME, 'body').send_keys(Keys.ESCAPE)\n"
   ]
  },
  {
   "cell_type": "code",
   "execution_count": null,
   "id": "39609455",
   "metadata": {},
   "outputs": [],
   "source": []
  },
  {
   "cell_type": "code",
   "execution_count": 77,
   "id": "e9eed285",
   "metadata": {},
   "outputs": [
    {
     "data": {
      "text/plain": [
       "<selenium.webdriver.remote.webelement.WebElement (session=\"75593300aba1098ebb3dfc67882e2b91\", element=\"7F4BD9CAF94A2E49E3E1B62BF56F3B80_element_2460\")>"
      ]
     },
     "execution_count": 77,
     "metadata": {},
     "output_type": "execute_result"
    }
   ],
   "source": [
    "wait.until(lambda driver: driver.find_element(By.XPATH, \"/html/body/section[2]/div[6]/div[3]/a\"))"
   ]
  },
  {
   "cell_type": "code",
   "execution_count": 42,
   "id": "d8968b50",
   "metadata": {},
   "outputs": [],
   "source": [
    "download_button.click()"
   ]
  },
  {
   "cell_type": "code",
   "execution_count": null,
   "id": "f1b99d56",
   "metadata": {},
   "outputs": [],
   "source": []
  },
  {
   "cell_type": "code",
   "execution_count": null,
   "id": "db974b12",
   "metadata": {},
   "outputs": [],
   "source": []
  },
  {
   "cell_type": "code",
   "execution_count": 64,
   "id": "50c9472d",
   "metadata": {},
   "outputs": [],
   "source": [
    "download_button_xpath = \"/html/body/section[2]/div[6]/div[3]/a\"  # Adjust the XPath if necessary\n",
    "download_button = wait.until(EC.element_to_be_clickable((By.XPATH, download_button_xpath)))\n",
    "download_button.click()"
   ]
  },
  {
   "cell_type": "code",
   "execution_count": 21,
   "id": "21c65acf",
   "metadata": {},
   "outputs": [],
   "source": [
    "\n"
   ]
  },
  {
   "cell_type": "code",
   "execution_count": 7,
   "id": "f42a7a51",
   "metadata": {},
   "outputs": [],
   "source": [
    "list_vals = np.arange(1, 5166663, 10000)"
   ]
  }
 ],
 "metadata": {
  "kernelspec": {
   "display_name": "Python 3 (ipykernel)",
   "language": "python",
   "name": "python3"
  },
  "language_info": {
   "codemirror_mode": {
    "name": "ipython",
    "version": 3
   },
   "file_extension": ".py",
   "mimetype": "text/x-python",
   "name": "python",
   "nbconvert_exporter": "python",
   "pygments_lexer": "ipython3",
   "version": "3.11.5"
  }
 },
 "nbformat": 4,
 "nbformat_minor": 5
}
