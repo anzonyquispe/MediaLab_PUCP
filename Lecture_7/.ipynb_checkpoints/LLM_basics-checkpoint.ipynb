{
 "cells": [
  {
   "cell_type": "markdown",
   "metadata": {},
   "source": [
    "# Basics of LLM applications\n",
    "\n",
    "## Basic Components\n",
    "\n",
    "The most basic components of any LLM application are the following:\n",
    "\n",
    "- **Input**\n",
    "\n",
    "As with any other program, we desire for any input by the user to be converted to a useful output through a series of predefined steps.\n",
    "\n",
    "- **Setup functions**\n",
    "\n",
    "The input must undergo a series of transformations in order to be used by the API\n",
    "\n",
    "- **System Prompt**\n",
    "\n",
    "This is a natural language description of the task the LLM will assist with, as well as instructions and specifications on how this task is to be achieved.\n",
    "\n",
    "- **API**\n",
    "\n",
    "This is the step that actually generates the response(s), which will then be displayed by the app through a frontend environment\n",
    "\n",
    "## Assembling the components\n",
    "\n",
    "These basic components can be assembled in many different ways depending on the desired outcome. One example of a simple architecture would be the following:\n",
    "\n",
    "![simple_design](_assets/simple_design.png)\n",
    "\n",
    "This example takes the initial API response as input for more rounds of generation, an approach that can be used both for response refinement and for the addition of \"memory\" to the model. This is just one very simple permutation of possible architectures that can be designed to meet the needs of the application.\n",
    "\n",
    "## Creating a simple Comand Line Interface (CLI) app\n",
    "\n",
    "We will now use the previously defined architecture to create an app that will answer a question, and then stores this answer in a chat history or \"memory\" to be used as context for further queries. A CLI app is one in which the frontend is the command line. In our case, we are using a Jupyter Notebook, which renders command line outputs in a more interactive manner.\n",
    "\n",
    "To start off, you will need the `openai` and `tiktoken` package. Make sure to first install them if you haven't yet, and then you can import them.\n",
    "\n"
   ]
  },
  {
   "cell_type": "code",
   "execution_count": 55,
   "metadata": {},
   "outputs": [],
   "source": [
    "# !pip install openai tiktoken"
   ]
  },
  {
   "cell_type": "code",
   "execution_count": 56,
   "metadata": {},
   "outputs": [],
   "source": [
    "import openai\n",
    "# Set your OpenAI API key here\n",
    "openai.api_key = ''"
   ]
  },
  {
   "cell_type": "markdown",
   "metadata": {},
   "source": [
    "### Acquiring and setting up an OpenAI API key\n",
    "\n",
    "To use the OpenAI API, you must have an account and generate a key. Enter the [OpenAI website](https://platform.openai.com/account/api-keys) and follow the steps.\n",
    "\n",
    "After generating a key, you will have to add as an environment variable for the API to work. The easiest way to do this is to create a Python file called `Constants.py` that contains the key as a string, and then importing this string into the current kernel. After these steps, you can now set the api key for openai to function."
   ]
  },
  {
   "cell_type": "code",
   "execution_count": 59,
   "metadata": {},
   "outputs": [],
   "source": [
    "#!pip install python-dotenv"
   ]
  },
  {
   "cell_type": "markdown",
   "metadata": {},
   "source": [
    "### Handle user input\n",
    "\n",
    "Here, we take the user input and convert it into something usable for the API. In a CLI, we would use the built-in `input` function to get the user's input as a string, but for the sake of using a Jupyter Notebook, we will explicitly change the input string instead.\n",
    "\n",
    "We will be using the Chat Completion endpoint of the API, which takes a list of messages, each represented by a dictionary with two entries. The `\"role\"` entry of the dictionary specifies the role of the message's sender, which can be `\"system\"`, `\"user\"`, and `\"assistant\"`; the `\"content\"` entry contains the body of the message. Therefore, we must create this list with the necessary information.\n",
    "\n",
    "First we create a system prompt and add it in a dictionary to the list of messages"
   ]
  },
  {
   "cell_type": "code",
   "execution_count": 60,
   "metadata": {},
   "outputs": [],
   "source": [
    "system_prompt = \"You will answer the user's question to the best of your abilities\"\n",
    "messages = [{\"role\": \"system\", \"content\": system_prompt}]"
   ]
  },
  {
   "cell_type": "markdown",
   "metadata": {},
   "source": [
    "Then we get the user input and add it to the list"
   ]
  },
  {
   "cell_type": "code",
   "execution_count": 61,
   "metadata": {},
   "outputs": [],
   "source": [
    "user_input = \"what is an elephant?\"\n",
    "messages.append({\"role\": \"user\", \"content\": user_input})"
   ]
  },
  {
   "cell_type": "markdown",
   "metadata": {},
   "source": [
    "Now we have the prompt and the query in the necessary format to be used with the API. It is also necessary to specify the model to be used with the `model` argument. In this case we will use the `\"gpt-3.5-turbo-1106\"` model."
   ]
  },
  {
   "cell_type": "code",
   "execution_count": 62,
   "metadata": {},
   "outputs": [
    {
     "data": {
      "text/plain": [
       "<OpenAIObject chat.completion id=chatcmpl-8im5OSigONN0DShtj86ZujYDGc8F8 at 0x282e6418180> JSON: {\n",
       "  \"choices\": [\n",
       "    {\n",
       "      \"finish_reason\": \"stop\",\n",
       "      \"index\": 0,\n",
       "      \"logprobs\": null,\n",
       "      \"message\": {\n",
       "        \"content\": \"An elephant is a large herbivorous mammal with distinctive features such as a long trunk, tusks, and large ears. There are two species of elephants, the African elephant and the Asian elephant. They are known for their intelligence, social behavior, and their importance in various ecosystems.\",\n",
       "        \"role\": \"assistant\"\n",
       "      }\n",
       "    }\n",
       "  ],\n",
       "  \"created\": 1705681966,\n",
       "  \"id\": \"chatcmpl-8im5OSigONN0DShtj86ZujYDGc8F8\",\n",
       "  \"model\": \"gpt-3.5-turbo-1106\",\n",
       "  \"object\": \"chat.completion\",\n",
       "  \"system_fingerprint\": \"fp_c596c86df9\",\n",
       "  \"usage\": {\n",
       "    \"completion_tokens\": 58,\n",
       "    \"prompt_tokens\": 29,\n",
       "    \"total_tokens\": 87\n",
       "  }\n",
       "}"
      ]
     },
     "execution_count": 62,
     "metadata": {},
     "output_type": "execute_result"
    }
   ],
   "source": [
    "model = \"gpt-3.5-turbo-1106\"\n",
    "response = openai.ChatCompletion.create(model = model, messages = messages)\n",
    "response"
   ]
  },
  {
   "cell_type": "markdown",
   "metadata": {},
   "source": [
    "This returns a `ChatCompletion` class object with a lot of information on the response that has been returned. We can retrieve the response as a string by selecting a choice from the `choices` attribute of this class, which is a list of `Choice` class objects. Each of these objects has a `message` attribute which is a `ChatCompletionMessage` class object that contains the message and some information about it. The message string is stored in its `content` attribute."
   ]
  },
  {
   "cell_type": "code",
   "execution_count": 63,
   "metadata": {},
   "outputs": [
    {
     "data": {
      "text/plain": [
       "'An elephant is a large herbivorous mammal with distinctive features such as a long trunk, tusks, and large ears. There are two species of elephants, the African elephant and the Asian elephant. They are known for their intelligence, social behavior, and their importance in various ecosystems.'"
      ]
     },
     "execution_count": 63,
     "metadata": {},
     "output_type": "execute_result"
    }
   ],
   "source": [
    "response.choices[0].message.content"
   ]
  },
  {
   "cell_type": "markdown",
   "metadata": {},
   "source": [
    "We can now add this message to the list of messages, such that we can build a chat history for the model to use."
   ]
  },
  {
   "cell_type": "code",
   "execution_count": 64,
   "metadata": {},
   "outputs": [],
   "source": [
    "messages.append({\"role\": \"assistant\", \"content\": response.choices[0].message.content})"
   ]
  },
  {
   "cell_type": "markdown",
   "metadata": {},
   "source": [
    "Now we can reference previous responses and the assistant will be able to understand the context"
   ]
  },
  {
   "cell_type": "code",
   "execution_count": 65,
   "metadata": {},
   "outputs": [
    {
     "data": {
      "text/plain": [
       "\"While elephants are generally peaceful animals, there have been instances of them attacking humans, particularly in situations where they feel threatened or provoked. It's important to remember that they are wild animals and should be respected and observed from a safe distance. Conservation efforts and responsible wildlife management are crucial in minimizing conflicts between humans and elephants.\""
      ]
     },
     "execution_count": 65,
     "metadata": {},
     "output_type": "execute_result"
    }
   ],
   "source": [
    "user_input = \"do they ever attack humans?\"\n",
    "messages.append({\"role\": \"user\", \"content\": user_input})\n",
    "response = openai.ChatCompletion.create(model = model, messages = messages)\n",
    "response.choices[0].message.content"
   ]
  }
 ],
 "metadata": {
  "kernelspec": {
   "display_name": "Python 3 (ipykernel)",
   "language": "python",
   "name": "python3"
  },
  "language_info": {
   "codemirror_mode": {
    "name": "ipython",
    "version": 3
   },
   "file_extension": ".py",
   "mimetype": "text/x-python",
   "name": "python",
   "nbconvert_exporter": "python",
   "pygments_lexer": "ipython3",
   "version": "3.8.12"
  }
 },
 "nbformat": 4,
 "nbformat_minor": 4
}
